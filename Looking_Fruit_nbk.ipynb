{
  "nbformat": 4,
  "nbformat_minor": 0,
  "metadata": {
    "colab": {
      "provenance": [],
      "collapsed_sections": []
    },
    "kernelspec": {
      "name": "python3",
      "display_name": "Python 3"
    },
    "language_info": {
      "name": "python"
    },
    "accelerator": "GPU",
    "gpuClass": "standard"
  },
  "cells": [
    {
      "cell_type": "markdown",
      "source": [
        "[![Open In Colab](https://colab.research.google.com/assets/colab-badge.svg)](https://colab.research.google.com/github/ishandandekar/Looking-Fruit/blob/main/Looking_Fruit_nbk.ipynb)"
      ],
      "metadata": {
        "id": "uNrJinLmAcVX"
      }
    },
    {
      "cell_type": "markdown",
      "source": [
        "# Looking_Fruit\n",
        "\n",
        "👋 Hello and welcome to the **Looking_Fruit** notebook. In this notebook I try to replicate the [Fruits-360](https://www.researchgate.net/publication/321475443_Fruit_recognition_from_images_using_deep_learning) research paper. In this paper, researchers have tried to classify images of **131** fruits and vegetables. The data used for these modelling experiments is provided by the paper researchers themselves."
      ],
      "metadata": {
        "id": "2t7p4-GpnQFQ"
      }
    },
    {
      "cell_type": "code",
      "source": [
        "# Check for GPU\n",
        "!nvidia-smi -L"
      ],
      "metadata": {
        "id": "6fVSgcHVkTpS",
        "colab": {
          "base_uri": "https://localhost:8080/"
        },
        "outputId": "b78ccab7-fa0a-448c-97a2-d7e088772d1d"
      },
      "execution_count": 1,
      "outputs": [
        {
          "output_type": "stream",
          "name": "stdout",
          "text": [
            "GPU 0: Tesla T4 (UUID: GPU-33ac5744-49f3-b2a2-5d12-622d148d32ab)\n"
          ]
        }
      ]
    },
    {
      "cell_type": "markdown",
      "source": [
        "## Step 0: Defining the problem\n"
      ],
      "metadata": {
        "id": "yK-K0_Oxp9RI"
      }
    },
    {
      "cell_type": "markdown",
      "source": [
        "**Objective:**  \n",
        "To classify the images of various fruits and vegetables with best f1-score.  \n",
        "\n",
        "**Files:**\n",
        "- *Train*: This folder contains folders labelled as fruit's/vegetable's name. These subfolders contain images of the respective fruit/vegetable. This folder will be used for training purpose.\n",
        "- *Test*: This folder contains folders labelled as fruit's/vegetable's name. These subfolders contain images of the respective fruit/vegetable. This folder will be used for testing purpose."
      ],
      "metadata": {
        "id": "E957ywbEkgil"
      }
    },
    {
      "cell_type": "markdown",
      "source": [
        "## Step 1: Getting the data\n",
        "The data used for this project is publicly available on [Kaggle](https://www.kaggle.com/datasets/ishandandekar/fruitimagedataset).\n",
        "\n",
        "- Use Kaggle's API to download the data into Colab.\n",
        "- Get utility functions to help in future.\n",
        "- Configure data files to read using Python.\n"
      ],
      "metadata": {
        "id": "Yujoou29mCFK"
      }
    },
    {
      "cell_type": "code",
      "source": [
        "# Getting the helper functions script\n",
        "!wget https://raw.githubusercontent.com/ishandandekar/Looking-Fruit/main/helper_functions.py\n",
        "\n",
        "# Get the necessary functions from the python script\n",
        "from helper_functions import plot_loss_curves, unzip_data, create_model_checkpoint, create_early_stopping, get_metrics"
      ],
      "metadata": {
        "id": "RriztHP9nLy1",
        "colab": {
          "base_uri": "https://localhost:8080/"
        },
        "outputId": "448984d0-9920-49a9-feb4-c92a8448bb96"
      },
      "execution_count": 2,
      "outputs": [
        {
          "output_type": "stream",
          "name": "stdout",
          "text": [
            "--2022-09-08 09:21:47--  https://raw.githubusercontent.com/ishandandekar/Looking-Fruit/main/helper_functions.py\n",
            "Resolving raw.githubusercontent.com (raw.githubusercontent.com)... 185.199.110.133, 185.199.108.133, 185.199.109.133, ...\n",
            "Connecting to raw.githubusercontent.com (raw.githubusercontent.com)|185.199.110.133|:443... connected.\n",
            "HTTP request sent, awaiting response... 200 OK\n",
            "Length: 3297 (3.2K) [text/plain]\n",
            "Saving to: ‘helper_functions.py’\n",
            "\n",
            "helper_functions.py 100%[===================>]   3.22K  --.-KB/s    in 0s      \n",
            "\n",
            "2022-09-08 09:21:48 (49.7 MB/s) - ‘helper_functions.py’ saved [3297/3297]\n",
            "\n"
          ]
        }
      ]
    },
    {
      "cell_type": "markdown",
      "source": [
        "About these helper functions (see documentation for better description):\n",
        "* **plot_loss_curves** : Plots a line graph (using matplotlib) to see changes in loss and accuracy during training.\n",
        "* **unzip_data** : Unzips a zip file to a directory\n",
        "* **create_model_checkpoint** : Creates a model checkpoint with only best weights (monitored over validation loss).\n",
        "* **create_early_stopping** : Creates an early stopping callback to prevent overfitting.\n",
        "* **get_metrics** : Returns a dictionary with classification metrics."
      ],
      "metadata": {
        "id": "AQk2Ny-zWEtP"
      }
    },
    {
      "cell_type": "code",
      "source": [
        "# Install the kaggle library\n",
        "!pip install -q kaggle\n",
        "\n",
        "# Upload the Kaggle API keys\n",
        "from google.colab import files\n",
        "files.upload()\n",
        "\n",
        "!mkdir ~/.kaggle\n",
        "\n",
        "# Copy the json file to the folder\n",
        "!cp kaggle.json ~/.kaggle\n",
        "\n",
        "# Change permissions for json to work with the Kaggle API\n",
        "!chmod 600 ~/.kaggle/kaggle.json\n",
        "\n",
        "# Download the dataset\n",
        "!kaggle datasets download -d ishandandekar/fruitimagedataset\n",
        "\n",
        "# Unzip data\n",
        "unzip_data('fruitimagedataset.zip', data_dir=\"raw\")"
      ],
      "metadata": {
        "id": "QxwTbHhbniZd",
        "colab": {
          "resources": {
            "http://localhost:8080/nbextensions/google.colab/files.js": {
              "data": "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",
              "ok": true,
              "headers": [
                [
                  "content-type",
                  "application/javascript"
                ]
              ],
              "status": 200,
              "status_text": ""
            }
          },
          "base_uri": "https://localhost:8080/",
          "height": 126
        },
        "outputId": "f271cbee-fb36-47d7-fd5b-776350f63c3e"
      },
      "execution_count": 3,
      "outputs": [
        {
          "output_type": "display_data",
          "data": {
            "text/plain": [
              "<IPython.core.display.HTML object>"
            ],
            "text/html": [
              "\n",
              "     <input type=\"file\" id=\"files-774fd731-f8e4-4f61-965c-e25b344f3148\" name=\"files[]\" multiple disabled\n",
              "        style=\"border:none\" />\n",
              "     <output id=\"result-774fd731-f8e4-4f61-965c-e25b344f3148\">\n",
              "      Upload widget is only available when the cell has been executed in the\n",
              "      current browser session. Please rerun this cell to enable.\n",
              "      </output>\n",
              "      <script src=\"/nbextensions/google.colab/files.js\"></script> "
            ]
          },
          "metadata": {}
        },
        {
          "output_type": "stream",
          "name": "stdout",
          "text": [
            "Saving kaggle.json to kaggle.json\n",
            "Downloading fruitimagedataset.zip to /content\n",
            " 99% 393M/398M [00:14<00:00, 32.5MB/s]\n",
            "100% 398M/398M [00:14<00:00, 29.0MB/s]\n"
          ]
        }
      ]
    },
    {
      "cell_type": "markdown",
      "source": [
        "## Step 2: Know more about the data\n",
        "\n",
        "- Get the statistics about the data.\n",
        "- Check if the labels are imbalanced.\n",
        "- Visualize random samples in data.\n",
        "- (*If required*) Trim data.\n",
        "- (*If required*) Preprocess the data.\n",
        "- Make data processing faster using `ImageDataGenerator`."
      ],
      "metadata": {
        "id": "2y7AyVsDpMeK"
      }
    },
    {
      "cell_type": "code",
      "source": [
        "# Importing necessary libraries\n",
        "import numpy as np\n",
        "import pandas as pd\n",
        "import matplotlib.pyplot as plt\n",
        "import matplotlib.image as mpimg\n",
        "import os\n",
        "import random\n",
        "import shutil\n",
        "import tensorflow as tf\n",
        "from tensorflow.keras import layers\n",
        "from tensorflow.keras.utils import plot_model"
      ],
      "metadata": {
        "id": "rruTT4WnpvsR"
      },
      "execution_count": 4,
      "outputs": []
    },
    {
      "cell_type": "code",
      "source": [
        "# Setting up necessary variables\n",
        "TRAIN_PATH = '/content/raw/train/train/'\n",
        "TEST_PATH = '/content/raw/test/test/'\n",
        "RAW_DATA_PATH = '/content/raw'"
      ],
      "metadata": {
        "id": "Jgdo_iPQp-hw"
      },
      "execution_count": 5,
      "outputs": []
    },
    {
      "cell_type": "code",
      "source": [
        "# Checking the number of classes\n",
        "classes = []\n",
        "\n",
        "for dirname, _, filenames in os.walk(RAW_DATA_PATH):\n",
        "    if dirname.startswith(f\"{TRAIN_PATH}\"):\n",
        "        classes.append(dirname[len(TRAIN_PATH):])\n",
        "\n",
        "print(f\"Total number of classes to deal with: {len(classes)}\")"
      ],
      "metadata": {
        "id": "uJI7iNbnqHOp",
        "colab": {
          "base_uri": "https://localhost:8080/"
        },
        "outputId": "cae63d00-9cab-442a-ac25-431218b1ac7c"
      },
      "execution_count": 6,
      "outputs": [
        {
          "output_type": "stream",
          "name": "stdout",
          "text": [
            "Total number of classes to deal with: 131\n"
          ]
        }
      ]
    },
    {
      "cell_type": "code",
      "source": [
        "# Show random classes present in the dataset\n",
        "list_of_five_random_labels = random.sample(classes,5)\n",
        "list_of_five_random_labels"
      ],
      "metadata": {
        "id": "_FaY0ocUwKP5",
        "colab": {
          "base_uri": "https://localhost:8080/"
        },
        "outputId": "300eca80-9f1b-4402-fcf9-94771c4f792d"
      },
      "execution_count": 7,
      "outputs": [
        {
          "output_type": "execute_result",
          "data": {
            "text/plain": [
              "['Pepino', 'Pear', 'Pepper Green', 'Kohlrabi', 'Pear Monster']"
            ]
          },
          "metadata": {},
          "execution_count": 7
        }
      ]
    },
    {
      "cell_type": "code",
      "source": [
        "# Number of images of each fruit/vegetable as a pandas.DataFrame\n",
        "\n",
        "# List to append the count of images\n",
        "number_of_images_train = []\n",
        "\n",
        "for label in classes:\n",
        "    path = f'{TRAIN_PATH}/{label}'\n",
        "    count = len(os.listdir(path))\n",
        "    number_of_images_train.append(count)\n",
        "\n",
        "train_image_count_df = pd.DataFrame({\"Label\":classes,\"Number of Images\":number_of_images_train})\n",
        "\n",
        "# To view first 10 rows of the dataframe\n",
        "train_image_count_df.head(10)"
      ],
      "metadata": {
        "id": "fl9ktKX6wiaM",
        "colab": {
          "base_uri": "https://localhost:8080/",
          "height": 363
        },
        "outputId": "55d359e2-2b0c-407a-fcdc-3f5014179910"
      },
      "execution_count": 8,
      "outputs": [
        {
          "output_type": "execute_result",
          "data": {
            "text/plain": [
              "              Label  Number of Images\n",
              "0       Ginger Root               297\n",
              "1  Grapefruit White               492\n",
              "2          Mulberry               492\n",
              "3      Pitahaya Red               490\n",
              "4        Grape Pink               492\n",
              "5           Avocado               427\n",
              "6    Apple Golden 3               481\n",
              "7         Tamarillo               490\n",
              "8        Grape Blue               984\n",
              "9      Tomato Heart               684"
            ],
            "text/html": [
              "\n",
              "  <div id=\"df-19a10039-2ec3-4fd1-b615-157dab821608\">\n",
              "    <div class=\"colab-df-container\">\n",
              "      <div>\n",
              "<style scoped>\n",
              "    .dataframe tbody tr th:only-of-type {\n",
              "        vertical-align: middle;\n",
              "    }\n",
              "\n",
              "    .dataframe tbody tr th {\n",
              "        vertical-align: top;\n",
              "    }\n",
              "\n",
              "    .dataframe thead th {\n",
              "        text-align: right;\n",
              "    }\n",
              "</style>\n",
              "<table border=\"1\" class=\"dataframe\">\n",
              "  <thead>\n",
              "    <tr style=\"text-align: right;\">\n",
              "      <th></th>\n",
              "      <th>Label</th>\n",
              "      <th>Number of Images</th>\n",
              "    </tr>\n",
              "  </thead>\n",
              "  <tbody>\n",
              "    <tr>\n",
              "      <th>0</th>\n",
              "      <td>Ginger Root</td>\n",
              "      <td>297</td>\n",
              "    </tr>\n",
              "    <tr>\n",
              "      <th>1</th>\n",
              "      <td>Grapefruit White</td>\n",
              "      <td>492</td>\n",
              "    </tr>\n",
              "    <tr>\n",
              "      <th>2</th>\n",
              "      <td>Mulberry</td>\n",
              "      <td>492</td>\n",
              "    </tr>\n",
              "    <tr>\n",
              "      <th>3</th>\n",
              "      <td>Pitahaya Red</td>\n",
              "      <td>490</td>\n",
              "    </tr>\n",
              "    <tr>\n",
              "      <th>4</th>\n",
              "      <td>Grape Pink</td>\n",
              "      <td>492</td>\n",
              "    </tr>\n",
              "    <tr>\n",
              "      <th>5</th>\n",
              "      <td>Avocado</td>\n",
              "      <td>427</td>\n",
              "    </tr>\n",
              "    <tr>\n",
              "      <th>6</th>\n",
              "      <td>Apple Golden 3</td>\n",
              "      <td>481</td>\n",
              "    </tr>\n",
              "    <tr>\n",
              "      <th>7</th>\n",
              "      <td>Tamarillo</td>\n",
              "      <td>490</td>\n",
              "    </tr>\n",
              "    <tr>\n",
              "      <th>8</th>\n",
              "      <td>Grape Blue</td>\n",
              "      <td>984</td>\n",
              "    </tr>\n",
              "    <tr>\n",
              "      <th>9</th>\n",
              "      <td>Tomato Heart</td>\n",
              "      <td>684</td>\n",
              "    </tr>\n",
              "  </tbody>\n",
              "</table>\n",
              "</div>\n",
              "      <button class=\"colab-df-convert\" onclick=\"convertToInteractive('df-19a10039-2ec3-4fd1-b615-157dab821608')\"\n",
              "              title=\"Convert this dataframe to an interactive table.\"\n",
              "              style=\"display:none;\">\n",
              "        \n",
              "  <svg xmlns=\"http://www.w3.org/2000/svg\" height=\"24px\"viewBox=\"0 0 24 24\"\n",
              "       width=\"24px\">\n",
              "    <path d=\"M0 0h24v24H0V0z\" fill=\"none\"/>\n",
              "    <path d=\"M18.56 5.44l.94 2.06.94-2.06 2.06-.94-2.06-.94-.94-2.06-.94 2.06-2.06.94zm-11 1L8.5 8.5l.94-2.06 2.06-.94-2.06-.94L8.5 2.5l-.94 2.06-2.06.94zm10 10l.94 2.06.94-2.06 2.06-.94-2.06-.94-.94-2.06-.94 2.06-2.06.94z\"/><path d=\"M17.41 7.96l-1.37-1.37c-.4-.4-.92-.59-1.43-.59-.52 0-1.04.2-1.43.59L10.3 9.45l-7.72 7.72c-.78.78-.78 2.05 0 2.83L4 21.41c.39.39.9.59 1.41.59.51 0 1.02-.2 1.41-.59l7.78-7.78 2.81-2.81c.8-.78.8-2.07 0-2.86zM5.41 20L4 18.59l7.72-7.72 1.47 1.35L5.41 20z\"/>\n",
              "  </svg>\n",
              "      </button>\n",
              "      \n",
              "  <style>\n",
              "    .colab-df-container {\n",
              "      display:flex;\n",
              "      flex-wrap:wrap;\n",
              "      gap: 12px;\n",
              "    }\n",
              "\n",
              "    .colab-df-convert {\n",
              "      background-color: #E8F0FE;\n",
              "      border: none;\n",
              "      border-radius: 50%;\n",
              "      cursor: pointer;\n",
              "      display: none;\n",
              "      fill: #1967D2;\n",
              "      height: 32px;\n",
              "      padding: 0 0 0 0;\n",
              "      width: 32px;\n",
              "    }\n",
              "\n",
              "    .colab-df-convert:hover {\n",
              "      background-color: #E2EBFA;\n",
              "      box-shadow: 0px 1px 2px rgba(60, 64, 67, 0.3), 0px 1px 3px 1px rgba(60, 64, 67, 0.15);\n",
              "      fill: #174EA6;\n",
              "    }\n",
              "\n",
              "    [theme=dark] .colab-df-convert {\n",
              "      background-color: #3B4455;\n",
              "      fill: #D2E3FC;\n",
              "    }\n",
              "\n",
              "    [theme=dark] .colab-df-convert:hover {\n",
              "      background-color: #434B5C;\n",
              "      box-shadow: 0px 1px 3px 1px rgba(0, 0, 0, 0.15);\n",
              "      filter: drop-shadow(0px 1px 2px rgba(0, 0, 0, 0.3));\n",
              "      fill: #FFFFFF;\n",
              "    }\n",
              "  </style>\n",
              "\n",
              "      <script>\n",
              "        const buttonEl =\n",
              "          document.querySelector('#df-19a10039-2ec3-4fd1-b615-157dab821608 button.colab-df-convert');\n",
              "        buttonEl.style.display =\n",
              "          google.colab.kernel.accessAllowed ? 'block' : 'none';\n",
              "\n",
              "        async function convertToInteractive(key) {\n",
              "          const element = document.querySelector('#df-19a10039-2ec3-4fd1-b615-157dab821608');\n",
              "          const dataTable =\n",
              "            await google.colab.kernel.invokeFunction('convertToInteractive',\n",
              "                                                     [key], {});\n",
              "          if (!dataTable) return;\n",
              "\n",
              "          const docLinkHtml = 'Like what you see? Visit the ' +\n",
              "            '<a target=\"_blank\" href=https://colab.research.google.com/notebooks/data_table.ipynb>data table notebook</a>'\n",
              "            + ' to learn more about interactive tables.';\n",
              "          element.innerHTML = '';\n",
              "          dataTable['output_type'] = 'display_data';\n",
              "          await google.colab.output.renderOutput(dataTable, element);\n",
              "          const docLink = document.createElement('div');\n",
              "          docLink.innerHTML = docLinkHtml;\n",
              "          element.appendChild(docLink);\n",
              "        }\n",
              "      </script>\n",
              "    </div>\n",
              "  </div>\n",
              "  "
            ]
          },
          "metadata": {},
          "execution_count": 8
        }
      ]
    },
    {
      "cell_type": "code",
      "source": [
        "# Label with most number of images\n",
        "print(f\"Label with most number of images:\")\n",
        "print(train_image_count_df.sort_values(\"Number of Images\",ascending=False).head(1))\n",
        "print(f\"Label with least number of images:\")\n",
        "print(train_image_count_df.sort_values(\"Number of Images\",ascending=True).head(1))"
      ],
      "metadata": {
        "id": "6L99UaG5iyQT",
        "colab": {
          "base_uri": "https://localhost:8080/"
        },
        "outputId": "edfe2dc1-a165-4e21-cc8b-ad7bc984acb8"
      },
      "execution_count": 9,
      "outputs": [
        {
          "output_type": "stream",
          "name": "stdout",
          "text": [
            "Label with most number of images:\n",
            "        Label  Number of Images\n",
            "8  Grape Blue               984\n",
            "Label with least number of images:\n",
            "         Label  Number of Images\n",
            "0  Ginger Root               297\n"
          ]
        }
      ]
    },
    {
      "cell_type": "code",
      "source": [
        "# Show random sample from training of a random fruit/vegetable\n",
        "\n",
        "random_label = random.choice(classes)\n",
        "sample_path = f'{TRAIN_PATH}/{random_label}'\n",
        "random_image= random.choice(os.listdir(sample_path))\n",
        "random_image_path = f'{sample_path}/{random_image}'\n",
        "\n",
        "img = mpimg.imread(random_image_path)\n",
        "imgplot = plt.imshow(img)\n",
        "plt.axis(False)\n",
        "plt.title(f'{random_label}')\n",
        "plt.show()"
      ],
      "metadata": {
        "id": "Cv6G8PcTwtGI",
        "colab": {
          "base_uri": "https://localhost:8080/",
          "height": 264
        },
        "outputId": "e3adb0c7-6f12-4693-f69b-d0681e076944"
      },
      "execution_count": 10,
      "outputs": [
        {
          "output_type": "display_data",
          "data": {
            "text/plain": [
              "<Figure size 432x288 with 1 Axes>"
            ],
            "image/png": "[encoded data removed]"
          },
          "metadata": {
            "needs_background": "light"
          }
        }
      ]
    },
    {
      "cell_type": "code",
      "source": [
        "# Making new directories for trimmed training data\n",
        "os.mkdir(\"data\")\n",
        "os.mkdir(\"data/train\")"
      ],
      "metadata": {
        "id": "Qy0hhPcZ1e8V"
      },
      "execution_count": 11,
      "outputs": []
    },
    {
      "cell_type": "code",
      "source": [
        "# Trimming data as there are lot of training examples\n",
        "\n",
        "TRAIN_IMAGES_COUNT = 100\n",
        "\n",
        "for label in classes:\n",
        "  path = f'{TRAIN_PATH}/{label}'\n",
        "  img_files = os.listdir(path)\n",
        "  random_count_images = random.sample(img_files, TRAIN_IMAGES_COUNT)\n",
        "  new_path_for_label = f\"/content/data/train/{label}\"\n",
        "  os.mkdir(new_path_for_label)\n",
        "\n",
        "  for img_file in random_count_images:\n",
        "    shutil.move(f\"{path}/{img_file}\", new_path_for_label)"
      ],
      "metadata": {
        "id": "xTCB88Cd0Suz"
      },
      "execution_count": 12,
      "outputs": []
    },
    {
      "cell_type": "code",
      "source": [
        "# Image size has been specified in the research paper\n",
        "IMAGE_SIZE = (100,100)\n",
        "BATCH_SIZE = 32\n",
        "TRIMMED_TRAIN_PATH = '/content/data/train'\n",
        "TEST_PATH = '/content/raw/test/test'\n",
        "\n",
        "# To make data processing faster\n",
        "train_data=tf.keras.preprocessing.image_dataset_from_directory(directory=TRIMMED_TRAIN_PATH,\n",
        "                                                               image_size=IMAGE_SIZE,\n",
        "                                                               label_mode=\"categorical\",\n",
        "                                                               batch_size=BATCH_SIZE)\n",
        "\n",
        "test_data=tf.keras.preprocessing.image_dataset_from_directory(directory=TEST_PATH,\n",
        "                                                               image_size=IMAGE_SIZE,\n",
        "                                                               label_mode=\"categorical\",\n",
        "                                                               batch_size=BATCH_SIZE)"
      ],
      "metadata": {
        "id": "cbJoJNH-xqYl",
        "colab": {
          "base_uri": "https://localhost:8080/"
        },
        "outputId": "c6decaa6-378f-4bb0-ed01-0744328d7805"
      },
      "execution_count": 13,
      "outputs": [
        {
          "output_type": "stream",
          "name": "stdout",
          "text": [
            "Found 13100 files belonging to 131 classes.\n",
            "Found 22688 files belonging to 131 classes.\n"
          ]
        }
      ]
    },
    {
      "cell_type": "code",
      "source": [
        "# See an example of a batch of data and checking pixel values\n",
        "for images,labels in train_data.take(1):\n",
        "  for image in images:\n",
        "    print(f\"Shape of an image: {images.shape}\")\n",
        "    print(f\"Maximum in an image: {tf.math.reduce_max(images)}\")\n",
        "    break\n",
        "  break"
      ],
      "metadata": {
        "id": "ARrzAiaVg9bG",
        "colab": {
          "base_uri": "https://localhost:8080/"
        },
        "outputId": "6a913c66-e7ed-42b5-ad7c-9a9a8a12c845"
      },
      "execution_count": 14,
      "outputs": [
        {
          "output_type": "stream",
          "name": "stdout",
          "text": [
            "Shape of an image: (32, 100, 100, 3)\n",
            "Maximum in an image: 255.0\n"
          ]
        }
      ]
    },
    {
      "cell_type": "markdown",
      "source": [
        "## Step 3: Describing modelling experiments"
      ],
      "metadata": {
        "id": "yDtentj-5F-0"
      }
    },
    {
      "cell_type": "markdown",
      "source": [
        "- This notebook contains 7 models built to get the best **f1-score** on the test dataset. These models also include the models made by the researchers themselves.  \n",
        "- Models to be made:\n",
        "  1. **Model 0** : A simple model with fully connected multiple Dense layers; this model acts as a baseline.\n",
        "  1. **Model 1** : Multiple pairs of CNN and MaxPool layers with a  Dense layer in the end for classification.\n",
        "  1. **Model 2** : Replicate the best model (on the test set) from research paper; *should get better results from this.*\n",
        "  1. **Model 3** : Using transfer learning, exploit ResNet model for classification.\n",
        "  1. **Model 4** : Using transfer learning, exploit EfficientNetBx for classification.\n",
        "  1. **Model 5** : Use fine-tuned ResNet model for classification.\n",
        "  1. **Model 6** : Use fine-tuned EfficientNetBx for classification.\n",
        "- Get classification metrics for each model.\n"
      ],
      "metadata": {
        "id": "CsIhGbL_5xsc"
      }
    },
    {
      "cell_type": "code",
      "source": [
        "# Directory to save images of models' architectures\n",
        "!mkdir model_architectures"
      ],
      "metadata": {
        "id": "Q4oqp0a05Qm6"
      },
      "execution_count": 15,
      "outputs": []
    },
    {
      "cell_type": "markdown",
      "source": [
        "#### Model 0 \n",
        "* **Layers:** 3 Dense layers\n",
        "* **Optimizer:** Adam\n",
        "* **Loss:** Cross entropy\n",
        "* **Epochs:** 10\n",
        "* **Callbacks:** `ModelCheckpoint`\n",
        "* **Validation data:** available"
      ],
      "metadata": {
        "id": "gr5XC0Uq_-yC"
      }
    },
    {
      "cell_type": "code",
      "source": [
        "# 0. Set random seed\n",
        "tf.random.set_seed(42)\n",
        "INPUT_SHAPE = (100,100,3)\n",
        "\n",
        "# 1. Create the model\n",
        "model_0 = tf.keras.Sequential([\n",
        "    layers.Flatten(input_shape=(100,100,3)),\n",
        "    layers.Input(shape=INPUT_SHAPE),\n",
        "    layers.Dense(128, activation=\"relu\"),\n",
        "    layers.Dense(128, activation=\"relu\"),\n",
        "    layers.Dense(128, activation=\"relu\"),\n",
        "    layers.Dense(131, activation=\"softmax\")\n",
        "], name=\"model_0_dense\")\n",
        "\n",
        "# 2. Compile the model\n",
        "model_0.compile(loss=\"categorical_crossentropy\",\n",
        "                optimizer=\"Adam\",\n",
        "                metrics=[\"accuracy\"])\n",
        "\n",
        "# 3. Get the summary\n",
        "model_0.summary()\n",
        "\n",
        "# 4. Fit the model\n",
        "history_model_0 = model_0.fit(train_data,\n",
        "                              epochs=10,\n",
        "                              validation_data=test_data,\n",
        "                              validation_steps=len(test_data)*0.15,\n",
        "                              callbacks=[create_model_checkpoint(model_name=model_0.name)])"
      ],
      "metadata": {
        "id": "GWBz8guhytLL",
        "colab": {
          "base_uri": "https://localhost:8080/"
        },
        "outputId": "80b34260-91b0-4716-9ff7-952118449882"
      },
      "execution_count": 16,
      "outputs": [
        {
          "output_type": "stream",
          "name": "stdout",
          "text": [
            "Model: \"model_0_dense\"\n",
            "_________________________________________________________________\n",
            " Layer (type)                Output Shape              Param #   \n",
            "=================================================================\n",
            " flatten (Flatten)           (None, 30000)             0         \n",
            "                                                                 \n",
            " input_1 (InputLayer)        multiple                  0         \n",
            "                                                                 \n",
            " dense (Dense)               (None, 128)               3840128   \n",
            "                                                                 \n",
            " dense_1 (Dense)             (None, 128)               16512     \n",
            "                                                                 \n",
            " dense_2 (Dense)             (None, 128)               16512     \n",
            "                                                                 \n",
            " dense_3 (Dense)             (None, 131)               16899     \n",
            "                                                                 \n",
            "=================================================================\n",
            "Total params: 3,890,051\n",
            "Trainable params: 3,890,051\n",
            "Non-trainable params: 0\n",
            "_________________________________________________________________\n",
            "Epoch 1/10\n",
            "405/410 [============================>.] - ETA: 0s - loss: 68.7969 - accuracy: 0.0066\n",
            "Epoch 1: val_loss improved from inf to 4.87517, saving model to model_experiments/model_0_dense\n",
            "410/410 [==============================] - 11s 21ms/step - loss: 68.1138 - accuracy: 0.0065 - val_loss: 4.8752 - val_accuracy: 0.0108\n",
            "Epoch 2/10\n",
            "410/410 [==============================] - ETA: 0s - loss: 4.8761 - accuracy: 0.0054\n",
            "Epoch 2: val_loss did not improve from 4.87517\n",
            "410/410 [==============================] - 10s 23ms/step - loss: 4.8761 - accuracy: 0.0054 - val_loss: 4.8752 - val_accuracy: 0.0050\n",
            "Epoch 3/10\n",
            "406/410 [============================>.] - ETA: 0s - loss: 4.8761 - accuracy: 0.0058\n",
            "Epoch 3: val_loss did not improve from 4.87517\n",
            "410/410 [==============================] - 9s 22ms/step - loss: 4.8761 - accuracy: 0.0058 - val_loss: 4.8753 - val_accuracy: 0.0073\n",
            "Epoch 4/10\n",
            "409/410 [============================>.] - ETA: 0s - loss: 4.8761 - accuracy: 0.0048\n",
            "Epoch 4: val_loss did not improve from 4.87517\n",
            "410/410 [==============================] - 13s 31ms/step - loss: 4.8761 - accuracy: 0.0048 - val_loss: 4.8753 - val_accuracy: 0.0064\n",
            "Epoch 5/10\n",
            "401/410 [============================>.] - ETA: 0s - loss: 4.8761 - accuracy: 0.0048\n",
            "Epoch 5: val_loss did not improve from 4.87517\n",
            "410/410 [==============================] - 12s 30ms/step - loss: 4.8761 - accuracy: 0.0047 - val_loss: 4.8753 - val_accuracy: 0.0105\n",
            "Epoch 6/10\n",
            "405/410 [============================>.] - ETA: 0s - loss: 4.8761 - accuracy: 0.0046\n",
            "Epoch 6: val_loss did not improve from 4.87517\n",
            "410/410 [==============================] - 12s 29ms/step - loss: 4.8761 - accuracy: 0.0045 - val_loss: 4.8753 - val_accuracy: 0.0064\n",
            "Epoch 7/10\n",
            "410/410 [==============================] - ETA: 0s - loss: 4.8761 - accuracy: 0.0049\n",
            "Epoch 7: val_loss did not improve from 4.87517\n",
            "410/410 [==============================] - 13s 32ms/step - loss: 4.8761 - accuracy: 0.0049 - val_loss: 4.8753 - val_accuracy: 0.0047\n",
            "Epoch 8/10\n",
            "402/410 [============================>.] - ETA: 0s - loss: 4.8761 - accuracy: 0.0053\n",
            "Epoch 8: val_loss did not improve from 4.87517\n",
            "410/410 [==============================] - 16s 38ms/step - loss: 4.8761 - accuracy: 0.0053 - val_loss: 4.8753 - val_accuracy: 0.0055\n",
            "Epoch 9/10\n",
            "405/410 [============================>.] - ETA: 0s - loss: 4.8762 - accuracy: 0.0048\n",
            "Epoch 9: val_loss did not improve from 4.87517\n",
            "410/410 [==============================] - 12s 29ms/step - loss: 4.8762 - accuracy: 0.0047 - val_loss: 4.8753 - val_accuracy: 0.0053\n",
            "Epoch 10/10\n",
            "408/410 [============================>.] - ETA: 0s - loss: 4.8762 - accuracy: 0.0052\n",
            "Epoch 10: val_loss did not improve from 4.87517\n",
            "410/410 [==============================] - 8s 18ms/step - loss: 4.8762 - accuracy: 0.0052 - val_loss: 4.8753 - val_accuracy: 0.0050\n"
          ]
        }
      ]
    },
    {
      "cell_type": "code",
      "source": [
        "# Save model's architecture as an image\n",
        "plot_model(model_0, to_file='/content/model_architectures/model_0.png')\n",
        "\n",
        "# About the model history\n",
        "plot_loss_curves(history_model_0)"
      ],
      "metadata": {
        "id": "cqUcIZX622kS",
        "colab": {
          "base_uri": "https://localhost:8080/",
          "height": 573
        },
        "outputId": "332ba31c-89f1-4dbd-dd68-94d378fc680f"
      },
      "execution_count": 17,
      "outputs": [
        {
          "output_type": "display_data",
          "data": {
            "text/plain": [
              "<Figure size 432x288 with 1 Axes>"
            ],
            "image/png": "[encoded data removed]"
          },
          "metadata": {
            "needs_background": "light"
          }
        },
        {
          "output_type": "display_data",
          "data": {
            "text/plain": [
              "<Figure size 432x288 with 1 Axes>"
            ],
            "image/png": "[encoded data removed]"
          },
          "metadata": {
            "needs_background": "light"
          }
        }
      ]
    },
    {
      "cell_type": "code",
      "source": [
        "# Loading in the best weights\n",
        "best_weights_path = \"/content/model_experiments/model_0_dense\"\n",
        "model_0.load_weights(best_weights_path)\n",
        "\n",
        "# Evaluate on test set\n",
        "model_0.evaluate(test_data)"
      ],
      "metadata": {
        "id": "tPMO-JnrYxhD",
        "colab": {
          "base_uri": "https://localhost:8080/"
        },
        "outputId": "f1235c97-2b0d-4cb5-b929-9d5b128d6fe5"
      },
      "execution_count": 18,
      "outputs": [
        {
          "output_type": "stream",
          "name": "stdout",
          "text": [
            "709/709 [==============================] - 12s 17ms/step - loss: 4.8752 - accuracy: 0.0099\n"
          ]
        },
        {
          "output_type": "execute_result",
          "data": {
            "text/plain": [
              "[4.875205039978027, 0.009917137213051319]"
            ]
          },
          "metadata": {},
          "execution_count": 18
        }
      ]
    },
    {
      "cell_type": "code",
      "source": [
        "# Unravel dataset\n",
        "y_labels = []\n",
        "for images,labels in test_data.unbatch():\n",
        "  y_labels.append(labels.numpy().argmax())\n",
        "y_labels = np.array(y_labels).reshape(-1, 1)"
      ],
      "metadata": {
        "id": "J8XaSBWceQna"
      },
      "execution_count": 19,
      "outputs": []
    },
    {
      "cell_type": "code",
      "source": [
        "# Getting predictions on test data\n",
        "model_0_preds_prob = model_0.predict(test_data, verbose=1)\n",
        "model_0_preds_classes = np.array(model_0_preds_prob.argmax(axis=1)).reshape(-1, 1)\n",
        "\n",
        "# Getting a metrics report\n",
        "model_0_metrics = get_metrics(y_labels, model_0_preds_classes)\n",
        "model_0_metrics"
      ],
      "metadata": {
        "id": "fN4BAyhwZrcX",
        "colab": {
          "base_uri": "https://localhost:8080/"
        },
        "outputId": "95ba319e-7f3f-420e-a0e6-7c0b04146676"
      },
      "execution_count": 20,
      "outputs": [
        {
          "output_type": "stream",
          "name": "stdout",
          "text": [
            "709/709 [==============================] - 9s 12ms/step\n"
          ]
        },
        {
          "output_type": "stream",
          "name": "stderr",
          "text": [
            "/usr/local/lib/python3.7/dist-packages/sklearn/metrics/_classification.py:1318: UndefinedMetricWarning: Precision and F-score are ill-defined and being set to 0.0 in labels with no predicted samples. Use `zero_division` parameter to control this behavior.\n",
            "  _warn_prf(average, modifier, msg_start, len(result))\n"
          ]
        },
        {
          "output_type": "execute_result",
          "data": {
            "text/plain": [
              "{'Accuracy': 0.9917136812411848,\n",
              " 'Precision': 9.834960255609422e-05,\n",
              " 'Recall': 0.009917136812411848,\n",
              " 'F1-score': 0.0001947676675068883}"
            ]
          },
          "metadata": {},
          "execution_count": 20
        }
      ]
    },
    {
      "cell_type": "markdown",
      "source": [
        "#### Model 1 \n",
        "* **Layers:** Multiple Conv2D layers paired with MaxPool layers with a Dense layer at the end\n",
        "* **Optimizer:** Adam\n",
        "* **Loss:** Cross entropy\n",
        "* **Epochs:** 10\n",
        "* **Callbacks:** `ModelCheckpoint`\n",
        "* **Validation data:** available"
      ],
      "metadata": {
        "id": "bTZ_xAlHADd4"
      }
    },
    {
      "cell_type": "code",
      "source": [
        "# 0. Set random seed\n",
        "tf.random.set_seed(42)\n",
        "INPUT_SHAPE = (100,100,3)\n",
        "\n",
        "# 1. Create the model\n",
        "model_1 = tf.keras.Sequential([\n",
        "     tf.keras.layers.Conv2D(filters=10,\n",
        "                            kernel_size=3,\n",
        "                            activation=\"relu\",\n",
        "                            input_shape=INPUT_SHAPE),\n",
        "     tf.keras.layers.Conv2D(10,3,activation=\"relu\"),\n",
        "     tf.keras.layers.MaxPool2D(pool_size=2,\n",
        "                               padding=\"valid\"),\n",
        "     tf.keras.layers.Conv2D(10,3,activation=\"relu\"),\n",
        "     tf.keras.layers.Conv2D(10,3,activation=\"relu\"),\n",
        "     tf.keras.layers.MaxPool2D(2),\n",
        "     tf.keras.layers.Flatten(),\n",
        "     tf.keras.layers.Dense(131,activation=\"softmax\")\n",
        "], name=\"model_1_Conv2D\")\n",
        "\n",
        "# 2. Compile the model\n",
        "model_1.compile(loss=\"categorical_crossentropy\",\n",
        "                optimizer=\"Adam\",\n",
        "                metrics=[\"accuracy\"])\n",
        "\n",
        "# 3. Get the summary\n",
        "model_1.summary()\n",
        "\n",
        "# 4. Fit the model\n",
        "history_model_1 = model_1.fit(train_data,\n",
        "                              epochs=10,\n",
        "                              validation_data=test_data,\n",
        "                              validation_steps=len(test_data)*0.15,\n",
        "                              callbacks=[create_model_checkpoint(model_name=model_1.name)])"
      ],
      "metadata": {
        "id": "ahkcIbZQ3zVm",
        "colab": {
          "base_uri": "https://localhost:8080/"
        },
        "outputId": "1aa2b153-a1ee-42c1-fb3f-5adddaacbc5a"
      },
      "execution_count": 21,
      "outputs": [
        {
          "output_type": "stream",
          "name": "stdout",
          "text": [
            "Model: \"model_1_Conv2D\"\n",
            "_________________________________________________________________\n",
            " Layer (type)                Output Shape              Param #   \n",
            "=================================================================\n",
            " conv2d (Conv2D)             (None, 98, 98, 10)        280       \n",
            "                                                                 \n",
            " conv2d_1 (Conv2D)           (None, 96, 96, 10)        910       \n",
            "                                                                 \n",
            " max_pooling2d (MaxPooling2D  (None, 48, 48, 10)       0         \n",
            " )                                                               \n",
            "                                                                 \n",
            " conv2d_2 (Conv2D)           (None, 46, 46, 10)        910       \n",
            "                                                                 \n",
            " conv2d_3 (Conv2D)           (None, 44, 44, 10)        910       \n",
            "                                                                 \n",
            " max_pooling2d_1 (MaxPooling  (None, 22, 22, 10)       0         \n",
            " 2D)                                                             \n",
            "                                                                 \n",
            " flatten_1 (Flatten)         (None, 4840)              0         \n",
            "                                                                 \n",
            " dense_4 (Dense)             (None, 131)               634171    \n",
            "                                                                 \n",
            "=================================================================\n",
            "Total params: 637,181\n",
            "Trainable params: 637,181\n",
            "Non-trainable params: 0\n",
            "_________________________________________________________________\n",
            "Epoch 1/10\n",
            "410/410 [==============================] - ETA: 0s - loss: 1.8894 - accuracy: 0.6768\n",
            "Epoch 1: val_loss improved from inf to 1.25362, saving model to model_experiments/model_1_Conv2D\n",
            "410/410 [==============================] - 19s 22ms/step - loss: 1.8894 - accuracy: 0.6768 - val_loss: 1.2536 - val_accuracy: 0.7678\n",
            "Epoch 2/10\n",
            "409/410 [============================>.] - ETA: 0s - loss: 0.0628 - accuracy: 0.9826\n",
            "Epoch 2: val_loss improved from 1.25362 to 1.16962, saving model to model_experiments/model_1_Conv2D\n",
            "410/410 [==============================] - 9s 21ms/step - loss: 0.0627 - accuracy: 0.9826 - val_loss: 1.1696 - val_accuracy: 0.7996\n",
            "Epoch 3/10\n",
            "408/410 [============================>.] - ETA: 0s - loss: 0.0278 - accuracy: 0.9930\n",
            "Epoch 3: val_loss did not improve from 1.16962\n",
            "410/410 [==============================] - 10s 23ms/step - loss: 0.0283 - accuracy: 0.9929 - val_loss: 2.4737 - val_accuracy: 0.6636\n",
            "Epoch 4/10\n",
            "407/410 [============================>.] - ETA: 0s - loss: 0.0708 - accuracy: 0.9821\n",
            "Epoch 4: val_loss improved from 1.16962 to 1.13644, saving model to model_experiments/model_1_Conv2D\n",
            "410/410 [==============================] - 10s 24ms/step - loss: 0.0714 - accuracy: 0.9821 - val_loss: 1.1364 - val_accuracy: 0.8075\n",
            "Epoch 5/10\n",
            "409/410 [============================>.] - ETA: 0s - loss: 0.0373 - accuracy: 0.9898\n",
            "Epoch 5: val_loss did not improve from 1.13644\n",
            "410/410 [==============================] - 10s 25ms/step - loss: 0.0373 - accuracy: 0.9898 - val_loss: 1.1644 - val_accuracy: 0.8140\n",
            "Epoch 6/10\n",
            "407/410 [============================>.] - ETA: 0s - loss: 0.0217 - accuracy: 0.9933\n",
            "Epoch 6: val_loss did not improve from 1.13644\n",
            "410/410 [==============================] - 9s 23ms/step - loss: 0.0216 - accuracy: 0.9933 - val_loss: 1.3237 - val_accuracy: 0.8280\n",
            "Epoch 7/10\n",
            "406/410 [============================>.] - ETA: 0s - loss: 0.0133 - accuracy: 0.9967\n",
            "Epoch 7: val_loss did not improve from 1.13644\n",
            "410/410 [==============================] - 10s 23ms/step - loss: 0.0132 - accuracy: 0.9967 - val_loss: 1.6527 - val_accuracy: 0.7716\n",
            "Epoch 8/10\n",
            "406/410 [============================>.] - ETA: 0s - loss: 0.0521 - accuracy: 0.9873\n",
            "Epoch 8: val_loss did not improve from 1.13644\n",
            "410/410 [==============================] - 10s 23ms/step - loss: 0.0574 - accuracy: 0.9860 - val_loss: 2.0607 - val_accuracy: 0.6472\n",
            "Epoch 9/10\n",
            "408/410 [============================>.] - ETA: 0s - loss: 0.0866 - accuracy: 0.9777\n",
            "Epoch 9: val_loss did not improve from 1.13644\n",
            "410/410 [==============================] - 10s 23ms/step - loss: 0.0864 - accuracy: 0.9778 - val_loss: 1.4545 - val_accuracy: 0.8131\n",
            "Epoch 10/10\n",
            "409/410 [============================>.] - ETA: 0s - loss: 0.0274 - accuracy: 0.9921\n",
            "Epoch 10: val_loss did not improve from 1.13644\n",
            "410/410 [==============================] - 10s 23ms/step - loss: 0.0273 - accuracy: 0.9921 - val_loss: 1.5719 - val_accuracy: 0.8286\n"
          ]
        }
      ]
    },
    {
      "cell_type": "code",
      "source": [
        "# Save model's architecture as an image\n",
        "plot_model(model_1, to_file='/content/model_architectures/model_1.png')\n",
        "\n",
        "# About the model history\n",
        "plot_loss_curves(history_model_1)"
      ],
      "metadata": {
        "id": "XbN-psnP4TjC",
        "colab": {
          "base_uri": "https://localhost:8080/",
          "height": 573
        },
        "outputId": "c3a2b2cb-b265-4029-bcea-dec098cad058"
      },
      "execution_count": 22,
      "outputs": [
        {
          "output_type": "display_data",
          "data": {
            "text/plain": [
              "<Figure size 432x288 with 1 Axes>"
            ],
            "image/png": "[encoded data removed]"
          },
          "metadata": {
            "needs_background": "light"
          }
        },
        {
          "output_type": "display_data",
          "data": {
            "text/plain": [
              "<Figure size 432x288 with 1 Axes>"
            ],
            "image/png": "[encoded data removed]"
          },
          "metadata": {
            "needs_background": "light"
          }
        }
      ]
    },
    {
      "cell_type": "code",
      "source": [
        "# Loading in the best weights\n",
        "best_weights_path = \"/content/model_experiments/model_1_Conv2D\"\n",
        "model_1.load_weights(best_weights_path)\n",
        "\n",
        "# Evaluate on test set\n",
        "model_1.evaluate(test_data)"
      ],
      "metadata": {
        "id": "FeyFbKYd4WCe",
        "colab": {
          "base_uri": "https://localhost:8080/"
        },
        "outputId": "6af61ccf-6f4b-42b9-f302-f60722fb8349"
      },
      "execution_count": 23,
      "outputs": [
        {
          "output_type": "stream",
          "name": "stdout",
          "text": [
            "709/709 [==============================] - 10s 14ms/step - loss: 1.1611 - accuracy: 0.8129\n"
          ]
        },
        {
          "output_type": "execute_result",
          "data": {
            "text/plain": [
              "[1.1611459255218506, 0.8128526210784912]"
            ]
          },
          "metadata": {},
          "execution_count": 23
        }
      ]
    },
    {
      "cell_type": "code",
      "source": [
        "# Getting predictions on test data\n",
        "model_1_preds_prob = model_1.predict(test_data, verbose=1)\n",
        "model_1_preds_classes = np.array(model_1_preds_prob.argmax(axis=1)).reshape(-1, 1)\n",
        "\n",
        "# Getting a metrics report\n",
        "model_1_metrics = get_metrics(y_labels, model_1_preds_classes)\n",
        "model_1_metrics"
      ],
      "metadata": {
        "id": "G8jQAWDr4d-L",
        "colab": {
          "base_uri": "https://localhost:8080/"
        },
        "outputId": "0ab6603c-0963-48c6-a9a5-9a28c9f427ea"
      },
      "execution_count": 24,
      "outputs": [
        {
          "output_type": "stream",
          "name": "stdout",
          "text": [
            "709/709 [==============================] - 10s 14ms/step\n"
          ]
        },
        {
          "output_type": "execute_result",
          "data": {
            "text/plain": [
              "{'Accuracy': 1.0622355430183357,\n",
              " 'Precision': 0.010386922247607556,\n",
              " 'Recall': 0.010622355430183358,\n",
              " 'F1-score': 0.01028881160508289}"
            ]
          },
          "metadata": {},
          "execution_count": 24
        }
      ]
    },
    {
      "cell_type": "markdown",
      "source": [
        "#### Model 2 (Researchers' best model)\n",
        "* **Layers:** Multiple layer model including Conv2D, MaxPool, Dense, Dropouts and Flatten\n",
        "* **Optimizer:** Adadelta (with learning rate as 0.1)\n",
        "* **Loss:** Cross entropy\n",
        "* **Epochs:** 25\n",
        "* **Callbacks:** `ModelCheckpoint`, `EarlyStopping`\n",
        "* **Validation data:** available"
      ],
      "metadata": {
        "id": "7Z-aHSMMAEXj"
      }
    },
    {
      "cell_type": "code",
      "source": [
        "# 0. Set random seed\n",
        "tf.random.set_seed(42)\n",
        "INPUT_SHAPE = (100,100,3)\n",
        "\n",
        "# 1. Create the model (taken straight out of their code base)\n",
        "inputs = layers.Input(shape=INPUT_SHAPE, name=\"input_layer\")\n",
        "x = layers.Conv2D(16, (5, 5), strides=(1, 1), padding='same', name='conv1')(inputs)\n",
        "x = layers.Activation('relu', name='conv1_relu')(x)\n",
        "x = layers.MaxPooling2D((2, 2), strides=(2, 2), padding='valid', name='pool1')(x)\n",
        "x = layers.Conv2D(32, (5, 5), strides=(1, 1), padding='same', name='conv2')(x)\n",
        "x = layers.Activation('relu', name='conv2_relu')(x)\n",
        "x = layers.MaxPooling2D((2, 2), strides=(2, 2), padding='valid', name='pool2')(x)\n",
        "x = layers.Conv2D(64, (5, 5), strides=(1, 1), padding='same', name='conv3')(x)\n",
        "x = layers.Activation('relu', name='conv3_relu')(x)\n",
        "x = layers.MaxPooling2D((2, 2), strides=(2, 2), padding='valid', name='pool3')(x)\n",
        "x = layers.Conv2D(128, (5, 5), strides=(1, 1), padding='same', name='conv4')(x)\n",
        "x = layers.Activation('relu', name='conv4_relu')(x)\n",
        "x = layers.MaxPooling2D((2, 2), strides=(2, 2), padding='valid', name='pool4')(x)\n",
        "x = layers.Flatten()(x)\n",
        "x = layers.Dense(1024, activation='relu', name='fcl1')(x)\n",
        "x = layers.Dropout(0.2)(x)\n",
        "x = layers.Dense(256, activation='relu', name='fcl2')(x)\n",
        "x = layers.Dropout(0.2)(x)\n",
        "outputs = layers.Dense(131, activation='softmax', name='predictions')(x)\n",
        "model_2 = tf.keras.Model(inputs=inputs, outputs=outputs, name=\"model_2_best_on_paper\")\n",
        "\n",
        "# 2. Compile the model\n",
        "model_2.compile(loss=\"categorical_crossentropy\",\n",
        "                optimizer=tf.keras.optimizers.Adadelta(learning_rate=0.1),\n",
        "                metrics=[\"accuracy\"])\n",
        "\n",
        "# 3. Get the summary\n",
        "model_2.summary()\n",
        "\n",
        "# 4. Fit the model\n",
        "history_model_2 = model_2.fit(train_data,\n",
        "                              epochs=25,\n",
        "                              validation_data=test_data,\n",
        "                              validation_steps=len(test_data)*0.15,\n",
        "                              callbacks=[create_model_checkpoint(model_name=model_2.name), create_early_stopping()])"
      ],
      "metadata": {
        "id": "Zz60IDo9s_NH",
        "colab": {
          "base_uri": "https://localhost:8080/"
        },
        "outputId": "63fd6b3b-5f31-4f9f-812a-4a132e499309"
      },
      "execution_count": 25,
      "outputs": [
        {
          "output_type": "stream",
          "name": "stdout",
          "text": [
            "Model: \"model_2_best_on_paper\"\n",
            "_________________________________________________________________\n",
            " Layer (type)                Output Shape              Param #   \n",
            "=================================================================\n",
            " input_layer (InputLayer)    [(None, 100, 100, 3)]     0         \n",
            "                                                                 \n",
            " conv1 (Conv2D)              (None, 100, 100, 16)      1216      \n",
            "                                                                 \n",
            " conv1_relu (Activation)     (None, 100, 100, 16)      0         \n",
            "                                                                 \n",
            " pool1 (MaxPooling2D)        (None, 50, 50, 16)        0         \n",
            "                                                                 \n",
            " conv2 (Conv2D)              (None, 50, 50, 32)        12832     \n",
            "                                                                 \n",
            " conv2_relu (Activation)     (None, 50, 50, 32)        0         \n",
            "                                                                 \n",
            " pool2 (MaxPooling2D)        (None, 25, 25, 32)        0         \n",
            "                                                                 \n",
            " conv3 (Conv2D)              (None, 25, 25, 64)        51264     \n",
            "                                                                 \n",
            " conv3_relu (Activation)     (None, 25, 25, 64)        0         \n",
            "                                                                 \n",
            " pool3 (MaxPooling2D)        (None, 12, 12, 64)        0         \n",
            "                                                                 \n",
            " conv4 (Conv2D)              (None, 12, 12, 128)       204928    \n",
            "                                                                 \n",
            " conv4_relu (Activation)     (None, 12, 12, 128)       0         \n",
            "                                                                 \n",
            " pool4 (MaxPooling2D)        (None, 6, 6, 128)         0         \n",
            "                                                                 \n",
            " flatten_2 (Flatten)         (None, 4608)              0         \n",
            "                                                                 \n",
            " fcl1 (Dense)                (None, 1024)              4719616   \n",
            "                                                                 \n",
            " dropout (Dropout)           (None, 1024)              0         \n",
            "                                                                 \n",
            " fcl2 (Dense)                (None, 256)               262400    \n",
            "                                                                 \n",
            " dropout_1 (Dropout)         (None, 256)               0         \n",
            "                                                                 \n",
            " predictions (Dense)         (None, 131)               33667     \n",
            "                                                                 \n",
            "=================================================================\n",
            "Total params: 5,285,923\n",
            "Trainable params: 5,285,923\n",
            "Non-trainable params: 0\n",
            "_________________________________________________________________\n",
            "Epoch 1/25\n",
            "410/410 [==============================] - ETA: 0s - loss: 3.6859 - accuracy: 0.2429\n",
            "Epoch 1: val_loss improved from inf to 1.35284, saving model to model_experiments/model_2_best_on_paper\n",
            "410/410 [==============================] - 10s 23ms/step - loss: 3.6859 - accuracy: 0.2429 - val_loss: 1.3528 - val_accuracy: 0.6644\n",
            "Epoch 2/25\n",
            "409/410 [============================>.] - ETA: 0s - loss: 0.7789 - accuracy: 0.7829\n",
            "Epoch 2: val_loss improved from 1.35284 to 0.56439, saving model to model_experiments/model_2_best_on_paper\n",
            "410/410 [==============================] - 9s 23ms/step - loss: 0.7782 - accuracy: 0.7831 - val_loss: 0.5644 - val_accuracy: 0.8470\n",
            "Epoch 3/25\n",
            "406/410 [============================>.] - ETA: 0s - loss: 0.2658 - accuracy: 0.9218\n",
            "Epoch 3: val_loss improved from 0.56439 to 0.34247, saving model to model_experiments/model_2_best_on_paper\n",
            "410/410 [==============================] - 10s 24ms/step - loss: 0.2647 - accuracy: 0.9222 - val_loss: 0.3425 - val_accuracy: 0.9159\n",
            "Epoch 4/25\n",
            "409/410 [============================>.] - ETA: 0s - loss: 0.1421 - accuracy: 0.9569\n",
            "Epoch 4: val_loss improved from 0.34247 to 0.27243, saving model to model_experiments/model_2_best_on_paper\n",
            "410/410 [==============================] - 10s 24ms/step - loss: 0.1420 - accuracy: 0.9569 - val_loss: 0.2724 - val_accuracy: 0.9305\n",
            "Epoch 5/25\n",
            "409/410 [============================>.] - ETA: 0s - loss: 0.0858 - accuracy: 0.9737\n",
            "Epoch 5: val_loss improved from 0.27243 to 0.21522, saving model to model_experiments/model_2_best_on_paper\n",
            "410/410 [==============================] - 10s 23ms/step - loss: 0.0857 - accuracy: 0.9737 - val_loss: 0.2152 - val_accuracy: 0.9486\n",
            "Epoch 6/25\n",
            "409/410 [============================>.] - ETA: 0s - loss: 0.0596 - accuracy: 0.9809\n",
            "Epoch 6: val_loss improved from 0.21522 to 0.20820, saving model to model_experiments/model_2_best_on_paper\n",
            "410/410 [==============================] - 12s 28ms/step - loss: 0.0596 - accuracy: 0.9809 - val_loss: 0.2082 - val_accuracy: 0.9468\n",
            "Epoch 7/25\n",
            "407/410 [============================>.] - ETA: 0s - loss: 0.0465 - accuracy: 0.9868\n",
            "Epoch 7: val_loss improved from 0.20820 to 0.17065, saving model to model_experiments/model_2_best_on_paper\n",
            "410/410 [==============================] - 10s 24ms/step - loss: 0.0464 - accuracy: 0.9868 - val_loss: 0.1707 - val_accuracy: 0.9544\n",
            "Epoch 8/25\n",
            "408/410 [============================>.] - ETA: 0s - loss: 0.0341 - accuracy: 0.9894\n",
            "Epoch 8: val_loss did not improve from 0.17065\n",
            "410/410 [==============================] - 10s 25ms/step - loss: 0.0340 - accuracy: 0.9895 - val_loss: 0.1798 - val_accuracy: 0.9609\n",
            "Epoch 9/25\n",
            "406/410 [============================>.] - ETA: 0s - loss: 0.0255 - accuracy: 0.9919\n",
            "Epoch 9: val_loss improved from 0.17065 to 0.15442, saving model to model_experiments/model_2_best_on_paper\n",
            "410/410 [==============================] - 11s 27ms/step - loss: 0.0253 - accuracy: 0.9920 - val_loss: 0.1544 - val_accuracy: 0.9617\n",
            "Epoch 10/25\n",
            "408/410 [============================>.] - ETA: 0s - loss: 0.0205 - accuracy: 0.9936\n",
            "Epoch 10: val_loss did not improve from 0.15442\n",
            "410/410 [==============================] - 10s 25ms/step - loss: 0.0204 - accuracy: 0.9936 - val_loss: 0.1594 - val_accuracy: 0.9594\n",
            "Epoch 11/25\n",
            "408/410 [============================>.] - ETA: 0s - loss: 0.0162 - accuracy: 0.9949\n",
            "Epoch 11: val_loss did not improve from 0.15442\n",
            "410/410 [==============================] - 10s 24ms/step - loss: 0.0163 - accuracy: 0.9949 - val_loss: 0.1983 - val_accuracy: 0.9617\n",
            "Epoch 12/25\n",
            "409/410 [============================>.] - ETA: 0s - loss: 0.0157 - accuracy: 0.9948\n",
            "Epoch 12: val_loss did not improve from 0.15442\n",
            "410/410 [==============================] - 9s 22ms/step - loss: 0.0157 - accuracy: 0.9948 - val_loss: 0.1622 - val_accuracy: 0.9650\n"
          ]
        }
      ]
    },
    {
      "cell_type": "code",
      "source": [
        "# Save model's architecture as an image\n",
        "plot_model(model_2, to_file='/content/model_architectures/model_2.png')\n",
        "\n",
        "# About the model history\n",
        "plot_loss_curves(history_model_2)"
      ],
      "metadata": {
        "id": "1dGClgqcucJw",
        "colab": {
          "base_uri": "https://localhost:8080/",
          "height": 573
        },
        "outputId": "2cb594fd-8c0a-4399-bc3e-82a5cca63eac"
      },
      "execution_count": 26,
      "outputs": [
        {
          "output_type": "display_data",
          "data": {
            "text/plain": [
              "<Figure size 432x288 with 1 Axes>"
            ],
            "image/png": "[encoded data removed]"
          },
          "metadata": {
            "needs_background": "light"
          }
        },
        {
          "output_type": "display_data",
          "data": {
            "text/plain": [
              "<Figure size 432x288 with 1 Axes>"
            ],
            "image/png": "[encoded data removed]"
          },
          "metadata": {
            "needs_background": "light"
          }
        }
      ]
    },
    {
      "cell_type": "code",
      "source": [
        "# Loading in the best weights\n",
        "best_weights_path = \"/content/model_experiments/model_2_best_on_paper\"\n",
        "model_2.load_weights(best_weights_path)\n",
        "\n",
        "# Evaluate on test set\n",
        "model_2.evaluate(test_data)"
      ],
      "metadata": {
        "id": "fAiyTyQDupLw",
        "colab": {
          "base_uri": "https://localhost:8080/"
        },
        "outputId": "b1d90735-b741-47e7-8070-948421c64a8f"
      },
      "execution_count": 27,
      "outputs": [
        {
          "output_type": "stream",
          "name": "stdout",
          "text": [
            "709/709 [==============================] - 11s 16ms/step - loss: 0.1793 - accuracy: 0.9609\n"
          ]
        },
        {
          "output_type": "execute_result",
          "data": {
            "text/plain": [
              "[0.17931702733039856, 0.9608603715896606]"
            ]
          },
          "metadata": {},
          "execution_count": 27
        }
      ]
    },
    {
      "cell_type": "code",
      "source": [
        "# Getting predictions on test data\n",
        "model_2_preds_prob = model_2.predict(test_data, verbose=1)\n",
        "model_2_preds_classes = model_2_preds_prob.argmax(axis=1).reshape(-1, 1)\n",
        "\n",
        "# Getting a metrics report\n",
        "model_2_metrics = get_metrics(y_labels, model_2_preds_classes)\n",
        "model_2_metrics"
      ],
      "metadata": {
        "id": "PrbD3KaOuty5",
        "colab": {
          "base_uri": "https://localhost:8080/"
        },
        "outputId": "f9781bb2-990c-4b91-8aee-c5517b638d51"
      },
      "execution_count": 28,
      "outputs": [
        {
          "output_type": "stream",
          "name": "stdout",
          "text": [
            "709/709 [==============================] - 13s 18ms/step\n"
          ]
        },
        {
          "output_type": "execute_result",
          "data": {
            "text/plain": [
              "{'Accuracy': 1.0490126939351199,\n",
              " 'Precision': 0.010415289241785928,\n",
              " 'Recall': 0.010490126939351198,\n",
              " 'F1-score': 0.010400869505287388}"
            ]
          },
          "metadata": {},
          "execution_count": 28
        }
      ]
    },
    {
      "cell_type": "markdown",
      "source": [
        "#### Model 3\n",
        "* **Layers:** Using ResNet and various other layers to classify images\n",
        "* **Optimizer:** Adam\n",
        "* **Loss:** Cross entropy\n",
        "* **Epochs:** 25\n",
        "* **Callbacks:** `ModelCheckpoint`, `EarlyStopping`\n",
        "* **Validation data:** available"
      ],
      "metadata": {
        "id": "hdsfE1MCAFbK"
      }
    },
    {
      "cell_type": "code",
      "source": [
        "# 0. Set random seed\n",
        "tf.random.set_seed(42)\n",
        "INPUT_SHAPE = (100,100,3)\n",
        "\n",
        "# 1. Create the model (taken straight out of their code base)\n",
        "base_resnet_model = tf.keras.applications.resnet50.ResNet50(include_top=False)\n",
        "base_resnet_model.trainable = False\n",
        "inputs = layers.Input(shape=INPUT_SHAPE, name=\"input_layer\")\n",
        "scale = layers.Rescaling(scale=1./255)(inputs)\n",
        "x = base_resnet_model(scale)\n",
        "x = layers.GlobalAveragePooling2D(name=\"global_average_pooling_layer\")(x)\n",
        "outputs = layers.Dense(131,activation=\"softmax\",name=\"output_layer\")(x)\n",
        "model_3 = tf.keras.Model(inputs=inputs, outputs=outputs, name=\"model_3_freezed_ResNet\")\n",
        "\n",
        "# 2. Compile the model\n",
        "model_3.compile(loss=\"categorical_crossentropy\",\n",
        "                optimizer=\"Adam\",\n",
        "                metrics=[\"accuracy\"])\n",
        "\n",
        "# 3. Get the summary\n",
        "model_3.summary()\n",
        "\n",
        "# 4. Fit the model\n",
        "history_model_3 = model_3.fit(train_data,\n",
        "                              epochs=25,\n",
        "                              validation_data=test_data,\n",
        "                              validation_steps=len(test_data)*0.15,\n",
        "                              callbacks=[create_model_checkpoint(model_name=model_3.name), create_early_stopping()])"
      ],
      "metadata": {
        "id": "q67jMymRvB8f",
        "colab": {
          "base_uri": "https://localhost:8080/"
        },
        "outputId": "5ba6127d-3b6f-49e1-b8b2-1b1be035c6c2"
      },
      "execution_count": 29,
      "outputs": [
        {
          "output_type": "stream",
          "name": "stdout",
          "text": [
            "Downloading data from https://storage.googleapis.com/tensorflow/keras-applications/resnet/resnet50_weights_tf_dim_ordering_tf_kernels_notop.h5\n",
            "94773248/94765736 [==============================] - 0s 0us/step\n",
            "94781440/94765736 [==============================] - 0s 0us/step\n",
            "Model: \"model_3_freezed_ResNet\"\n",
            "_________________________________________________________________\n",
            " Layer (type)                Output Shape              Param #   \n",
            "=================================================================\n",
            " input_layer (InputLayer)    [(None, 100, 100, 3)]     0         \n",
            "                                                                 \n",
            " rescaling (Rescaling)       (None, 100, 100, 3)       0         \n",
            "                                                                 \n",
            " resnet50 (Functional)       (None, None, None, 2048)  23587712  \n",
            "                                                                 \n",
            " global_average_pooling_laye  (None, 2048)             0         \n",
            " r (GlobalAveragePooling2D)                                      \n",
            "                                                                 \n",
            " output_layer (Dense)        (None, 131)               268419    \n",
            "                                                                 \n",
            "=================================================================\n",
            "Total params: 23,856,131\n",
            "Trainable params: 268,419\n",
            "Non-trainable params: 23,587,712\n",
            "_________________________________________________________________\n",
            "Epoch 1/25\n",
            "410/410 [==============================] - ETA: 0s - loss: 4.4734 - accuracy: 0.0654\n",
            "Epoch 1: val_loss improved from inf to 4.19183, saving model to model_experiments/model_3_freezed_ResNet\n",
            "410/410 [==============================] - 22s 46ms/step - loss: 4.4734 - accuracy: 0.0654 - val_loss: 4.1918 - val_accuracy: 0.0616\n",
            "Epoch 2/25\n",
            "410/410 [==============================] - ETA: 0s - loss: 3.7271 - accuracy: 0.1702\n",
            "Epoch 2: val_loss improved from 4.19183 to 3.66918, saving model to model_experiments/model_3_freezed_ResNet\n",
            "410/410 [==============================] - 19s 45ms/step - loss: 3.7271 - accuracy: 0.1702 - val_loss: 3.6692 - val_accuracy: 0.1510\n",
            "Epoch 3/25\n",
            "409/410 [============================>.] - ETA: 0s - loss: 3.2877 - accuracy: 0.2565\n",
            "Epoch 3: val_loss improved from 3.66918 to 3.35884, saving model to model_experiments/model_3_freezed_ResNet\n",
            "410/410 [==============================] - 18s 44ms/step - loss: 3.2873 - accuracy: 0.2567 - val_loss: 3.3588 - val_accuracy: 0.2497\n",
            "Epoch 4/25\n",
            "409/410 [============================>.] - ETA: 0s - loss: 2.9712 - accuracy: 0.3289\n",
            "Epoch 4: val_loss improved from 3.35884 to 3.08939, saving model to model_experiments/model_3_freezed_ResNet\n",
            "410/410 [==============================] - 18s 43ms/step - loss: 2.9710 - accuracy: 0.3288 - val_loss: 3.0894 - val_accuracy: 0.2944\n",
            "Epoch 5/25\n",
            "409/410 [============================>.] - ETA: 0s - loss: 2.7187 - accuracy: 0.3927\n",
            "Epoch 5: val_loss improved from 3.08939 to 2.94507, saving model to model_experiments/model_3_freezed_ResNet\n",
            "410/410 [==============================] - 18s 43ms/step - loss: 2.7183 - accuracy: 0.3927 - val_loss: 2.9451 - val_accuracy: 0.3321\n",
            "Epoch 6/25\n",
            "409/410 [============================>.] - ETA: 0s - loss: 2.5125 - accuracy: 0.4432\n",
            "Epoch 6: val_loss improved from 2.94507 to 2.80557, saving model to model_experiments/model_3_freezed_ResNet\n",
            "410/410 [==============================] - 18s 43ms/step - loss: 2.5122 - accuracy: 0.4432 - val_loss: 2.8056 - val_accuracy: 0.3367\n",
            "Epoch 7/25\n",
            "409/410 [============================>.] - ETA: 0s - loss: 2.3462 - accuracy: 0.4800\n",
            "Epoch 7: val_loss improved from 2.80557 to 2.61590, saving model to model_experiments/model_3_freezed_ResNet\n",
            "410/410 [==============================] - 18s 43ms/step - loss: 2.3462 - accuracy: 0.4801 - val_loss: 2.6159 - val_accuracy: 0.3989\n",
            "Epoch 8/25\n",
            "409/410 [============================>.] - ETA: 0s - loss: 2.1958 - accuracy: 0.5265\n",
            "Epoch 8: val_loss improved from 2.61590 to 2.52316, saving model to model_experiments/model_3_freezed_ResNet\n",
            "410/410 [==============================] - 18s 43ms/step - loss: 2.1960 - accuracy: 0.5264 - val_loss: 2.5232 - val_accuracy: 0.4206\n",
            "Epoch 9/25\n",
            "409/410 [============================>.] - ETA: 0s - loss: 2.0684 - accuracy: 0.5453\n",
            "Epoch 9: val_loss improved from 2.52316 to 2.41172, saving model to model_experiments/model_3_freezed_ResNet\n",
            "410/410 [==============================] - 18s 43ms/step - loss: 2.0681 - accuracy: 0.5455 - val_loss: 2.4117 - val_accuracy: 0.4401\n",
            "Epoch 10/25\n",
            "410/410 [==============================] - ETA: 0s - loss: 1.9572 - accuracy: 0.5778\n",
            "Epoch 10: val_loss improved from 2.41172 to 2.33138, saving model to model_experiments/model_3_freezed_ResNet\n",
            "410/410 [==============================] - 18s 43ms/step - loss: 1.9572 - accuracy: 0.5778 - val_loss: 2.3314 - val_accuracy: 0.4445\n",
            "Epoch 11/25\n",
            "409/410 [============================>.] - ETA: 0s - loss: 1.8559 - accuracy: 0.6012\n",
            "Epoch 11: val_loss improved from 2.33138 to 2.23088, saving model to model_experiments/model_3_freezed_ResNet\n",
            "410/410 [==============================] - 18s 43ms/step - loss: 1.8558 - accuracy: 0.6011 - val_loss: 2.2309 - val_accuracy: 0.4804\n",
            "Epoch 12/25\n",
            "410/410 [==============================] - ETA: 0s - loss: 1.7588 - accuracy: 0.6248\n",
            "Epoch 12: val_loss improved from 2.23088 to 2.19615, saving model to model_experiments/model_3_freezed_ResNet\n",
            "410/410 [==============================] - 18s 43ms/step - loss: 1.7588 - accuracy: 0.6248 - val_loss: 2.1962 - val_accuracy: 0.4895\n",
            "Epoch 13/25\n",
            "409/410 [============================>.] - ETA: 0s - loss: 1.6836 - accuracy: 0.6372\n",
            "Epoch 13: val_loss improved from 2.19615 to 2.09333, saving model to model_experiments/model_3_freezed_ResNet\n",
            "410/410 [==============================] - 18s 44ms/step - loss: 1.6837 - accuracy: 0.6372 - val_loss: 2.0933 - val_accuracy: 0.5202\n",
            "Epoch 14/25\n",
            "409/410 [============================>.] - ETA: 0s - loss: 1.6133 - accuracy: 0.6547\n",
            "Epoch 14: val_loss improved from 2.09333 to 2.05020, saving model to model_experiments/model_3_freezed_ResNet\n",
            "410/410 [==============================] - 18s 43ms/step - loss: 1.6132 - accuracy: 0.6548 - val_loss: 2.0502 - val_accuracy: 0.5058\n",
            "Epoch 15/25\n",
            "409/410 [============================>.] - ETA: 0s - loss: 1.5408 - accuracy: 0.6761\n",
            "Epoch 15: val_loss improved from 2.05020 to 1.96520, saving model to model_experiments/model_3_freezed_ResNet\n",
            "410/410 [==============================] - 18s 43ms/step - loss: 1.5409 - accuracy: 0.6760 - val_loss: 1.9652 - val_accuracy: 0.5377\n",
            "Epoch 16/25\n",
            "410/410 [==============================] - ETA: 0s - loss: 1.4755 - accuracy: 0.6885\n",
            "Epoch 16: val_loss improved from 1.96520 to 1.93308, saving model to model_experiments/model_3_freezed_ResNet\n",
            "410/410 [==============================] - 18s 44ms/step - loss: 1.4755 - accuracy: 0.6885 - val_loss: 1.9331 - val_accuracy: 0.5330\n",
            "Epoch 17/25\n",
            "410/410 [==============================] - ETA: 0s - loss: 1.4220 - accuracy: 0.6977\n",
            "Epoch 17: val_loss improved from 1.93308 to 1.89868, saving model to model_experiments/model_3_freezed_ResNet\n",
            "410/410 [==============================] - 18s 43ms/step - loss: 1.4220 - accuracy: 0.6977 - val_loss: 1.8987 - val_accuracy: 0.5418\n",
            "Epoch 18/25\n",
            "410/410 [==============================] - ETA: 0s - loss: 1.3688 - accuracy: 0.7122\n",
            "Epoch 18: val_loss improved from 1.89868 to 1.85059, saving model to model_experiments/model_3_freezed_ResNet\n",
            "410/410 [==============================] - 18s 44ms/step - loss: 1.3688 - accuracy: 0.7122 - val_loss: 1.8506 - val_accuracy: 0.5520\n",
            "Epoch 19/25\n",
            "410/410 [==============================] - ETA: 0s - loss: 1.3173 - accuracy: 0.7210\n",
            "Epoch 19: val_loss improved from 1.85059 to 1.78720, saving model to model_experiments/model_3_freezed_ResNet\n",
            "410/410 [==============================] - 18s 44ms/step - loss: 1.3173 - accuracy: 0.7210 - val_loss: 1.7872 - val_accuracy: 0.5745\n",
            "Epoch 20/25\n",
            "410/410 [==============================] - ETA: 0s - loss: 1.2694 - accuracy: 0.7340\n",
            "Epoch 20: val_loss improved from 1.78720 to 1.77057, saving model to model_experiments/model_3_freezed_ResNet\n",
            "410/410 [==============================] - 18s 43ms/step - loss: 1.2694 - accuracy: 0.7340 - val_loss: 1.7706 - val_accuracy: 0.5689\n",
            "Epoch 21/25\n",
            "409/410 [============================>.] - ETA: 0s - loss: 1.2299 - accuracy: 0.7466\n",
            "Epoch 21: val_loss improved from 1.77057 to 1.74274, saving model to model_experiments/model_3_freezed_ResNet\n",
            "410/410 [==============================] - 18s 44ms/step - loss: 1.2296 - accuracy: 0.7466 - val_loss: 1.7427 - val_accuracy: 0.5794\n",
            "Epoch 22/25\n",
            "410/410 [==============================] - ETA: 0s - loss: 1.1849 - accuracy: 0.7508\n",
            "Epoch 22: val_loss improved from 1.74274 to 1.71442, saving model to model_experiments/model_3_freezed_ResNet\n",
            "410/410 [==============================] - 18s 44ms/step - loss: 1.1849 - accuracy: 0.7508 - val_loss: 1.7144 - val_accuracy: 0.5970\n",
            "Epoch 23/25\n",
            "409/410 [============================>.] - ETA: 0s - loss: 1.1473 - accuracy: 0.7607\n",
            "Epoch 23: val_loss improved from 1.71442 to 1.64627, saving model to model_experiments/model_3_freezed_ResNet\n",
            "410/410 [==============================] - 18s 44ms/step - loss: 1.1468 - accuracy: 0.7609 - val_loss: 1.6463 - val_accuracy: 0.6022\n",
            "Epoch 24/25\n",
            "410/410 [==============================] - ETA: 0s - loss: 1.1128 - accuracy: 0.7708\n",
            "Epoch 24: val_loss improved from 1.64627 to 1.61385, saving model to model_experiments/model_3_freezed_ResNet\n",
            "410/410 [==============================] - 18s 43ms/step - loss: 1.1128 - accuracy: 0.7708 - val_loss: 1.6139 - val_accuracy: 0.6192\n",
            "Epoch 25/25\n",
            "409/410 [============================>.] - ETA: 0s - loss: 1.0784 - accuracy: 0.7780\n",
            "Epoch 25: val_loss did not improve from 1.61385\n",
            "410/410 [==============================] - 17s 42ms/step - loss: 1.0781 - accuracy: 0.7780 - val_loss: 1.6180 - val_accuracy: 0.6048\n"
          ]
        }
      ]
    },
    {
      "cell_type": "code",
      "source": [
        "# Save model's architecture as an image\n",
        "plot_model(model_3, to_file='/content/model_architectures/model_3.png')\n",
        "\n",
        "# About the model history\n",
        "plot_loss_curves(history_model_3)"
      ],
      "metadata": {
        "id": "aKmOrxNx0dU4",
        "colab": {
          "base_uri": "https://localhost:8080/",
          "height": 573
        },
        "outputId": "40b31754-1758-4f91-9c5d-60105a27c800"
      },
      "execution_count": 30,
      "outputs": [
        {
          "output_type": "display_data",
          "data": {
            "text/plain": [
              "<Figure size 432x288 with 1 Axes>"
            ],
            "image/png": "[encoded data removed]"
          },
          "metadata": {
            "needs_background": "light"
          }
        },
        {
          "output_type": "display_data",
          "data": {
            "text/plain": [
              "<Figure size 432x288 with 1 Axes>"
            ],
            "image/png": "[encoded data removed]"
          },
          "metadata": {
            "needs_background": "light"
          }
        }
      ]
    },
    {
      "cell_type": "code",
      "source": [
        "# Loading in the best weights\n",
        "best_weights_path = \"/content/model_experiments/model_3_freezed_ResNet\"\n",
        "model_3.load_weights(best_weights_path)\n",
        "\n",
        "# Evaluate on test set\n",
        "model_3.evaluate(test_data)"
      ],
      "metadata": {
        "id": "NSzIoeT70hnD",
        "colab": {
          "base_uri": "https://localhost:8080/"
        },
        "outputId": "2c5f37c8-46e2-411f-ba4d-d98e4b8d3485"
      },
      "execution_count": 31,
      "outputs": [
        {
          "output_type": "stream",
          "name": "stdout",
          "text": [
            "709/709 [==============================] - 24s 33ms/step - loss: 1.6267 - accuracy: 0.6155\n"
          ]
        },
        {
          "output_type": "execute_result",
          "data": {
            "text/plain": [
              "[1.6267482042312622, 0.6154795289039612]"
            ]
          },
          "metadata": {},
          "execution_count": 31
        }
      ]
    },
    {
      "cell_type": "code",
      "source": [
        "# Getting predictions on test data\n",
        "model_3_preds_prob = model_3.predict(test_data, verbose=1)\n",
        "model_3_preds_classes = np.array(model_3_preds_prob.argmax(axis=1)).reshape(-1, 1)\n",
        "\n",
        "# Getting a metrics report\n",
        "model_3_metrics = get_metrics(y_labels, model_3_preds_classes)\n",
        "model_3_metrics"
      ],
      "metadata": {
        "id": "4vUSyQBq0uao",
        "colab": {
          "base_uri": "https://localhost:8080/"
        },
        "outputId": "73e8132d-a914-4320-f1fb-55c4b16f9821"
      },
      "execution_count": 32,
      "outputs": [
        {
          "output_type": "stream",
          "name": "stdout",
          "text": [
            "709/709 [==============================] - 23s 31ms/step\n"
          ]
        },
        {
          "output_type": "execute_result",
          "data": {
            "text/plain": [
              "{'Accuracy': 0.9035613540197461,\n",
              " 'Precision': 0.00832755242127835,\n",
              " 'Recall': 0.009035613540197461,\n",
              " 'F1-score': 0.008184005896214017}"
            ]
          },
          "metadata": {},
          "execution_count": 32
        }
      ]
    },
    {
      "cell_type": "markdown",
      "source": [
        "#### Model 4 \n",
        "* **Layers:** Using EfficientNetB0 (with freezed layers) and various other layers for classification\n",
        "* **Optimizer:** Adam\n",
        "* **Loss:** Cross entropy\n",
        "* **Epochs:** 25\n",
        "* **Callbacks:** `ModelCheckpoint`, `EarlyStopping`\n",
        "* **Validation data:** available"
      ],
      "metadata": {
        "id": "YY9ejPFFAGUv"
      }
    },
    {
      "cell_type": "code",
      "source": [
        "# 0. Set random seed\n",
        "tf.random.set_seed(42)\n",
        "INPUT_SHAPE = (100,100,3)\n",
        "\n",
        "# 1. Create the model\n",
        "base_efficient_net_model=tf.keras.applications.EfficientNetB0(include_top=False)\n",
        "base_efficient_net_model.trainable=False\n",
        "inputs= layers.Input(shape=INPUT_SHAPE, name=\"input_layer\")\n",
        "x = base_efficient_net_model(inputs)\n",
        "x = tf.keras.layers.GlobalAveragePooling2D(name=\"global_average_pooling_layer\")(x)\n",
        "outputs=tf.keras.layers.Dense(131,activation=\"softmax\",name=\"output_layer\")(x)\n",
        "model_4 = tf.keras.Model(inputs=inputs, outputs=outputs, name=\"model_4_freezed_EfficientNet\")\n",
        "\n",
        "# 2. Compile the model\n",
        "model_4.compile(loss=\"categorical_crossentropy\",\n",
        "                optimizer=\"Adam\",\n",
        "                metrics=[\"accuracy\"])\n",
        "\n",
        "# 3. Get the summary\n",
        "model_4.summary()\n",
        "\n",
        "# 4. Fit the model\n",
        "history_model_4 = model_4.fit(train_data,\n",
        "                              epochs=25,\n",
        "                              validation_data=test_data,\n",
        "                              validation_steps=len(test_data)*0.15,\n",
        "                              callbacks=[create_model_checkpoint(model_name=model_4.name), create_early_stopping()])"
      ],
      "metadata": {
        "id": "MU6w8Cgf1K2R",
        "colab": {
          "base_uri": "https://localhost:8080/"
        },
        "outputId": "b45ef5b7-f04f-4429-e75f-5268bee12262"
      },
      "execution_count": 33,
      "outputs": [
        {
          "output_type": "stream",
          "name": "stdout",
          "text": [
            "Downloading data from https://storage.googleapis.com/keras-applications/efficientnetb0_notop.h5\n",
            "16711680/16705208 [==============================] - 1s 0us/step\n",
            "16719872/16705208 [==============================] - 1s 0us/step\n",
            "Model: \"model_4_freezed_EfficientNet\"\n",
            "_________________________________________________________________\n",
            " Layer (type)                Output Shape              Param #   \n",
            "=================================================================\n",
            " input_layer (InputLayer)    [(None, 100, 100, 3)]     0         \n",
            "                                                                 \n",
            " efficientnetb0 (Functional)  (None, None, None, 1280)  4049571  \n",
            "                                                                 \n",
            " global_average_pooling_laye  (None, 1280)             0         \n",
            " r (GlobalAveragePooling2D)                                      \n",
            "                                                                 \n",
            " output_layer (Dense)        (None, 131)               167811    \n",
            "                                                                 \n",
            "=================================================================\n",
            "Total params: 4,217,382\n",
            "Trainable params: 167,811\n",
            "Non-trainable params: 4,049,571\n",
            "_________________________________________________________________\n",
            "Epoch 1/25\n",
            "410/410 [==============================] - ETA: 0s - loss: 1.3565 - accuracy: 0.7817\n",
            "Epoch 1: val_loss improved from inf to 0.65025, saving model to model_experiments/model_4_freezed_EfficientNet\n",
            "410/410 [==============================] - 20s 34ms/step - loss: 1.3565 - accuracy: 0.7817 - val_loss: 0.6503 - val_accuracy: 0.8601\n",
            "Epoch 2/25\n",
            "410/410 [==============================] - ETA: 0s - loss: 0.2822 - accuracy: 0.9653\n",
            "Epoch 2: val_loss improved from 0.65025 to 0.41435, saving model to model_experiments/model_4_freezed_EfficientNet\n",
            "410/410 [==============================] - 12s 30ms/step - loss: 0.2822 - accuracy: 0.9653 - val_loss: 0.4144 - val_accuracy: 0.9092\n",
            "Epoch 3/25\n",
            "408/410 [============================>.] - ETA: 0s - loss: 0.1533 - accuracy: 0.9841\n",
            "Epoch 3: val_loss improved from 0.41435 to 0.32375, saving model to model_experiments/model_4_freezed_EfficientNet\n",
            "410/410 [==============================] - 12s 30ms/step - loss: 0.1533 - accuracy: 0.9842 - val_loss: 0.3238 - val_accuracy: 0.9188\n",
            "Epoch 4/25\n",
            "410/410 [==============================] - ETA: 0s - loss: 0.1014 - accuracy: 0.9901\n",
            "Epoch 4: val_loss improved from 0.32375 to 0.27522, saving model to model_experiments/model_4_freezed_EfficientNet\n",
            "410/410 [==============================] - 12s 30ms/step - loss: 0.1014 - accuracy: 0.9901 - val_loss: 0.2752 - val_accuracy: 0.9296\n",
            "Epoch 5/25\n",
            "408/410 [============================>.] - ETA: 0s - loss: 0.0769 - accuracy: 0.9925\n",
            "Epoch 5: val_loss improved from 0.27522 to 0.24364, saving model to model_experiments/model_4_freezed_EfficientNet\n",
            "410/410 [==============================] - 12s 30ms/step - loss: 0.0767 - accuracy: 0.9925 - val_loss: 0.2436 - val_accuracy: 0.9366\n",
            "Epoch 6/25\n",
            "409/410 [============================>.] - ETA: 0s - loss: 0.0576 - accuracy: 0.9948\n",
            "Epoch 6: val_loss improved from 0.24364 to 0.22266, saving model to model_experiments/model_4_freezed_EfficientNet\n",
            "410/410 [==============================] - 12s 30ms/step - loss: 0.0576 - accuracy: 0.9948 - val_loss: 0.2227 - val_accuracy: 0.9448\n",
            "Epoch 7/25\n",
            "408/410 [============================>.] - ETA: 0s - loss: 0.0449 - accuracy: 0.9959\n",
            "Epoch 7: val_loss improved from 0.22266 to 0.21371, saving model to model_experiments/model_4_freezed_EfficientNet\n",
            "410/410 [==============================] - 12s 29ms/step - loss: 0.0449 - accuracy: 0.9960 - val_loss: 0.2137 - val_accuracy: 0.9436\n",
            "Epoch 8/25\n",
            "408/410 [============================>.] - ETA: 0s - loss: 0.0373 - accuracy: 0.9962\n",
            "Epoch 8: val_loss improved from 0.21371 to 0.20358, saving model to model_experiments/model_4_freezed_EfficientNet\n",
            "410/410 [==============================] - 12s 30ms/step - loss: 0.0373 - accuracy: 0.9963 - val_loss: 0.2036 - val_accuracy: 0.9468\n",
            "Epoch 9/25\n",
            "409/410 [============================>.] - ETA: 0s - loss: 0.0316 - accuracy: 0.9969\n",
            "Epoch 9: val_loss improved from 0.20358 to 0.19124, saving model to model_experiments/model_4_freezed_EfficientNet\n",
            "410/410 [==============================] - 13s 30ms/step - loss: 0.0316 - accuracy: 0.9969 - val_loss: 0.1912 - val_accuracy: 0.9533\n",
            "Epoch 10/25\n",
            "410/410 [==============================] - ETA: 0s - loss: 0.0273 - accuracy: 0.9973\n",
            "Epoch 10: val_loss improved from 0.19124 to 0.18210, saving model to model_experiments/model_4_freezed_EfficientNet\n",
            "410/410 [==============================] - 13s 31ms/step - loss: 0.0273 - accuracy: 0.9973 - val_loss: 0.1821 - val_accuracy: 0.9524\n",
            "Epoch 11/25\n",
            "410/410 [==============================] - ETA: 0s - loss: 0.0233 - accuracy: 0.9980\n",
            "Epoch 11: val_loss did not improve from 0.18210\n",
            "410/410 [==============================] - 13s 30ms/step - loss: 0.0233 - accuracy: 0.9980 - val_loss: 0.1910 - val_accuracy: 0.9495\n",
            "Epoch 12/25\n",
            "409/410 [============================>.] - ETA: 0s - loss: 0.0218 - accuracy: 0.9971\n",
            "Epoch 12: val_loss did not improve from 0.18210\n",
            "410/410 [==============================] - 12s 29ms/step - loss: 0.0218 - accuracy: 0.9971 - val_loss: 0.1838 - val_accuracy: 0.9550\n",
            "Epoch 13/25\n",
            "409/410 [============================>.] - ETA: 0s - loss: 0.0177 - accuracy: 0.9982\n",
            "Epoch 13: val_loss improved from 0.18210 to 0.16557, saving model to model_experiments/model_4_freezed_EfficientNet\n",
            "410/410 [==============================] - 12s 29ms/step - loss: 0.0177 - accuracy: 0.9982 - val_loss: 0.1656 - val_accuracy: 0.9594\n",
            "Epoch 14/25\n",
            "408/410 [============================>.] - ETA: 0s - loss: 0.0179 - accuracy: 0.9980\n",
            "Epoch 14: val_loss did not improve from 0.16557\n",
            "410/410 [==============================] - 12s 29ms/step - loss: 0.0179 - accuracy: 0.9979 - val_loss: 0.1798 - val_accuracy: 0.9518\n",
            "Epoch 15/25\n",
            "408/410 [============================>.] - ETA: 0s - loss: 0.0147 - accuracy: 0.9984\n",
            "Epoch 15: val_loss did not improve from 0.16557\n",
            "410/410 [==============================] - 12s 29ms/step - loss: 0.0147 - accuracy: 0.9984 - val_loss: 0.1789 - val_accuracy: 0.9541\n",
            "Epoch 16/25\n",
            "410/410 [==============================] - ETA: 0s - loss: 0.0123 - accuracy: 0.9989\n",
            "Epoch 16: val_loss did not improve from 0.16557\n",
            "410/410 [==============================] - 12s 29ms/step - loss: 0.0123 - accuracy: 0.9989 - val_loss: 0.1665 - val_accuracy: 0.9577\n"
          ]
        }
      ]
    },
    {
      "cell_type": "code",
      "source": [
        "# Save model's architecture as an image\n",
        "plot_model(model_4, to_file='/content/model_architectures/model_4.png')\n",
        "\n",
        "# About the model history\n",
        "plot_loss_curves(history_model_4)"
      ],
      "metadata": {
        "id": "u48O3Ou_2dqj",
        "colab": {
          "base_uri": "https://localhost:8080/",
          "height": 573
        },
        "outputId": "1c1d737f-ff2d-42cb-d8e7-db2bfda19afa"
      },
      "execution_count": 34,
      "outputs": [
        {
          "output_type": "display_data",
          "data": {
            "text/plain": [
              "<Figure size 432x288 with 1 Axes>"
            ],
            "image/png": "[encoded data removed]"
          },
          "metadata": {
            "needs_background": "light"
          }
        },
        {
          "output_type": "display_data",
          "data": {
            "text/plain": [
              "<Figure size 432x288 with 1 Axes>"
            ],
            "image/png": "[encoded data removed]"
          },
          "metadata": {
            "needs_background": "light"
          }
        }
      ]
    },
    {
      "cell_type": "code",
      "source": [
        "# Loading in the best weights\n",
        "best_weights_path = \"/content/model_experiments/model_4_freezed_EfficientNet\"\n",
        "model_4.load_weights(best_weights_path)\n",
        "\n",
        "# Evaluate on test set\n",
        "model_4.evaluate(test_data)"
      ],
      "metadata": {
        "id": "S0oSZtYZ2jM_",
        "colab": {
          "base_uri": "https://localhost:8080/"
        },
        "outputId": "59a62172-930b-48e8-9533-a12d1ee13947"
      },
      "execution_count": 36,
      "outputs": [
        {
          "output_type": "stream",
          "name": "stdout",
          "text": [
            "709/709 [==============================] - 16s 22ms/step - loss: 0.1649 - accuracy: 0.9580\n"
          ]
        },
        {
          "output_type": "execute_result",
          "data": {
            "text/plain": [
              "[0.16486996412277222, 0.9579513669013977]"
            ]
          },
          "metadata": {},
          "execution_count": 36
        }
      ]
    },
    {
      "cell_type": "code",
      "source": [
        "# Getting predictions on test data\n",
        "model_4_preds_prob = model_4.predict(test_data, verbose=1)\n",
        "model_4_preds_classes = np.array(model_4_preds_prob.argmax(axis=1)).reshape(-1, 1)\n",
        "\n",
        "# Getting a metrics report\n",
        "model_4_metrics = get_metrics(y_labels, model_4_preds_classes)\n",
        "model_4_metrics"
      ],
      "metadata": {
        "id": "VPbrQ1102xIQ",
        "colab": {
          "base_uri": "https://localhost:8080/"
        },
        "outputId": "e4500157-42b4-4820-e399-d84503d5dd2a"
      },
      "execution_count": 37,
      "outputs": [
        {
          "output_type": "stream",
          "name": "stdout",
          "text": [
            "709/709 [==============================] - 16s 21ms/step\n"
          ]
        },
        {
          "output_type": "execute_result",
          "data": {
            "text/plain": [
              "{'Accuracy': 0.9344146685472496,\n",
              " 'Precision': 0.009359036799684004,\n",
              " 'Recall': 0.009344146685472496,\n",
              " 'F1-score': 0.009313908506901373}"
            ]
          },
          "metadata": {},
          "execution_count": 37
        }
      ]
    },
    {
      "cell_type": "markdown",
      "source": [
        "#### Model 5\n",
        "* **Layers:** Fine-tuned ResNet as the base with multiple other layers\n",
        "* **Optimizer:** Adam\n",
        "* **Loss:** Cross entropy\n",
        "* **Epochs:** 25\n",
        "* **Callbacks:** `ModelCheckpoint`, `EarlyStopping`\n",
        "* **Validation data:** available"
      ],
      "metadata": {
        "id": "8YIH9eT5AHdM"
      }
    },
    {
      "cell_type": "code",
      "source": [
        "# 0. Set random seed\n",
        "tf.random.set_seed(42)\n",
        "INPUT_SHAPE = (100,100,3)\n",
        "\n",
        "# 1. Create the model\n",
        "base_resnet_model = tf.keras.applications.resnet50.ResNet50(include_top=False)\n",
        "base_resnet_model.trainable = False\n",
        "\n",
        "# Setting the base model to train (only on the last 10 layers)\n",
        "LAYERS_TRAINABLE = 10\n",
        "for layer in base_resnet_model.layers[-LAYERS_TRAINABLE:]:\n",
        "  layer.trainable = True\n",
        "\n",
        "inputs = layers.Input(shape=INPUT_SHAPE, name=\"input_layer\")\n",
        "scale = layers.Rescaling(scale=1./255)(inputs)\n",
        "x = base_resnet_model(scale)\n",
        "x = layers.GlobalAveragePooling2D(name=\"global_average_pooling_layer\")(x)\n",
        "outputs = layers.Dense(131,activation=\"softmax\",name=\"output_layer\")(x)\n",
        "model_5 = tf.keras.Model(inputs=inputs, outputs=outputs, name=\"model_5_finetuned_ResNet\")\n",
        "\n",
        "# 2. Compile the model\n",
        "model_5.compile(loss=\"categorical_crossentropy\",\n",
        "                optimizer=\"Adam\",\n",
        "                metrics=[\"accuracy\"])\n",
        "\n",
        "# 3. Get the summary\n",
        "model_5.summary()\n",
        "\n",
        "# 4. Fit the model\n",
        "history_model_5 = model_5.fit(train_data,\n",
        "                              epochs=25,\n",
        "                              validation_data=test_data,\n",
        "                              validation_steps=len(test_data)*0.15,\n",
        "                              callbacks=[create_model_checkpoint(model_name=model_5.name), create_early_stopping()])"
      ],
      "metadata": {
        "id": "gk2zsuHc3uCO",
        "colab": {
          "base_uri": "https://localhost:8080/"
        },
        "outputId": "4211e115-36a3-416d-bc61-464e6a698493"
      },
      "execution_count": 38,
      "outputs": [
        {
          "output_type": "stream",
          "name": "stdout",
          "text": [
            "Model: \"model_5_finetuned_ResNet\"\n",
            "_________________________________________________________________\n",
            " Layer (type)                Output Shape              Param #   \n",
            "=================================================================\n",
            " input_layer (InputLayer)    [(None, 100, 100, 3)]     0         \n",
            "                                                                 \n",
            " rescaling_2 (Rescaling)     (None, 100, 100, 3)       0         \n",
            "                                                                 \n",
            " resnet50 (Functional)       (None, None, None, 2048)  23587712  \n",
            "                                                                 \n",
            " global_average_pooling_laye  (None, 2048)             0         \n",
            " r (GlobalAveragePooling2D)                                      \n",
            "                                                                 \n",
            " output_layer (Dense)        (None, 131)               268419    \n",
            "                                                                 \n",
            "=================================================================\n",
            "Total params: 23,856,131\n",
            "Trainable params: 268,419\n",
            "Non-trainable params: 23,587,712\n",
            "_________________________________________________________________\n",
            "Epoch 1/25\n",
            "409/410 [============================>.] - ETA: 0s - loss: 3.1432 - accuracy: 0.3066\n",
            "Epoch 1: val_loss improved from inf to 2.62549, saving model to model_experiments/model_5_finetuned_ResNet\n",
            "410/410 [==============================] - 22s 46ms/step - loss: 3.1434 - accuracy: 0.3065 - val_loss: 2.6255 - val_accuracy: 0.3943\n",
            "Epoch 2/25\n",
            "409/410 [============================>.] - ETA: 0s - loss: 1.7978 - accuracy: 0.6015\n",
            "Epoch 2: val_loss improved from 2.62549 to 1.94189, saving model to model_experiments/model_5_finetuned_ResNet\n",
            "410/410 [==============================] - 18s 45ms/step - loss: 1.7974 - accuracy: 0.6017 - val_loss: 1.9419 - val_accuracy: 0.5333\n",
            "Epoch 3/25\n",
            "410/410 [==============================] - ETA: 0s - loss: 1.3152 - accuracy: 0.7179\n",
            "Epoch 3: val_loss improved from 1.94189 to 1.69603, saving model to model_experiments/model_5_finetuned_ResNet\n",
            "410/410 [==============================] - 18s 44ms/step - loss: 1.3152 - accuracy: 0.7179 - val_loss: 1.6960 - val_accuracy: 0.5850\n",
            "Epoch 4/25\n",
            "409/410 [============================>.] - ETA: 0s - loss: 1.0456 - accuracy: 0.7763\n",
            "Epoch 4: val_loss improved from 1.69603 to 1.47331, saving model to model_experiments/model_5_finetuned_ResNet\n",
            "410/410 [==============================] - 18s 44ms/step - loss: 1.0459 - accuracy: 0.7761 - val_loss: 1.4733 - val_accuracy: 0.6443\n",
            "Epoch 5/25\n",
            "409/410 [============================>.] - ETA: 0s - loss: 0.8593 - accuracy: 0.8182\n",
            "Epoch 5: val_loss improved from 1.47331 to 1.30091, saving model to model_experiments/model_5_finetuned_ResNet\n",
            "410/410 [==============================] - 18s 44ms/step - loss: 0.8593 - accuracy: 0.8182 - val_loss: 1.3009 - val_accuracy: 0.6676\n",
            "Epoch 6/25\n",
            "410/410 [==============================] - ETA: 0s - loss: 0.7327 - accuracy: 0.8475\n",
            "Epoch 6: val_loss improved from 1.30091 to 1.26553, saving model to model_experiments/model_5_finetuned_ResNet\n",
            "410/410 [==============================] - 18s 44ms/step - loss: 0.7327 - accuracy: 0.8475 - val_loss: 1.2655 - val_accuracy: 0.6679\n",
            "Epoch 7/25\n",
            "410/410 [==============================] - ETA: 0s - loss: 0.6312 - accuracy: 0.8675\n",
            "Epoch 7: val_loss improved from 1.26553 to 1.14866, saving model to model_experiments/model_5_finetuned_ResNet\n",
            "410/410 [==============================] - 18s 44ms/step - loss: 0.6312 - accuracy: 0.8675 - val_loss: 1.1487 - val_accuracy: 0.7112\n",
            "Epoch 8/25\n",
            "409/410 [============================>.] - ETA: 0s - loss: 0.5570 - accuracy: 0.8873\n",
            "Epoch 8: val_loss improved from 1.14866 to 1.06971, saving model to model_experiments/model_5_finetuned_ResNet\n",
            "410/410 [==============================] - 18s 44ms/step - loss: 0.5570 - accuracy: 0.8873 - val_loss: 1.0697 - val_accuracy: 0.7214\n",
            "Epoch 9/25\n",
            "409/410 [============================>.] - ETA: 0s - loss: 0.4895 - accuracy: 0.9064\n",
            "Epoch 9: val_loss improved from 1.06971 to 0.97252, saving model to model_experiments/model_5_finetuned_ResNet\n",
            "410/410 [==============================] - 18s 44ms/step - loss: 0.4897 - accuracy: 0.9063 - val_loss: 0.9725 - val_accuracy: 0.7430\n",
            "Epoch 10/25\n",
            "409/410 [============================>.] - ETA: 0s - loss: 0.4339 - accuracy: 0.9176\n",
            "Epoch 10: val_loss improved from 0.97252 to 0.94988, saving model to model_experiments/model_5_finetuned_ResNet\n",
            "410/410 [==============================] - 18s 43ms/step - loss: 0.4348 - accuracy: 0.9173 - val_loss: 0.9499 - val_accuracy: 0.7459\n",
            "Epoch 11/25\n",
            "409/410 [============================>.] - ETA: 0s - loss: 0.3980 - accuracy: 0.9238\n",
            "Epoch 11: val_loss improved from 0.94988 to 0.90089, saving model to model_experiments/model_5_finetuned_ResNet\n",
            "410/410 [==============================] - 18s 44ms/step - loss: 0.3981 - accuracy: 0.9238 - val_loss: 0.9009 - val_accuracy: 0.7567\n",
            "Epoch 12/25\n",
            "409/410 [============================>.] - ETA: 0s - loss: 0.3565 - accuracy: 0.9341\n",
            "Epoch 12: val_loss improved from 0.90089 to 0.88433, saving model to model_experiments/model_5_finetuned_ResNet\n",
            "410/410 [==============================] - 18s 44ms/step - loss: 0.3566 - accuracy: 0.9340 - val_loss: 0.8843 - val_accuracy: 0.7658\n",
            "Epoch 13/25\n",
            "409/410 [============================>.] - ETA: 0s - loss: 0.3218 - accuracy: 0.9423\n",
            "Epoch 13: val_loss improved from 0.88433 to 0.85631, saving model to model_experiments/model_5_finetuned_ResNet\n",
            "410/410 [==============================] - 18s 44ms/step - loss: 0.3221 - accuracy: 0.9422 - val_loss: 0.8563 - val_accuracy: 0.7681\n",
            "Epoch 14/25\n",
            "409/410 [============================>.] - ETA: 0s - loss: 0.2972 - accuracy: 0.9451\n",
            "Epoch 14: val_loss improved from 0.85631 to 0.81384, saving model to model_experiments/model_5_finetuned_ResNet\n",
            "410/410 [==============================] - 18s 43ms/step - loss: 0.2976 - accuracy: 0.9450 - val_loss: 0.8138 - val_accuracy: 0.7859\n",
            "Epoch 15/25\n",
            "410/410 [==============================] - ETA: 0s - loss: 0.2722 - accuracy: 0.9499\n",
            "Epoch 15: val_loss improved from 0.81384 to 0.80981, saving model to model_experiments/model_5_finetuned_ResNet\n",
            "410/410 [==============================] - 18s 43ms/step - loss: 0.2722 - accuracy: 0.9499 - val_loss: 0.8098 - val_accuracy: 0.7830\n",
            "Epoch 16/25\n",
            "409/410 [============================>.] - ETA: 0s - loss: 0.2501 - accuracy: 0.9546\n",
            "Epoch 16: val_loss improved from 0.80981 to 0.76073, saving model to model_experiments/model_5_finetuned_ResNet\n",
            "410/410 [==============================] - 18s 44ms/step - loss: 0.2500 - accuracy: 0.9547 - val_loss: 0.7607 - val_accuracy: 0.7938\n",
            "Epoch 17/25\n",
            "410/410 [==============================] - ETA: 0s - loss: 0.2276 - accuracy: 0.9599\n",
            "Epoch 17: val_loss improved from 0.76073 to 0.75665, saving model to model_experiments/model_5_finetuned_ResNet\n",
            "410/410 [==============================] - 18s 44ms/step - loss: 0.2276 - accuracy: 0.9599 - val_loss: 0.7567 - val_accuracy: 0.7894\n",
            "Epoch 18/25\n",
            "409/410 [============================>.] - ETA: 0s - loss: 0.2105 - accuracy: 0.9645\n",
            "Epoch 18: val_loss improved from 0.75665 to 0.71754, saving model to model_experiments/model_5_finetuned_ResNet\n",
            "410/410 [==============================] - 18s 44ms/step - loss: 0.2104 - accuracy: 0.9646 - val_loss: 0.7175 - val_accuracy: 0.8072\n",
            "Epoch 19/25\n",
            "409/410 [============================>.] - ETA: 0s - loss: 0.1940 - accuracy: 0.9677\n",
            "Epoch 19: val_loss improved from 0.71754 to 0.67837, saving model to model_experiments/model_5_finetuned_ResNet\n",
            "410/410 [==============================] - 18s 44ms/step - loss: 0.1943 - accuracy: 0.9675 - val_loss: 0.6784 - val_accuracy: 0.8256\n",
            "Epoch 20/25\n",
            "409/410 [============================>.] - ETA: 0s - loss: 0.1819 - accuracy: 0.9705\n",
            "Epoch 20: val_loss did not improve from 0.67837\n",
            "410/410 [==============================] - 18s 43ms/step - loss: 0.1818 - accuracy: 0.9705 - val_loss: 0.6937 - val_accuracy: 0.8116\n",
            "Epoch 21/25\n",
            "409/410 [============================>.] - ETA: 0s - loss: 0.1731 - accuracy: 0.9714\n",
            "Epoch 21: val_loss improved from 0.67837 to 0.66190, saving model to model_experiments/model_5_finetuned_ResNet\n",
            "410/410 [==============================] - 18s 44ms/step - loss: 0.1733 - accuracy: 0.9714 - val_loss: 0.6619 - val_accuracy: 0.8230\n",
            "Epoch 22/25\n",
            "409/410 [============================>.] - ETA: 0s - loss: 0.1589 - accuracy: 0.9732\n",
            "Epoch 22: val_loss did not improve from 0.66190\n",
            "410/410 [==============================] - 18s 43ms/step - loss: 0.1588 - accuracy: 0.9732 - val_loss: 0.6699 - val_accuracy: 0.8286\n",
            "Epoch 23/25\n",
            "409/410 [============================>.] - ETA: 0s - loss: 0.1492 - accuracy: 0.9770\n",
            "Epoch 23: val_loss improved from 0.66190 to 0.63866, saving model to model_experiments/model_5_finetuned_ResNet\n",
            "410/410 [==============================] - 18s 44ms/step - loss: 0.1492 - accuracy: 0.9770 - val_loss: 0.6387 - val_accuracy: 0.8294\n",
            "Epoch 24/25\n",
            "410/410 [==============================] - ETA: 0s - loss: 0.1383 - accuracy: 0.9782\n",
            "Epoch 24: val_loss did not improve from 0.63866\n",
            "410/410 [==============================] - 18s 44ms/step - loss: 0.1383 - accuracy: 0.9782 - val_loss: 0.6508 - val_accuracy: 0.8239\n",
            "Epoch 25/25\n",
            "409/410 [============================>.] - ETA: 0s - loss: 0.1331 - accuracy: 0.9792\n",
            "Epoch 25: val_loss did not improve from 0.63866\n",
            "410/410 [==============================] - 18s 43ms/step - loss: 0.1332 - accuracy: 0.9792 - val_loss: 0.6456 - val_accuracy: 0.8265\n"
          ]
        }
      ]
    },
    {
      "cell_type": "code",
      "source": [
        "# Save model's architecture as an image\n",
        "plot_model(model_5, to_file='/content/model_architectures/model_5.png')\n",
        "\n",
        "# About the model history\n",
        "plot_loss_curves(history_model_5)"
      ],
      "metadata": {
        "id": "qbm5sFqS5Vth",
        "colab": {
          "base_uri": "https://localhost:8080/",
          "height": 573
        },
        "outputId": "06c1019e-a5b7-4245-a69e-036124bdbbd3"
      },
      "execution_count": 39,
      "outputs": [
        {
          "output_type": "display_data",
          "data": {
            "text/plain": [
              "<Figure size 432x288 with 1 Axes>"
            ],
            "image/png": "[encoded data removed]"
          },
          "metadata": {
            "needs_background": "light"
          }
        },
        {
          "output_type": "display_data",
          "data": {
            "text/plain": [
              "<Figure size 432x288 with 1 Axes>"
            ],
            "image/png": "[encoded data removed]"
          },
          "metadata": {
            "needs_background": "light"
          }
        }
      ]
    },
    {
      "cell_type": "code",
      "source": [
        "# Loading in the best weights\n",
        "best_weights_path = \"/content/model_experiments/model_5_finetuned_ResNet\"\n",
        "model_5.load_weights(best_weights_path)\n",
        "\n",
        "# Evaluate on test set\n",
        "model_5.evaluate(test_data)"
      ],
      "metadata": {
        "id": "xq7OQP_253Z8",
        "colab": {
          "base_uri": "https://localhost:8080/"
        },
        "outputId": "e48c8a63-91dc-4f5d-a9b6-5cf6f4be9432"
      },
      "execution_count": 41,
      "outputs": [
        {
          "output_type": "stream",
          "name": "stdout",
          "text": [
            "709/709 [==============================] - 24s 33ms/step - loss: 0.6712 - accuracy: 0.8192\n"
          ]
        },
        {
          "output_type": "execute_result",
          "data": {
            "text/plain": [
              "[0.6711525917053223, 0.8191995620727539]"
            ]
          },
          "metadata": {},
          "execution_count": 41
        }
      ]
    },
    {
      "cell_type": "code",
      "source": [
        "# Getting predictions on test data\n",
        "model_5_preds_prob = model_5.predict(test_data, verbose=1)\n",
        "model_5_preds_classes = np.array(model_5_preds_prob.argmax(axis=1)).reshape(-1, 1)\n",
        "\n",
        "# Getting a metrics report\n",
        "model_5_metrics = get_metrics(y_labels, model_5_preds_classes)\n",
        "model_5_metrics"
      ],
      "metadata": {
        "id": "dcWq9XM25_1f",
        "colab": {
          "base_uri": "https://localhost:8080/"
        },
        "outputId": "9b17800c-4158-4ff0-854d-3145fbfc624e"
      },
      "execution_count": 42,
      "outputs": [
        {
          "output_type": "stream",
          "name": "stdout",
          "text": [
            "709/709 [==============================] - 23s 31ms/step\n"
          ]
        },
        {
          "output_type": "execute_result",
          "data": {
            "text/plain": [
              "{'Accuracy': 0.7448871650211565,\n",
              " 'Precision': 0.007496956407004442,\n",
              " 'Recall': 0.007448871650211565,\n",
              " 'F1-score': 0.007331634108214145}"
            ]
          },
          "metadata": {},
          "execution_count": 42
        }
      ]
    },
    {
      "cell_type": "markdown",
      "source": [
        "#### Model 6\n",
        "* **Layers:** Fine-tuned EffificientNetB0 with other various layers\n",
        "* **Optimizer:** Adam\n",
        "* **Loss:** Cross entropy\n",
        "* **Epochs:** 25\n",
        "* **Callbacks:** `ModelCheckpoint`, `EarlyStopping`\n",
        "* **Validation data:** available"
      ],
      "metadata": {
        "id": "Y4hHsWiWAIqr"
      }
    },
    {
      "cell_type": "code",
      "source": [
        "# 0. Set random seed\n",
        "tf.random.set_seed(42)\n",
        "INPUT_SHAPE = (100,100,3)\n",
        "\n",
        "# 1. Create the model\n",
        "base_efficient_net_model=tf.keras.applications.EfficientNetB0(include_top=False)\n",
        "base_efficient_net_model.trainable=False\n",
        "\n",
        "# Setting the base model to train (only on the last 10 layers)\n",
        "LAYERS_TRAINABLE = 10\n",
        "for layer in base_efficient_net_model.layers[-LAYERS_TRAINABLE:]:\n",
        "  layer.trainable = True\n",
        "\n",
        "inputs= layers.Input(shape=INPUT_SHAPE, name=\"input_layer\")\n",
        "x = base_efficient_net_model(inputs)\n",
        "x = tf.keras.layers.GlobalAveragePooling2D(name=\"global_average_pooling_layer\")(x)\n",
        "outputs=tf.keras.layers.Dense(131,activation=\"softmax\",name=\"output_layer\")(x)\n",
        "model_6 = tf.keras.Model(inputs=inputs, outputs=outputs, name=\"model_6_finetuned_EfficientNet\")\n",
        "\n",
        "# 2. Compile the model\n",
        "model_6.compile(loss=\"categorical_crossentropy\",\n",
        "                optimizer=\"Adam\",\n",
        "                metrics=[\"accuracy\"])\n",
        "\n",
        "# 3. Get the summary\n",
        "model_6.summary()\n",
        "\n",
        "# 4. Fit the model\n",
        "history_model_6 = model_6.fit(train_data,\n",
        "                              epochs=25,\n",
        "                              validation_data=test_data,\n",
        "                              validation_steps=len(test_data)*0.15,\n",
        "                              callbacks=[create_model_checkpoint(model_name=model_6.name), create_early_stopping()])"
      ],
      "metadata": {
        "id": "gEL8YxLa7MWE",
        "colab": {
          "base_uri": "https://localhost:8080/"
        },
        "outputId": "6e73ce3e-056d-4c12-d7b4-6849767cd794"
      },
      "execution_count": 43,
      "outputs": [
        {
          "output_type": "stream",
          "name": "stdout",
          "text": [
            "Model: \"model_6_finetuned_EfficientNet\"\n",
            "_________________________________________________________________\n",
            " Layer (type)                Output Shape              Param #   \n",
            "=================================================================\n",
            " input_layer (InputLayer)    [(None, 100, 100, 3)]     0         \n",
            "                                                                 \n",
            " efficientnetb0 (Functional)  (None, None, None, 1280)  4049571  \n",
            "                                                                 \n",
            " global_average_pooling_laye  (None, 1280)             0         \n",
            " r (GlobalAveragePooling2D)                                      \n",
            "                                                                 \n",
            " output_layer (Dense)        (None, 131)               167811    \n",
            "                                                                 \n",
            "=================================================================\n",
            "Total params: 4,217,382\n",
            "Trainable params: 167,811\n",
            "Non-trainable params: 4,049,571\n",
            "_________________________________________________________________\n",
            "Epoch 1/25\n",
            "408/410 [============================>.] - ETA: 0s - loss: 1.0087 - accuracy: 0.8315\n",
            "Epoch 1: val_loss improved from inf to 0.46992, saving model to model_experiments/model_6_finetuned_EfficientNet\n",
            "410/410 [==============================] - 18s 33ms/step - loss: 1.0065 - accuracy: 0.8318 - val_loss: 0.4699 - val_accuracy: 0.8943\n",
            "Epoch 2/25\n",
            "409/410 [============================>.] - ETA: 0s - loss: 0.1719 - accuracy: 0.9806\n",
            "Epoch 2: val_loss improved from 0.46992 to 0.31719, saving model to model_experiments/model_6_finetuned_EfficientNet\n",
            "410/410 [==============================] - 12s 30ms/step - loss: 0.1718 - accuracy: 0.9806 - val_loss: 0.3172 - val_accuracy: 0.9194\n",
            "Epoch 3/25\n",
            "408/410 [============================>.] - ETA: 0s - loss: 0.0961 - accuracy: 0.9897\n",
            "Epoch 3: val_loss improved from 0.31719 to 0.24021, saving model to model_experiments/model_6_finetuned_EfficientNet\n",
            "410/410 [==============================] - 12s 30ms/step - loss: 0.0962 - accuracy: 0.9898 - val_loss: 0.2402 - val_accuracy: 0.9401\n",
            "Epoch 4/25\n",
            "410/410 [==============================] - ETA: 0s - loss: 0.0613 - accuracy: 0.9945\n",
            "Epoch 4: val_loss improved from 0.24021 to 0.22296, saving model to model_experiments/model_6_finetuned_EfficientNet\n",
            "410/410 [==============================] - 12s 29ms/step - loss: 0.0613 - accuracy: 0.9945 - val_loss: 0.2230 - val_accuracy: 0.9430\n",
            "Epoch 5/25\n",
            "408/410 [============================>.] - ETA: 0s - loss: 0.0460 - accuracy: 0.9956\n",
            "Epoch 5: val_loss improved from 0.22296 to 0.19849, saving model to model_experiments/model_6_finetuned_EfficientNet\n",
            "410/410 [==============================] - 12s 29ms/step - loss: 0.0461 - accuracy: 0.9956 - val_loss: 0.1985 - val_accuracy: 0.9501\n",
            "Epoch 6/25\n",
            "408/410 [============================>.] - ETA: 0s - loss: 0.0361 - accuracy: 0.9956\n",
            "Epoch 6: val_loss did not improve from 0.19849\n",
            "410/410 [==============================] - 12s 28ms/step - loss: 0.0361 - accuracy: 0.9956 - val_loss: 0.1989 - val_accuracy: 0.9509\n",
            "Epoch 7/25\n",
            "410/410 [==============================] - ETA: 0s - loss: 0.0289 - accuracy: 0.9964\n",
            "Epoch 7: val_loss improved from 0.19849 to 0.17739, saving model to model_experiments/model_6_finetuned_EfficientNet\n",
            "410/410 [==============================] - 12s 29ms/step - loss: 0.0289 - accuracy: 0.9964 - val_loss: 0.1774 - val_accuracy: 0.9544\n",
            "Epoch 8/25\n",
            "408/410 [============================>.] - ETA: 0s - loss: 0.0230 - accuracy: 0.9980\n",
            "Epoch 8: val_loss did not improve from 0.17739\n",
            "410/410 [==============================] - 12s 29ms/step - loss: 0.0229 - accuracy: 0.9980 - val_loss: 0.1776 - val_accuracy: 0.9571\n",
            "Epoch 9/25\n",
            "408/410 [============================>.] - ETA: 0s - loss: 0.0202 - accuracy: 0.9979\n",
            "Epoch 9: val_loss did not improve from 0.17739\n",
            "410/410 [==============================] - 12s 29ms/step - loss: 0.0203 - accuracy: 0.9979 - val_loss: 0.1777 - val_accuracy: 0.9562\n",
            "Epoch 10/25\n",
            "409/410 [============================>.] - ETA: 0s - loss: 0.0172 - accuracy: 0.9983\n",
            "Epoch 10: val_loss did not improve from 0.17739\n",
            "410/410 [==============================] - 12s 29ms/step - loss: 0.0172 - accuracy: 0.9983 - val_loss: 0.1776 - val_accuracy: 0.9571\n"
          ]
        }
      ]
    },
    {
      "cell_type": "code",
      "source": [
        "# Save model's architecture as an image\n",
        "plot_model(model_6, to_file='/content/model_architectures/model_6.png')\n",
        "\n",
        "# About the model history\n",
        "plot_loss_curves(history_model_6)"
      ],
      "metadata": {
        "id": "LwP1hfZ37l_7",
        "colab": {
          "base_uri": "https://localhost:8080/",
          "height": 573
        },
        "outputId": "baff3016-d6d8-45c0-c2b9-f6aa951ac5f0"
      },
      "execution_count": 44,
      "outputs": [
        {
          "output_type": "display_data",
          "data": {
            "text/plain": [
              "<Figure size 432x288 with 1 Axes>"
            ],
            "image/png": "[encoded data removed]"
          },
          "metadata": {
            "needs_background": "light"
          }
        },
        {
          "output_type": "display_data",
          "data": {
            "text/plain": [
              "<Figure size 432x288 with 1 Axes>"
            ],
            "image/png": "[encoded data removed]"
          },
          "metadata": {
            "needs_background": "light"
          }
        }
      ]
    },
    {
      "cell_type": "code",
      "source": [
        "# Loading in the best weights\n",
        "best_weights_path = \"/content/model_experiments/model_6_finetuned_EfficientNet\"\n",
        "model_6.load_weights(best_weights_path)\n",
        "\n",
        "# Evaluate on test set\n",
        "model_6.evaluate(test_data)"
      ],
      "metadata": {
        "id": "TK1Ix6Bo7o1c",
        "colab": {
          "base_uri": "https://localhost:8080/"
        },
        "outputId": "e436b948-f4e9-4d75-8b85-0d0b2fba2eee"
      },
      "execution_count": 45,
      "outputs": [
        {
          "output_type": "stream",
          "name": "stdout",
          "text": [
            "709/709 [==============================] - 16s 22ms/step - loss: 0.1903 - accuracy: 0.9544\n"
          ]
        },
        {
          "output_type": "execute_result",
          "data": {
            "text/plain": [
              "[0.19033430516719818, 0.9544252753257751]"
            ]
          },
          "metadata": {},
          "execution_count": 45
        }
      ]
    },
    {
      "cell_type": "code",
      "source": [
        "# Getting predictions on test data\n",
        "model_6_preds_prob = model_6.predict(test_data, verbose=1)\n",
        "model_6_preds_classes = np.array(model_6_preds_prob.argmax(axis=1)).reshape(-1, 1)\n",
        "\n",
        "# Getting a metrics report\n",
        "model_6_metrics = get_metrics(y_labels, model_6_preds_classes)\n",
        "model_6_metrics"
      ],
      "metadata": {
        "id": "-89PKkn_7yc-",
        "colab": {
          "base_uri": "https://localhost:8080/"
        },
        "outputId": "b33e1a93-1fbf-4b7b-ed94-237b8228dcf4"
      },
      "execution_count": 46,
      "outputs": [
        {
          "output_type": "stream",
          "name": "stdout",
          "text": [
            "709/709 [==============================] - 16s 21ms/step\n"
          ]
        },
        {
          "output_type": "execute_result",
          "data": {
            "text/plain": [
              "{'Accuracy': 1.0578279266572637,\n",
              " 'Precision': 0.010635057357561355,\n",
              " 'Recall': 0.010578279266572637,\n",
              " 'F1-score': 0.010559187501045104}"
            ]
          },
          "metadata": {},
          "execution_count": 46
        }
      ]
    },
    {
      "cell_type": "markdown",
      "source": [
        "## Step 4: Compare results and conclude experiments\n",
        "- Use graphs and matrices to visualize results.\n",
        "- (*Optional*) Tune hyperparameters of the best model.\n",
        "- Compare best models results with researchers best model.\n",
        "- Export the best model.\n"
      ],
      "metadata": {
        "id": "uhXoIl1T_Ju3"
      }
    },
    {
      "cell_type": "code",
      "source": [
        "# Dataframe of results\n",
        "results_df = pd.DataFrame({\"model_0_dense\": model_0_metrics,\n",
        "                           \"model_1_Conv2D\": model_1_metrics,\n",
        "                           \"model_2_best_on_paper\": model_2_metrics,\n",
        "                           \"model_3_freezed_ResNet\": model_3_metrics,\n",
        "                           \"model_4_freezed_EfficientNet\": model_4_metrics,\n",
        "                           \"model_5_finetuned_ResNet\": model_5_metrics,\n",
        "                           \"model_6_finetuned_EfficientNet\": model_6_metrics}).T\n",
        "results_df"
      ],
      "metadata": {
        "id": "NbXCA7X68D01",
        "colab": {
          "base_uri": "https://localhost:8080/",
          "height": 269
        },
        "outputId": "69036022-7b72-4f51-a6d9-54d5a800664a"
      },
      "execution_count": 47,
      "outputs": [
        {
          "output_type": "execute_result",
          "data": {
            "text/plain": [
              "                                Accuracy  Precision    Recall  F1-score\n",
              "model_0_dense                   0.991714   0.000098  0.009917  0.000195\n",
              "model_1_Conv2D                  1.062236   0.010387  0.010622  0.010289\n",
              "model_2_best_on_paper           1.049013   0.010415  0.010490  0.010401\n",
              "model_3_freezed_ResNet          0.903561   0.008328  0.009036  0.008184\n",
              "model_4_freezed_EfficientNet    0.934415   0.009359  0.009344  0.009314\n",
              "model_5_finetuned_ResNet        0.744887   0.007497  0.007449  0.007332\n",
              "model_6_finetuned_EfficientNet  1.057828   0.010635  0.010578  0.010559"
            ],
            "text/html": [
              "\n",
              "  <div id=\"df-e5280de3-d2f1-4892-b68b-f4bcacc010f3\">\n",
              "    <div class=\"colab-df-container\">\n",
              "      <div>\n",
              "<style scoped>\n",
              "    .dataframe tbody tr th:only-of-type {\n",
              "        vertical-align: middle;\n",
              "    }\n",
              "\n",
              "    .dataframe tbody tr th {\n",
              "        vertical-align: top;\n",
              "    }\n",
              "\n",
              "    .dataframe thead th {\n",
              "        text-align: right;\n",
              "    }\n",
              "</style>\n",
              "<table border=\"1\" class=\"dataframe\">\n",
              "  <thead>\n",
              "    <tr style=\"text-align: right;\">\n",
              "      <th></th>\n",
              "      <th>Accuracy</th>\n",
              "      <th>Precision</th>\n",
              "      <th>Recall</th>\n",
              "      <th>F1-score</th>\n",
              "    </tr>\n",
              "  </thead>\n",
              "  <tbody>\n",
              "    <tr>\n",
              "      <th>model_0_dense</th>\n",
              "      <td>0.991714</td>\n",
              "      <td>0.000098</td>\n",
              "      <td>0.009917</td>\n",
              "      <td>0.000195</td>\n",
              "    </tr>\n",
              "    <tr>\n",
              "      <th>model_1_Conv2D</th>\n",
              "      <td>1.062236</td>\n",
              "      <td>0.010387</td>\n",
              "      <td>0.010622</td>\n",
              "      <td>0.010289</td>\n",
              "    </tr>\n",
              "    <tr>\n",
              "      <th>model_2_best_on_paper</th>\n",
              "      <td>1.049013</td>\n",
              "      <td>0.010415</td>\n",
              "      <td>0.010490</td>\n",
              "      <td>0.010401</td>\n",
              "    </tr>\n",
              "    <tr>\n",
              "      <th>model_3_freezed_ResNet</th>\n",
              "      <td>0.903561</td>\n",
              "      <td>0.008328</td>\n",
              "      <td>0.009036</td>\n",
              "      <td>0.008184</td>\n",
              "    </tr>\n",
              "    <tr>\n",
              "      <th>model_4_freezed_EfficientNet</th>\n",
              "      <td>0.934415</td>\n",
              "      <td>0.009359</td>\n",
              "      <td>0.009344</td>\n",
              "      <td>0.009314</td>\n",
              "    </tr>\n",
              "    <tr>\n",
              "      <th>model_5_finetuned_ResNet</th>\n",
              "      <td>0.744887</td>\n",
              "      <td>0.007497</td>\n",
              "      <td>0.007449</td>\n",
              "      <td>0.007332</td>\n",
              "    </tr>\n",
              "    <tr>\n",
              "      <th>model_6_finetuned_EfficientNet</th>\n",
              "      <td>1.057828</td>\n",
              "      <td>0.010635</td>\n",
              "      <td>0.010578</td>\n",
              "      <td>0.010559</td>\n",
              "    </tr>\n",
              "  </tbody>\n",
              "</table>\n",
              "</div>\n",
              "      <button class=\"colab-df-convert\" onclick=\"convertToInteractive('df-e5280de3-d2f1-4892-b68b-f4bcacc010f3')\"\n",
              "              title=\"Convert this dataframe to an interactive table.\"\n",
              "              style=\"display:none;\">\n",
              "        \n",
              "  <svg xmlns=\"http://www.w3.org/2000/svg\" height=\"24px\"viewBox=\"0 0 24 24\"\n",
              "       width=\"24px\">\n",
              "    <path d=\"M0 0h24v24H0V0z\" fill=\"none\"/>\n",
              "    <path d=\"M18.56 5.44l.94 2.06.94-2.06 2.06-.94-2.06-.94-.94-2.06-.94 2.06-2.06.94zm-11 1L8.5 8.5l.94-2.06 2.06-.94-2.06-.94L8.5 2.5l-.94 2.06-2.06.94zm10 10l.94 2.06.94-2.06 2.06-.94-2.06-.94-.94-2.06-.94 2.06-2.06.94z\"/><path d=\"M17.41 7.96l-1.37-1.37c-.4-.4-.92-.59-1.43-.59-.52 0-1.04.2-1.43.59L10.3 9.45l-7.72 7.72c-.78.78-.78 2.05 0 2.83L4 21.41c.39.39.9.59 1.41.59.51 0 1.02-.2 1.41-.59l7.78-7.78 2.81-2.81c.8-.78.8-2.07 0-2.86zM5.41 20L4 18.59l7.72-7.72 1.47 1.35L5.41 20z\"/>\n",
              "  </svg>\n",
              "      </button>\n",
              "      \n",
              "  <style>\n",
              "    .colab-df-container {\n",
              "      display:flex;\n",
              "      flex-wrap:wrap;\n",
              "      gap: 12px;\n",
              "    }\n",
              "\n",
              "    .colab-df-convert {\n",
              "      background-color: #E8F0FE;\n",
              "      border: none;\n",
              "      border-radius: 50%;\n",
              "      cursor: pointer;\n",
              "      display: none;\n",
              "      fill: #1967D2;\n",
              "      height: 32px;\n",
              "      padding: 0 0 0 0;\n",
              "      width: 32px;\n",
              "    }\n",
              "\n",
              "    .colab-df-convert:hover {\n",
              "      background-color: #E2EBFA;\n",
              "      box-shadow: 0px 1px 2px rgba(60, 64, 67, 0.3), 0px 1px 3px 1px rgba(60, 64, 67, 0.15);\n",
              "      fill: #174EA6;\n",
              "    }\n",
              "\n",
              "    [theme=dark] .colab-df-convert {\n",
              "      background-color: #3B4455;\n",
              "      fill: #D2E3FC;\n",
              "    }\n",
              "\n",
              "    [theme=dark] .colab-df-convert:hover {\n",
              "      background-color: #434B5C;\n",
              "      box-shadow: 0px 1px 3px 1px rgba(0, 0, 0, 0.15);\n",
              "      filter: drop-shadow(0px 1px 2px rgba(0, 0, 0, 0.3));\n",
              "      fill: #FFFFFF;\n",
              "    }\n",
              "  </style>\n",
              "\n",
              "      <script>\n",
              "        const buttonEl =\n",
              "          document.querySelector('#df-e5280de3-d2f1-4892-b68b-f4bcacc010f3 button.colab-df-convert');\n",
              "        buttonEl.style.display =\n",
              "          google.colab.kernel.accessAllowed ? 'block' : 'none';\n",
              "\n",
              "        async function convertToInteractive(key) {\n",
              "          const element = document.querySelector('#df-e5280de3-d2f1-4892-b68b-f4bcacc010f3');\n",
              "          const dataTable =\n",
              "            await google.colab.kernel.invokeFunction('convertToInteractive',\n",
              "                                                     [key], {});\n",
              "          if (!dataTable) return;\n",
              "\n",
              "          const docLinkHtml = 'Like what you see? Visit the ' +\n",
              "            '<a target=\"_blank\" href=https://colab.research.google.com/notebooks/data_table.ipynb>data table notebook</a>'\n",
              "            + ' to learn more about interactive tables.';\n",
              "          element.innerHTML = '';\n",
              "          dataTable['output_type'] = 'display_data';\n",
              "          await google.colab.output.renderOutput(dataTable, element);\n",
              "          const docLink = document.createElement('div');\n",
              "          docLink.innerHTML = docLinkHtml;\n",
              "          element.appendChild(docLink);\n",
              "        }\n",
              "      </script>\n",
              "    </div>\n",
              "  </div>\n",
              "  "
            ]
          },
          "metadata": {},
          "execution_count": 47
        }
      ]
    },
    {
      "cell_type": "code",
      "source": [
        "# Plotting various metrics\n",
        "plt.figure(figsize=(30,12))\n",
        "plt.title(\"Metrics of all models\")\n",
        "plt.subplot(2,2,1)\n",
        "plt.bar(results_df.index, results_df[\"Accuracy\"])\n",
        "plt.xlabel(\"Models\")\n",
        "plt.ylabel(\"Accuracy\")\n",
        "plt.subplot(2,2,2)\n",
        "plt.bar(results_df.index, results_df[\"Precision\"])\n",
        "plt.xlabel(\"Models\")\n",
        "plt.ylabel(\"Precision\")\n",
        "plt.subplot(2,2,3)\n",
        "plt.bar(results_df.index, results_df[\"Recall\"])\n",
        "plt.xlabel(\"Models\")\n",
        "plt.ylabel(\"Recall\")\n",
        "plt.subplot(2,2,4)\n",
        "plt.bar(results_df.index, results_df[\"F1-score\"])\n",
        "plt.xlabel(\"Models\")\n",
        "plt.ylabel(\"F1-score\");"
      ],
      "metadata": {
        "id": "0iu72KtX9tn-",
        "colab": {
          "base_uri": "https://localhost:8080/",
          "height": 463
        },
        "outputId": "219eb22b-8538-4053-98d2-9db10e4e20b5"
      },
      "execution_count": 49,
      "outputs": [
        {
          "output_type": "display_data",
          "data": {
            "text/plain": [
              "<Figure size 2160x864 with 4 Axes>"
            ],
            "image/png": "[encoded data removed]"
          },
          "metadata": {
            "needs_background": "light"
          }
        }
      ]
    }
  ]
}