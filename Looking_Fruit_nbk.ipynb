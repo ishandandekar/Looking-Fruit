{
  "nbformat": 4,
  "nbformat_minor": 0,
  "metadata": {
    "colab": {
      "provenance": [],
      "collapsed_sections": [
        "yK-K0_Oxp9RI",
        "Yujoou29mCFK",
        "2y7AyVsDpMeK",
        "gr5XC0Uq_-yC",
        "bTZ_xAlHADd4"
      ]
    },
    "kernelspec": {
      "name": "python3",
      "display_name": "Python 3"
    },
    "language_info": {
      "name": "python"
    },
    "accelerator": "GPU",
    "gpuClass": "standard"
  },
  "cells": [
    {
      "cell_type": "markdown",
      "source": [
        "[![Open In Colab](https://colab.research.google.com/assets/colab-badge.svg)](https://colab.research.google.com/github/ishandandekar/Looking-Fruit/blob/main/Looking_Fruit_nbk.ipynb)"
      ],
      "metadata": {
        "id": "uNrJinLmAcVX"
      }
    },
    {
      "cell_type": "markdown",
      "source": [
        "# Looking_Fruit\n",
        "\n",
        "👋 Hello and welcome to the **Looking_Fruit** notebook. In this notebook I try to replicate the [Fruits-360](https://www.researchgate.net/publication/321475443_Fruit_recognition_from_images_using_deep_learning) research paper. In this paper, researchers have tried to classify images of **131** fruits and vegetables. The data used for these modelling experiments is provided by the paper researchers themselves."
      ],
      "metadata": {
        "id": "2t7p4-GpnQFQ"
      }
    },
    {
      "cell_type": "code",
      "source": [
        "# Check for GPU\n",
        "!nvidia-smi -L"
      ],
      "metadata": {
        "id": "6fVSgcHVkTpS",
        "colab": {
          "base_uri": "https://localhost:8080/"
        },
        "outputId": "f30923ad-c6a5-4ad7-d665-debad821460c"
      },
      "execution_count": 1,
      "outputs": [
        {
          "output_type": "stream",
          "name": "stdout",
          "text": [
            "GPU 0: Tesla T4 (UUID: GPU-21197323-30aa-b445-fa3e-956e09871026)\n"
          ]
        }
      ]
    },
    {
      "cell_type": "markdown",
      "source": [
        "## Step 0: Defining the problem\n"
      ],
      "metadata": {
        "id": "yK-K0_Oxp9RI"
      }
    },
    {
      "cell_type": "markdown",
      "source": [
        "**Objective:**  \n",
        "To classify the images of various fruits and vegetables with best f1-score.  \n",
        "\n",
        "**Files:**\n",
        "- *Train*: This folder contains folders labelled as fruit's/vegetable's name. These subfolders contain images of the respective fruit/vegetable. This folder will be used for training purpose.\n",
        "- *Test*: This folder contains folders labelled as fruit's/vegetable's name. These subfolders contain images of the respective fruit/vegetable. This folder will be used for testing purpose."
      ],
      "metadata": {
        "id": "E957ywbEkgil"
      }
    },
    {
      "cell_type": "markdown",
      "source": [
        "## Step 1: Getting the data\n",
        "The data used for this project is publicly available on [Kaggle](https://www.kaggle.com/datasets/ishandandekar/fruitimagedataset).\n",
        "\n",
        "- Use Kaggle's API to download the data into Colab.\n",
        "- Get utility functions to help in future.\n",
        "- Configure data files to read using Python.\n"
      ],
      "metadata": {
        "id": "Yujoou29mCFK"
      }
    },
    {
      "cell_type": "code",
      "source": [
        "# Getting the helper functions script\n",
        "!wget https://raw.githubusercontent.com/ishandandekar/Looking-Fruit/main/helper_functions.py\n",
        "\n",
        "# Get the necessary functions from the python script\n",
        "from helper_functions import plot_loss_curves, unzip_data, create_model_checkpoint, get_metrics"
      ],
      "metadata": {
        "id": "RriztHP9nLy1",
        "colab": {
          "base_uri": "https://localhost:8080/"
        },
        "outputId": "ee9ef4bf-3589-4364-efc9-7a26f077122d"
      },
      "execution_count": 2,
      "outputs": [
        {
          "output_type": "stream",
          "name": "stdout",
          "text": [
            "--2022-09-05 08:28:00--  https://raw.githubusercontent.com/ishandandekar/Looking-Fruit/main/helper_functions.py\n",
            "Resolving raw.githubusercontent.com (raw.githubusercontent.com)... 185.199.108.133, 185.199.109.133, 185.199.110.133, ...\n",
            "Connecting to raw.githubusercontent.com (raw.githubusercontent.com)|185.199.108.133|:443... connected.\n",
            "HTTP request sent, awaiting response... 200 OK\n",
            "Length: 2803 (2.7K) [text/plain]\n",
            "Saving to: ‘helper_functions.py’\n",
            "\n",
            "\rhelper_functions.py   0%[                    ]       0  --.-KB/s               \rhelper_functions.py 100%[===================>]   2.74K  --.-KB/s    in 0s      \n",
            "\n",
            "2022-09-05 08:28:00 (37.4 MB/s) - ‘helper_functions.py’ saved [2803/2803]\n",
            "\n"
          ]
        }
      ]
    },
    {
      "cell_type": "markdown",
      "source": [
        "About these helper functions (see documentation for better description):\n",
        "* **plot_loss_curves** : Plots a line graph (using matplotlib) to see changes in loss and accuracy during training.\n",
        "* **unzip_data** : Unzips a zip file to a directory\n",
        "* **create_model_checkpoint** : Create a model checkpoint with only best weights (monitored over validation loss)."
      ],
      "metadata": {
        "id": "AQk2Ny-zWEtP"
      }
    },
    {
      "cell_type": "code",
      "source": [
        "# Install the kaggle library\n",
        "!pip install -q kaggle\n",
        "\n",
        "# Upload the Kaggle API keys\n",
        "from google.colab import files\n",
        "files.upload()\n",
        "\n",
        "!mkdir ~/.kaggle\n",
        "\n",
        "# Copy the json file to the folder\n",
        "!cp kaggle.json ~/.kaggle\n",
        "\n",
        "# Change permissions for json to work with the Kaggle API\n",
        "!chmod 600 ~/.kaggle/kaggle.json\n",
        "\n",
        "# Download the dataset\n",
        "!kaggle datasets download -d ishandandekar/fruitimagedataset\n",
        "\n",
        "# Unzip data\n",
        "unzip_data('fruitimagedataset.zip', data_dir=\"raw\")"
      ],
      "metadata": {
        "id": "QxwTbHhbniZd",
        "colab": {
          "resources": {
            "http://localhost:8080/nbextensions/google.colab/files.js": {
              "data": "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",
              "ok": true,
              "headers": [
                [
                  "content-type",
                  "application/javascript"
                ]
              ],
              "status": 200,
              "status_text": ""
            }
          },
          "base_uri": "https://localhost:8080/",
          "height": 126
        },
        "outputId": "38e51f95-81b7-4ee5-9e80-5ead3de02efe"
      },
      "execution_count": 3,
      "outputs": [
        {
          "output_type": "display_data",
          "data": {
            "text/plain": [
              "<IPython.core.display.HTML object>"
            ],
            "text/html": [
              "\n",
              "     <input type=\"file\" id=\"files-c2b29ff7-b283-4797-bcba-62aec77c375d\" name=\"files[]\" multiple disabled\n",
              "        style=\"border:none\" />\n",
              "     <output id=\"result-c2b29ff7-b283-4797-bcba-62aec77c375d\">\n",
              "      Upload widget is only available when the cell has been executed in the\n",
              "      current browser session. Please rerun this cell to enable.\n",
              "      </output>\n",
              "      <script src=\"/nbextensions/google.colab/files.js\"></script> "
            ]
          },
          "metadata": {}
        },
        {
          "output_type": "stream",
          "name": "stdout",
          "text": [
            "Saving kaggle.json to kaggle.json\n",
            "Downloading fruitimagedataset.zip to /content\n",
            " 97% 385M/398M [00:03<00:00, 112MB/s]\n",
            "100% 398M/398M [00:03<00:00, 130MB/s]\n"
          ]
        }
      ]
    },
    {
      "cell_type": "markdown",
      "source": [
        "## Step 2: Know more about the data\n",
        "\n",
        "- Get the statistics about the data.\n",
        "- Check if the labels are imbalanced.\n",
        "- Visualize random samples in data.\n",
        "- (*If required*) Trim data.\n",
        "- (*If required*) Preprocess the data.\n",
        "- Make data processing faster using `ImageDataGenerator`."
      ],
      "metadata": {
        "id": "2y7AyVsDpMeK"
      }
    },
    {
      "cell_type": "code",
      "source": [
        "# Importing necessary libraries\n",
        "import numpy as np\n",
        "import pandas as pd\n",
        "import matplotlib.pyplot as plt\n",
        "import matplotlib.image as mpimg\n",
        "import os\n",
        "import random\n",
        "import shutil\n",
        "import tensorflow as tf\n",
        "from tensorflow.keras import layers\n",
        "from tensorflow.keras.utils import plot_model"
      ],
      "metadata": {
        "id": "rruTT4WnpvsR"
      },
      "execution_count": 5,
      "outputs": []
    },
    {
      "cell_type": "code",
      "source": [
        "# Setting up necessary variables\n",
        "TRAIN_PATH = '/content/raw/train/train/'\n",
        "TEST_PATH = '/content/raw/test/test/'\n",
        "RAW_DATA_PATH = '/content/raw'"
      ],
      "metadata": {
        "id": "Jgdo_iPQp-hw"
      },
      "execution_count": 6,
      "outputs": []
    },
    {
      "cell_type": "code",
      "source": [
        "# Checking the number of classes\n",
        "classes = []\n",
        "\n",
        "for dirname, _, filenames in os.walk(RAW_DATA_PATH):\n",
        "    if dirname.startswith(f\"{TRAIN_PATH}\"):\n",
        "        classes.append(dirname[len(TRAIN_PATH):])\n",
        "\n",
        "print(f\"Total number of classes to deal with: {len(classes)}\")"
      ],
      "metadata": {
        "id": "uJI7iNbnqHOp",
        "colab": {
          "base_uri": "https://localhost:8080/"
        },
        "outputId": "004f8669-b457-4e59-9315-ef3307f36050"
      },
      "execution_count": 7,
      "outputs": [
        {
          "output_type": "stream",
          "name": "stdout",
          "text": [
            "Total number of classes to deal with: 131\n"
          ]
        }
      ]
    },
    {
      "cell_type": "code",
      "source": [
        "# Show random classes present in the dataset\n",
        "list_of_five_random_labels = random.sample(classes,5)\n",
        "list_of_five_random_labels"
      ],
      "metadata": {
        "id": "_FaY0ocUwKP5",
        "colab": {
          "base_uri": "https://localhost:8080/"
        },
        "outputId": "1b2e1c13-a3bb-4869-e1fa-8dc94f031b3f"
      },
      "execution_count": 8,
      "outputs": [
        {
          "output_type": "execute_result",
          "data": {
            "text/plain": [
              "['Pomelo Sweetie', 'Pear Williams', 'Kaki', 'Kumquats', 'Lychee']"
            ]
          },
          "metadata": {},
          "execution_count": 8
        }
      ]
    },
    {
      "cell_type": "code",
      "source": [
        "# Number of images of each fruit/vegetable as a pandas.DataFrame\n",
        "\n",
        "# List to append the count of images\n",
        "number_of_images_train = []\n",
        "\n",
        "for label in classes:\n",
        "    path = f'{TRAIN_PATH}/{label}'\n",
        "    count = len(os.listdir(path))\n",
        "    number_of_images_train.append(count)\n",
        "\n",
        "train_image_count_df = pd.DataFrame({\"Label\":classes,\"Number of Images\":number_of_images_train})\n",
        "\n",
        "# To view first 10 rows of the dataframe\n",
        "train_image_count_df.head(10)"
      ],
      "metadata": {
        "id": "fl9ktKX6wiaM",
        "colab": {
          "base_uri": "https://localhost:8080/",
          "height": 363
        },
        "outputId": "99964c83-0f3b-4d71-d06b-bea9b4c1729a"
      },
      "execution_count": 9,
      "outputs": [
        {
          "output_type": "execute_result",
          "data": {
            "text/plain": [
              "                Label  Number of Images\n",
              "0      Pineapple Mini               493\n",
              "1              Pepino               490\n",
              "2      Nectarine Flat               480\n",
              "3        Pear Monster               490\n",
              "4            Tomato 3               738\n",
              "5            Tomato 4               479\n",
              "6      Apple Golden 1               480\n",
              "7           Nectarine               492\n",
              "8      Apple Golden 2               492\n",
              "9  Apple Red Yellow 1               492"
            ],
            "text/html": [
              "\n",
              "  <div id=\"df-4dc81715-e904-46ed-bd40-25c339d431a3\">\n",
              "    <div class=\"colab-df-container\">\n",
              "      <div>\n",
              "<style scoped>\n",
              "    .dataframe tbody tr th:only-of-type {\n",
              "        vertical-align: middle;\n",
              "    }\n",
              "\n",
              "    .dataframe tbody tr th {\n",
              "        vertical-align: top;\n",
              "    }\n",
              "\n",
              "    .dataframe thead th {\n",
              "        text-align: right;\n",
              "    }\n",
              "</style>\n",
              "<table border=\"1\" class=\"dataframe\">\n",
              "  <thead>\n",
              "    <tr style=\"text-align: right;\">\n",
              "      <th></th>\n",
              "      <th>Label</th>\n",
              "      <th>Number of Images</th>\n",
              "    </tr>\n",
              "  </thead>\n",
              "  <tbody>\n",
              "    <tr>\n",
              "      <th>0</th>\n",
              "      <td>Pineapple Mini</td>\n",
              "      <td>493</td>\n",
              "    </tr>\n",
              "    <tr>\n",
              "      <th>1</th>\n",
              "      <td>Pepino</td>\n",
              "      <td>490</td>\n",
              "    </tr>\n",
              "    <tr>\n",
              "      <th>2</th>\n",
              "      <td>Nectarine Flat</td>\n",
              "      <td>480</td>\n",
              "    </tr>\n",
              "    <tr>\n",
              "      <th>3</th>\n",
              "      <td>Pear Monster</td>\n",
              "      <td>490</td>\n",
              "    </tr>\n",
              "    <tr>\n",
              "      <th>4</th>\n",
              "      <td>Tomato 3</td>\n",
              "      <td>738</td>\n",
              "    </tr>\n",
              "    <tr>\n",
              "      <th>5</th>\n",
              "      <td>Tomato 4</td>\n",
              "      <td>479</td>\n",
              "    </tr>\n",
              "    <tr>\n",
              "      <th>6</th>\n",
              "      <td>Apple Golden 1</td>\n",
              "      <td>480</td>\n",
              "    </tr>\n",
              "    <tr>\n",
              "      <th>7</th>\n",
              "      <td>Nectarine</td>\n",
              "      <td>492</td>\n",
              "    </tr>\n",
              "    <tr>\n",
              "      <th>8</th>\n",
              "      <td>Apple Golden 2</td>\n",
              "      <td>492</td>\n",
              "    </tr>\n",
              "    <tr>\n",
              "      <th>9</th>\n",
              "      <td>Apple Red Yellow 1</td>\n",
              "      <td>492</td>\n",
              "    </tr>\n",
              "  </tbody>\n",
              "</table>\n",
              "</div>\n",
              "      <button class=\"colab-df-convert\" onclick=\"convertToInteractive('df-4dc81715-e904-46ed-bd40-25c339d431a3')\"\n",
              "              title=\"Convert this dataframe to an interactive table.\"\n",
              "              style=\"display:none;\">\n",
              "        \n",
              "  <svg xmlns=\"http://www.w3.org/2000/svg\" height=\"24px\"viewBox=\"0 0 24 24\"\n",
              "       width=\"24px\">\n",
              "    <path d=\"M0 0h24v24H0V0z\" fill=\"none\"/>\n",
              "    <path d=\"M18.56 5.44l.94 2.06.94-2.06 2.06-.94-2.06-.94-.94-2.06-.94 2.06-2.06.94zm-11 1L8.5 8.5l.94-2.06 2.06-.94-2.06-.94L8.5 2.5l-.94 2.06-2.06.94zm10 10l.94 2.06.94-2.06 2.06-.94-2.06-.94-.94-2.06-.94 2.06-2.06.94z\"/><path d=\"M17.41 7.96l-1.37-1.37c-.4-.4-.92-.59-1.43-.59-.52 0-1.04.2-1.43.59L10.3 9.45l-7.72 7.72c-.78.78-.78 2.05 0 2.83L4 21.41c.39.39.9.59 1.41.59.51 0 1.02-.2 1.41-.59l7.78-7.78 2.81-2.81c.8-.78.8-2.07 0-2.86zM5.41 20L4 18.59l7.72-7.72 1.47 1.35L5.41 20z\"/>\n",
              "  </svg>\n",
              "      </button>\n",
              "      \n",
              "  <style>\n",
              "    .colab-df-container {\n",
              "      display:flex;\n",
              "      flex-wrap:wrap;\n",
              "      gap: 12px;\n",
              "    }\n",
              "\n",
              "    .colab-df-convert {\n",
              "      background-color: #E8F0FE;\n",
              "      border: none;\n",
              "      border-radius: 50%;\n",
              "      cursor: pointer;\n",
              "      display: none;\n",
              "      fill: #1967D2;\n",
              "      height: 32px;\n",
              "      padding: 0 0 0 0;\n",
              "      width: 32px;\n",
              "    }\n",
              "\n",
              "    .colab-df-convert:hover {\n",
              "      background-color: #E2EBFA;\n",
              "      box-shadow: 0px 1px 2px rgba(60, 64, 67, 0.3), 0px 1px 3px 1px rgba(60, 64, 67, 0.15);\n",
              "      fill: #174EA6;\n",
              "    }\n",
              "\n",
              "    [theme=dark] .colab-df-convert {\n",
              "      background-color: #3B4455;\n",
              "      fill: #D2E3FC;\n",
              "    }\n",
              "\n",
              "    [theme=dark] .colab-df-convert:hover {\n",
              "      background-color: #434B5C;\n",
              "      box-shadow: 0px 1px 3px 1px rgba(0, 0, 0, 0.15);\n",
              "      filter: drop-shadow(0px 1px 2px rgba(0, 0, 0, 0.3));\n",
              "      fill: #FFFFFF;\n",
              "    }\n",
              "  </style>\n",
              "\n",
              "      <script>\n",
              "        const buttonEl =\n",
              "          document.querySelector('#df-4dc81715-e904-46ed-bd40-25c339d431a3 button.colab-df-convert');\n",
              "        buttonEl.style.display =\n",
              "          google.colab.kernel.accessAllowed ? 'block' : 'none';\n",
              "\n",
              "        async function convertToInteractive(key) {\n",
              "          const element = document.querySelector('#df-4dc81715-e904-46ed-bd40-25c339d431a3');\n",
              "          const dataTable =\n",
              "            await google.colab.kernel.invokeFunction('convertToInteractive',\n",
              "                                                     [key], {});\n",
              "          if (!dataTable) return;\n",
              "\n",
              "          const docLinkHtml = 'Like what you see? Visit the ' +\n",
              "            '<a target=\"_blank\" href=https://colab.research.google.com/notebooks/data_table.ipynb>data table notebook</a>'\n",
              "            + ' to learn more about interactive tables.';\n",
              "          element.innerHTML = '';\n",
              "          dataTable['output_type'] = 'display_data';\n",
              "          await google.colab.output.renderOutput(dataTable, element);\n",
              "          const docLink = document.createElement('div');\n",
              "          docLink.innerHTML = docLinkHtml;\n",
              "          element.appendChild(docLink);\n",
              "        }\n",
              "      </script>\n",
              "    </div>\n",
              "  </div>\n",
              "  "
            ]
          },
          "metadata": {},
          "execution_count": 9
        }
      ]
    },
    {
      "cell_type": "code",
      "source": [
        "# Label with most number of images\n",
        "print(f\"Label with most number of images:\")\n",
        "print(train_image_count_df.sort_values(\"Number of Images\",ascending=False).head(1))\n",
        "print(f\"Label with least number of images:\")\n",
        "print(train_image_count_df.sort_values(\"Number of Images\",ascending=True).head(1))"
      ],
      "metadata": {
        "id": "6L99UaG5iyQT",
        "colab": {
          "base_uri": "https://localhost:8080/"
        },
        "outputId": "d0dc6d48-885f-4b7c-e057-627ca39d4459"
      },
      "execution_count": 10,
      "outputs": [
        {
          "output_type": "stream",
          "name": "stdout",
          "text": [
            "Label with most number of images:\n",
            "         Label  Number of Images\n",
            "39  Grape Blue               984\n",
            "Label with least number of images:\n",
            "           Label  Number of Images\n",
            "117  Ginger Root               297\n"
          ]
        }
      ]
    },
    {
      "cell_type": "code",
      "source": [
        "# Show random sample from training of a random fruit/vegetable\n",
        "\n",
        "random_label = random.choice(classes)\n",
        "sample_path = f'{TRAIN_PATH}/{random_label}'\n",
        "random_image= random.choice(os.listdir(sample_path))\n",
        "random_image_path = f'{sample_path}/{random_image}'\n",
        "\n",
        "img = mpimg.imread(random_image_path)\n",
        "imgplot = plt.imshow(img)\n",
        "plt.axis(False)\n",
        "plt.title(f'{random_label}')\n",
        "plt.show()"
      ],
      "metadata": {
        "id": "Cv6G8PcTwtGI",
        "colab": {
          "base_uri": "https://localhost:8080/",
          "height": 264
        },
        "outputId": "0049a9b8-4165-4504-b59f-b1831bbeed70"
      },
      "execution_count": 12,
      "outputs": [
        {
          "output_type": "display_data",
          "data": {
            "text/plain": [
              "<Figure size 432x288 with 1 Axes>"
            ],
            "image/png": "[encoded data removed]"
          },
          "metadata": {
            "needs_background": "light"
          }
        }
      ]
    },
    {
      "cell_type": "code",
      "source": [
        "# Making new directories for trimmed training data\n",
        "os.mkdir(\"data\")\n",
        "os.mkdir(\"data/train\")"
      ],
      "metadata": {
        "id": "Qy0hhPcZ1e8V"
      },
      "execution_count": 13,
      "outputs": []
    },
    {
      "cell_type": "code",
      "source": [
        "# Trimming data as there are lot of training examples\n",
        "\n",
        "TRAIN_IMAGES_COUNT = 100\n",
        "\n",
        "for label in classes:\n",
        "  path = f'{TRAIN_PATH}/{label}'\n",
        "  img_files = os.listdir(path)\n",
        "  random_count_images = random.sample(img_files, TRAIN_IMAGES_COUNT)\n",
        "  new_path_for_label = f\"/content/data/train/{label}\"\n",
        "  os.mkdir(new_path_for_label)\n",
        "\n",
        "  for img_file in random_count_images:\n",
        "    shutil.move(f\"{path}/{img_file}\", new_path_for_label)"
      ],
      "metadata": {
        "id": "xTCB88Cd0Suz"
      },
      "execution_count": 14,
      "outputs": []
    },
    {
      "cell_type": "code",
      "source": [
        "# Image size has been specified in the research paper\n",
        "IMAGE_SIZE = (100,100)\n",
        "BATCH_SIZE = 32\n",
        "TRIMMED_TRAIN_PATH = '/content/data/train'\n",
        "TEST_PATH = '/content/raw/test/test'\n",
        "\n",
        "# To make data processing faster\n",
        "train_data=tf.keras.preprocessing.image_dataset_from_directory(directory=TRIMMED_TRAIN_PATH,\n",
        "                                                               image_size=IMAGE_SIZE,\n",
        "                                                               label_mode=\"categorical\",\n",
        "                                                               batch_size=BATCH_SIZE)\n",
        "\n",
        "test_data=tf.keras.preprocessing.image_dataset_from_directory(directory=TEST_PATH,\n",
        "                                                               image_size=IMAGE_SIZE,\n",
        "                                                               label_mode=\"categorical\",\n",
        "                                                               batch_size=BATCH_SIZE)"
      ],
      "metadata": {
        "id": "cbJoJNH-xqYl",
        "colab": {
          "base_uri": "https://localhost:8080/"
        },
        "outputId": "80406ae5-88d1-4934-d9f0-e4b41120c7c8"
      },
      "execution_count": 15,
      "outputs": [
        {
          "output_type": "stream",
          "name": "stdout",
          "text": [
            "Found 13100 files belonging to 131 classes.\n",
            "Found 22688 files belonging to 131 classes.\n"
          ]
        }
      ]
    },
    {
      "cell_type": "code",
      "source": [
        "# See an example of a batch of data\n",
        "for images,labels in train_data.take(1):\n",
        "  print(images,labels)"
      ],
      "metadata": {
        "id": "ARrzAiaVg9bG",
        "colab": {
          "base_uri": "https://localhost:8080/"
        },
        "outputId": "27569f37-efff-4660-9ac4-cf30be68b281"
      },
      "execution_count": 16,
      "outputs": [
        {
          "output_type": "stream",
          "name": "stdout",
          "text": [
            "tf.Tensor(\n",
            "[[[[255. 255. 255.]\n",
            "   [255. 255. 255.]\n",
            "   [255. 255. 255.]\n",
            "   ...\n",
            "   [255. 255. 255.]\n",
            "   [255. 255. 255.]\n",
            "   [255. 255. 255.]]\n",
            "\n",
            "  [[255. 255. 255.]\n",
            "   [255. 255. 255.]\n",
            "   [255. 255. 255.]\n",
            "   ...\n",
            "   [255. 255. 255.]\n",
            "   [255. 255. 255.]\n",
            "   [255. 255. 255.]]\n",
            "\n",
            "  [[255. 255. 255.]\n",
            "   [255. 255. 255.]\n",
            "   [255. 255. 255.]\n",
            "   ...\n",
            "   [255. 255. 255.]\n",
            "   [255. 255. 255.]\n",
            "   [255. 255. 255.]]\n",
            "\n",
            "  ...\n",
            "\n",
            "  [[255. 255. 255.]\n",
            "   [255. 255. 255.]\n",
            "   [255. 255. 255.]\n",
            "   ...\n",
            "   [255. 255. 255.]\n",
            "   [255. 255. 255.]\n",
            "   [255. 255. 255.]]\n",
            "\n",
            "  [[255. 255. 255.]\n",
            "   [255. 255. 255.]\n",
            "   [255. 255. 255.]\n",
            "   ...\n",
            "   [255. 255. 255.]\n",
            "   [255. 255. 255.]\n",
            "   [255. 255. 255.]]\n",
            "\n",
            "  [[255. 255. 255.]\n",
            "   [255. 255. 255.]\n",
            "   [255. 255. 255.]\n",
            "   ...\n",
            "   [255. 255. 255.]\n",
            "   [255. 255. 255.]\n",
            "   [255. 255. 255.]]]\n",
            "\n",
            "\n",
            " [[[255. 255. 255.]\n",
            "   [255. 255. 255.]\n",
            "   [255. 255. 255.]\n",
            "   ...\n",
            "   [255. 255. 255.]\n",
            "   [255. 255. 255.]\n",
            "   [255. 255. 255.]]\n",
            "\n",
            "  [[255. 255. 255.]\n",
            "   [255. 255. 255.]\n",
            "   [255. 255. 255.]\n",
            "   ...\n",
            "   [255. 255. 255.]\n",
            "   [255. 255. 255.]\n",
            "   [255. 255. 255.]]\n",
            "\n",
            "  [[255. 255. 255.]\n",
            "   [255. 255. 255.]\n",
            "   [255. 255. 255.]\n",
            "   ...\n",
            "   [255. 255. 255.]\n",
            "   [255. 255. 255.]\n",
            "   [255. 255. 255.]]\n",
            "\n",
            "  ...\n",
            "\n",
            "  [[255. 255. 255.]\n",
            "   [255. 255. 255.]\n",
            "   [255. 255. 255.]\n",
            "   ...\n",
            "   [255. 255. 255.]\n",
            "   [255. 255. 255.]\n",
            "   [255. 255. 255.]]\n",
            "\n",
            "  [[255. 255. 255.]\n",
            "   [255. 255. 255.]\n",
            "   [255. 255. 255.]\n",
            "   ...\n",
            "   [255. 255. 255.]\n",
            "   [255. 255. 255.]\n",
            "   [255. 255. 255.]]\n",
            "\n",
            "  [[255. 255. 255.]\n",
            "   [255. 255. 255.]\n",
            "   [255. 255. 255.]\n",
            "   ...\n",
            "   [255. 255. 255.]\n",
            "   [255. 255. 255.]\n",
            "   [255. 255. 255.]]]\n",
            "\n",
            "\n",
            " [[[255. 255. 255.]\n",
            "   [255. 255. 255.]\n",
            "   [255. 255. 255.]\n",
            "   ...\n",
            "   [255. 255. 255.]\n",
            "   [255. 255. 255.]\n",
            "   [255. 255. 255.]]\n",
            "\n",
            "  [[255. 255. 255.]\n",
            "   [255. 255. 255.]\n",
            "   [255. 255. 255.]\n",
            "   ...\n",
            "   [255. 255. 255.]\n",
            "   [255. 255. 255.]\n",
            "   [255. 255. 255.]]\n",
            "\n",
            "  [[255. 255. 255.]\n",
            "   [255. 255. 255.]\n",
            "   [255. 255. 255.]\n",
            "   ...\n",
            "   [255. 255. 255.]\n",
            "   [255. 255. 255.]\n",
            "   [255. 255. 255.]]\n",
            "\n",
            "  ...\n",
            "\n",
            "  [[255. 255. 255.]\n",
            "   [255. 255. 255.]\n",
            "   [255. 255. 255.]\n",
            "   ...\n",
            "   [255. 255. 255.]\n",
            "   [255. 255. 255.]\n",
            "   [255. 255. 255.]]\n",
            "\n",
            "  [[255. 255. 255.]\n",
            "   [255. 255. 255.]\n",
            "   [255. 255. 255.]\n",
            "   ...\n",
            "   [255. 255. 255.]\n",
            "   [255. 255. 255.]\n",
            "   [255. 255. 255.]]\n",
            "\n",
            "  [[255. 255. 255.]\n",
            "   [255. 255. 255.]\n",
            "   [255. 255. 255.]\n",
            "   ...\n",
            "   [255. 255. 255.]\n",
            "   [255. 255. 255.]\n",
            "   [255. 255. 255.]]]\n",
            "\n",
            "\n",
            " ...\n",
            "\n",
            "\n",
            " [[[252. 255. 253.]\n",
            "   [252. 255. 253.]\n",
            "   [254. 255. 255.]\n",
            "   ...\n",
            "   [255. 255. 255.]\n",
            "   [255. 255. 255.]\n",
            "   [255. 255. 255.]]\n",
            "\n",
            "  [[252. 255. 253.]\n",
            "   [252. 255. 253.]\n",
            "   [254. 255. 255.]\n",
            "   ...\n",
            "   [255. 255. 255.]\n",
            "   [255. 255. 255.]\n",
            "   [255. 255. 255.]]\n",
            "\n",
            "  [[254. 255. 255.]\n",
            "   [254. 255. 255.]\n",
            "   [254. 255. 253.]\n",
            "   ...\n",
            "   [255. 255. 255.]\n",
            "   [255. 255. 255.]\n",
            "   [255. 255. 255.]]\n",
            "\n",
            "  ...\n",
            "\n",
            "  [[255. 255. 255.]\n",
            "   [255. 255. 255.]\n",
            "   [255. 255. 255.]\n",
            "   ...\n",
            "   [255. 255. 255.]\n",
            "   [255. 255. 255.]\n",
            "   [255. 255. 255.]]\n",
            "\n",
            "  [[255. 255. 255.]\n",
            "   [255. 255. 255.]\n",
            "   [255. 255. 255.]\n",
            "   ...\n",
            "   [255. 255. 255.]\n",
            "   [255. 255. 255.]\n",
            "   [255. 255. 255.]]\n",
            "\n",
            "  [[255. 255. 255.]\n",
            "   [255. 255. 255.]\n",
            "   [255. 255. 255.]\n",
            "   ...\n",
            "   [255. 255. 255.]\n",
            "   [255. 255. 255.]\n",
            "   [255. 255. 255.]]]\n",
            "\n",
            "\n",
            " [[[255. 255. 255.]\n",
            "   [255. 255. 255.]\n",
            "   [255. 255. 255.]\n",
            "   ...\n",
            "   [255. 255. 255.]\n",
            "   [255. 255. 255.]\n",
            "   [255. 255. 255.]]\n",
            "\n",
            "  [[255. 255. 255.]\n",
            "   [255. 255. 255.]\n",
            "   [255. 255. 255.]\n",
            "   ...\n",
            "   [255. 255. 255.]\n",
            "   [255. 255. 255.]\n",
            "   [255. 255. 255.]]\n",
            "\n",
            "  [[255. 255. 255.]\n",
            "   [255. 255. 255.]\n",
            "   [255. 255. 255.]\n",
            "   ...\n",
            "   [255. 255. 255.]\n",
            "   [255. 255. 255.]\n",
            "   [255. 255. 255.]]\n",
            "\n",
            "  ...\n",
            "\n",
            "  [[255. 255. 255.]\n",
            "   [255. 255. 255.]\n",
            "   [255. 255. 255.]\n",
            "   ...\n",
            "   [255. 255. 255.]\n",
            "   [255. 255. 255.]\n",
            "   [255. 255. 255.]]\n",
            "\n",
            "  [[255. 255. 255.]\n",
            "   [255. 255. 255.]\n",
            "   [255. 255. 255.]\n",
            "   ...\n",
            "   [255. 255. 255.]\n",
            "   [255. 255. 255.]\n",
            "   [255. 255. 255.]]\n",
            "\n",
            "  [[255. 255. 255.]\n",
            "   [255. 255. 255.]\n",
            "   [255. 255. 255.]\n",
            "   ...\n",
            "   [255. 255. 255.]\n",
            "   [255. 255. 255.]\n",
            "   [255. 255. 255.]]]\n",
            "\n",
            "\n",
            " [[[255. 255. 255.]\n",
            "   [255. 255. 255.]\n",
            "   [255. 255. 255.]\n",
            "   ...\n",
            "   [255. 255. 255.]\n",
            "   [255. 255. 255.]\n",
            "   [255. 255. 255.]]\n",
            "\n",
            "  [[255. 255. 255.]\n",
            "   [255. 255. 255.]\n",
            "   [255. 255. 255.]\n",
            "   ...\n",
            "   [255. 255. 255.]\n",
            "   [255. 255. 255.]\n",
            "   [255. 255. 255.]]\n",
            "\n",
            "  [[255. 255. 255.]\n",
            "   [255. 255. 255.]\n",
            "   [255. 255. 255.]\n",
            "   ...\n",
            "   [255. 255. 255.]\n",
            "   [255. 255. 255.]\n",
            "   [255. 255. 255.]]\n",
            "\n",
            "  ...\n",
            "\n",
            "  [[255. 255. 255.]\n",
            "   [255. 255. 255.]\n",
            "   [255. 255. 255.]\n",
            "   ...\n",
            "   [255. 255. 255.]\n",
            "   [255. 255. 255.]\n",
            "   [255. 255. 255.]]\n",
            "\n",
            "  [[255. 255. 255.]\n",
            "   [255. 255. 255.]\n",
            "   [255. 255. 255.]\n",
            "   ...\n",
            "   [255. 255. 255.]\n",
            "   [255. 255. 255.]\n",
            "   [255. 255. 255.]]\n",
            "\n",
            "  [[255. 255. 255.]\n",
            "   [255. 255. 255.]\n",
            "   [255. 255. 255.]\n",
            "   ...\n",
            "   [255. 255. 255.]\n",
            "   [255. 255. 255.]\n",
            "   [255. 255. 255.]]]], shape=(32, 100, 100, 3), dtype=float32) tf.Tensor(\n",
            "[[0. 0. 0. ... 0. 0. 1.]\n",
            " [0. 0. 0. ... 0. 0. 0.]\n",
            " [0. 0. 0. ... 0. 0. 0.]\n",
            " ...\n",
            " [0. 0. 0. ... 0. 0. 0.]\n",
            " [0. 0. 0. ... 0. 0. 0.]\n",
            " [0. 0. 0. ... 0. 0. 0.]], shape=(32, 131), dtype=float32)\n"
          ]
        }
      ]
    },
    {
      "cell_type": "markdown",
      "source": [
        "## Step 3: Describing modelling experiments"
      ],
      "metadata": {
        "id": "yDtentj-5F-0"
      }
    },
    {
      "cell_type": "markdown",
      "source": [
        "- This notebook contains 7 models built to get the best **f1-score** on the test dataset. These models also include the models made by the researchers themselves.  \n",
        "- Models to be made:\n",
        "  1. **Model 0** : A simple model with fully connected multiple Dense layers; this model acts as a baseline.\n",
        "  1. **Model 1** : Multiple pairs of CNN and MaxPool layers with a  Dense layer in the end for classification.\n",
        "  1. **Model 2** : Replicate the best model (on the test set) from research paper; *should get better results from this.*\n",
        "  1. **Model 3** : Using transfer learning, exploit ResNet model for classification.\n",
        "  1. **Model 4** : Using transfer learning, exploit EfficientNetBx for classification.\n",
        "  1. **Model 5** : Use fine-tuned ResNet model for classification.\n",
        "  1. **Model 6** : Use fine-tuned EfficientNetBx for classification.\n",
        "- Get classification metrics for each model.\n"
      ],
      "metadata": {
        "id": "CsIhGbL_5xsc"
      }
    },
    {
      "cell_type": "code",
      "source": [
        "# Directory to save images of models' architectures\n",
        "!mkdir model_architectures"
      ],
      "metadata": {
        "id": "Q4oqp0a05Qm6"
      },
      "execution_count": null,
      "outputs": []
    },
    {
      "cell_type": "markdown",
      "source": [
        "#### Model 0 \n",
        "* **Layers:** 3 Dense layers\n",
        "* **Optimizer:** Adam\n",
        "* **Loss:** Cross entropy\n",
        "* **Epochs:** 10\n",
        "* **Callbacks:** `ModelCheckpoint`\n",
        "* **Validation data:** available"
      ],
      "metadata": {
        "id": "gr5XC0Uq_-yC"
      }
    },
    {
      "cell_type": "code",
      "source": [
        "# 0. Set random seed\n",
        "tf.random.set_seed(42)\n",
        "INPUT_SHAPE = (100,100,3)\n",
        "\n",
        "# 1. Create the model\n",
        "model_0 = tf.keras.Sequential([\n",
        "    layers.Flatten(input_shape=(100,100,3)),\n",
        "    layers.Input(shape=INPUT_SHAPE),\n",
        "    layers.Dense(128, activation=\"relu\"),\n",
        "    layers.Dense(128, activation=\"relu\"),\n",
        "    layers.Dense(128, activation=\"relu\"),\n",
        "    layers.Dense(131, activation=\"softmax\")\n",
        "], name=\"model_0_dense\")\n",
        "\n",
        "# 2. Compile the model\n",
        "model_0.compile(loss=\"categorical_crossentropy\",\n",
        "                optimizer=\"Adam\",\n",
        "                metrics=[\"accuracy\"])\n",
        "\n",
        "# 3. Get the summary\n",
        "model_0.summary()\n",
        "\n",
        "# 4. Fit the model\n",
        "history_model_0 = model_0.fit(train_data,\n",
        "                              epochs=10,\n",
        "                              validation_data=test_data,\n",
        "                              validation_steps=len(test_data)*0.15,\n",
        "                              callbacks=[create_model_checkpoint(model_name=model_0.name)])"
      ],
      "metadata": {
        "id": "GWBz8guhytLL"
      },
      "execution_count": null,
      "outputs": []
    },
    {
      "cell_type": "code",
      "source": [
        "# Save model's architecture as an image\n",
        "plot_model(model_0, to_file='/content/model_architectures/model_0.png')\n",
        "\n",
        "# About the model history\n",
        "plot_loss_curves(history_model_0)"
      ],
      "metadata": {
        "id": "cqUcIZX622kS"
      },
      "execution_count": null,
      "outputs": []
    },
    {
      "cell_type": "code",
      "source": [
        "# Loading in the best weights\n",
        "best_weights_path = \"/content/model_experiments/model_0_dense\"\n",
        "model_0.load_weights(best_weights_path)\n",
        "\n",
        "# Evaluate on test set\n",
        "model_0.evaluate(test_data)"
      ],
      "metadata": {
        "id": "tPMO-JnrYxhD"
      },
      "execution_count": null,
      "outputs": []
    },
    {
      "cell_type": "code",
      "source": [
        "# Unravel dataset\n",
        "y_labels = []\n",
        "for images,labels in test_data.unbatch():\n",
        "  y_labels.append(labels.numpy().argmax())"
      ],
      "metadata": {
        "id": "J8XaSBWceQna"
      },
      "execution_count": null,
      "outputs": []
    },
    {
      "cell_type": "code",
      "source": [
        "# Getting predictions on test data\n",
        "model_0_preds_prob = model_0.predict(test_data, verbose=1)\n",
        "model_0_preds_classes = model_0_preds_prob.argmax(axis=1)\n",
        "\n",
        "# Getting a metrics report\n",
        "model_0_metrics = get_metrics(y_labels, model_0_preds_classes)\n",
        "model_0_metrics"
      ],
      "metadata": {
        "id": "fN4BAyhwZrcX"
      },
      "execution_count": null,
      "outputs": []
    },
    {
      "cell_type": "markdown",
      "source": [
        "#### Model 1 \n",
        "* **Layers:** Multiple Conv2D layers paired with MaxPool layers with a Dense layer at the end\n",
        "* **Optimizer:** Adam\n",
        "* **Loss:** Cross entropy\n",
        "* **Epochs:** 10\n",
        "* **Callbacks:** `ModelCheckpoint`\n",
        "* **Validation data:** available"
      ],
      "metadata": {
        "id": "bTZ_xAlHADd4"
      }
    },
    {
      "cell_type": "code",
      "source": [
        "# 0. Set random seed\n",
        "tf.random.set_seed(42)\n",
        "INPUT_SHAPE = (100,100,3)\n",
        "\n",
        "# 1. Create the model\n",
        "model_1 = tf.keras.Sequential([\n",
        "     tf.keras.layers.Conv2D(filters=10,\n",
        "                            kernel_size=3,\n",
        "                            activation=\"relu\",\n",
        "                            input_shape=INPUT_SHAPE),\n",
        "     tf.keras.layers.Conv2D(10,3,activation=\"relu\"),\n",
        "     tf.keras.layers.MaxPool2D(pool_size=2,\n",
        "                               padding=\"valid\"),\n",
        "     tf.keras.layers.Conv2D(10,3,activation=\"relu\"),\n",
        "     tf.keras.layers.Conv2D(10,3,activation=\"relu\"),\n",
        "     tf.keras.layers.MaxPool2D(2),\n",
        "     tf.keras.layers.Flatten(),\n",
        "     tf.keras.layers.Dense(131,activation=\"softmax\")\n",
        "], name=\"model_1_Conv2D\")\n",
        "\n",
        "# 2. Compile the model\n",
        "model_1.compile(loss=\"categorical_crossentropy\",\n",
        "                optimizer=\"Adam\",\n",
        "                metrics=[\"accuracy\"])\n",
        "\n",
        "# 3. Get the summary\n",
        "model_1.summary()\n",
        "\n",
        "# 4. Fit the model\n",
        "history_model_1 = model_1.fit(train_data,\n",
        "                              epochs=10,\n",
        "                              validation_data=test_data,\n",
        "                              validation_steps=len(test_data)*0.15,\n",
        "                              callbacks=[create_model_checkpoint(model_name=model_1.name)])"
      ],
      "metadata": {
        "id": "ahkcIbZQ3zVm"
      },
      "execution_count": null,
      "outputs": []
    },
    {
      "cell_type": "code",
      "source": [
        "# Save model's architecture as an image\n",
        "plot_model(model_1, to_file='/content/model_architectures/model_1.png')\n",
        "\n",
        "# About the model history\n",
        "plot_loss_curves(history_model_1)"
      ],
      "metadata": {
        "id": "XbN-psnP4TjC"
      },
      "execution_count": null,
      "outputs": []
    },
    {
      "cell_type": "code",
      "source": [
        "# Loading in the best weights\n",
        "best_weights_path = \"/content/model_experiments/model_1_Conv2D\"\n",
        "model_1.load_weights(best_weights_path)\n",
        "\n",
        "# Evaluate on test set\n",
        "model_1.evaluate(test_data)"
      ],
      "metadata": {
        "id": "FeyFbKYd4WCe"
      },
      "execution_count": null,
      "outputs": []
    },
    {
      "cell_type": "code",
      "source": [
        "# Getting predictions on test data\n",
        "model_1_preds_prob = model_1.predict(test_data, verbose=1)\n",
        "model_1_preds_classes = model_1_preds_prob.argmax(axis=1)\n",
        "\n",
        "# Getting a metrics report\n",
        "model_1_metrics = get_metrics(y_labels, model_1_preds_classes)\n",
        "model_1_metrics"
      ],
      "metadata": {
        "id": "G8jQAWDr4d-L"
      },
      "execution_count": null,
      "outputs": []
    },
    {
      "cell_type": "markdown",
      "source": [
        "#### Model 2 (Researchers' best model)\n",
        "* **Layers:** Multiple layer model including Conv2D, MaxPool, Dense, Dropouts and Flatten\n",
        "* **Optimizer:** Adadelta (with learning rate as 0.1)\n",
        "* **Loss:** Cross entropy\n",
        "* **Epochs:** 25\n",
        "* **Callbacks:** `ModelCheckpoint`\n",
        "* **Validation data:** available"
      ],
      "metadata": {
        "id": "7Z-aHSMMAEXj"
      }
    },
    {
      "cell_type": "code",
      "source": [
        "# 0. Set random seed\n",
        "tf.random.set_seed(42)\n",
        "INPUT_SHAPE = (100,100,3)\n",
        "\n",
        "# 1. Create the model (taken straight out of their code base)\n",
        "inputs = layers.Input(shape=INPUT_SHAPE, name=\"input_layer\")\n",
        "x = layers.Conv2D(16, (5, 5), strides=(1, 1), padding='same', name='conv1')(inputs)\n",
        "x = layers.Activation('relu', name='conv1_relu')(x)\n",
        "x = layers.MaxPooling2D((2, 2), strides=(2, 2), padding='valid', name='pool1')(x)\n",
        "x = layers.Conv2D(32, (5, 5), strides=(1, 1), padding='same', name='conv2')(x)\n",
        "x = layers.Activation('relu', name='conv2_relu')(x)\n",
        "x = layers.MaxPooling2D((2, 2), strides=(2, 2), padding='valid', name='pool2')(x)\n",
        "x = layers.Conv2D(64, (5, 5), strides=(1, 1), padding='same', name='conv3')(x)\n",
        "x = layers.Activation('relu', name='conv3_relu')(x)\n",
        "x = layers.MaxPooling2D((2, 2), strides=(2, 2), padding='valid', name='pool3')(x)\n",
        "x = layers.Conv2D(128, (5, 5), strides=(1, 1), padding='same', name='conv4')(x)\n",
        "x = layers.Activation('relu', name='conv4_relu')(x)\n",
        "x = layers.MaxPooling2D((2, 2), strides=(2, 2), padding='valid', name='pool4')(x)\n",
        "x = layers.Flatten()(x)\n",
        "x = layers.Dense(1024, activation='relu', name='fcl1')(x)\n",
        "x = layers.Dropout(0.2)(x)\n",
        "x = layers.Dense(256, activation='relu', name='fcl2')(x)\n",
        "x = layers.Dropout(0.2)(x)\n",
        "outputs = layers.Dense(131, activation='softmax', name='predictions')(x)\n",
        "model_2 = tf.keras.Model(inputs=inputs, outputs=outputs)\n",
        "model_2.__name=\"model_2_best_on_paper\"\n",
        "\n",
        "# 2. Compile the model\n",
        "model_2.compile(loss=\"categorical_crossentropy\",\n",
        "                optimizer=tf.keras.optimizers.Adadelta(learning_rate=0.1),\n",
        "                metrics=[\"accuracy\"])\n",
        "\n",
        "# 3. Get the summary\n",
        "model_2.summary()\n",
        "\n",
        "# 4. Fit the model\n",
        "history_model_2 = model_2.fit(train_data,\n",
        "                              epochs=25,\n",
        "                              validation_data=test_data,\n",
        "                              validation_steps=len(test_data)*0.15,\n",
        "                              callbacks=[create_model_checkpoint(model_name=model_2.name)])"
      ],
      "metadata": {
        "id": "Zz60IDo9s_NH"
      },
      "execution_count": null,
      "outputs": []
    },
    {
      "cell_type": "code",
      "source": [
        "# Save model's architecture as an image\n",
        "plot_model(model_2, to_file='/content/model_architectures/model_2.png')\n",
        "\n",
        "# About the model history\n",
        "plot_loss_curves(history_model_2)"
      ],
      "metadata": {
        "id": "1dGClgqcucJw"
      },
      "execution_count": null,
      "outputs": []
    },
    {
      "cell_type": "code",
      "source": [
        "# Loading in the best weights\n",
        "best_weights_path = \"/content/model_experiments/model_2_best_on_paper\"\n",
        "model_2.load_weights(best_weights_path)\n",
        "\n",
        "# Evaluate on test set\n",
        "model_2.evaluate(test_data)"
      ],
      "metadata": {
        "id": "fAiyTyQDupLw"
      },
      "execution_count": null,
      "outputs": []
    },
    {
      "cell_type": "code",
      "source": [
        "# Getting predictions on test data\n",
        "model_2_preds_prob = model_2.predict(test_data, verbose=1)\n",
        "model_2_preds_classes = model_2_preds_prob.argmax(axis=1)\n",
        "\n",
        "# Getting a metrics report\n",
        "model_2_metrics = get_metrics(y_labels, model_2_preds_classes)\n",
        "model_2_metrics"
      ],
      "metadata": {
        "id": "PrbD3KaOuty5"
      },
      "execution_count": null,
      "outputs": []
    },
    {
      "cell_type": "markdown",
      "source": [
        "#### Model 3\n",
        "* **Layers:** Using ResNet and various other layers to classify images\n",
        "* **Optimizer:** Adam\n",
        "* **Loss:** Cross entropy\n",
        "* **Epochs:** 10\n",
        "* **Callbacks:** `ModelCheckpoint`\n",
        "* **Validation data:** available"
      ],
      "metadata": {
        "id": "hdsfE1MCAFbK"
      }
    },
    {
      "cell_type": "code",
      "source": [
        "# 0. Set random seed\n",
        "tf.random.set_seed(42)\n",
        "INPUT_SHAPE = (100,100,3)\n",
        "\n",
        "# 1. Create the model (taken straight out of their code base)\n",
        "base_resnet_model = tf.keras.applications.resnet50.ResNet50(include_top=False)\n",
        "base_resnet_model.trainable = False\n",
        "inputs = layers.Input(shape=INPUT_SHAPE, name=\"input_layer\")\n",
        "scale = layers.Rescaling(scale=1./255)(inputs)\n",
        "x = base_resnet_model(scale)\n",
        "x = layers.GlobalAveragePooling2D(name=\"global_average_pooling_layer\")(x)\n",
        "outputs = layers.Dense(131,activation=\"softmax\",name=\"output_layer\")(x)\n",
        "model_3 = tf.keras.Model(inputs=inputs, outputs=outputs)\n",
        "model_3.__name = \"model_3_freezed_ResNet\"\n",
        "\n",
        "# 2. Compile the model\n",
        "model_3.compile(loss=\"categorical_crossentropy\",\n",
        "                optimizer=\"Adam\",\n",
        "                metrics=[\"accuracy\"])\n",
        "\n",
        "# 3. Get the summary\n",
        "model_3.summary()\n",
        "\n",
        "# 4. Fit the model\n",
        "history_model_3 = model_3.fit(train_data,\n",
        "                              epochs=10,\n",
        "                              validation_data=test_data,\n",
        "                              validation_steps=len(test_data)*0.15,\n",
        "                              callbacks=[create_model_checkpoint(model_name=model_3.name)])"
      ],
      "metadata": {
        "id": "q67jMymRvB8f"
      },
      "execution_count": null,
      "outputs": []
    },
    {
      "cell_type": "code",
      "source": [
        "# Save model's architecture as an image\n",
        "plot_model(model_3, to_file='/content/model_architectures/model_3.png')\n",
        "\n",
        "# About the model history\n",
        "plot_loss_curves(history_model_3)"
      ],
      "metadata": {
        "id": "aKmOrxNx0dU4"
      },
      "execution_count": null,
      "outputs": []
    },
    {
      "cell_type": "code",
      "source": [
        "# Loading in the best weights\n",
        "best_weights_path = \"/content/model_experiments/model_3_freezed_ResNet\"\n",
        "model_3.load_weights(best_weights_path)\n",
        "\n",
        "# Evaluate on test set\n",
        "model_3.evaluate(test_data)"
      ],
      "metadata": {
        "id": "NSzIoeT70hnD"
      },
      "execution_count": null,
      "outputs": []
    },
    {
      "cell_type": "code",
      "source": [
        "# Getting predictions on test data\n",
        "model_3_preds_prob = model_3.predict(test_data, verbose=1)\n",
        "model_3_preds_classes = model_3_preds_prob.argmax(axis=1)\n",
        "\n",
        "# Getting a metrics report\n",
        "model_3_metrics = get_metrics(y_labels, model_3_preds_classes)\n",
        "model_3_metrics"
      ],
      "metadata": {
        "id": "4vUSyQBq0uao"
      },
      "execution_count": null,
      "outputs": []
    },
    {
      "cell_type": "markdown",
      "source": [
        "#### Model 4 \n",
        "* **Layers:** Using EfficientNetB0 (with freezed layers) and various other layers for classification\n",
        "* **Optimizer:** Adam\n",
        "* **Loss:** Cross entropy\n",
        "* **Epochs:** 10\n",
        "* **Callbacks:** `ModelCheckpoint`\n",
        "* **Validation data:** available"
      ],
      "metadata": {
        "id": "YY9ejPFFAGUv"
      }
    },
    {
      "cell_type": "code",
      "source": [
        "# 0. Set random seed\n",
        "tf.random.set_seed(42)\n",
        "INPUT_SHAPE = (100,100,3)\n",
        "\n",
        "# 1. Create the model\n",
        "base_efficient_net_model=tf.keras.applications.EfficientNetB0(include_top=False)\n",
        "base_efficient_net_model.trainable=False\n",
        "inputs= layers.Input(shape=INPUT_SHAPE, name=\"input_layer\")\n",
        "x = base_efficient_net_model(inputs)\n",
        "x = tf.keras.layers.GlobalAveragePooling2D(name=\"global_average_pooling_layer\")(x)\n",
        "outputs=tf.keras.layers.Dense(131,activation=\"softmax\",name=\"output_layer\")(x)\n",
        "model_4 = tf.keras.Model(inputs=inputs, outputs=outputs)\n",
        "model_4.__name = \"model_4_freezed_EfficientNet\"\n",
        "\n",
        "# 2. Compile the model\n",
        "model_4.compile(loss=\"categorical_crossentropy\",\n",
        "                optimizer=\"Adam\",\n",
        "                metrics=[\"accuracy\"])\n",
        "\n",
        "# 3. Get the summary\n",
        "model_4.summary()\n",
        "\n",
        "# 4. Fit the model\n",
        "history_model_4 = model_4.fit(train_data,\n",
        "                              epochs=10,\n",
        "                              validation_data=test_data,\n",
        "                              validation_steps=len(test_data)*0.15,\n",
        "                              callbacks=[create_model_checkpoint(model_name=model_4.name)])"
      ],
      "metadata": {
        "id": "MU6w8Cgf1K2R"
      },
      "execution_count": null,
      "outputs": []
    },
    {
      "cell_type": "code",
      "source": [
        "# Save model's architecture as an image\n",
        "plot_model(model_4, to_file='/content/model_architectures/model_4.png')\n",
        "\n",
        "# About the model history\n",
        "plot_loss_curves(history_model_4)"
      ],
      "metadata": {
        "id": "u48O3Ou_2dqj"
      },
      "execution_count": null,
      "outputs": []
    },
    {
      "cell_type": "code",
      "source": [
        "# Loading in the best weights\n",
        "best_weights_path = \"/content/model_experiments/model_4_freezed_EfficientNet\"\n",
        "model_4.load_weights(best_weights_path)\n",
        "\n",
        "# Evaluate on test set\n",
        "model_4.evaluate(test_data)"
      ],
      "metadata": {
        "id": "S0oSZtYZ2jM_"
      },
      "execution_count": null,
      "outputs": []
    },
    {
      "cell_type": "code",
      "source": [
        "# Getting predictions on test data\n",
        "model_4_preds_prob = model_4.predict(test_data, verbose=1)\n",
        "model_4_preds_classes = model_4_preds_prob.argmax(axis=1)\n",
        "\n",
        "# Getting a metrics report\n",
        "model_4_metrics = get_metrics(y_labels, model_4_preds_classes)\n",
        "model_4_metrics"
      ],
      "metadata": {
        "id": "VPbrQ1102xIQ"
      },
      "execution_count": null,
      "outputs": []
    },
    {
      "cell_type": "markdown",
      "source": [
        "#### Model 5\n",
        "* **Layers:** Fine-tuned ResNet as the base with multiple other layers\n",
        "* **Optimizer:** Adam\n",
        "* **Loss:** Cross entropy\n",
        "* **Epochs:** 10\n",
        "* **Callbacks:** `ModelCheckpoint`\n",
        "* **Validation data:** available"
      ],
      "metadata": {
        "id": "8YIH9eT5AHdM"
      }
    },
    {
      "cell_type": "code",
      "source": [
        "# 0. Set random seed\n",
        "tf.random.set_seed(42)\n",
        "INPUT_SHAPE = (100,100,3)\n",
        "\n",
        "# 1. Create the model\n",
        "base_resnet_model = tf.keras.applications.resnet50.ResNet50(include_top=False)\n",
        "base_resnet_model.trainable = False\n",
        "\n",
        "# Setting the base model to train (only on the last 10 layers)\n",
        "LAYERS_TRAINABLE = 10\n",
        "for layer in base_resnet_model.layers[-LAYERS_TRAINABLE:]:\n",
        "  layer.trainable = True\n",
        "\n",
        "inputs = layers.Input(shape=INPUT_SHAPE, name=\"input_layer\")\n",
        "scale = layers.Rescaling(scale=1./255)(inputs)\n",
        "x = base_resnet_model(scale)\n",
        "x = layers.GlobalAveragePooling2D(name=\"global_average_pooling_layer\")(x)\n",
        "outputs = layers.Dense(131,activation=\"softmax\",name=\"output_layer\")(x)\n",
        "model_5 = tf.keras.Model(inputs=inputs, outputs=outputs)\n",
        "model_5.__name = \"model_5_finetuned_ResNet\"\n",
        "\n",
        "# 2. Compile the model\n",
        "model_5.compile(loss=\"categorical_crossentropy\",\n",
        "                optimizer=\"Adam\",\n",
        "                metrics=[\"accuracy\"])\n",
        "\n",
        "# 3. Get the summary\n",
        "model_5.summary()\n",
        "\n",
        "# 4. Fit the model\n",
        "history_model_5 = model_5.fit(train_data,\n",
        "                              epochs=10,\n",
        "                              validation_data=test_data,\n",
        "                              validation_steps=len(test_data)*0.15,\n",
        "                              callbacks=[create_model_checkpoint(model_name=model_5.name)])"
      ],
      "metadata": {
        "id": "gk2zsuHc3uCO"
      },
      "execution_count": null,
      "outputs": []
    },
    {
      "cell_type": "code",
      "source": [
        "# Save model's architecture as an image\n",
        "plot_model(model_5, to_file='/content/model_architectures/model_5.png')\n",
        "\n",
        "# About the model history\n",
        "plot_loss_curves(history_model_5)"
      ],
      "metadata": {
        "id": "qbm5sFqS5Vth"
      },
      "execution_count": null,
      "outputs": []
    },
    {
      "cell_type": "code",
      "source": [
        "# Loading in the best weights\n",
        "best_weights_path = \"/content/model_experiments/model_5_tuned_ResNet\"\n",
        "model_5.load_weights(best_weights_path)\n",
        "\n",
        "# Evaluate on test set\n",
        "model_5.evaluate(test_data)"
      ],
      "metadata": {
        "id": "xq7OQP_253Z8"
      },
      "execution_count": null,
      "outputs": []
    },
    {
      "cell_type": "code",
      "source": [
        "# Getting predictions on test data\n",
        "model_5_preds_prob = model_5.predict(test_data, verbose=1)\n",
        "model_5_preds_classes = model_5_preds_prob.argmax(axis=1)\n",
        "\n",
        "# Getting a metrics report\n",
        "model_5_metrics = get_metrics(y_labels, model_5_preds_classes)\n",
        "model_5_metrics"
      ],
      "metadata": {
        "id": "dcWq9XM25_1f"
      },
      "execution_count": null,
      "outputs": []
    },
    {
      "cell_type": "markdown",
      "source": [
        "#### Model 6\n",
        "* **Layers:** Fine-tuned EffificientNetB0 with other various layers\n",
        "* **Optimizer:** Adam\n",
        "* **Loss:** Cross entropy\n",
        "* **Epochs:** 10\n",
        "* **Callbacks:** `ModelCheckpoint`\n",
        "* **Validation data:** available"
      ],
      "metadata": {
        "id": "Y4hHsWiWAIqr"
      }
    },
    {
      "cell_type": "code",
      "source": [
        "# 0. Set random seed\n",
        "tf.random.set_seed(42)\n",
        "INPUT_SHAPE = (100,100,3)\n",
        "\n",
        "# 1. Create the model\n",
        "base_efficient_net_model=tf.keras.applications.EfficientNetB0(include_top=False)\n",
        "base_efficient_net_model.trainable=False\n",
        "\n",
        "# Setting the base model to train (only on the last 10 layers)\n",
        "LAYERS_TRAINABLE = 10\n",
        "for layer in base_efficient_net_model.layers[-LAYERS_TRAINABLE:]:\n",
        "  layer.trainable = True\n",
        "\n",
        "inputs= layers.Input(shape=INPUT_SHAPE, name=\"input_layer\")\n",
        "x = base_efficient_net_model(inputs)\n",
        "x = tf.keras.layers.GlobalAveragePooling2D(name=\"global_average_pooling_layer\")(x)\n",
        "outputs=tf.keras.layers.Dense(131,activation=\"softmax\",name=\"output_layer\")(x)\n",
        "model_6 = tf.keras.Model(inputs=inputs, outputs=outputs)\n",
        "model_6.__name = \"model_6_finetuned_EfficientNet\"\n",
        "\n",
        "# 2. Compile the model\n",
        "model_6.compile(loss=\"categorical_crossentropy\",\n",
        "                optimizer=\"Adam\",\n",
        "                metrics=[\"accuracy\"])\n",
        "\n",
        "# 3. Get the summary\n",
        "model_6.summary()\n",
        "\n",
        "# 4. Fit the model\n",
        "history_model_6 = model_6.fit(train_data,\n",
        "                              epochs=10,\n",
        "                              validation_data=test_data,\n",
        "                              validation_steps=len(test_data)*0.15,\n",
        "                              callbacks=[create_model_checkpoint(model_name=model_6.name)])"
      ],
      "metadata": {
        "id": "gEL8YxLa7MWE"
      },
      "execution_count": null,
      "outputs": []
    },
    {
      "cell_type": "code",
      "source": [
        "# Save model's architecture as an image\n",
        "plot_model(model_6, to_file='/content/model_architectures/model_6.png')\n",
        "\n",
        "# About the model history\n",
        "plot_loss_curves(history_model_6)"
      ],
      "metadata": {
        "id": "LwP1hfZ37l_7"
      },
      "execution_count": null,
      "outputs": []
    },
    {
      "cell_type": "code",
      "source": [
        "# Loading in the best weights\n",
        "best_weights_path = \"/content/model_experiments/model_6_finetuned_EfficientNet\"\n",
        "model_6.load_weights(best_weights_path)\n",
        "\n",
        "# Evaluate on test set\n",
        "model_6.evaluate(test_data)"
      ],
      "metadata": {
        "id": "TK1Ix6Bo7o1c"
      },
      "execution_count": null,
      "outputs": []
    },
    {
      "cell_type": "code",
      "source": [
        "# Getting predictions on test data\n",
        "model_6_preds_prob = model_6.predict(test_data, verbose=1)\n",
        "model_6_preds_classes = model_6_preds_prob.argmax(axis=1)\n",
        "\n",
        "# Getting a metrics report\n",
        "model_6_metrics = get_metrics(y_labels, model_6_preds_classes)\n",
        "model_6_metrics"
      ],
      "metadata": {
        "id": "-89PKkn_7yc-"
      },
      "execution_count": null,
      "outputs": []
    },
    {
      "cell_type": "markdown",
      "source": [
        "## Step 4: Compare results and conclude experiments\n",
        "- Use graphs and matrices to visualize results.\n",
        "- (*Optional*) Tune hyperparameters of the best model.\n",
        "- Compare best models results with researchers best model.\n",
        "- Export the best model.\n"
      ],
      "metadata": {
        "id": "uhXoIl1T_Ju3"
      }
    },
    {
      "cell_type": "code",
      "source": [
        "# Dataframe of results\n",
        "results_df = pd.DataFrame({\"model_0_dense\": model_0_metrics,\n",
        "                           \"model_1_Conv2D\": model_1_metrics,\n",
        "                           \"model_2_best_on_paper\": model_2_metrics,\n",
        "                           \"model_3_freezed_ResNet\": model_3_metrics,\n",
        "                           \"model_4_freezed_EfficientNet\": model_4_metrics,\n",
        "                           \"model_5_finetuned_ResNet\": model_5_metrics,\n",
        "                           \"model_6_finetuned_EfficientNet\": model_6_metrics}).T\n",
        "results_df"
      ],
      "metadata": {
        "id": "NbXCA7X68D01"
      },
      "execution_count": null,
      "outputs": []
    },
    {
      "cell_type": "code",
      "source": [
        "# Plotting various metrics\n",
        "plt.figure(figsize=(15,12))\n",
        "plt.title(\"Metrics of all models\")\n",
        "plt.subplot(2,2,1)\n",
        "plt.bar(results_df.index, results_df[\"Accuracy\"])\n",
        "plt.xlabel(\"Models\")\n",
        "plt.ylabel(\"Accuracy\")\n",
        "plt.subplot(2,2,2)\n",
        "plt.bar(results_df.index, results_df[\"Precision\"])\n",
        "plt.xlabel(\"Models\")\n",
        "plt.ylabel(\"Precision\")\n",
        "plt.subplot(2,2,3)\n",
        "plt.bar(results_df.index, results_df[\"Recall\"])\n",
        "plt.xlabel(\"Models\")\n",
        "plt.ylabel(\"Recall\")\n",
        "plt.subplot(2,2,4)\n",
        "plt.bar(results_df.index, results_df[\"F1-score\"])\n",
        "plt.xlabel(\"Models\")\n",
        "plt.ylabel(\"F1-score\")"
      ],
      "metadata": {
        "id": "0iu72KtX9tn-"
      },
      "execution_count": null,
      "outputs": []
    }
  ]
}