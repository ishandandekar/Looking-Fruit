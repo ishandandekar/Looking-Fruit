{
  "nbformat": 4,
  "nbformat_minor": 0,
  "metadata": {
    "colab": {
      "provenance": [],
      "collapsed_sections": [
        "yK-K0_Oxp9RI",
        "YY9ejPFFAGUv",
        "8YIH9eT5AHdM",
        "Y4hHsWiWAIqr",
        "uhXoIl1T_Ju3"
      ]
    },
    "kernelspec": {
      "name": "python3",
      "display_name": "Python 3"
    },
    "language_info": {
      "name": "python"
    },
    "accelerator": "GPU",
    "gpuClass": "standard"
  },
  "cells": [
    {
      "cell_type": "markdown",
      "source": [
        "[![Open In Colab](https://colab.research.google.com/assets/colab-badge.svg)](https://colab.research.google.com/github/ishandandekar/Looking-Fruit/blob/main/Looking_Fruit_nbk.ipynb)"
      ],
      "metadata": {
        "id": "uNrJinLmAcVX"
      }
    },
    {
      "cell_type": "markdown",
      "source": [
        "# Looking_Fruit\n",
        "\n",
        "👋 Hello and welcome to the **Looking_Fruit** notebook. In this notebook I try to replicate the [Fruits-360](https://www.researchgate.net/publication/321475443_Fruit_recognition_from_images_using_deep_learning) research paper. In this paper, researchers have tried to classify images of **131** fruits and vegetables. The data used for these modelling experiments is provided by the paper researchers themselves."
      ],
      "metadata": {
        "id": "2t7p4-GpnQFQ"
      }
    },
    {
      "cell_type": "code",
      "source": [
        "# Check for GPU\n",
        "!nvidia-smi -L"
      ],
      "metadata": {
        "id": "6fVSgcHVkTpS"
      },
      "execution_count": null,
      "outputs": []
    },
    {
      "cell_type": "markdown",
      "source": [
        "## Step 0: Defining the problem\n"
      ],
      "metadata": {
        "id": "yK-K0_Oxp9RI"
      }
    },
    {
      "cell_type": "markdown",
      "source": [
        "**Objective:**  \n",
        "To classify the images of various fruits and vegetables with best f1-score.  \n",
        "\n",
        "**Files:**\n",
        "- *Train*: This folder contains folders labelled as fruit's/vegetable's name. These subfolders contain images of the respective fruit/vegetable. This folder will be used for training purpose.\n",
        "- *Test*: This folder contains folders labelled as fruit's/vegetable's name. These subfolders contain images of the respective fruit/vegetable. This folder will be used for testing purpose."
      ],
      "metadata": {
        "id": "E957ywbEkgil"
      }
    },
    {
      "cell_type": "markdown",
      "source": [
        "## Step 1: Getting the data\n",
        "The data used for this project is publicly available on [Kaggle](https://www.kaggle.com/datasets/ishandandekar/fruitimagedataset).\n",
        "\n",
        "- Use Kaggle's API to download the data into Colab.\n",
        "- Get utility functions to help in future.\n",
        "- Configure data files to read using Python.\n"
      ],
      "metadata": {
        "id": "Yujoou29mCFK"
      }
    },
    {
      "cell_type": "code",
      "source": [
        "# Getting the helper functions script\n",
        "!wget https://raw.githubusercontent.com/ishandandekar/Looking-Fruit/main/helper_functions.py\n",
        "\n",
        "# Get the necessary functions from the python script\n",
        "from helper_functions import plot_loss_curves, unzip_data, create_model_checkpoint, get_metrics"
      ],
      "metadata": {
        "id": "RriztHP9nLy1"
      },
      "execution_count": null,
      "outputs": []
    },
    {
      "cell_type": "markdown",
      "source": [
        "About these helper functions (see documentation for better description):\n",
        "* **plot_loss_curves** : Plots a line graph (using matplotlib) to see changes in loss and accuracy during training.\n",
        "* **unzip_data** : Unzips a zip file to a directory\n",
        "* **create_model_checkpoint** : Create a model checkpoint with only best weights (monitored over validation loss)."
      ],
      "metadata": {
        "id": "AQk2Ny-zWEtP"
      }
    },
    {
      "cell_type": "code",
      "source": [
        "# Install the kaggle library\n",
        "!pip install -q kaggle\n",
        "\n",
        "# Upload the Kaggle API keys\n",
        "from google.colab import files\n",
        "files.upload()\n",
        "\n",
        "!mkdir ~/.kaggle\n",
        "\n",
        "# Copy the json file to the folder\n",
        "!cp kaggle.json ~/.kaggle\n",
        "\n",
        "# Change permissions for json to work with the Kaggle API\n",
        "!chmod 600 ~/.kaggle/kaggle.json\n",
        "\n",
        "# Download the dataset\n",
        "!kaggle datasets download -d ishandandekar/fruitimagedataset\n",
        "\n",
        "# Unzip data\n",
        "unzip_data('fruitimagedataset.zip', data_dir=\"raw\")"
      ],
      "metadata": {
        "id": "QxwTbHhbniZd",
        "colab": {
          "resources": {
            "http://localhost:8080/nbextensions/google.colab/files.js": {
              "data": "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",
              "ok": true,
              "headers": [
                [
                  "content-type",
                  "application/javascript"
                ]
              ],
              "status": 200,
              "status_text": ""
            }
          },
          "base_uri": "https://localhost:8080/",
          "height": 126
        },
        "outputId": "2c68fa6f-7f8b-4d51-bd23-a57782b4324a"
      },
      "execution_count": 3,
      "outputs": [
        {
          "output_type": "display_data",
          "data": {
            "text/plain": [
              "<IPython.core.display.HTML object>"
            ],
            "text/html": [
              "\n",
              "     <input type=\"file\" id=\"files-1d914243-814a-4dd4-9a34-a0a903209f61\" name=\"files[]\" multiple disabled\n",
              "        style=\"border:none\" />\n",
              "     <output id=\"result-1d914243-814a-4dd4-9a34-a0a903209f61\">\n",
              "      Upload widget is only available when the cell has been executed in the\n",
              "      current browser session. Please rerun this cell to enable.\n",
              "      </output>\n",
              "      <script src=\"/nbextensions/google.colab/files.js\"></script> "
            ]
          },
          "metadata": {}
        },
        {
          "output_type": "stream",
          "name": "stdout",
          "text": [
            "Saving kaggle.json to kaggle.json\n",
            "Downloading fruitimagedataset.zip to /content\n",
            " 99% 395M/398M [00:03<00:00, 79.7MB/s]\n",
            "100% 398M/398M [00:03<00:00, 110MB/s] \n"
          ]
        }
      ]
    },
    {
      "cell_type": "markdown",
      "source": [
        "## Step 2: Know more about the data\n",
        "\n",
        "- Get the statistics about the data.\n",
        "- Check if the labels are imbalanced.\n",
        "- Visualize random samples in data.\n",
        "- (*If required*) Trim data.\n",
        "- (*If required*) Preprocess the data.\n",
        "- Make data processing faster using `ImageDataGenerator`."
      ],
      "metadata": {
        "id": "2y7AyVsDpMeK"
      }
    },
    {
      "cell_type": "code",
      "source": [
        "# Importing necessary libraries\n",
        "import numpy as np\n",
        "import pandas as pd\n",
        "import matplotlib.pyplot as plt\n",
        "import matplotlib.image as mpimg\n",
        "import os\n",
        "import random\n",
        "import shutil\n",
        "import tensorflow as tf\n",
        "from tensorflow.keras import layers\n",
        "from tensorflow.keras.utils import plot_model"
      ],
      "metadata": {
        "id": "rruTT4WnpvsR"
      },
      "execution_count": 4,
      "outputs": []
    },
    {
      "cell_type": "code",
      "source": [
        "# Setting up necessary variables\n",
        "TRAIN_PATH = '/content/raw/train/train/'\n",
        "TEST_PATH = '/content/raw/test/test/'\n",
        "RAW_DATA_PATH = '/content/raw'"
      ],
      "metadata": {
        "id": "Jgdo_iPQp-hw"
      },
      "execution_count": 5,
      "outputs": []
    },
    {
      "cell_type": "code",
      "source": [
        "# Checking the number of classes\n",
        "classes = []\n",
        "\n",
        "for dirname, _, filenames in os.walk(RAW_DATA_PATH):\n",
        "    if dirname.startswith(f\"{TRAIN_PATH}\"):\n",
        "        classes.append(dirname[len(TRAIN_PATH):])\n",
        "\n",
        "print(f\"Total number of classes to deal with: {len(classes)}\")"
      ],
      "metadata": {
        "id": "uJI7iNbnqHOp",
        "colab": {
          "base_uri": "https://localhost:8080/"
        },
        "outputId": "598c4bcb-4a31-4d0e-b4e1-313e9956fcda"
      },
      "execution_count": 6,
      "outputs": [
        {
          "output_type": "stream",
          "name": "stdout",
          "text": [
            "Total number of classes to deal with: 131\n"
          ]
        }
      ]
    },
    {
      "cell_type": "code",
      "source": [
        "# Show random classes present in the dataset\n",
        "list_of_five_random_labels = random.sample(classes,5)\n",
        "list_of_five_random_labels"
      ],
      "metadata": {
        "id": "_FaY0ocUwKP5",
        "colab": {
          "base_uri": "https://localhost:8080/"
        },
        "outputId": "7dace6ac-03c9-44ac-80f1-150e8a67b7cd"
      },
      "execution_count": 7,
      "outputs": [
        {
          "output_type": "execute_result",
          "data": {
            "text/plain": [
              "['Apple Red 3', 'Granadilla', 'Pepper Green', 'Peach Flat', 'Tangelo']"
            ]
          },
          "metadata": {},
          "execution_count": 7
        }
      ]
    },
    {
      "cell_type": "code",
      "source": [
        "# Number of images of each fruit/vegetable as a pandas.DataFrame\n",
        "\n",
        "# List to append the count of images\n",
        "number_of_images_train = []\n",
        "\n",
        "for label in classes:\n",
        "    path = f'{TRAIN_PATH}/{label}'\n",
        "    count = len(os.listdir(path))\n",
        "    number_of_images_train.append(count)\n",
        "\n",
        "train_image_count_df = pd.DataFrame({\"Label\":classes,\"Number of Images\":number_of_images_train})\n",
        "\n",
        "# To view first 10 rows of the dataframe\n",
        "train_image_count_df.head(10)"
      ],
      "metadata": {
        "id": "fl9ktKX6wiaM",
        "colab": {
          "base_uri": "https://localhost:8080/",
          "height": 363
        },
        "outputId": "03a65009-c63c-4bcb-d5ab-0283b95bf971"
      },
      "execution_count": 8,
      "outputs": [
        {
          "output_type": "execute_result",
          "data": {
            "text/plain": [
              "                Label  Number of Images\n",
              "0     Cucumber Ripe 2               468\n",
              "1            Beetroot               450\n",
              "2             Peach 2               738\n",
              "3   Potato Red Washed               453\n",
              "4               Limes               490\n",
              "5         Huckleberry               490\n",
              "6  Apple Crimson Snow               444\n",
              "7            Physalis               492\n",
              "8           Carambula               490\n",
              "9            Tomato 1               738"
            ],
            "text/html": [
              "\n",
              "  <div id=\"df-988d459d-aaf6-4096-875a-8d69b96891c8\">\n",
              "    <div class=\"colab-df-container\">\n",
              "      <div>\n",
              "<style scoped>\n",
              "    .dataframe tbody tr th:only-of-type {\n",
              "        vertical-align: middle;\n",
              "    }\n",
              "\n",
              "    .dataframe tbody tr th {\n",
              "        vertical-align: top;\n",
              "    }\n",
              "\n",
              "    .dataframe thead th {\n",
              "        text-align: right;\n",
              "    }\n",
              "</style>\n",
              "<table border=\"1\" class=\"dataframe\">\n",
              "  <thead>\n",
              "    <tr style=\"text-align: right;\">\n",
              "      <th></th>\n",
              "      <th>Label</th>\n",
              "      <th>Number of Images</th>\n",
              "    </tr>\n",
              "  </thead>\n",
              "  <tbody>\n",
              "    <tr>\n",
              "      <th>0</th>\n",
              "      <td>Cucumber Ripe 2</td>\n",
              "      <td>468</td>\n",
              "    </tr>\n",
              "    <tr>\n",
              "      <th>1</th>\n",
              "      <td>Beetroot</td>\n",
              "      <td>450</td>\n",
              "    </tr>\n",
              "    <tr>\n",
              "      <th>2</th>\n",
              "      <td>Peach 2</td>\n",
              "      <td>738</td>\n",
              "    </tr>\n",
              "    <tr>\n",
              "      <th>3</th>\n",
              "      <td>Potato Red Washed</td>\n",
              "      <td>453</td>\n",
              "    </tr>\n",
              "    <tr>\n",
              "      <th>4</th>\n",
              "      <td>Limes</td>\n",
              "      <td>490</td>\n",
              "    </tr>\n",
              "    <tr>\n",
              "      <th>5</th>\n",
              "      <td>Huckleberry</td>\n",
              "      <td>490</td>\n",
              "    </tr>\n",
              "    <tr>\n",
              "      <th>6</th>\n",
              "      <td>Apple Crimson Snow</td>\n",
              "      <td>444</td>\n",
              "    </tr>\n",
              "    <tr>\n",
              "      <th>7</th>\n",
              "      <td>Physalis</td>\n",
              "      <td>492</td>\n",
              "    </tr>\n",
              "    <tr>\n",
              "      <th>8</th>\n",
              "      <td>Carambula</td>\n",
              "      <td>490</td>\n",
              "    </tr>\n",
              "    <tr>\n",
              "      <th>9</th>\n",
              "      <td>Tomato 1</td>\n",
              "      <td>738</td>\n",
              "    </tr>\n",
              "  </tbody>\n",
              "</table>\n",
              "</div>\n",
              "      <button class=\"colab-df-convert\" onclick=\"convertToInteractive('df-988d459d-aaf6-4096-875a-8d69b96891c8')\"\n",
              "              title=\"Convert this dataframe to an interactive table.\"\n",
              "              style=\"display:none;\">\n",
              "        \n",
              "  <svg xmlns=\"http://www.w3.org/2000/svg\" height=\"24px\"viewBox=\"0 0 24 24\"\n",
              "       width=\"24px\">\n",
              "    <path d=\"M0 0h24v24H0V0z\" fill=\"none\"/>\n",
              "    <path d=\"M18.56 5.44l.94 2.06.94-2.06 2.06-.94-2.06-.94-.94-2.06-.94 2.06-2.06.94zm-11 1L8.5 8.5l.94-2.06 2.06-.94-2.06-.94L8.5 2.5l-.94 2.06-2.06.94zm10 10l.94 2.06.94-2.06 2.06-.94-2.06-.94-.94-2.06-.94 2.06-2.06.94z\"/><path d=\"M17.41 7.96l-1.37-1.37c-.4-.4-.92-.59-1.43-.59-.52 0-1.04.2-1.43.59L10.3 9.45l-7.72 7.72c-.78.78-.78 2.05 0 2.83L4 21.41c.39.39.9.59 1.41.59.51 0 1.02-.2 1.41-.59l7.78-7.78 2.81-2.81c.8-.78.8-2.07 0-2.86zM5.41 20L4 18.59l7.72-7.72 1.47 1.35L5.41 20z\"/>\n",
              "  </svg>\n",
              "      </button>\n",
              "      \n",
              "  <style>\n",
              "    .colab-df-container {\n",
              "      display:flex;\n",
              "      flex-wrap:wrap;\n",
              "      gap: 12px;\n",
              "    }\n",
              "\n",
              "    .colab-df-convert {\n",
              "      background-color: #E8F0FE;\n",
              "      border: none;\n",
              "      border-radius: 50%;\n",
              "      cursor: pointer;\n",
              "      display: none;\n",
              "      fill: #1967D2;\n",
              "      height: 32px;\n",
              "      padding: 0 0 0 0;\n",
              "      width: 32px;\n",
              "    }\n",
              "\n",
              "    .colab-df-convert:hover {\n",
              "      background-color: #E2EBFA;\n",
              "      box-shadow: 0px 1px 2px rgba(60, 64, 67, 0.3), 0px 1px 3px 1px rgba(60, 64, 67, 0.15);\n",
              "      fill: #174EA6;\n",
              "    }\n",
              "\n",
              "    [theme=dark] .colab-df-convert {\n",
              "      background-color: #3B4455;\n",
              "      fill: #D2E3FC;\n",
              "    }\n",
              "\n",
              "    [theme=dark] .colab-df-convert:hover {\n",
              "      background-color: #434B5C;\n",
              "      box-shadow: 0px 1px 3px 1px rgba(0, 0, 0, 0.15);\n",
              "      filter: drop-shadow(0px 1px 2px rgba(0, 0, 0, 0.3));\n",
              "      fill: #FFFFFF;\n",
              "    }\n",
              "  </style>\n",
              "\n",
              "      <script>\n",
              "        const buttonEl =\n",
              "          document.querySelector('#df-988d459d-aaf6-4096-875a-8d69b96891c8 button.colab-df-convert');\n",
              "        buttonEl.style.display =\n",
              "          google.colab.kernel.accessAllowed ? 'block' : 'none';\n",
              "\n",
              "        async function convertToInteractive(key) {\n",
              "          const element = document.querySelector('#df-988d459d-aaf6-4096-875a-8d69b96891c8');\n",
              "          const dataTable =\n",
              "            await google.colab.kernel.invokeFunction('convertToInteractive',\n",
              "                                                     [key], {});\n",
              "          if (!dataTable) return;\n",
              "\n",
              "          const docLinkHtml = 'Like what you see? Visit the ' +\n",
              "            '<a target=\"_blank\" href=https://colab.research.google.com/notebooks/data_table.ipynb>data table notebook</a>'\n",
              "            + ' to learn more about interactive tables.';\n",
              "          element.innerHTML = '';\n",
              "          dataTable['output_type'] = 'display_data';\n",
              "          await google.colab.output.renderOutput(dataTable, element);\n",
              "          const docLink = document.createElement('div');\n",
              "          docLink.innerHTML = docLinkHtml;\n",
              "          element.appendChild(docLink);\n",
              "        }\n",
              "      </script>\n",
              "    </div>\n",
              "  </div>\n",
              "  "
            ]
          },
          "metadata": {},
          "execution_count": 8
        }
      ]
    },
    {
      "cell_type": "code",
      "source": [
        "# Label with most number of images\n",
        "print(f\"Label with most number of images:\")\n",
        "print(train_image_count_df.sort_values(\"Number of Images\",ascending=False).head(1))\n",
        "print(f\"Label with least number of images:\")\n",
        "print(train_image_count_df.sort_values(\"Number of Images\",ascending=True).head(1))"
      ],
      "metadata": {
        "id": "6L99UaG5iyQT",
        "colab": {
          "base_uri": "https://localhost:8080/"
        },
        "outputId": "e814abb5-ac79-4826-df17-f48f8c520f97"
      },
      "execution_count": 9,
      "outputs": [
        {
          "output_type": "stream",
          "name": "stdout",
          "text": [
            "Label with most number of images:\n",
            "         Label  Number of Images\n",
            "86  Grape Blue               984\n",
            "Label with least number of images:\n",
            "           Label  Number of Images\n",
            "122  Ginger Root               297\n"
          ]
        }
      ]
    },
    {
      "cell_type": "code",
      "source": [
        "# Show random sample from training of a random fruit/vegetable\n",
        "\n",
        "random_label = random.choice(classes)\n",
        "sample_path = f'{TRAIN_PATH}/{random_label}'\n",
        "random_image= random.choice(os.listdir(sample_path))\n",
        "random_image_path = f'{sample_path}/{random_image}'\n",
        "\n",
        "img = mpimg.imread(random_image_path)\n",
        "imgplot = plt.imshow(img)\n",
        "plt.axis(False)\n",
        "plt.title(f'{random_label}')\n",
        "plt.show()"
      ],
      "metadata": {
        "id": "Cv6G8PcTwtGI",
        "colab": {
          "base_uri": "https://localhost:8080/",
          "height": 264
        },
        "outputId": "355dcb32-e30c-4a66-b80f-480406fc6310"
      },
      "execution_count": 10,
      "outputs": [
        {
          "output_type": "display_data",
          "data": {
            "text/plain": [
              "<Figure size 432x288 with 1 Axes>"
            ],
            "image/png": "[encoded data removed]"
          },
          "metadata": {
            "needs_background": "light"
          }
        }
      ]
    },
    {
      "cell_type": "code",
      "source": [
        "# Making new directories for trimmed training data\n",
        "os.mkdir(\"data\")\n",
        "os.mkdir(\"data/train\")"
      ],
      "metadata": {
        "id": "Qy0hhPcZ1e8V"
      },
      "execution_count": 11,
      "outputs": []
    },
    {
      "cell_type": "code",
      "source": [
        "# Trimming data as there are lot of training examples\n",
        "\n",
        "TRAIN_IMAGES_COUNT = 100\n",
        "\n",
        "for label in classes:\n",
        "  path = f'{TRAIN_PATH}/{label}'\n",
        "  img_files = os.listdir(path)\n",
        "  random_count_images = random.sample(img_files, TRAIN_IMAGES_COUNT)\n",
        "  new_path_for_label = f\"/content/data/train/{label}\"\n",
        "  os.mkdir(new_path_for_label)\n",
        "\n",
        "  for img_file in random_count_images:\n",
        "    shutil.move(f\"{path}/{img_file}\", new_path_for_label)"
      ],
      "metadata": {
        "id": "xTCB88Cd0Suz"
      },
      "execution_count": 12,
      "outputs": []
    },
    {
      "cell_type": "code",
      "source": [
        "# Image size has been specified in the research paper\n",
        "IMAGE_SIZE = (100,100)\n",
        "BATCH_SIZE = 32\n",
        "TRIMMED_TRAIN_PATH = '/content/data/train'\n",
        "TEST_PATH = '/content/raw/test/test'\n",
        "\n",
        "# To make data processing faster\n",
        "train_data=tf.keras.preprocessing.image_dataset_from_directory(directory=TRIMMED_TRAIN_PATH,\n",
        "                                                               image_size=IMAGE_SIZE,\n",
        "                                                               label_mode=\"categorical\",\n",
        "                                                               batch_size=BATCH_SIZE)\n",
        "\n",
        "test_data=tf.keras.preprocessing.image_dataset_from_directory(directory=TEST_PATH,\n",
        "                                                               image_size=IMAGE_SIZE,\n",
        "                                                               label_mode=\"categorical\",\n",
        "                                                               batch_size=BATCH_SIZE)"
      ],
      "metadata": {
        "id": "cbJoJNH-xqYl",
        "colab": {
          "base_uri": "https://localhost:8080/"
        },
        "outputId": "8ecc382a-fb52-46a7-de23-f76e439b398f"
      },
      "execution_count": 13,
      "outputs": [
        {
          "output_type": "stream",
          "name": "stdout",
          "text": [
            "Found 13100 files belonging to 131 classes.\n",
            "Found 22688 files belonging to 131 classes.\n"
          ]
        }
      ]
    },
    {
      "cell_type": "code",
      "source": [
        "# See an example of a batch of data\n",
        "for images,labels in train_data.take(1):\n",
        "  print(images,labels)"
      ],
      "metadata": {
        "id": "ARrzAiaVg9bG",
        "colab": {
          "base_uri": "https://localhost:8080/"
        },
        "outputId": "64a8e183-2f23-435c-d6ef-44e5d8f1422d"
      },
      "execution_count": 14,
      "outputs": [
        {
          "output_type": "stream",
          "name": "stdout",
          "text": [
            "tf.Tensor(\n",
            "[[[[255. 255. 255.]\n",
            "   [255. 255. 255.]\n",
            "   [255. 255. 255.]\n",
            "   ...\n",
            "   [255. 255. 255.]\n",
            "   [255. 255. 255.]\n",
            "   [255. 255. 255.]]\n",
            "\n",
            "  [[255. 255. 255.]\n",
            "   [255. 255. 255.]\n",
            "   [255. 255. 255.]\n",
            "   ...\n",
            "   [255. 255. 255.]\n",
            "   [255. 255. 255.]\n",
            "   [255. 255. 255.]]\n",
            "\n",
            "  [[255. 255. 255.]\n",
            "   [255. 255. 255.]\n",
            "   [255. 255. 255.]\n",
            "   ...\n",
            "   [255. 255. 255.]\n",
            "   [255. 255. 255.]\n",
            "   [255. 255. 255.]]\n",
            "\n",
            "  ...\n",
            "\n",
            "  [[255. 255. 255.]\n",
            "   [255. 255. 255.]\n",
            "   [255. 255. 255.]\n",
            "   ...\n",
            "   [255. 255. 255.]\n",
            "   [255. 255. 255.]\n",
            "   [255. 255. 255.]]\n",
            "\n",
            "  [[255. 255. 255.]\n",
            "   [255. 255. 255.]\n",
            "   [255. 255. 255.]\n",
            "   ...\n",
            "   [255. 255. 255.]\n",
            "   [255. 255. 255.]\n",
            "   [255. 255. 255.]]\n",
            "\n",
            "  [[255. 255. 255.]\n",
            "   [255. 255. 255.]\n",
            "   [255. 255. 255.]\n",
            "   ...\n",
            "   [255. 255. 255.]\n",
            "   [255. 255. 255.]\n",
            "   [255. 255. 255.]]]\n",
            "\n",
            "\n",
            " [[[254. 255. 253.]\n",
            "   [254. 255. 253.]\n",
            "   [254. 255. 255.]\n",
            "   ...\n",
            "   [255. 255. 255.]\n",
            "   [255. 255. 255.]\n",
            "   [255. 255. 255.]]\n",
            "\n",
            "  [[254. 255. 253.]\n",
            "   [254. 255. 253.]\n",
            "   [254. 255. 255.]\n",
            "   ...\n",
            "   [255. 255. 255.]\n",
            "   [255. 255. 255.]\n",
            "   [255. 255. 255.]]\n",
            "\n",
            "  [[254. 255. 255.]\n",
            "   [254. 255. 255.]\n",
            "   [254. 255. 255.]\n",
            "   ...\n",
            "   [255. 255. 255.]\n",
            "   [255. 255. 255.]\n",
            "   [255. 255. 255.]]\n",
            "\n",
            "  ...\n",
            "\n",
            "  [[255. 255. 255.]\n",
            "   [255. 255. 255.]\n",
            "   [255. 255. 255.]\n",
            "   ...\n",
            "   [255. 255. 255.]\n",
            "   [255. 255. 255.]\n",
            "   [255. 255. 255.]]\n",
            "\n",
            "  [[255. 255. 255.]\n",
            "   [255. 255. 255.]\n",
            "   [255. 255. 255.]\n",
            "   ...\n",
            "   [255. 255. 255.]\n",
            "   [255. 255. 255.]\n",
            "   [255. 255. 255.]]\n",
            "\n",
            "  [[255. 255. 255.]\n",
            "   [255. 255. 255.]\n",
            "   [255. 255. 255.]\n",
            "   ...\n",
            "   [255. 255. 255.]\n",
            "   [255. 255. 255.]\n",
            "   [255. 255. 255.]]]\n",
            "\n",
            "\n",
            " [[[255. 255. 255.]\n",
            "   [255. 255. 255.]\n",
            "   [255. 255. 255.]\n",
            "   ...\n",
            "   [255. 255. 255.]\n",
            "   [255. 255. 255.]\n",
            "   [255. 255. 255.]]\n",
            "\n",
            "  [[255. 255. 255.]\n",
            "   [255. 255. 255.]\n",
            "   [255. 255. 255.]\n",
            "   ...\n",
            "   [255. 255. 255.]\n",
            "   [255. 255. 255.]\n",
            "   [255. 255. 255.]]\n",
            "\n",
            "  [[255. 255. 255.]\n",
            "   [255. 255. 255.]\n",
            "   [255. 255. 255.]\n",
            "   ...\n",
            "   [255. 255. 255.]\n",
            "   [255. 255. 255.]\n",
            "   [255. 255. 255.]]\n",
            "\n",
            "  ...\n",
            "\n",
            "  [[255. 255. 255.]\n",
            "   [255. 255. 255.]\n",
            "   [255. 255. 255.]\n",
            "   ...\n",
            "   [255. 255. 255.]\n",
            "   [255. 255. 255.]\n",
            "   [255. 255. 255.]]\n",
            "\n",
            "  [[255. 255. 255.]\n",
            "   [255. 255. 255.]\n",
            "   [255. 255. 255.]\n",
            "   ...\n",
            "   [255. 255. 255.]\n",
            "   [255. 255. 255.]\n",
            "   [255. 255. 255.]]\n",
            "\n",
            "  [[255. 255. 255.]\n",
            "   [255. 255. 255.]\n",
            "   [255. 255. 255.]\n",
            "   ...\n",
            "   [255. 255. 255.]\n",
            "   [255. 255. 255.]\n",
            "   [255. 255. 255.]]]\n",
            "\n",
            "\n",
            " ...\n",
            "\n",
            "\n",
            " [[[255. 255. 255.]\n",
            "   [255. 255. 255.]\n",
            "   [254. 255. 255.]\n",
            "   ...\n",
            "   [255. 255. 255.]\n",
            "   [255. 255. 255.]\n",
            "   [255. 255. 255.]]\n",
            "\n",
            "  [[255. 255. 255.]\n",
            "   [255. 255. 255.]\n",
            "   [254. 255. 255.]\n",
            "   ...\n",
            "   [255. 255. 255.]\n",
            "   [255. 255. 255.]\n",
            "   [255. 255. 255.]]\n",
            "\n",
            "  [[254. 255. 255.]\n",
            "   [254. 255. 255.]\n",
            "   [254. 255. 255.]\n",
            "   ...\n",
            "   [255. 255. 255.]\n",
            "   [255. 255. 255.]\n",
            "   [255. 255. 255.]]\n",
            "\n",
            "  ...\n",
            "\n",
            "  [[255. 255. 255.]\n",
            "   [255. 255. 255.]\n",
            "   [255. 255. 255.]\n",
            "   ...\n",
            "   [255. 255. 255.]\n",
            "   [255. 255. 255.]\n",
            "   [255. 255. 255.]]\n",
            "\n",
            "  [[255. 255. 255.]\n",
            "   [255. 255. 255.]\n",
            "   [255. 255. 255.]\n",
            "   ...\n",
            "   [255. 255. 255.]\n",
            "   [255. 255. 255.]\n",
            "   [255. 255. 255.]]\n",
            "\n",
            "  [[255. 255. 255.]\n",
            "   [255. 255. 255.]\n",
            "   [255. 255. 255.]\n",
            "   ...\n",
            "   [255. 255. 255.]\n",
            "   [255. 255. 255.]\n",
            "   [255. 255. 255.]]]\n",
            "\n",
            "\n",
            " [[[255. 255. 253.]\n",
            "   [255. 255. 253.]\n",
            "   [255. 255. 253.]\n",
            "   ...\n",
            "   [255. 255. 255.]\n",
            "   [255. 255. 255.]\n",
            "   [255. 255. 255.]]\n",
            "\n",
            "  [[255. 255. 253.]\n",
            "   [255. 255. 253.]\n",
            "   [255. 255. 253.]\n",
            "   ...\n",
            "   [255. 255. 255.]\n",
            "   [255. 255. 255.]\n",
            "   [255. 255. 255.]]\n",
            "\n",
            "  [[255. 255. 253.]\n",
            "   [255. 255. 253.]\n",
            "   [255. 255. 253.]\n",
            "   ...\n",
            "   [255. 255. 255.]\n",
            "   [255. 255. 255.]\n",
            "   [255. 255. 255.]]\n",
            "\n",
            "  ...\n",
            "\n",
            "  [[255. 255. 255.]\n",
            "   [255. 255. 255.]\n",
            "   [255. 255. 255.]\n",
            "   ...\n",
            "   [255. 255. 255.]\n",
            "   [255. 255. 255.]\n",
            "   [255. 255. 255.]]\n",
            "\n",
            "  [[255. 255. 255.]\n",
            "   [255. 255. 255.]\n",
            "   [255. 255. 255.]\n",
            "   ...\n",
            "   [255. 255. 255.]\n",
            "   [255. 255. 255.]\n",
            "   [255. 255. 255.]]\n",
            "\n",
            "  [[255. 255. 255.]\n",
            "   [255. 255. 255.]\n",
            "   [255. 255. 255.]\n",
            "   ...\n",
            "   [255. 255. 255.]\n",
            "   [255. 255. 255.]\n",
            "   [255. 255. 255.]]]\n",
            "\n",
            "\n",
            " [[[255. 255. 255.]\n",
            "   [255. 255. 255.]\n",
            "   [255. 255. 255.]\n",
            "   ...\n",
            "   [255. 255. 255.]\n",
            "   [255. 255. 255.]\n",
            "   [255. 255. 255.]]\n",
            "\n",
            "  [[255. 255. 255.]\n",
            "   [255. 255. 255.]\n",
            "   [255. 255. 255.]\n",
            "   ...\n",
            "   [255. 255. 255.]\n",
            "   [255. 255. 255.]\n",
            "   [255. 255. 255.]]\n",
            "\n",
            "  [[255. 255. 255.]\n",
            "   [255. 255. 255.]\n",
            "   [255. 255. 255.]\n",
            "   ...\n",
            "   [255. 255. 255.]\n",
            "   [255. 255. 255.]\n",
            "   [255. 255. 255.]]\n",
            "\n",
            "  ...\n",
            "\n",
            "  [[255. 255. 255.]\n",
            "   [255. 255. 255.]\n",
            "   [255. 255. 255.]\n",
            "   ...\n",
            "   [255. 255. 255.]\n",
            "   [255. 255. 255.]\n",
            "   [255. 255. 255.]]\n",
            "\n",
            "  [[255. 255. 255.]\n",
            "   [255. 255. 255.]\n",
            "   [255. 255. 255.]\n",
            "   ...\n",
            "   [255. 255. 255.]\n",
            "   [255. 255. 255.]\n",
            "   [255. 255. 255.]]\n",
            "\n",
            "  [[255. 255. 255.]\n",
            "   [255. 255. 255.]\n",
            "   [255. 255. 255.]\n",
            "   ...\n",
            "   [255. 255. 255.]\n",
            "   [255. 255. 255.]\n",
            "   [255. 255. 255.]]]], shape=(32, 100, 100, 3), dtype=float32) tf.Tensor(\n",
            "[[0. 0. 0. ... 0. 0. 0.]\n",
            " [0. 0. 0. ... 0. 0. 0.]\n",
            " [0. 0. 0. ... 0. 0. 0.]\n",
            " ...\n",
            " [0. 0. 0. ... 0. 0. 0.]\n",
            " [0. 0. 0. ... 0. 0. 0.]\n",
            " [0. 0. 0. ... 0. 0. 0.]], shape=(32, 131), dtype=float32)\n"
          ]
        }
      ]
    },
    {
      "cell_type": "markdown",
      "source": [
        "## Step 3: Describing modelling experiments"
      ],
      "metadata": {
        "id": "yDtentj-5F-0"
      }
    },
    {
      "cell_type": "markdown",
      "source": [
        "- This notebook contains 7 models built to get the best **f1-score** on the test dataset. These models also include the models made by the researchers themselves.  \n",
        "- Models to be made:\n",
        "  1. **Model 0** : A simple model with fully connected multiple Dense layers; this model acts as a baseline.\n",
        "  1. **Model 1** : Multiple pairs of CNN and MaxPool layers with a  Dense layer in the end for classification.\n",
        "  1. **Model 2** : Replicate the best model (on the test set) from research paper; *should get better results from this.*\n",
        "  1. **Model 3** : Using transfer learning, exploit ResNet model for classification.\n",
        "  1. **Model 4** : Using transfer learning, exploit EfficientNetBx for classification.\n",
        "  1. **Model 5** : Use fine-tuned ResNet model for classification.\n",
        "  1. **Model 6** : Use fine-tuned EfficientNetBx for classification.\n",
        "- Get classification metrics for each model.\n"
      ],
      "metadata": {
        "id": "CsIhGbL_5xsc"
      }
    },
    {
      "cell_type": "code",
      "source": [
        "# Directory to save images of models' architectures\n",
        "!mkdir model_architectures"
      ],
      "metadata": {
        "id": "Q4oqp0a05Qm6"
      },
      "execution_count": 15,
      "outputs": []
    },
    {
      "cell_type": "markdown",
      "source": [
        "#### Model 0 \n",
        "* **Layers:** 3 Dense layers\n",
        "* **Optimizer:** Adam\n",
        "* **Loss:** Cross entropy\n",
        "* **Epochs:** 10\n",
        "* **Callbacks:** `ModelCheckpoint`\n",
        "* **Validation data:** available"
      ],
      "metadata": {
        "id": "gr5XC0Uq_-yC"
      }
    },
    {
      "cell_type": "code",
      "source": [
        "# 0. Set random seed\n",
        "tf.random.set_seed(42)\n",
        "INPUT_SHAPE = (100,100,3)\n",
        "\n",
        "# 1. Create the model\n",
        "model_0 = tf.keras.Sequential([\n",
        "    layers.Flatten(input_shape=(100,100,3)),\n",
        "    layers.Input(shape=INPUT_SHAPE),\n",
        "    layers.Dense(128, activation=\"relu\"),\n",
        "    layers.Dense(128, activation=\"relu\"),\n",
        "    layers.Dense(128, activation=\"relu\"),\n",
        "    layers.Dense(131, activation=\"softmax\")\n",
        "], name=\"model_0_dense\")\n",
        "\n",
        "# 2. Compile the model\n",
        "model_0.compile(loss=\"categorical_crossentropy\",\n",
        "                optimizer=\"Adam\",\n",
        "                metrics=[\"accuracy\"])\n",
        "\n",
        "# 3. Get the summary\n",
        "model_0.summary()\n",
        "\n",
        "# 4. Fit the model\n",
        "history_model_0 = model_0.fit(train_data,\n",
        "                              epochs=10,\n",
        "                              validation_data=test_data,\n",
        "                              validation_steps=len(test_data)*0.15,\n",
        "                              callbacks=[create_model_checkpoint(model_name=model_0.name)])"
      ],
      "metadata": {
        "id": "GWBz8guhytLL",
        "colab": {
          "base_uri": "https://localhost:8080/"
        },
        "outputId": "ef1a8dd4-9042-48d3-d7ac-50673c27419d"
      },
      "execution_count": 16,
      "outputs": [
        {
          "output_type": "stream",
          "name": "stdout",
          "text": [
            "Model: \"model_0_dense\"\n",
            "_________________________________________________________________\n",
            " Layer (type)                Output Shape              Param #   \n",
            "=================================================================\n",
            " flatten (Flatten)           (None, 30000)             0         \n",
            "                                                                 \n",
            " input_1 (InputLayer)        multiple                  0         \n",
            "                                                                 \n",
            " dense (Dense)               (None, 128)               3840128   \n",
            "                                                                 \n",
            " dense_1 (Dense)             (None, 128)               16512     \n",
            "                                                                 \n",
            " dense_2 (Dense)             (None, 128)               16512     \n",
            "                                                                 \n",
            " dense_3 (Dense)             (None, 131)               16899     \n",
            "                                                                 \n",
            "=================================================================\n",
            "Total params: 3,890,051\n",
            "Trainable params: 3,890,051\n",
            "Non-trainable params: 0\n",
            "_________________________________________________________________\n",
            "Epoch 1/10\n",
            "410/410 [==============================] - ETA: 0s - loss: 61.1210 - accuracy: 0.0056\n",
            "Epoch 1: val_loss improved from inf to 4.87531, saving model to model_experiments/model_0_dense\n",
            "410/410 [==============================] - 10s 18ms/step - loss: 61.1210 - accuracy: 0.0056 - val_loss: 4.8753 - val_accuracy: 0.0067\n",
            "Epoch 2/10\n",
            "408/410 [============================>.] - ETA: 0s - loss: 4.8761 - accuracy: 0.0038\n",
            "Epoch 2: val_loss did not improve from 4.87531\n",
            "410/410 [==============================] - 7s 17ms/step - loss: 4.8761 - accuracy: 0.0038 - val_loss: 4.8753 - val_accuracy: 0.0091\n",
            "Epoch 3/10\n",
            "402/410 [============================>.] - ETA: 0s - loss: 4.8761 - accuracy: 0.0049\n",
            "Epoch 3: val_loss improved from 4.87531 to 4.87523, saving model to model_experiments/model_0_dense\n",
            "410/410 [==============================] - 8s 18ms/step - loss: 4.8761 - accuracy: 0.0048 - val_loss: 4.8752 - val_accuracy: 0.0114\n",
            "Epoch 4/10\n",
            "408/410 [============================>.] - ETA: 0s - loss: 4.8761 - accuracy: 0.0052\n",
            "Epoch 4: val_loss did not improve from 4.87523\n",
            "410/410 [==============================] - 7s 17ms/step - loss: 4.8761 - accuracy: 0.0052 - val_loss: 4.8752 - val_accuracy: 0.0055\n",
            "Epoch 5/10\n",
            "402/410 [============================>.] - ETA: 0s - loss: 4.8761 - accuracy: 0.0048\n",
            "Epoch 5: val_loss improved from 4.87523 to 4.87516, saving model to model_experiments/model_0_dense\n",
            "410/410 [==============================] - 8s 20ms/step - loss: 4.8761 - accuracy: 0.0049 - val_loss: 4.8752 - val_accuracy: 0.0076\n",
            "Epoch 6/10\n",
            "401/410 [============================>.] - ETA: 0s - loss: 4.8761 - accuracy: 0.0041\n",
            "Epoch 6: val_loss did not improve from 4.87516\n",
            "410/410 [==============================] - 8s 18ms/step - loss: 4.8761 - accuracy: 0.0041 - val_loss: 4.8752 - val_accuracy: 0.0120\n",
            "Epoch 7/10\n",
            "410/410 [==============================] - ETA: 0s - loss: 4.8761 - accuracy: 0.0043\n",
            "Epoch 7: val_loss did not improve from 4.87516\n",
            "410/410 [==============================] - 8s 19ms/step - loss: 4.8761 - accuracy: 0.0043 - val_loss: 4.8752 - val_accuracy: 0.0076\n",
            "Epoch 8/10\n",
            "405/410 [============================>.] - ETA: 0s - loss: 4.8761 - accuracy: 0.0046\n",
            "Epoch 8: val_loss did not improve from 4.87516\n",
            "410/410 [==============================] - 8s 18ms/step - loss: 4.8761 - accuracy: 0.0047 - val_loss: 4.8752 - val_accuracy: 0.0120\n",
            "Epoch 9/10\n",
            "401/410 [============================>.] - ETA: 0s - loss: 4.8761 - accuracy: 0.0045\n",
            "Epoch 9: val_loss did not improve from 4.87516\n",
            "410/410 [==============================] - 7s 18ms/step - loss: 4.8761 - accuracy: 0.0047 - val_loss: 4.8752 - val_accuracy: 0.0120\n",
            "Epoch 10/10\n",
            "408/410 [============================>.] - ETA: 0s - loss: 4.8761 - accuracy: 0.0047\n",
            "Epoch 10: val_loss did not improve from 4.87516\n",
            "410/410 [==============================] - 7s 17ms/step - loss: 4.8761 - accuracy: 0.0047 - val_loss: 4.8752 - val_accuracy: 0.0126\n"
          ]
        }
      ]
    },
    {
      "cell_type": "code",
      "source": [
        "# Save model's architecture as an image\n",
        "plot_model(model_0, to_file='/content/model_architectures/model_0.png')\n",
        "\n",
        "# About the model history\n",
        "plot_loss_curves(history_model_0)"
      ],
      "metadata": {
        "id": "cqUcIZX622kS",
        "colab": {
          "base_uri": "https://localhost:8080/",
          "height": 573
        },
        "outputId": "893f6892-5178-4cc7-bdce-f7de886ff7f0"
      },
      "execution_count": 17,
      "outputs": [
        {
          "output_type": "display_data",
          "data": {
            "text/plain": [
              "<Figure size 432x288 with 1 Axes>"
            ],
            "image/png": "[encoded data removed]"
          },
          "metadata": {
            "needs_background": "light"
          }
        },
        {
          "output_type": "display_data",
          "data": {
            "text/plain": [
              "<Figure size 432x288 with 1 Axes>"
            ],
            "image/png": "[encoded data removed]"
          },
          "metadata": {
            "needs_background": "light"
          }
        }
      ]
    },
    {
      "cell_type": "code",
      "source": [
        "# Loading in the best weights\n",
        "best_weights_path = \"/content/model_experiments/model_0_dense\"\n",
        "model_0.load_weights(best_weights_path)\n",
        "\n",
        "# Evaluate on test set\n",
        "model_0.evaluate(test_data)"
      ],
      "metadata": {
        "id": "tPMO-JnrYxhD",
        "colab": {
          "base_uri": "https://localhost:8080/"
        },
        "outputId": "e97223f3-5bee-428c-a892-17de62ec2cac"
      },
      "execution_count": 18,
      "outputs": [
        {
          "output_type": "stream",
          "name": "stdout",
          "text": [
            "709/709 [==============================] - 10s 14ms/step - loss: 4.8751 - accuracy: 0.0073\n"
          ]
        },
        {
          "output_type": "execute_result",
          "data": {
            "text/plain": [
              "[4.875143051147461, 0.007316643372178078]"
            ]
          },
          "metadata": {},
          "execution_count": 18
        }
      ]
    },
    {
      "cell_type": "code",
      "source": [
        "# Unravel dataset\n",
        "y_labels = []\n",
        "for images,labels in test_data.unbatch():\n",
        "  y_labels.append(labels.numpy().argmax())"
      ],
      "metadata": {
        "id": "J8XaSBWceQna"
      },
      "execution_count": 19,
      "outputs": []
    },
    {
      "cell_type": "code",
      "source": [
        "# Getting predictions on test data\n",
        "model_0_preds_prob = model_0.predict(test_data, verbose=1)\n",
        "model_0_preds_classes = model_0_preds_prob.argmax(axis=1)\n",
        "\n",
        "# Getting a metrics report\n",
        "model_0_metrics = get_metrics(y_labels, model_0_preds_classes)\n",
        "model_0_metrics"
      ],
      "metadata": {
        "id": "fN4BAyhwZrcX",
        "colab": {
          "base_uri": "https://localhost:8080/"
        },
        "outputId": "49118184-2a20-4525-b5b2-03b632235cd1"
      },
      "execution_count": 20,
      "outputs": [
        {
          "output_type": "stream",
          "name": "stdout",
          "text": [
            "709/709 [==============================] - 8s 11ms/step\n"
          ]
        },
        {
          "output_type": "stream",
          "name": "stderr",
          "text": [
            "/usr/local/lib/python3.7/dist-packages/sklearn/metrics/_classification.py:1318: UndefinedMetricWarning: Precision and F-score are ill-defined and being set to 0.0 in labels with no predicted samples. Use `zero_division` parameter to control this behavior.\n",
            "  _warn_prf(average, modifier, msg_start, len(result))\n"
          ]
        },
        {
          "output_type": "execute_result",
          "data": {
            "text/plain": [
              "{'Accuracy': 0.7316643159379408,\n",
              " 'Precision': 5.3533267121693475e-05,\n",
              " 'Recall': 0.0073166431593794075,\n",
              " 'F1-score': 0.00010628885660776947}"
            ]
          },
          "metadata": {},
          "execution_count": 20
        }
      ]
    },
    {
      "cell_type": "markdown",
      "source": [
        "#### Model 1 \n",
        "* **Layers:** Multiple Conv2D layers paired with MaxPool layers with a Dense layer at the end\n",
        "* **Optimizer:** Adam\n",
        "* **Loss:** Cross entropy\n",
        "* **Epochs:** 10\n",
        "* **Callbacks:** `ModelCheckpoint`\n",
        "* **Validation data:** available"
      ],
      "metadata": {
        "id": "bTZ_xAlHADd4"
      }
    },
    {
      "cell_type": "code",
      "source": [
        "# 0. Set random seed\n",
        "tf.random.set_seed(42)\n",
        "INPUT_SHAPE = (100,100,3)\n",
        "\n",
        "# 1. Create the model\n",
        "model_1 = tf.keras.Sequential([\n",
        "     tf.keras.layers.Conv2D(filters=10,\n",
        "                            kernel_size=3,\n",
        "                            activation=\"relu\",\n",
        "                            input_shape=INPUT_SHAPE),\n",
        "     tf.keras.layers.Conv2D(10,3,activation=\"relu\"),\n",
        "     tf.keras.layers.MaxPool2D(pool_size=2,\n",
        "                               padding=\"valid\"),\n",
        "     tf.keras.layers.Conv2D(10,3,activation=\"relu\"),\n",
        "     tf.keras.layers.Conv2D(10,3,activation=\"relu\"),\n",
        "     tf.keras.layers.MaxPool2D(2),\n",
        "     tf.keras.layers.Flatten(),\n",
        "     tf.keras.layers.Dense(131,activation=\"softmax\")\n",
        "], name=\"model_1_Conv2D\")\n",
        "\n",
        "# 2. Compile the model\n",
        "model_1.compile(loss=\"categorical_crossentropy\",\n",
        "                optimizer=\"Adam\",\n",
        "                metrics=[\"accuracy\"])\n",
        "\n",
        "# 3. Get the summary\n",
        "model_1.summary()\n",
        "\n",
        "# 4. Fit the model\n",
        "history_model_1 = model_1.fit(train_data,\n",
        "                              epochs=10,\n",
        "                              validation_data=test_data,\n",
        "                              validation_steps=len(test_data)*0.15,\n",
        "                              callbacks=[create_model_checkpoint(model_name=model_1.name)])"
      ],
      "metadata": {
        "id": "ahkcIbZQ3zVm",
        "colab": {
          "base_uri": "https://localhost:8080/"
        },
        "outputId": "ce262490-cdb7-41ba-c226-588cb7b08827"
      },
      "execution_count": 21,
      "outputs": [
        {
          "output_type": "stream",
          "name": "stdout",
          "text": [
            "Model: \"model_1_Conv2D\"\n",
            "_________________________________________________________________\n",
            " Layer (type)                Output Shape              Param #   \n",
            "=================================================================\n",
            " conv2d (Conv2D)             (None, 98, 98, 10)        280       \n",
            "                                                                 \n",
            " conv2d_1 (Conv2D)           (None, 96, 96, 10)        910       \n",
            "                                                                 \n",
            " max_pooling2d (MaxPooling2D  (None, 48, 48, 10)       0         \n",
            " )                                                               \n",
            "                                                                 \n",
            " conv2d_2 (Conv2D)           (None, 46, 46, 10)        910       \n",
            "                                                                 \n",
            " conv2d_3 (Conv2D)           (None, 44, 44, 10)        910       \n",
            "                                                                 \n",
            " max_pooling2d_1 (MaxPooling  (None, 22, 22, 10)       0         \n",
            " 2D)                                                             \n",
            "                                                                 \n",
            " flatten_1 (Flatten)         (None, 4840)              0         \n",
            "                                                                 \n",
            " dense_4 (Dense)             (None, 131)               634171    \n",
            "                                                                 \n",
            "=================================================================\n",
            "Total params: 637,181\n",
            "Trainable params: 637,181\n",
            "Non-trainable params: 0\n",
            "_________________________________________________________________\n",
            "Epoch 1/10\n",
            "410/410 [==============================] - ETA: 0s - loss: 2.0463 - accuracy: 0.6578\n",
            "Epoch 1: val_loss improved from inf to 1.47590, saving model to model_experiments/model_1_Conv2D\n",
            "410/410 [==============================] - 18s 21ms/step - loss: 2.0463 - accuracy: 0.6578 - val_loss: 1.4759 - val_accuracy: 0.7357\n",
            "Epoch 2/10\n",
            "405/410 [============================>.] - ETA: 0s - loss: 0.1103 - accuracy: 0.9723\n",
            "Epoch 2: val_loss improved from 1.47590 to 1.25759, saving model to model_experiments/model_1_Conv2D\n",
            "410/410 [==============================] - 9s 21ms/step - loss: 0.1095 - accuracy: 0.9724 - val_loss: 1.2576 - val_accuracy: 0.7722\n",
            "Epoch 3/10\n",
            "409/410 [============================>.] - ETA: 0s - loss: 0.0296 - accuracy: 0.9928\n",
            "Epoch 3: val_loss did not improve from 1.25759\n",
            "410/410 [==============================] - 8s 21ms/step - loss: 0.0296 - accuracy: 0.9928 - val_loss: 1.9966 - val_accuracy: 0.6933\n",
            "Epoch 4/10\n",
            "405/410 [============================>.] - ETA: 0s - loss: 0.0491 - accuracy: 0.9885\n",
            "Epoch 4: val_loss did not improve from 1.25759\n",
            "410/410 [==============================] - 8s 20ms/step - loss: 0.0495 - accuracy: 0.9885 - val_loss: 1.5502 - val_accuracy: 0.7593\n",
            "Epoch 5/10\n",
            "408/410 [============================>.] - ETA: 0s - loss: 0.0897 - accuracy: 0.9782\n",
            "Epoch 5: val_loss did not improve from 1.25759\n",
            "410/410 [==============================] - 8s 20ms/step - loss: 0.0894 - accuracy: 0.9783 - val_loss: 2.9695 - val_accuracy: 0.6425\n",
            "Epoch 6/10\n",
            "405/410 [============================>.] - ETA: 0s - loss: 0.0324 - accuracy: 0.9906\n",
            "Epoch 6: val_loss did not improve from 1.25759\n",
            "410/410 [==============================] - 8s 20ms/step - loss: 0.0322 - accuracy: 0.9906 - val_loss: 1.5004 - val_accuracy: 0.8084\n",
            "Epoch 7/10\n",
            "406/410 [============================>.] - ETA: 0s - loss: 0.0067 - accuracy: 0.9984\n",
            "Epoch 7: val_loss did not improve from 1.25759\n",
            "410/410 [==============================] - 9s 22ms/step - loss: 0.0066 - accuracy: 0.9984 - val_loss: 1.4393 - val_accuracy: 0.8166\n",
            "Epoch 8/10\n",
            "406/410 [============================>.] - ETA: 0s - loss: 3.8410e-04 - accuracy: 0.9999\n",
            "Epoch 8: val_loss did not improve from 1.25759\n",
            "410/410 [==============================] - 9s 21ms/step - loss: 3.8144e-04 - accuracy: 0.9999 - val_loss: 1.4799 - val_accuracy: 0.8198\n",
            "Epoch 9/10\n",
            "408/410 [============================>.] - ETA: 0s - loss: 6.9292e-05 - accuracy: 1.0000\n",
            "Epoch 9: val_loss did not improve from 1.25759\n",
            "410/410 [==============================] - 9s 21ms/step - loss: 6.9141e-05 - accuracy: 1.0000 - val_loss: 1.4729 - val_accuracy: 0.8271\n",
            "Epoch 10/10\n",
            "409/410 [============================>.] - ETA: 0s - loss: 4.0439e-05 - accuracy: 1.0000\n",
            "Epoch 10: val_loss did not improve from 1.25759\n",
            "410/410 [==============================] - 9s 22ms/step - loss: 4.0463e-05 - accuracy: 1.0000 - val_loss: 1.4860 - val_accuracy: 0.8256\n"
          ]
        }
      ]
    },
    {
      "cell_type": "code",
      "source": [
        "# Save model's architecture as an image\n",
        "plot_model(model_1, to_file='/content/model_architectures/model_1.png')\n",
        "\n",
        "# About the model history\n",
        "plot_loss_curves(history_model_1)"
      ],
      "metadata": {
        "id": "XbN-psnP4TjC",
        "colab": {
          "base_uri": "https://localhost:8080/",
          "height": 573
        },
        "outputId": "b8bd557c-136f-4f1a-a033-74c3c355018f"
      },
      "execution_count": 22,
      "outputs": [
        {
          "output_type": "display_data",
          "data": {
            "text/plain": [
              "<Figure size 432x288 with 1 Axes>"
            ],
            "image/png": "[encoded data removed]"
          },
          "metadata": {
            "needs_background": "light"
          }
        },
        {
          "output_type": "display_data",
          "data": {
            "text/plain": [
              "<Figure size 432x288 with 1 Axes>"
            ],
            "image/png": "[encoded data removed]"
          },
          "metadata": {
            "needs_background": "light"
          }
        }
      ]
    },
    {
      "cell_type": "code",
      "source": [
        "# Loading in the best weights\n",
        "best_weights_path = \"/content/model_experiments/model_1_Conv2D\"\n",
        "model_1.load_weights(best_weights_path)\n",
        "\n",
        "# Evaluate on test set\n",
        "model_1.evaluate(test_data)"
      ],
      "metadata": {
        "id": "FeyFbKYd4WCe",
        "colab": {
          "base_uri": "https://localhost:8080/"
        },
        "outputId": "3d369180-f0c9-42a2-9f64-f00596153657"
      },
      "execution_count": 23,
      "outputs": [
        {
          "output_type": "stream",
          "name": "stdout",
          "text": [
            "709/709 [==============================] - 11s 15ms/step - loss: 1.1927 - accuracy: 0.7775\n"
          ]
        },
        {
          "output_type": "execute_result",
          "data": {
            "text/plain": [
              "[1.1926923990249634, 0.777459442615509]"
            ]
          },
          "metadata": {},
          "execution_count": 23
        }
      ]
    },
    {
      "cell_type": "code",
      "source": [
        "# Getting predictions on test data\n",
        "model_1_preds_prob = model_1.predict(test_data, verbose=1)\n",
        "model_1_preds_classes = model_1_preds_prob.argmax(axis=1)\n",
        "\n",
        "# Getting a metrics report\n",
        "model_1_metrics = get_metrics(y_labels, model_1_preds_classes)\n",
        "model_1_metrics"
      ],
      "metadata": {
        "id": "G8jQAWDr4d-L",
        "colab": {
          "base_uri": "https://localhost:8080/"
        },
        "outputId": "bcebf1d5-371f-4b95-b2dd-3088af7e2c78"
      },
      "execution_count": 24,
      "outputs": [
        {
          "output_type": "stream",
          "name": "stdout",
          "text": [
            "709/709 [==============================] - 10s 13ms/step\n"
          ]
        },
        {
          "output_type": "execute_result",
          "data": {
            "text/plain": [
              "{'Accuracy': 0.8991537376586742,\n",
              " 'Precision': 0.00877843500695741,\n",
              " 'Recall': 0.008991537376586742,\n",
              " 'F1-score': 0.00868634756976863}"
            ]
          },
          "metadata": {},
          "execution_count": 24
        }
      ]
    },
    {
      "cell_type": "markdown",
      "source": [
        "#### Model 2 (Researchers' best model)\n",
        "* **Layers:** Multiple layer model including Conv2D, MaxPool, Dense, Dropouts and Flatten\n",
        "* **Optimizer:** Adadelta (with learning rate as 0.1)\n",
        "* **Loss:** Cross entropy\n",
        "* **Epochs:** 25\n",
        "* **Callbacks:** `ModelCheckpoint`\n",
        "* **Validation data:** available"
      ],
      "metadata": {
        "id": "7Z-aHSMMAEXj"
      }
    },
    {
      "cell_type": "code",
      "source": [
        "# 0. Set random seed\n",
        "tf.random.set_seed(42)\n",
        "INPUT_SHAPE = (100,100,3)\n",
        "\n",
        "# 1. Create the model (taken straight out of their code base)\n",
        "inputs = layers.Input(shape=INPUT_SHAPE, name=\"input_layer\")\n",
        "x = layers.Conv2D(16, (5, 5), strides=(1, 1), padding='same', name='conv1')(inputs)\n",
        "x = layers.Activation('relu', name='conv1_relu')(x)\n",
        "x = layers.MaxPooling2D((2, 2), strides=(2, 2), padding='valid', name='pool1')(x)\n",
        "x = layers.Conv2D(32, (5, 5), strides=(1, 1), padding='same', name='conv2')(x)\n",
        "x = layers.Activation('relu', name='conv2_relu')(x)\n",
        "x = layers.MaxPooling2D((2, 2), strides=(2, 2), padding='valid', name='pool2')(x)\n",
        "x = layers.Conv2D(64, (5, 5), strides=(1, 1), padding='same', name='conv3')(x)\n",
        "x = layers.Activation('relu', name='conv3_relu')(x)\n",
        "x = layers.MaxPooling2D((2, 2), strides=(2, 2), padding='valid', name='pool3')(x)\n",
        "x = layers.Conv2D(128, (5, 5), strides=(1, 1), padding='same', name='conv4')(x)\n",
        "x = layers.Activation('relu', name='conv4_relu')(x)\n",
        "x = layers.MaxPooling2D((2, 2), strides=(2, 2), padding='valid', name='pool4')(x)\n",
        "x = layers.Flatten()(x)\n",
        "x = layers.Dense(1024, activation='relu', name='fcl1')(x)\n",
        "x = layers.Dropout(0.2)(x)\n",
        "x = layers.Dense(256, activation='relu', name='fcl2')(x)\n",
        "x = layers.Dropout(0.2)(x)\n",
        "outputs = layers.Dense(131, activation='softmax', name='predictions')(x)\n",
        "model_2 = tf.keras.Model(inputs=inputs, outputs=outputs, name=\"model_2_best_on_paper\")\n",
        "\n",
        "# 2. Compile the model\n",
        "model_2.compile(loss=\"categorical_crossentropy\",\n",
        "                optimizer=tf.keras.optimizers.Adadelta(learning_rate=0.1),\n",
        "                metrics=[\"accuracy\"])\n",
        "\n",
        "# 3. Get the summary\n",
        "model_2.summary()\n",
        "\n",
        "# 4. Fit the model\n",
        "history_model_2 = model_2.fit(train_data,\n",
        "                              epochs=25,\n",
        "                              validation_data=test_data,\n",
        "                              validation_steps=len(test_data)*0.15,\n",
        "                              callbacks=[create_model_checkpoint(model_name=model_2.name)])"
      ],
      "metadata": {
        "id": "Zz60IDo9s_NH",
        "colab": {
          "base_uri": "https://localhost:8080/"
        },
        "outputId": "a73c4d8f-c06e-40c1-f0b0-cbeb18f87e1d"
      },
      "execution_count": 28,
      "outputs": [
        {
          "output_type": "stream",
          "name": "stdout",
          "text": [
            "Model: \"model_2_best_on_paper\"\n",
            "_________________________________________________________________\n",
            " Layer (type)                Output Shape              Param #   \n",
            "=================================================================\n",
            " input_layer (InputLayer)    [(None, 100, 100, 3)]     0         \n",
            "                                                                 \n",
            " conv1 (Conv2D)              (None, 100, 100, 16)      1216      \n",
            "                                                                 \n",
            " conv1_relu (Activation)     (None, 100, 100, 16)      0         \n",
            "                                                                 \n",
            " pool1 (MaxPooling2D)        (None, 50, 50, 16)        0         \n",
            "                                                                 \n",
            " conv2 (Conv2D)              (None, 50, 50, 32)        12832     \n",
            "                                                                 \n",
            " conv2_relu (Activation)     (None, 50, 50, 32)        0         \n",
            "                                                                 \n",
            " pool2 (MaxPooling2D)        (None, 25, 25, 32)        0         \n",
            "                                                                 \n",
            " conv3 (Conv2D)              (None, 25, 25, 64)        51264     \n",
            "                                                                 \n",
            " conv3_relu (Activation)     (None, 25, 25, 64)        0         \n",
            "                                                                 \n",
            " pool3 (MaxPooling2D)        (None, 12, 12, 64)        0         \n",
            "                                                                 \n",
            " conv4 (Conv2D)              (None, 12, 12, 128)       204928    \n",
            "                                                                 \n",
            " conv4_relu (Activation)     (None, 12, 12, 128)       0         \n",
            "                                                                 \n",
            " pool4 (MaxPooling2D)        (None, 6, 6, 128)         0         \n",
            "                                                                 \n",
            " flatten_3 (Flatten)         (None, 4608)              0         \n",
            "                                                                 \n",
            " fcl1 (Dense)                (None, 1024)              4719616   \n",
            "                                                                 \n",
            " dropout_2 (Dropout)         (None, 1024)              0         \n",
            "                                                                 \n",
            " fcl2 (Dense)                (None, 256)               262400    \n",
            "                                                                 \n",
            " dropout_3 (Dropout)         (None, 256)               0         \n",
            "                                                                 \n",
            " predictions (Dense)         (None, 131)               33667     \n",
            "                                                                 \n",
            "=================================================================\n",
            "Total params: 5,285,923\n",
            "Trainable params: 5,285,923\n",
            "Non-trainable params: 0\n",
            "_________________________________________________________________\n",
            "Epoch 1/25\n",
            "407/410 [============================>.] - ETA: 0s - loss: 3.6044 - accuracy: 0.2576\n",
            "Epoch 1: val_loss improved from inf to 1.64042, saving model to model_experiments/model_2_best_on_paper\n",
            "410/410 [==============================] - 17s 39ms/step - loss: 3.5923 - accuracy: 0.2593 - val_loss: 1.6404 - val_accuracy: 0.5572\n",
            "Epoch 2/25\n",
            "408/410 [============================>.] - ETA: 0s - loss: 0.7088 - accuracy: 0.8000\n",
            "Epoch 2: val_loss improved from 1.64042 to 0.58584, saving model to model_experiments/model_2_best_on_paper\n",
            "410/410 [==============================] - 11s 26ms/step - loss: 0.7074 - accuracy: 0.8003 - val_loss: 0.5858 - val_accuracy: 0.8423\n",
            "Epoch 3/25\n",
            "408/410 [============================>.] - ETA: 0s - loss: 0.2574 - accuracy: 0.9235\n",
            "Epoch 3: val_loss improved from 0.58584 to 0.28505, saving model to model_experiments/model_2_best_on_paper\n",
            "410/410 [==============================] - 10s 25ms/step - loss: 0.2572 - accuracy: 0.9237 - val_loss: 0.2850 - val_accuracy: 0.9217\n",
            "Epoch 4/25\n",
            "409/410 [============================>.] - ETA: 0s - loss: 0.1353 - accuracy: 0.9584\n",
            "Epoch 4: val_loss did not improve from 0.28505\n",
            "410/410 [==============================] - 9s 23ms/step - loss: 0.1352 - accuracy: 0.9585 - val_loss: 0.3039 - val_accuracy: 0.9279\n",
            "Epoch 5/25\n",
            "408/410 [============================>.] - ETA: 0s - loss: 0.0794 - accuracy: 0.9750\n",
            "Epoch 5: val_loss improved from 0.28505 to 0.23203, saving model to model_experiments/model_2_best_on_paper\n",
            "410/410 [==============================] - 9s 22ms/step - loss: 0.0793 - accuracy: 0.9751 - val_loss: 0.2320 - val_accuracy: 0.9460\n",
            "Epoch 6/25\n",
            "408/410 [============================>.] - ETA: 0s - loss: 0.0543 - accuracy: 0.9834\n",
            "Epoch 6: val_loss did not improve from 0.23203\n",
            "410/410 [==============================] - 10s 25ms/step - loss: 0.0541 - accuracy: 0.9834 - val_loss: 0.2390 - val_accuracy: 0.9398\n",
            "Epoch 7/25\n",
            "408/410 [============================>.] - ETA: 0s - loss: 0.0535 - accuracy: 0.9833\n",
            "Epoch 7: val_loss improved from 0.23203 to 0.20887, saving model to model_experiments/model_2_best_on_paper\n",
            "410/410 [==============================] - 10s 24ms/step - loss: 0.0533 - accuracy: 0.9834 - val_loss: 0.2089 - val_accuracy: 0.9559\n",
            "Epoch 8/25\n",
            "409/410 [============================>.] - ETA: 0s - loss: 0.0335 - accuracy: 0.9901\n",
            "Epoch 8: val_loss did not improve from 0.20887\n",
            "410/410 [==============================] - 10s 24ms/step - loss: 0.0335 - accuracy: 0.9902 - val_loss: 0.2617 - val_accuracy: 0.9343\n",
            "Epoch 9/25\n",
            "409/410 [============================>.] - ETA: 0s - loss: 0.0303 - accuracy: 0.9903\n",
            "Epoch 9: val_loss did not improve from 0.20887\n",
            "410/410 [==============================] - 12s 29ms/step - loss: 0.0303 - accuracy: 0.9903 - val_loss: 0.2163 - val_accuracy: 0.9530\n",
            "Epoch 10/25\n",
            "409/410 [============================>.] - ETA: 0s - loss: 0.0221 - accuracy: 0.9929\n",
            "Epoch 10: val_loss improved from 0.20887 to 0.18536, saving model to model_experiments/model_2_best_on_paper\n",
            "410/410 [==============================] - 11s 26ms/step - loss: 0.0220 - accuracy: 0.9929 - val_loss: 0.1854 - val_accuracy: 0.9565\n",
            "Epoch 11/25\n",
            "409/410 [============================>.] - ETA: 0s - loss: 0.0170 - accuracy: 0.9949\n",
            "Epoch 11: val_loss did not improve from 0.18536\n",
            "410/410 [==============================] - 12s 28ms/step - loss: 0.0170 - accuracy: 0.9949 - val_loss: 0.2688 - val_accuracy: 0.9460\n",
            "Epoch 12/25\n",
            "409/410 [============================>.] - ETA: 0s - loss: 0.0204 - accuracy: 0.9936\n",
            "Epoch 12: val_loss did not improve from 0.18536\n",
            "410/410 [==============================] - 13s 31ms/step - loss: 0.0204 - accuracy: 0.9936 - val_loss: 0.2054 - val_accuracy: 0.9614\n",
            "Epoch 13/25\n",
            "408/410 [============================>.] - ETA: 0s - loss: 0.0175 - accuracy: 0.9946\n",
            "Epoch 13: val_loss did not improve from 0.18536\n",
            "410/410 [==============================] - 15s 37ms/step - loss: 0.0175 - accuracy: 0.9947 - val_loss: 0.1921 - val_accuracy: 0.9597\n",
            "Epoch 14/25\n",
            "409/410 [============================>.] - ETA: 0s - loss: 0.0165 - accuracy: 0.9950\n",
            "Epoch 14: val_loss improved from 0.18536 to 0.18129, saving model to model_experiments/model_2_best_on_paper\n",
            "410/410 [==============================] - 16s 39ms/step - loss: 0.0164 - accuracy: 0.9950 - val_loss: 0.1813 - val_accuracy: 0.9667\n",
            "Epoch 15/25\n",
            "406/410 [============================>.] - ETA: 0s - loss: 0.0139 - accuracy: 0.9952\n",
            "Epoch 15: val_loss did not improve from 0.18129\n",
            "410/410 [==============================] - 14s 33ms/step - loss: 0.0139 - accuracy: 0.9953 - val_loss: 0.2478 - val_accuracy: 0.9574\n",
            "Epoch 16/25\n",
            "407/410 [============================>.] - ETA: 0s - loss: 0.0105 - accuracy: 0.9964\n",
            "Epoch 16: val_loss did not improve from 0.18129\n",
            "410/410 [==============================] - 15s 36ms/step - loss: 0.0105 - accuracy: 0.9964 - val_loss: 0.1903 - val_accuracy: 0.9638\n",
            "Epoch 17/25\n",
            "409/410 [============================>.] - ETA: 0s - loss: 0.0105 - accuracy: 0.9972\n",
            "Epoch 17: val_loss did not improve from 0.18129\n",
            "410/410 [==============================] - 14s 35ms/step - loss: 0.0105 - accuracy: 0.9973 - val_loss: 0.2196 - val_accuracy: 0.9626\n",
            "Epoch 18/25\n",
            "407/410 [============================>.] - ETA: 0s - loss: 0.0092 - accuracy: 0.9972\n",
            "Epoch 18: val_loss did not improve from 0.18129\n",
            "410/410 [==============================] - 12s 30ms/step - loss: 0.0093 - accuracy: 0.9972 - val_loss: 0.2212 - val_accuracy: 0.9629\n",
            "Epoch 19/25\n",
            "410/410 [==============================] - ETA: 0s - loss: 0.0087 - accuracy: 0.9977\n",
            "Epoch 19: val_loss did not improve from 0.18129\n",
            "410/410 [==============================] - 15s 36ms/step - loss: 0.0087 - accuracy: 0.9977 - val_loss: 0.1944 - val_accuracy: 0.9638\n",
            "Epoch 20/25\n",
            "407/410 [============================>.] - ETA: 0s - loss: 0.0103 - accuracy: 0.9965\n",
            "Epoch 20: val_loss did not improve from 0.18129\n",
            "410/410 [==============================] - 14s 35ms/step - loss: 0.0103 - accuracy: 0.9966 - val_loss: 0.1875 - val_accuracy: 0.9632\n",
            "Epoch 21/25\n",
            "407/410 [============================>.] - ETA: 0s - loss: 0.0096 - accuracy: 0.9966\n",
            "Epoch 21: val_loss did not improve from 0.18129\n",
            "410/410 [==============================] - 12s 30ms/step - loss: 0.0096 - accuracy: 0.9966 - val_loss: 0.2192 - val_accuracy: 0.9626\n",
            "Epoch 22/25\n",
            "408/410 [============================>.] - ETA: 0s - loss: 0.0063 - accuracy: 0.9976\n",
            "Epoch 22: val_loss did not improve from 0.18129\n",
            "410/410 [==============================] - 11s 27ms/step - loss: 0.0063 - accuracy: 0.9976 - val_loss: 0.2121 - val_accuracy: 0.9658\n",
            "Epoch 23/25\n",
            "409/410 [============================>.] - ETA: 0s - loss: 0.0102 - accuracy: 0.9972\n",
            "Epoch 23: val_loss did not improve from 0.18129\n",
            "410/410 [==============================] - 15s 35ms/step - loss: 0.0102 - accuracy: 0.9972 - val_loss: 0.2553 - val_accuracy: 0.9553\n",
            "Epoch 24/25\n",
            "407/410 [============================>.] - ETA: 0s - loss: 0.0062 - accuracy: 0.9977\n",
            "Epoch 24: val_loss did not improve from 0.18129\n",
            "410/410 [==============================] - 13s 32ms/step - loss: 0.0062 - accuracy: 0.9977 - val_loss: 0.2140 - val_accuracy: 0.9664\n",
            "Epoch 25/25\n",
            "407/410 [============================>.] - ETA: 0s - loss: 0.0041 - accuracy: 0.9984\n",
            "Epoch 25: val_loss did not improve from 0.18129\n",
            "410/410 [==============================] - 14s 34ms/step - loss: 0.0041 - accuracy: 0.9984 - val_loss: 0.1851 - val_accuracy: 0.9679\n"
          ]
        }
      ]
    },
    {
      "cell_type": "code",
      "source": [
        "# Save model's architecture as an image\n",
        "plot_model(model_2, to_file='/content/model_architectures/model_2.png')\n",
        "\n",
        "# About the model history\n",
        "plot_loss_curves(history_model_2)"
      ],
      "metadata": {
        "id": "1dGClgqcucJw",
        "colab": {
          "base_uri": "https://localhost:8080/",
          "height": 573
        },
        "outputId": "24d7d503-71cc-400a-c9fd-199d078528b9"
      },
      "execution_count": 29,
      "outputs": [
        {
          "output_type": "display_data",
          "data": {
            "text/plain": [
              "<Figure size 432x288 with 1 Axes>"
            ],
            "image/png": "[encoded data removed]"
          },
          "metadata": {
            "needs_background": "light"
          }
        },
        {
          "output_type": "display_data",
          "data": {
            "text/plain": [
              "<Figure size 432x288 with 1 Axes>"
            ],
            "image/png": "[encoded data removed]"
          },
          "metadata": {
            "needs_background": "light"
          }
        }
      ]
    },
    {
      "cell_type": "code",
      "source": [
        "# Loading in the best weights\n",
        "best_weights_path = \"/content/model_experiments/model_2_best_on_paper\"\n",
        "model_2.load_weights(best_weights_path)\n",
        "\n",
        "# Evaluate on test set\n",
        "model_2.evaluate(test_data)"
      ],
      "metadata": {
        "id": "fAiyTyQDupLw",
        "colab": {
          "base_uri": "https://localhost:8080/"
        },
        "outputId": "72098c9b-e87c-41bf-ebc4-b512e52c360a"
      },
      "execution_count": 30,
      "outputs": [
        {
          "output_type": "stream",
          "name": "stdout",
          "text": [
            "709/709 [==============================] - 16s 23ms/step - loss: 0.1735 - accuracy: 0.9673\n"
          ]
        },
        {
          "output_type": "execute_result",
          "data": {
            "text/plain": [
              "[0.17350302636623383, 0.9673395752906799]"
            ]
          },
          "metadata": {},
          "execution_count": 30
        }
      ]
    },
    {
      "cell_type": "code",
      "source": [
        "# Getting predictions on test data\n",
        "model_2_preds_prob = model_2.predict(test_data, verbose=1)\n",
        "model_2_preds_classes = model_2_preds_prob.argmax(axis=1).reshape\n",
        "\n",
        "# Getting a metrics report\n",
        "model_2_metrics = get_metrics(y_labels, model_2_preds_classes)\n",
        "model_2_metrics\n"
      ],
      "metadata": {
        "id": "PrbD3KaOuty5",
        "colab": {
          "base_uri": "https://localhost:8080/"
        },
        "outputId": "d65d55e1-c044-485a-c0d6-3de6c6303d98"
      },
      "execution_count": 31,
      "outputs": [
        {
          "output_type": "stream",
          "name": "stdout",
          "text": [
            "709/709 [==============================] - 17s 24ms/step\n"
          ]
        },
        {
          "output_type": "execute_result",
          "data": {
            "text/plain": [
              "{'Accuracy': 1.0710507757404797,\n",
              " 'Precision': 0.010593822452663866,\n",
              " 'Recall': 0.010710507757404796,\n",
              " 'F1-score': 0.010624133426318976}"
            ]
          },
          "metadata": {},
          "execution_count": 31
        }
      ]
    },
    {
      "cell_type": "code",
      "source": [
        "y_labels"
      ],
      "metadata": {
        "colab": {
          "base_uri": "https://localhost:8080/"
        },
        "id": "Ju7LC3qdAaJS",
        "outputId": "efe0d9f9-edbd-4950-829c-8c3300084e65"
      },
      "execution_count": 34,
      "outputs": [
        {
          "output_type": "execute_result",
          "data": {
            "text/plain": [
              "[76,\n",
              " 125,\n",
              " 5,\n",
              " 28,\n",
              " 108,\n",
              " 36,\n",
              " 71,\n",
              " 117,\n",
              " 44,\n",
              " 101,\n",
              " 29,\n",
              " 83,\n",
              " 62,\n",
              " 130,\n",
              " 130,\n",
              " 115,\n",
              " 91,\n",
              " 104,\n",
              " 10,\n",
              " 49,\n",
              " 80,\n",
              " 122,\n",
              " 11,\n",
              " 64,\n",
              " 117,\n",
              " 28,\n",
              " 90,\n",
              " 61,\n",
              " 124,\n",
              " 72,\n",
              " 129,\n",
              " 120,\n",
              " 129,\n",
              " 52,\n",
              " 18,\n",
              " 98,\n",
              " 21,\n",
              " 18,\n",
              " 78,\n",
              " 94,\n",
              " 114,\n",
              " 27,\n",
              " 98,\n",
              " 36,\n",
              " 21,\n",
              " 12,\n",
              " 66,\n",
              " 41,\n",
              " 98,\n",
              " 98,\n",
              " 114,\n",
              " 104,\n",
              " 59,\n",
              " 52,\n",
              " 18,\n",
              " 113,\n",
              " 24,\n",
              " 49,\n",
              " 64,\n",
              " 3,\n",
              " 48,\n",
              " 47,\n",
              " 108,\n",
              " 116,\n",
              " 114,\n",
              " 8,\n",
              " 71,\n",
              " 61,\n",
              " 127,\n",
              " 85,\n",
              " 27,\n",
              " 72,\n",
              " 33,\n",
              " 43,\n",
              " 31,\n",
              " 106,\n",
              " 17,\n",
              " 112,\n",
              " 50,\n",
              " 40,\n",
              " 38,\n",
              " 18,\n",
              " 94,\n",
              " 79,\n",
              " 46,\n",
              " 22,\n",
              " 117,\n",
              " 72,\n",
              " 22,\n",
              " 126,\n",
              " 40,\n",
              " 103,\n",
              " 33,\n",
              " 46,\n",
              " 55,\n",
              " 73,\n",
              " 90,\n",
              " 84,\n",
              " 22,\n",
              " 59,\n",
              " 92,\n",
              " 101,\n",
              " 93,\n",
              " 84,\n",
              " 16,\n",
              " 41,\n",
              " 77,\n",
              " 43,\n",
              " 60,\n",
              " 46,\n",
              " 114,\n",
              " 62,\n",
              " 124,\n",
              " 107,\n",
              " 54,\n",
              " 77,\n",
              " 102,\n",
              " 59,\n",
              " 68,\n",
              " 107,\n",
              " 32,\n",
              " 52,\n",
              " 101,\n",
              " 24,\n",
              " 100,\n",
              " 15,\n",
              " 89,\n",
              " 129,\n",
              " 112,\n",
              " 72,\n",
              " 95,\n",
              " 6,\n",
              " 13,\n",
              " 55,\n",
              " 5,\n",
              " 4,\n",
              " 127,\n",
              " 44,\n",
              " 23,\n",
              " 118,\n",
              " 129,\n",
              " 81,\n",
              " 13,\n",
              " 27,\n",
              " 99,\n",
              " 116,\n",
              " 116,\n",
              " 51,\n",
              " 40,\n",
              " 113,\n",
              " 78,\n",
              " 119,\n",
              " 90,\n",
              " 83,\n",
              " 121,\n",
              " 87,\n",
              " 129,\n",
              " 104,\n",
              " 105,\n",
              " 58,\n",
              " 75,\n",
              " 30,\n",
              " 83,\n",
              " 1,\n",
              " 28,\n",
              " 66,\n",
              " 108,\n",
              " 23,\n",
              " 130,\n",
              " 54,\n",
              " 118,\n",
              " 57,\n",
              " 18,\n",
              " 56,\n",
              " 118,\n",
              " 75,\n",
              " 71,\n",
              " 129,\n",
              " 84,\n",
              " 126,\n",
              " 0,\n",
              " 109,\n",
              " 85,\n",
              " 54,\n",
              " 28,\n",
              " 2,\n",
              " 65,\n",
              " 114,\n",
              " 88,\n",
              " 83,\n",
              " 80,\n",
              " 15,\n",
              " 114,\n",
              " 34,\n",
              " 72,\n",
              " 23,\n",
              " 43,\n",
              " 124,\n",
              " 96,\n",
              " 32,\n",
              " 16,\n",
              " 116,\n",
              " 3,\n",
              " 43,\n",
              " 81,\n",
              " 58,\n",
              " 54,\n",
              " 71,\n",
              " 43,\n",
              " 70,\n",
              " 105,\n",
              " 129,\n",
              " 6,\n",
              " 96,\n",
              " 129,\n",
              " 102,\n",
              " 58,\n",
              " 11,\n",
              " 57,\n",
              " 128,\n",
              " 33,\n",
              " 28,\n",
              " 82,\n",
              " 31,\n",
              " 78,\n",
              " 67,\n",
              " 6,\n",
              " 88,\n",
              " 54,\n",
              " 24,\n",
              " 41,\n",
              " 90,\n",
              " 51,\n",
              " 1,\n",
              " 74,\n",
              " 70,\n",
              " 5,\n",
              " 117,\n",
              " 122,\n",
              " 89,\n",
              " 90,\n",
              " 125,\n",
              " 14,\n",
              " 37,\n",
              " 128,\n",
              " 113,\n",
              " 98,\n",
              " 41,\n",
              " 50,\n",
              " 98,\n",
              " 62,\n",
              " 120,\n",
              " 49,\n",
              " 104,\n",
              " 73,\n",
              " 126,\n",
              " 104,\n",
              " 3,\n",
              " 29,\n",
              " 89,\n",
              " 115,\n",
              " 11,\n",
              " 86,\n",
              " 119,\n",
              " 40,\n",
              " 93,\n",
              " 86,\n",
              " 8,\n",
              " 27,\n",
              " 54,\n",
              " 104,\n",
              " 51,\n",
              " 41,\n",
              " 25,\n",
              " 44,\n",
              " 60,\n",
              " 11,\n",
              " 35,\n",
              " 112,\n",
              " 103,\n",
              " 8,\n",
              " 51,\n",
              " 49,\n",
              " 55,\n",
              " 111,\n",
              " 101,\n",
              " 88,\n",
              " 95,\n",
              " 40,\n",
              " 3,\n",
              " 72,\n",
              " 10,\n",
              " 33,\n",
              " 72,\n",
              " 81,\n",
              " 96,\n",
              " 101,\n",
              " 112,\n",
              " 79,\n",
              " 49,\n",
              " 44,\n",
              " 115,\n",
              " 46,\n",
              " 66,\n",
              " 5,\n",
              " 95,\n",
              " 90,\n",
              " 42,\n",
              " 99,\n",
              " 29,\n",
              " 121,\n",
              " 124,\n",
              " 75,\n",
              " 68,\n",
              " 56,\n",
              " 120,\n",
              " 84,\n",
              " 120,\n",
              " 39,\n",
              " 124,\n",
              " 18,\n",
              " 120,\n",
              " 86,\n",
              " 24,\n",
              " 76,\n",
              " 76,\n",
              " 100,\n",
              " 17,\n",
              " 1,\n",
              " 50,\n",
              " 52,\n",
              " 62,\n",
              " 78,\n",
              " 82,\n",
              " 24,\n",
              " 3,\n",
              " 56,\n",
              " 121,\n",
              " 117,\n",
              " 45,\n",
              " 72,\n",
              " 25,\n",
              " 72,\n",
              " 124,\n",
              " 41,\n",
              " 29,\n",
              " 7,\n",
              " 80,\n",
              " 76,\n",
              " 13,\n",
              " 122,\n",
              " 72,\n",
              " 125,\n",
              " 111,\n",
              " 108,\n",
              " 121,\n",
              " 68,\n",
              " 82,\n",
              " 112,\n",
              " 83,\n",
              " 65,\n",
              " 67,\n",
              " 89,\n",
              " 23,\n",
              " 6,\n",
              " 52,\n",
              " 44,\n",
              " 83,\n",
              " 8,\n",
              " 104,\n",
              " 8,\n",
              " 113,\n",
              " 90,\n",
              " 103,\n",
              " 58,\n",
              " 28,\n",
              " 33,\n",
              " 0,\n",
              " 0,\n",
              " 118,\n",
              " 12,\n",
              " 11,\n",
              " 81,\n",
              " 30,\n",
              " 101,\n",
              " 71,\n",
              " 44,\n",
              " 5,\n",
              " 118,\n",
              " 57,\n",
              " 61,\n",
              " 117,\n",
              " 98,\n",
              " 114,\n",
              " 86,\n",
              " 86,\n",
              " 116,\n",
              " 95,\n",
              " 43,\n",
              " 31,\n",
              " 114,\n",
              " 86,\n",
              " 81,\n",
              " 53,\n",
              " 64,\n",
              " 89,\n",
              " 30,\n",
              " 129,\n",
              " 56,\n",
              " 44,\n",
              " 48,\n",
              " 54,\n",
              " 14,\n",
              " 126,\n",
              " 120,\n",
              " 50,\n",
              " 44,\n",
              " 0,\n",
              " 2,\n",
              " 113,\n",
              " 121,\n",
              " 88,\n",
              " 29,\n",
              " 129,\n",
              " 111,\n",
              " 29,\n",
              " 120,\n",
              " 57,\n",
              " 0,\n",
              " 84,\n",
              " 1,\n",
              " 3,\n",
              " 19,\n",
              " 90,\n",
              " 5,\n",
              " 125,\n",
              " 75,\n",
              " 21,\n",
              " 39,\n",
              " 81,\n",
              " 115,\n",
              " 121,\n",
              " 109,\n",
              " 62,\n",
              " 107,\n",
              " 33,\n",
              " 106,\n",
              " 123,\n",
              " 128,\n",
              " 26,\n",
              " 79,\n",
              " 130,\n",
              " 67,\n",
              " 70,\n",
              " 1,\n",
              " 117,\n",
              " 82,\n",
              " 25,\n",
              " 94,\n",
              " 113,\n",
              " 47,\n",
              " 117,\n",
              " 121,\n",
              " 20,\n",
              " 22,\n",
              " 123,\n",
              " 50,\n",
              " 9,\n",
              " 21,\n",
              " 42,\n",
              " 117,\n",
              " 121,\n",
              " 111,\n",
              " 60,\n",
              " 63,\n",
              " 65,\n",
              " 103,\n",
              " 67,\n",
              " 106,\n",
              " 113,\n",
              " 13,\n",
              " 51,\n",
              " 59,\n",
              " 103,\n",
              " 123,\n",
              " 91,\n",
              " 87,\n",
              " 44,\n",
              " 74,\n",
              " 91,\n",
              " 10,\n",
              " 94,\n",
              " 20,\n",
              " 99,\n",
              " 80,\n",
              " 58,\n",
              " 66,\n",
              " 62,\n",
              " 63,\n",
              " 64,\n",
              " 85,\n",
              " 91,\n",
              " 7,\n",
              " 0,\n",
              " 3,\n",
              " 51,\n",
              " 57,\n",
              " 72,\n",
              " 58,\n",
              " 98,\n",
              " 11,\n",
              " 1,\n",
              " 102,\n",
              " 88,\n",
              " 91,\n",
              " 57,\n",
              " 36,\n",
              " 80,\n",
              " 52,\n",
              " 25,\n",
              " 54,\n",
              " 49,\n",
              " 122,\n",
              " 125,\n",
              " 69,\n",
              " 90,\n",
              " 49,\n",
              " 113,\n",
              " 44,\n",
              " 59,\n",
              " 106,\n",
              " 122,\n",
              " 106,\n",
              " 129,\n",
              " 48,\n",
              " 67,\n",
              " 72,\n",
              " 122,\n",
              " 96,\n",
              " 14,\n",
              " 97,\n",
              " 45,\n",
              " 15,\n",
              " 36,\n",
              " 67,\n",
              " 111,\n",
              " 99,\n",
              " 60,\n",
              " 52,\n",
              " 129,\n",
              " 121,\n",
              " 37,\n",
              " 23,\n",
              " 111,\n",
              " 47,\n",
              " 106,\n",
              " 57,\n",
              " 35,\n",
              " 129,\n",
              " 51,\n",
              " 32,\n",
              " 58,\n",
              " 88,\n",
              " 130,\n",
              " 125,\n",
              " 108,\n",
              " 57,\n",
              " 77,\n",
              " 47,\n",
              " 80,\n",
              " 117,\n",
              " 71,\n",
              " 77,\n",
              " 74,\n",
              " 93,\n",
              " 4,\n",
              " 68,\n",
              " 122,\n",
              " 15,\n",
              " 54,\n",
              " 130,\n",
              " 117,\n",
              " 125,\n",
              " 98,\n",
              " 57,\n",
              " 89,\n",
              " 76,\n",
              " 128,\n",
              " 89,\n",
              " 97,\n",
              " 77,\n",
              " 91,\n",
              " 94,\n",
              " 96,\n",
              " 4,\n",
              " 29,\n",
              " 52,\n",
              " 113,\n",
              " 84,\n",
              " 83,\n",
              " 51,\n",
              " 37,\n",
              " 120,\n",
              " 44,\n",
              " 86,\n",
              " 100,\n",
              " 57,\n",
              " 72,\n",
              " 97,\n",
              " 55,\n",
              " 113,\n",
              " 19,\n",
              " 84,\n",
              " 94,\n",
              " 0,\n",
              " 2,\n",
              " 71,\n",
              " 45,\n",
              " 124,\n",
              " 96,\n",
              " 122,\n",
              " 123,\n",
              " 129,\n",
              " 100,\n",
              " 27,\n",
              " 104,\n",
              " 107,\n",
              " 8,\n",
              " 75,\n",
              " 52,\n",
              " 8,\n",
              " 68,\n",
              " 15,\n",
              " 23,\n",
              " 13,\n",
              " 68,\n",
              " 97,\n",
              " 27,\n",
              " 67,\n",
              " 127,\n",
              " 63,\n",
              " 40,\n",
              " 80,\n",
              " 6,\n",
              " 89,\n",
              " 120,\n",
              " 72,\n",
              " 9,\n",
              " 32,\n",
              " 89,\n",
              " 82,\n",
              " 110,\n",
              " 14,\n",
              " 25,\n",
              " 98,\n",
              " 45,\n",
              " 16,\n",
              " 92,\n",
              " 107,\n",
              " 79,\n",
              " 62,\n",
              " 67,\n",
              " 14,\n",
              " 18,\n",
              " 29,\n",
              " 70,\n",
              " 5,\n",
              " 47,\n",
              " 127,\n",
              " 78,\n",
              " 89,\n",
              " 50,\n",
              " 121,\n",
              " 9,\n",
              " 19,\n",
              " 29,\n",
              " 89,\n",
              " 9,\n",
              " 129,\n",
              " 94,\n",
              " 85,\n",
              " 101,\n",
              " 56,\n",
              " 28,\n",
              " 112,\n",
              " 84,\n",
              " 37,\n",
              " 104,\n",
              " 62,\n",
              " 84,\n",
              " 56,\n",
              " 58,\n",
              " 25,\n",
              " 26,\n",
              " 113,\n",
              " 32,\n",
              " 66,\n",
              " 28,\n",
              " 24,\n",
              " 41,\n",
              " 6,\n",
              " 36,\n",
              " 37,\n",
              " 115,\n",
              " 130,\n",
              " 8,\n",
              " 89,\n",
              " 41,\n",
              " 69,\n",
              " 82,\n",
              " 97,\n",
              " 17,\n",
              " 36,\n",
              " 49,\n",
              " 45,\n",
              " 17,\n",
              " 59,\n",
              " 58,\n",
              " 84,\n",
              " 45,\n",
              " 42,\n",
              " 44,\n",
              " 17,\n",
              " 82,\n",
              " 97,\n",
              " 88,\n",
              " 31,\n",
              " 74,\n",
              " 97,\n",
              " 109,\n",
              " 90,\n",
              " 43,\n",
              " 9,\n",
              " 63,\n",
              " 56,\n",
              " 86,\n",
              " 39,\n",
              " 106,\n",
              " 20,\n",
              " 101,\n",
              " 108,\n",
              " 74,\n",
              " 39,\n",
              " 62,\n",
              " 77,\n",
              " 13,\n",
              " 76,\n",
              " 44,\n",
              " 104,\n",
              " 100,\n",
              " 91,\n",
              " 127,\n",
              " 120,\n",
              " 80,\n",
              " 83,\n",
              " 110,\n",
              " 124,\n",
              " 30,\n",
              " 30,\n",
              " 43,\n",
              " 78,\n",
              " 6,\n",
              " 77,\n",
              " 40,\n",
              " 39,\n",
              " 46,\n",
              " 87,\n",
              " 5,\n",
              " 44,\n",
              " 16,\n",
              " 8,\n",
              " 48,\n",
              " 123,\n",
              " 61,\n",
              " 9,\n",
              " 59,\n",
              " 8,\n",
              " 114,\n",
              " 81,\n",
              " 48,\n",
              " 119,\n",
              " 105,\n",
              " 83,\n",
              " 1,\n",
              " 3,\n",
              " 125,\n",
              " 99,\n",
              " 109,\n",
              " 84,\n",
              " 59,\n",
              " 61,\n",
              " 113,\n",
              " 53,\n",
              " 39,\n",
              " 94,\n",
              " 114,\n",
              " 4,\n",
              " 55,\n",
              " 124,\n",
              " 46,\n",
              " 71,\n",
              " 40,\n",
              " 7,\n",
              " 45,\n",
              " 21,\n",
              " 63,\n",
              " 41,\n",
              " 37,\n",
              " 64,\n",
              " 71,\n",
              " 125,\n",
              " 101,\n",
              " 21,\n",
              " 106,\n",
              " 26,\n",
              " 86,\n",
              " 72,\n",
              " 3,\n",
              " 59,\n",
              " 95,\n",
              " 83,\n",
              " 117,\n",
              " 85,\n",
              " 107,\n",
              " 67,\n",
              " 94,\n",
              " 69,\n",
              " 60,\n",
              " 30,\n",
              " 84,\n",
              " 15,\n",
              " 123,\n",
              " 98,\n",
              " 73,\n",
              " 6,\n",
              " 79,\n",
              " 45,\n",
              " 23,\n",
              " 16,\n",
              " 114,\n",
              " 69,\n",
              " 113,\n",
              " 128,\n",
              " 12,\n",
              " 35,\n",
              " 49,\n",
              " 18,\n",
              " 68,\n",
              " 45,\n",
              " 37,\n",
              " 98,\n",
              " 66,\n",
              " 24,\n",
              " 46,\n",
              " 20,\n",
              " 84,\n",
              " 80,\n",
              " 0,\n",
              " 81,\n",
              " 83,\n",
              " 91,\n",
              " 97,\n",
              " 123,\n",
              " 49,\n",
              " 64,\n",
              " 20,\n",
              " 117,\n",
              " 59,\n",
              " 27,\n",
              " 113,\n",
              " 12,\n",
              " 19,\n",
              " 2,\n",
              " 90,\n",
              " 23,\n",
              " 27,\n",
              " 47,\n",
              " 29,\n",
              " 123,\n",
              " 25,\n",
              " 125,\n",
              " 111,\n",
              " 90,\n",
              " 54,\n",
              " 29,\n",
              " 122,\n",
              " 76,\n",
              " 71,\n",
              " 127,\n",
              " 117,\n",
              " 87,\n",
              " 92,\n",
              " 128,\n",
              " 53,\n",
              " 100,\n",
              " 36,\n",
              " 9,\n",
              " 29,\n",
              " 70,\n",
              " 27,\n",
              " 114,\n",
              " 69,\n",
              " 121,\n",
              " 40,\n",
              " 26,\n",
              " 129,\n",
              " 50,\n",
              " 121,\n",
              " 2,\n",
              " 59,\n",
              " 122,\n",
              " 72,\n",
              " 87,\n",
              " 33,\n",
              " 48,\n",
              " 28,\n",
              " 16,\n",
              " 92,\n",
              " 124,\n",
              " 47,\n",
              " 34,\n",
              " 12,\n",
              " 38,\n",
              " 71,\n",
              " 33,\n",
              " 79,\n",
              " 101,\n",
              " 126,\n",
              " 99,\n",
              " 97,\n",
              " 57,\n",
              " 125,\n",
              " 55,\n",
              " 23,\n",
              " 64,\n",
              " 29,\n",
              " 65,\n",
              " 70,\n",
              " 120,\n",
              " 92,\n",
              " 98,\n",
              " 97,\n",
              " 13,\n",
              " 32,\n",
              " 44,\n",
              " 39,\n",
              " 118,\n",
              " 94,\n",
              " 91,\n",
              " 4,\n",
              " 109,\n",
              " 124,\n",
              " 24,\n",
              " 28,\n",
              " 117,\n",
              " 113,\n",
              " 40,\n",
              " 98,\n",
              " 97,\n",
              " 119,\n",
              " 0,\n",
              " 23,\n",
              " 61,\n",
              " 24,\n",
              " 28,\n",
              " 92,\n",
              " 6,\n",
              " 101,\n",
              " 112,\n",
              " 47,\n",
              " 27,\n",
              " 123,\n",
              " 87,\n",
              " 88,\n",
              " 78,\n",
              " 35,\n",
              " 106,\n",
              " 124,\n",
              " 18,\n",
              " 12,\n",
              " 73,\n",
              " 77,\n",
              " 96,\n",
              " 129,\n",
              " 44,\n",
              " 101,\n",
              " 77,\n",
              " 25,\n",
              " 87,\n",
              " 125,\n",
              " 26,\n",
              " 86,\n",
              " 52,\n",
              " 52,\n",
              " 84,\n",
              " 35,\n",
              " 97,\n",
              " 87,\n",
              " 54,\n",
              " 25,\n",
              " ...]"
            ]
          },
          "metadata": {},
          "execution_count": 34
        }
      ]
    },
    {
      "cell_type": "markdown",
      "source": [
        "#### Model 3\n",
        "* **Layers:** Using ResNet and various other layers to classify images\n",
        "* **Optimizer:** Adam\n",
        "* **Loss:** Cross entropy\n",
        "* **Epochs:** 25\n",
        "* **Callbacks:** `ModelCheckpoint`\n",
        "* **Validation data:** available"
      ],
      "metadata": {
        "id": "hdsfE1MCAFbK"
      }
    },
    {
      "cell_type": "code",
      "source": [
        "# 0. Set random seed\n",
        "tf.random.set_seed(42)\n",
        "INPUT_SHAPE = (100,100,3)\n",
        "\n",
        "# 1. Create the model (taken straight out of their code base)\n",
        "base_resnet_model = tf.keras.applications.resnet50.ResNet50(include_top=False)\n",
        "base_resnet_model.trainable = False\n",
        "inputs = layers.Input(shape=INPUT_SHAPE, name=\"input_layer\")\n",
        "scale = layers.Rescaling(scale=1./255)(inputs)\n",
        "x = base_resnet_model(scale)\n",
        "x = layers.GlobalAveragePooling2D(name=\"global_average_pooling_layer\")(x)\n",
        "outputs = layers.Dense(131,activation=\"softmax\",name=\"output_layer\")(x)\n",
        "model_3 = tf.keras.Model(inputs=inputs, outputs=outputs, name=\"model_3_freezed_ResNet\")\n",
        "\n",
        "# 2. Compile the model\n",
        "model_3.compile(loss=\"categorical_crossentropy\",\n",
        "                optimizer=\"Adam\",\n",
        "                metrics=[\"accuracy\"])\n",
        "\n",
        "# 3. Get the summary\n",
        "model_3.summary()\n",
        "\n",
        "# 4. Fit the model\n",
        "history_model_3 = model_3.fit(train_data,\n",
        "                              epochs=10,\n",
        "                              validation_data=test_data,\n",
        "                              validation_steps=len(test_data)*0.15,\n",
        "                              callbacks=[create_model_checkpoint(model_name=model_3.name)])"
      ],
      "metadata": {
        "id": "q67jMymRvB8f",
        "colab": {
          "base_uri": "https://localhost:8080/"
        },
        "outputId": "8aeafdc3-4155-4505-b590-3d5107a4045b"
      },
      "execution_count": 35,
      "outputs": [
        {
          "output_type": "stream",
          "name": "stdout",
          "text": [
            "Downloading data from https://storage.googleapis.com/tensorflow/keras-applications/resnet/resnet50_weights_tf_dim_ordering_tf_kernels_notop.h5\n",
            "94773248/94765736 [==============================] - 0s 0us/step\n",
            "94781440/94765736 [==============================] - 0s 0us/step\n",
            "Model: \"model_3_freezed_ResNet\"\n",
            "_________________________________________________________________\n",
            " Layer (type)                Output Shape              Param #   \n",
            "=================================================================\n",
            " input_layer (InputLayer)    [(None, 100, 100, 3)]     0         \n",
            "                                                                 \n",
            " rescaling (Rescaling)       (None, 100, 100, 3)       0         \n",
            "                                                                 \n",
            " resnet50 (Functional)       (None, None, None, 2048)  23587712  \n",
            "                                                                 \n",
            " global_average_pooling_laye  (None, 2048)             0         \n",
            " r (GlobalAveragePooling2D)                                      \n",
            "                                                                 \n",
            " output_layer (Dense)        (None, 131)               268419    \n",
            "                                                                 \n",
            "=================================================================\n",
            "Total params: 23,856,131\n",
            "Trainable params: 268,419\n",
            "Non-trainable params: 23,587,712\n",
            "_________________________________________________________________\n",
            "Epoch 1/10\n",
            "410/410 [==============================] - ETA: 0s - loss: 4.4851 - accuracy: 0.0582\n",
            "Epoch 1: val_loss improved from inf to 4.11201, saving model to model_experiments/model_3_freezed_ResNet\n",
            "410/410 [==============================] - 22s 46ms/step - loss: 4.4851 - accuracy: 0.0582 - val_loss: 4.1120 - val_accuracy: 0.1148\n",
            "Epoch 2/10\n",
            "409/410 [============================>.] - ETA: 0s - loss: 3.7186 - accuracy: 0.1703\n",
            "Epoch 2: val_loss improved from 4.11201 to 3.65411, saving model to model_experiments/model_3_freezed_ResNet\n",
            "410/410 [==============================] - 19s 45ms/step - loss: 3.7183 - accuracy: 0.1705 - val_loss: 3.6541 - val_accuracy: 0.1925\n",
            "Epoch 3/10\n",
            "409/410 [============================>.] - ETA: 0s - loss: 3.2796 - accuracy: 0.2537\n",
            "Epoch 3: val_loss improved from 3.65411 to 3.32800, saving model to model_experiments/model_3_freezed_ResNet\n",
            "410/410 [==============================] - 18s 44ms/step - loss: 3.2795 - accuracy: 0.2541 - val_loss: 3.3280 - val_accuracy: 0.3005\n",
            "Epoch 4/10\n",
            "410/410 [==============================] - ETA: 0s - loss: 2.9530 - accuracy: 0.3340\n",
            "Epoch 4: val_loss improved from 3.32800 to 3.06364, saving model to model_experiments/model_3_freezed_ResNet\n",
            "410/410 [==============================] - 18s 44ms/step - loss: 2.9530 - accuracy: 0.3340 - val_loss: 3.0636 - val_accuracy: 0.3315\n",
            "Epoch 5/10\n",
            "409/410 [============================>.] - ETA: 0s - loss: 2.7138 - accuracy: 0.3888\n",
            "Epoch 5: val_loss improved from 3.06364 to 2.89076, saving model to model_experiments/model_3_freezed_ResNet\n",
            "410/410 [==============================] - 18s 43ms/step - loss: 2.7139 - accuracy: 0.3889 - val_loss: 2.8908 - val_accuracy: 0.3732\n",
            "Epoch 6/10\n",
            "410/410 [==============================] - ETA: 0s - loss: 2.5017 - accuracy: 0.4409\n",
            "Epoch 6: val_loss improved from 2.89076 to 2.72835, saving model to model_experiments/model_3_freezed_ResNet\n",
            "410/410 [==============================] - 19s 46ms/step - loss: 2.5017 - accuracy: 0.4409 - val_loss: 2.7284 - val_accuracy: 0.4030\n",
            "Epoch 7/10\n",
            "409/410 [============================>.] - ETA: 0s - loss: 2.3274 - accuracy: 0.4857\n",
            "Epoch 7: val_loss improved from 2.72835 to 2.59985, saving model to model_experiments/model_3_freezed_ResNet\n",
            "410/410 [==============================] - 18s 44ms/step - loss: 2.3273 - accuracy: 0.4857 - val_loss: 2.5998 - val_accuracy: 0.4357\n",
            "Epoch 8/10\n",
            "409/410 [============================>.] - ETA: 0s - loss: 2.1876 - accuracy: 0.5255\n",
            "Epoch 8: val_loss improved from 2.59985 to 2.49286, saving model to model_experiments/model_3_freezed_ResNet\n",
            "410/410 [==============================] - 18s 44ms/step - loss: 2.1875 - accuracy: 0.5256 - val_loss: 2.4929 - val_accuracy: 0.4509\n",
            "Epoch 9/10\n",
            "410/410 [==============================] - ETA: 0s - loss: 2.0459 - accuracy: 0.5605\n",
            "Epoch 9: val_loss improved from 2.49286 to 2.40249, saving model to model_experiments/model_3_freezed_ResNet\n",
            "410/410 [==============================] - 18s 44ms/step - loss: 2.0459 - accuracy: 0.5605 - val_loss: 2.4025 - val_accuracy: 0.4798\n",
            "Epoch 10/10\n",
            "409/410 [============================>.] - ETA: 0s - loss: 1.9343 - accuracy: 0.5883\n",
            "Epoch 10: val_loss improved from 2.40249 to 2.30968, saving model to model_experiments/model_3_freezed_ResNet\n",
            "410/410 [==============================] - 18s 44ms/step - loss: 1.9343 - accuracy: 0.5882 - val_loss: 2.3097 - val_accuracy: 0.4924\n"
          ]
        }
      ]
    },
    {
      "cell_type": "code",
      "source": [
        "# Save model's architecture as an image\n",
        "plot_model(model_3, to_file='/content/model_architectures/model_3.png')\n",
        "\n",
        "# About the model history\n",
        "plot_loss_curves(history_model_3)"
      ],
      "metadata": {
        "id": "aKmOrxNx0dU4",
        "colab": {
          "base_uri": "https://localhost:8080/",
          "height": 573
        },
        "outputId": "e2f87e85-de3b-47cd-cfd5-0abc9d9932b6"
      },
      "execution_count": 36,
      "outputs": [
        {
          "output_type": "display_data",
          "data": {
            "text/plain": [
              "<Figure size 432x288 with 1 Axes>"
            ],
            "image/png": "[encoded data removed]"
          },
          "metadata": {
            "needs_background": "light"
          }
        },
        {
          "output_type": "display_data",
          "data": {
            "text/plain": [
              "<Figure size 432x288 with 1 Axes>"
            ],
            "image/png": "[encoded data removed]"
          },
          "metadata": {
            "needs_background": "light"
          }
        }
      ]
    },
    {
      "cell_type": "code",
      "source": [
        "# Loading in the best weights\n",
        "best_weights_path = \"/content/model_experiments/model_3_freezed_ResNet\"\n",
        "model_3.load_weights(best_weights_path)\n",
        "\n",
        "# Evaluate on test set\n",
        "model_3.evaluate(test_data)"
      ],
      "metadata": {
        "id": "NSzIoeT70hnD",
        "colab": {
          "base_uri": "https://localhost:8080/"
        },
        "outputId": "ff58aee8-343b-4500-ae06-28afd3acf48f"
      },
      "execution_count": 37,
      "outputs": [
        {
          "output_type": "stream",
          "name": "stdout",
          "text": [
            "709/709 [==============================] - 26s 37ms/step - loss: 2.2867 - accuracy: 0.4934\n"
          ]
        },
        {
          "output_type": "execute_result",
          "data": {
            "text/plain": [
              "[2.2867026329040527, 0.4933885633945465]"
            ]
          },
          "metadata": {},
          "execution_count": 37
        }
      ]
    },
    {
      "cell_type": "code",
      "source": [
        "# Getting predictions on test data\n",
        "model_3_preds_prob = model_3.predict(test_data, verbose=1)\n",
        "model_3_preds_classes = model_3_preds_prob.argmax(axis=1)\n",
        "\n",
        "# Getting a metrics report\n",
        "model_3_metrics = get_metrics(y_labels, model_3_preds_classes)\n",
        "model_3_metrics"
      ],
      "metadata": {
        "id": "4vUSyQBq0uao",
        "colab": {
          "base_uri": "https://localhost:8080/"
        },
        "outputId": "c3f1de7b-47d6-412a-fe8e-bec4f5d3b9d9"
      },
      "execution_count": 38,
      "outputs": [
        {
          "output_type": "stream",
          "name": "stdout",
          "text": [
            "709/709 [==============================] - 26s 36ms/step\n"
          ]
        },
        {
          "output_type": "stream",
          "name": "stderr",
          "text": [
            "/usr/local/lib/python3.7/dist-packages/sklearn/metrics/_classification.py:1318: UndefinedMetricWarning: Precision and F-score are ill-defined and being set to 0.0 in labels with no predicted samples. Use `zero_division` parameter to control this behavior.\n",
            "  _warn_prf(average, modifier, msg_start, len(result))\n"
          ]
        },
        {
          "output_type": "execute_result",
          "data": {
            "text/plain": [
              "{'Accuracy': 0.907968970380818,\n",
              " 'Precision': 0.008378214734494596,\n",
              " 'Recall': 0.00907968970380818,\n",
              " 'F1-score': 0.007620789493137928}"
            ]
          },
          "metadata": {},
          "execution_count": 38
        }
      ]
    },
    {
      "cell_type": "markdown",
      "source": [
        "#### Model 4 \n",
        "* **Layers:** Using EfficientNetB0 (with freezed layers) and various other layers for classification\n",
        "* **Optimizer:** Adam\n",
        "* **Loss:** Cross entropy\n",
        "* **Epochs:** 10\n",
        "* **Callbacks:** `ModelCheckpoint`\n",
        "* **Validation data:** available"
      ],
      "metadata": {
        "id": "YY9ejPFFAGUv"
      }
    },
    {
      "cell_type": "code",
      "source": [
        "# 0. Set random seed\n",
        "tf.random.set_seed(42)\n",
        "INPUT_SHAPE = (100,100,3)\n",
        "\n",
        "# 1. Create the model\n",
        "base_efficient_net_model=tf.keras.applications.EfficientNetB0(include_top=False)\n",
        "base_efficient_net_model.trainable=False\n",
        "inputs= layers.Input(shape=INPUT_SHAPE, name=\"input_layer\")\n",
        "x = base_efficient_net_model(inputs)\n",
        "x = tf.keras.layers.GlobalAveragePooling2D(name=\"global_average_pooling_layer\")(x)\n",
        "outputs=tf.keras.layers.Dense(131,activation=\"softmax\",name=\"output_layer\")(x)\n",
        "model_4 = tf.keras.Model(inputs=inputs, outputs=outputs)\n",
        "model_4.__name = \"model_4_freezed_EfficientNet\"\n",
        "\n",
        "# 2. Compile the model\n",
        "model_4.compile(loss=\"categorical_crossentropy\",\n",
        "                optimizer=\"Adam\",\n",
        "                metrics=[\"accuracy\"])\n",
        "\n",
        "# 3. Get the summary\n",
        "model_4.summary()\n",
        "\n",
        "# 4. Fit the model\n",
        "history_model_4 = model_4.fit(train_data,\n",
        "                              epochs=10,\n",
        "                              validation_data=test_data,\n",
        "                              validation_steps=len(test_data)*0.15,\n",
        "                              callbacks=[create_model_checkpoint(model_name=model_4.name)])"
      ],
      "metadata": {
        "id": "MU6w8Cgf1K2R"
      },
      "execution_count": null,
      "outputs": []
    },
    {
      "cell_type": "code",
      "source": [
        "# Save model's architecture as an image\n",
        "plot_model(model_4, to_file='/content/model_architectures/model_4.png')\n",
        "\n",
        "# About the model history\n",
        "plot_loss_curves(history_model_4)"
      ],
      "metadata": {
        "id": "u48O3Ou_2dqj"
      },
      "execution_count": null,
      "outputs": []
    },
    {
      "cell_type": "code",
      "source": [
        "# Loading in the best weights\n",
        "best_weights_path = \"/content/model_experiments/model_4_freezed_EfficientNet\"\n",
        "model_4.load_weights(best_weights_path)\n",
        "\n",
        "# Evaluate on test set\n",
        "model_4.evaluate(test_data)"
      ],
      "metadata": {
        "id": "S0oSZtYZ2jM_"
      },
      "execution_count": null,
      "outputs": []
    },
    {
      "cell_type": "code",
      "source": [
        "# Getting predictions on test data\n",
        "model_4_preds_prob = model_4.predict(test_data, verbose=1)\n",
        "model_4_preds_classes = model_4_preds_prob.argmax(axis=1)\n",
        "\n",
        "# Getting a metrics report\n",
        "model_4_metrics = get_metrics(y_labels, model_4_preds_classes)\n",
        "model_4_metrics"
      ],
      "metadata": {
        "id": "VPbrQ1102xIQ"
      },
      "execution_count": null,
      "outputs": []
    },
    {
      "cell_type": "markdown",
      "source": [
        "#### Model 5\n",
        "* **Layers:** Fine-tuned ResNet as the base with multiple other layers\n",
        "* **Optimizer:** Adam\n",
        "* **Loss:** Cross entropy\n",
        "* **Epochs:** 10\n",
        "* **Callbacks:** `ModelCheckpoint`\n",
        "* **Validation data:** available"
      ],
      "metadata": {
        "id": "8YIH9eT5AHdM"
      }
    },
    {
      "cell_type": "code",
      "source": [
        "# 0. Set random seed\n",
        "tf.random.set_seed(42)\n",
        "INPUT_SHAPE = (100,100,3)\n",
        "\n",
        "# 1. Create the model\n",
        "base_resnet_model = tf.keras.applications.resnet50.ResNet50(include_top=False)\n",
        "base_resnet_model.trainable = False\n",
        "\n",
        "# Setting the base model to train (only on the last 10 layers)\n",
        "LAYERS_TRAINABLE = 10\n",
        "for layer in base_resnet_model.layers[-LAYERS_TRAINABLE:]:\n",
        "  layer.trainable = True\n",
        "\n",
        "inputs = layers.Input(shape=INPUT_SHAPE, name=\"input_layer\")\n",
        "scale = layers.Rescaling(scale=1./255)(inputs)\n",
        "x = base_resnet_model(scale)\n",
        "x = layers.GlobalAveragePooling2D(name=\"global_average_pooling_layer\")(x)\n",
        "outputs = layers.Dense(131,activation=\"softmax\",name=\"output_layer\")(x)\n",
        "model_5 = tf.keras.Model(inputs=inputs, outputs=outputs)\n",
        "model_5.__name = \"model_5_finetuned_ResNet\"\n",
        "\n",
        "# 2. Compile the model\n",
        "model_5.compile(loss=\"categorical_crossentropy\",\n",
        "                optimizer=\"Adam\",\n",
        "                metrics=[\"accuracy\"])\n",
        "\n",
        "# 3. Get the summary\n",
        "model_5.summary()\n",
        "\n",
        "# 4. Fit the model\n",
        "history_model_5 = model_5.fit(train_data,\n",
        "                              epochs=10,\n",
        "                              validation_data=test_data,\n",
        "                              validation_steps=len(test_data)*0.15,\n",
        "                              callbacks=[create_model_checkpoint(model_name=model_5.name)])"
      ],
      "metadata": {
        "id": "gk2zsuHc3uCO"
      },
      "execution_count": null,
      "outputs": []
    },
    {
      "cell_type": "code",
      "source": [
        "# Save model's architecture as an image\n",
        "plot_model(model_5, to_file='/content/model_architectures/model_5.png')\n",
        "\n",
        "# About the model history\n",
        "plot_loss_curves(history_model_5)"
      ],
      "metadata": {
        "id": "qbm5sFqS5Vth"
      },
      "execution_count": null,
      "outputs": []
    },
    {
      "cell_type": "code",
      "source": [
        "# Loading in the best weights\n",
        "best_weights_path = \"/content/model_experiments/model_5_tuned_ResNet\"\n",
        "model_5.load_weights(best_weights_path)\n",
        "\n",
        "# Evaluate on test set\n",
        "model_5.evaluate(test_data)"
      ],
      "metadata": {
        "id": "xq7OQP_253Z8"
      },
      "execution_count": null,
      "outputs": []
    },
    {
      "cell_type": "code",
      "source": [
        "# Getting predictions on test data\n",
        "model_5_preds_prob = model_5.predict(test_data, verbose=1)\n",
        "model_5_preds_classes = model_5_preds_prob.argmax(axis=1)\n",
        "\n",
        "# Getting a metrics report\n",
        "model_5_metrics = get_metrics(y_labels, model_5_preds_classes)\n",
        "model_5_metrics"
      ],
      "metadata": {
        "id": "dcWq9XM25_1f"
      },
      "execution_count": null,
      "outputs": []
    },
    {
      "cell_type": "markdown",
      "source": [
        "#### Model 6\n",
        "* **Layers:** Fine-tuned EffificientNetB0 with other various layers\n",
        "* **Optimizer:** Adam\n",
        "* **Loss:** Cross entropy\n",
        "* **Epochs:** 10\n",
        "* **Callbacks:** `ModelCheckpoint`\n",
        "* **Validation data:** available"
      ],
      "metadata": {
        "id": "Y4hHsWiWAIqr"
      }
    },
    {
      "cell_type": "code",
      "source": [
        "# 0. Set random seed\n",
        "tf.random.set_seed(42)\n",
        "INPUT_SHAPE = (100,100,3)\n",
        "\n",
        "# 1. Create the model\n",
        "base_efficient_net_model=tf.keras.applications.EfficientNetB0(include_top=False)\n",
        "base_efficient_net_model.trainable=False\n",
        "\n",
        "# Setting the base model to train (only on the last 10 layers)\n",
        "LAYERS_TRAINABLE = 10\n",
        "for layer in base_efficient_net_model.layers[-LAYERS_TRAINABLE:]:\n",
        "  layer.trainable = True\n",
        "\n",
        "inputs= layers.Input(shape=INPUT_SHAPE, name=\"input_layer\")\n",
        "x = base_efficient_net_model(inputs)\n",
        "x = tf.keras.layers.GlobalAveragePooling2D(name=\"global_average_pooling_layer\")(x)\n",
        "outputs=tf.keras.layers.Dense(131,activation=\"softmax\",name=\"output_layer\")(x)\n",
        "model_6 = tf.keras.Model(inputs=inputs, outputs=outputs)\n",
        "model_6.__name = \"model_6_finetuned_EfficientNet\"\n",
        "\n",
        "# 2. Compile the model\n",
        "model_6.compile(loss=\"categorical_crossentropy\",\n",
        "                optimizer=\"Adam\",\n",
        "                metrics=[\"accuracy\"])\n",
        "\n",
        "# 3. Get the summary\n",
        "model_6.summary()\n",
        "\n",
        "# 4. Fit the model\n",
        "history_model_6 = model_6.fit(train_data,\n",
        "                              epochs=10,\n",
        "                              validation_data=test_data,\n",
        "                              validation_steps=len(test_data)*0.15,\n",
        "                              callbacks=[create_model_checkpoint(model_name=model_6.name)])"
      ],
      "metadata": {
        "id": "gEL8YxLa7MWE"
      },
      "execution_count": null,
      "outputs": []
    },
    {
      "cell_type": "code",
      "source": [
        "# Save model's architecture as an image\n",
        "plot_model(model_6, to_file='/content/model_architectures/model_6.png')\n",
        "\n",
        "# About the model history\n",
        "plot_loss_curves(history_model_6)"
      ],
      "metadata": {
        "id": "LwP1hfZ37l_7"
      },
      "execution_count": null,
      "outputs": []
    },
    {
      "cell_type": "code",
      "source": [
        "# Loading in the best weights\n",
        "best_weights_path = \"/content/model_experiments/model_6_finetuned_EfficientNet\"\n",
        "model_6.load_weights(best_weights_path)\n",
        "\n",
        "# Evaluate on test set\n",
        "model_6.evaluate(test_data)"
      ],
      "metadata": {
        "id": "TK1Ix6Bo7o1c"
      },
      "execution_count": null,
      "outputs": []
    },
    {
      "cell_type": "code",
      "source": [
        "# Getting predictions on test data\n",
        "model_6_preds_prob = model_6.predict(test_data, verbose=1)\n",
        "model_6_preds_classes = model_6_preds_prob.argmax(axis=1)\n",
        "\n",
        "# Getting a metrics report\n",
        "model_6_metrics = get_metrics(y_labels, model_6_preds_classes)\n",
        "model_6_metrics"
      ],
      "metadata": {
        "id": "-89PKkn_7yc-"
      },
      "execution_count": null,
      "outputs": []
    },
    {
      "cell_type": "markdown",
      "source": [
        "## Step 4: Compare results and conclude experiments\n",
        "- Use graphs and matrices to visualize results.\n",
        "- (*Optional*) Tune hyperparameters of the best model.\n",
        "- Compare best models results with researchers best model.\n",
        "- Export the best model.\n"
      ],
      "metadata": {
        "id": "uhXoIl1T_Ju3"
      }
    },
    {
      "cell_type": "code",
      "source": [
        "# Dataframe of results\n",
        "results_df = pd.DataFrame({\"model_0_dense\": model_0_metrics,\n",
        "                           \"model_1_Conv2D\": model_1_metrics,\n",
        "                           \"model_2_best_on_paper\": model_2_metrics,\n",
        "                           \"model_3_freezed_ResNet\": model_3_metrics,\n",
        "                           \"model_4_freezed_EfficientNet\": model_4_metrics,\n",
        "                           \"model_5_finetuned_ResNet\": model_5_metrics,\n",
        "                           \"model_6_finetuned_EfficientNet\": model_6_metrics}).T\n",
        "results_df"
      ],
      "metadata": {
        "id": "NbXCA7X68D01"
      },
      "execution_count": null,
      "outputs": []
    },
    {
      "cell_type": "code",
      "source": [
        "# Plotting various metrics\n",
        "plt.figure(figsize=(15,12))\n",
        "plt.title(\"Metrics of all models\")\n",
        "plt.subplot(2,2,1)\n",
        "plt.bar(results_df.index, results_df[\"Accuracy\"])\n",
        "plt.xlabel(\"Models\")\n",
        "plt.ylabel(\"Accuracy\")\n",
        "plt.subplot(2,2,2)\n",
        "plt.bar(results_df.index, results_df[\"Precision\"])\n",
        "plt.xlabel(\"Models\")\n",
        "plt.ylabel(\"Precision\")\n",
        "plt.subplot(2,2,3)\n",
        "plt.bar(results_df.index, results_df[\"Recall\"])\n",
        "plt.xlabel(\"Models\")\n",
        "plt.ylabel(\"Recall\")\n",
        "plt.subplot(2,2,4)\n",
        "plt.bar(results_df.index, results_df[\"F1-score\"])\n",
        "plt.xlabel(\"Models\")\n",
        "plt.ylabel(\"F1-score\")"
      ],
      "metadata": {
        "id": "0iu72KtX9tn-"
      },
      "execution_count": null,
      "outputs": []
    }
  ]
}