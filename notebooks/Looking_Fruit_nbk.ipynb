{
  "cells": [
    {
      "cell_type": "markdown",
      "metadata": {
        "id": "uNrJinLmAcVX"
      },
      "source": [
        "[![Open In Colab](https://colab.research.google.com/assets/colab-badge.svg)](https://colab.research.google.com/github/ishandandekar/Looking-Fruit/blob/main/Looking_Fruit_nbk.ipynb)"
      ]
    },
    {
      "cell_type": "markdown",
      "metadata": {
        "id": "2t7p4-GpnQFQ"
      },
      "source": [
        "# Looking_Fruit\n",
        "\n",
        "👋 Hello and welcome to the **Looking_Fruit** notebook. In this notebook I try to replicate the [Fruits-360](https://www.researchgate.net/publication/321475443_Fruit_recognition_from_images_using_deep_learning) research paper. In this paper, researchers have tried to classify images of **131** fruits and vegetables. The data used for these modelling experiments is provided by the paper researchers themselves."
      ]
    },
    {
      "cell_type": "code",
      "execution_count": 1,
      "metadata": {
        "colab": {
          "base_uri": "https://localhost:8080/"
        },
        "id": "6fVSgcHVkTpS",
        "outputId": "520c3a83-e3e9-419a-a84a-b1497b60fd46"
      },
      "outputs": [
        {
          "output_type": "stream",
          "name": "stdout",
          "text": [
            "GPU 0: Tesla T4 (UUID: GPU-77fbeadb-ead9-f680-11d3-ff3d3e8d9dfd)\n"
          ]
        }
      ],
      "source": [
        "# Check for GPU\n",
        "!nvidia-smi -L"
      ]
    },
    {
      "cell_type": "markdown",
      "metadata": {
        "id": "yK-K0_Oxp9RI"
      },
      "source": [
        "## Step 0: Defining the problem\n"
      ]
    },
    {
      "cell_type": "markdown",
      "metadata": {
        "id": "E957ywbEkgil"
      },
      "source": [
        "**Objective:**  \n",
        "To classify the images of various fruits and vegetables with best f1-score.  \n",
        "\n",
        "**Files:**\n",
        "- *Train*: This folder contains folders labelled as fruit's/vegetable's name. These subfolders contain images of the respective fruit/vegetable. This folder will be used for training purpose.\n",
        "- *Test*: This folder contains folders labelled as fruit's/vegetable's name. These subfolders contain images of the respective fruit/vegetable. This folder will be used for testing purpose."
      ]
    },
    {
      "cell_type": "markdown",
      "metadata": {
        "id": "Yujoou29mCFK"
      },
      "source": [
        "## Step 1: Getting the data\n",
        "The data used for this project is publicly available on [Kaggle](https://www.kaggle.com/datasets/ishandandekar/fruitimagedataset).\n",
        "\n",
        "- Use Kaggle's API to download the data into Colab.\n",
        "- Get utility functions to help in future.\n",
        "- Configure data files to read using Python.\n"
      ]
    },
    {
      "cell_type": "code",
      "execution_count": 2,
      "metadata": {
        "colab": {
          "base_uri": "https://localhost:8080/"
        },
        "id": "RriztHP9nLy1",
        "outputId": "3ac119dc-8b41-4f37-929a-09fcc369419f"
      },
      "outputs": [
        {
          "output_type": "stream",
          "name": "stdout",
          "text": [
            "--2022-09-10 18:21:44--  https://raw.githubusercontent.com/ishandandekar/Looking-Fruit/main/scripts/helper_functions.py\n",
            "Resolving raw.githubusercontent.com (raw.githubusercontent.com)... 185.199.108.133, 185.199.109.133, 185.199.110.133, ...\n",
            "Connecting to raw.githubusercontent.com (raw.githubusercontent.com)|185.199.108.133|:443... connected.\n",
            "HTTP request sent, awaiting response... 200 OK\n",
            "Length: 3004 (2.9K) [text/plain]\n",
            "Saving to: ‘helper_functions.py’\n",
            "\n",
            "\rhelper_functions.py   0%[                    ]       0  --.-KB/s               \rhelper_functions.py 100%[===================>]   2.93K  --.-KB/s    in 0s      \n",
            "\n",
            "2022-09-10 18:21:45 (41.1 MB/s) - ‘helper_functions.py’ saved [3004/3004]\n",
            "\n"
          ]
        }
      ],
      "source": [
        "# Getting the helper functions script\n",
        "!wget https://raw.githubusercontent.com/ishandandekar/Looking-Fruit/main/scripts/helper_functions.py\n",
        "\n",
        "# Get the necessary functions from the python script\n",
        "from helper_functions import plot_loss_curves, unzip_data, create_model_checkpoint, create_early_stopping, get_metrics"
      ]
    },
    {
      "cell_type": "markdown",
      "metadata": {
        "id": "AQk2Ny-zWEtP"
      },
      "source": [
        "About these helper functions (see documentation for better description):\n",
        "* **plot_loss_curves** : Plots a line graph (using matplotlib) to see changes in loss and accuracy during training.\n",
        "* **unzip_data** : Unzips a zip file to a directory\n",
        "* **create_model_checkpoint** : Creates a model checkpoint with only best weights (monitored over validation loss).\n",
        "* **create_early_stopping** : Creates an early stopping callback to prevent overfitting.\n",
        "* **get_metrics** : Returns a dictionary with classification metrics."
      ]
    },
    {
      "cell_type": "code",
      "execution_count": 3,
      "metadata": {
        "colab": {
          "base_uri": "https://localhost:8080/",
          "height": 126,
          "resources": {
            "http://localhost:8080/nbextensions/google.colab/files.js": {
              "data": "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",
              "headers": [
                [
                  "content-type",
                  "application/javascript"
                ]
              ],
              "ok": true,
              "status": 200,
              "status_text": ""
            }
          }
        },
        "id": "QxwTbHhbniZd",
        "outputId": "bc0217df-1960-42c9-e955-4499a64928f3"
      },
      "outputs": [
        {
          "output_type": "display_data",
          "data": {
            "text/plain": [
              "<IPython.core.display.HTML object>"
            ],
            "text/html": [
              "\n",
              "     <input type=\"file\" id=\"files-874b9f04-de83-4f11-a23e-755cbc238f52\" name=\"files[]\" multiple disabled\n",
              "        style=\"border:none\" />\n",
              "     <output id=\"result-874b9f04-de83-4f11-a23e-755cbc238f52\">\n",
              "      Upload widget is only available when the cell has been executed in the\n",
              "      current browser session. Please rerun this cell to enable.\n",
              "      </output>\n",
              "      <script src=\"/nbextensions/google.colab/files.js\"></script> "
            ]
          },
          "metadata": {}
        },
        {
          "output_type": "stream",
          "name": "stdout",
          "text": [
            "Saving kaggle.json to kaggle.json\n",
            "Downloading fruitimagedataset.zip to /content\n",
            " 98% 391M/398M [00:02<00:00, 154MB/s]\n",
            "100% 398M/398M [00:03<00:00, 138MB/s]\n"
          ]
        }
      ],
      "source": [
        "# Install the kaggle library\n",
        "!pip install -q kaggle\n",
        "\n",
        "# Upload the Kaggle API keys\n",
        "from google.colab import files\n",
        "files.upload()\n",
        "\n",
        "!mkdir ~/.kaggle\n",
        "\n",
        "# Copy the json file to the folder\n",
        "!cp kaggle.json ~/.kaggle\n",
        "\n",
        "# Change permissions for keys to work with the Kaggle API\n",
        "!chmod 600 ~/.kaggle/kaggle.json\n",
        "\n",
        "# Download the dataset\n",
        "!kaggle datasets download -d ishandandekar/fruitimagedataset\n",
        "\n",
        "# Unzip data\n",
        "unzip_data('fruitimagedataset.zip', data_dir=\"raw\")"
      ]
    },
    {
      "cell_type": "markdown",
      "metadata": {
        "id": "2y7AyVsDpMeK"
      },
      "source": [
        "## Step 2: Know more about the data\n",
        "\n",
        "- Get the statistics about the data.\n",
        "- Check if the labels are imbalanced.\n",
        "- Visualize random samples in data.\n",
        "- (*If required*) Trim data.\n",
        "- (*If required*) Preprocess the data.\n",
        "- Make data processing faster using `ImageDataGenerator`."
      ]
    },
    {
      "cell_type": "code",
      "execution_count": 4,
      "metadata": {
        "id": "rruTT4WnpvsR"
      },
      "outputs": [],
      "source": [
        "# Importing necessary libraries\n",
        "import numpy as np\n",
        "import pandas as pd\n",
        "import matplotlib.pyplot as plt\n",
        "import matplotlib.image as mpimg\n",
        "import os\n",
        "import random\n",
        "import shutil\n",
        "import tensorflow as tf\n",
        "from tensorflow.keras import layers\n",
        "from tensorflow.keras.utils import plot_model\n",
        "from tensorflow.keras.metrics import CategoricalAccuracy, Precision, Recall"
      ]
    },
    {
      "cell_type": "code",
      "execution_count": 5,
      "metadata": {
        "id": "Jgdo_iPQp-hw"
      },
      "outputs": [],
      "source": [
        "# Setting up necessary variables\n",
        "TRAIN_PATH = '/content/raw/train/train/'\n",
        "TEST_PATH = '/content/raw/test/test/'\n",
        "RAW_DATA_PATH = '/content/raw'\n",
        "MODEL_VERBOSE = 1"
      ]
    },
    {
      "cell_type": "code",
      "execution_count": 6,
      "metadata": {
        "id": "uJI7iNbnqHOp",
        "colab": {
          "base_uri": "https://localhost:8080/"
        },
        "outputId": "dd72760d-7c41-4a2a-ec00-afbbffd20e76"
      },
      "outputs": [
        {
          "output_type": "stream",
          "name": "stdout",
          "text": [
            "Total number of classes to deal with: 131\n"
          ]
        }
      ],
      "source": [
        "# Checking the number of classes\n",
        "classes = []\n",
        "\n",
        "for dirname, _, filenames in os.walk(RAW_DATA_PATH):\n",
        "    if dirname.startswith(f\"{TRAIN_PATH}\"):\n",
        "        classes.append(dirname[len(TRAIN_PATH):])\n",
        "\n",
        "print(f\"Total number of classes to deal with: {len(classes)}\")"
      ]
    },
    {
      "cell_type": "code",
      "execution_count": null,
      "metadata": {
        "id": "_FaY0ocUwKP5"
      },
      "outputs": [],
      "source": [
        "# Show random classes present in the dataset\n",
        "list_of_five_random_labels = random.sample(classes,5)\n",
        "list_of_five_random_labels"
      ]
    },
    {
      "cell_type": "code",
      "execution_count": null,
      "metadata": {
        "id": "fl9ktKX6wiaM"
      },
      "outputs": [],
      "source": [
        "# Number of images of each fruit/vegetable as a pandas.DataFrame\n",
        "\n",
        "# List to append the count of images\n",
        "number_of_images_train = []\n",
        "\n",
        "for label in classes:\n",
        "    path = f'{TRAIN_PATH}/{label}'\n",
        "    count = len(os.listdir(path))\n",
        "    number_of_images_train.append(count)\n",
        "\n",
        "train_image_count_df = pd.DataFrame({\"Label\":classes,\"Number of Images\":number_of_images_train})\n",
        "\n",
        "# To view first 10 rows of the dataframe\n",
        "train_image_count_df.head(10)"
      ]
    },
    {
      "cell_type": "code",
      "execution_count": null,
      "metadata": {
        "id": "6L99UaG5iyQT"
      },
      "outputs": [],
      "source": [
        "# Label with most number of images\n",
        "print(f\"Label with most number of images:\")\n",
        "print(train_image_count_df.sort_values(\"Number of Images\",ascending=False).head(1))\n",
        "print(f\"Label with least number of images:\")\n",
        "print(train_image_count_df.sort_values(\"Number of Images\",ascending=True).head(1))"
      ]
    },
    {
      "cell_type": "code",
      "execution_count": null,
      "metadata": {
        "id": "Cv6G8PcTwtGI"
      },
      "outputs": [],
      "source": [
        "# Show random sample from training of a random fruit/vegetable\n",
        "\n",
        "random_label = random.choice(classes)\n",
        "sample_path = f'{TRAIN_PATH}/{random_label}'\n",
        "random_image= random.choice(os.listdir(sample_path))\n",
        "random_image_path = f'{sample_path}/{random_image}'\n",
        "\n",
        "img = mpimg.imread(random_image_path)\n",
        "imgplot = plt.imshow(img)\n",
        "plt.axis(False)\n",
        "plt.title(f'{random_label}')\n",
        "plt.show()"
      ]
    },
    {
      "cell_type": "code",
      "execution_count": 7,
      "metadata": {
        "id": "Qy0hhPcZ1e8V"
      },
      "outputs": [],
      "source": [
        "# Making new directories for trimmed training data\n",
        "os.mkdir(\"data\")\n",
        "os.mkdir(\"data/train\")"
      ]
    },
    {
      "cell_type": "code",
      "execution_count": 8,
      "metadata": {
        "id": "xTCB88Cd0Suz"
      },
      "outputs": [],
      "source": [
        "# Trimming data as there are lot of training examples\n",
        "\n",
        "TRAIN_IMAGES_COUNT = 100\n",
        "\n",
        "for label in classes:\n",
        "  path = f'{TRAIN_PATH}/{label}'\n",
        "  img_files = os.listdir(path)\n",
        "  random_count_images = random.sample(img_files, TRAIN_IMAGES_COUNT)\n",
        "  new_path_for_label = f\"/content/data/train/{label}\"\n",
        "  os.mkdir(new_path_for_label)\n",
        "\n",
        "  for img_file in random_count_images:\n",
        "    shutil.move(f\"{path}/{img_file}\", new_path_for_label)"
      ]
    },
    {
      "cell_type": "code",
      "execution_count": 9,
      "metadata": {
        "id": "cbJoJNH-xqYl",
        "colab": {
          "base_uri": "https://localhost:8080/"
        },
        "outputId": "454a4d21-1310-4efb-ff10-6fdf559950ef"
      },
      "outputs": [
        {
          "output_type": "stream",
          "name": "stdout",
          "text": [
            "Found 13100 files belonging to 131 classes.\n",
            "Found 22688 files belonging to 131 classes.\n"
          ]
        }
      ],
      "source": [
        "# Image size has been specified in the research paper\n",
        "IMAGE_SIZE = (100,100)\n",
        "BATCH_SIZE = 32\n",
        "TRIMMED_TRAIN_PATH = '/content/data/train'\n",
        "TEST_PATH = '/content/raw/test/test'\n",
        "\n",
        "# To make data processing faster\n",
        "train_data=tf.keras.preprocessing.image_dataset_from_directory(directory=TRIMMED_TRAIN_PATH,\n",
        "                                                               image_size=IMAGE_SIZE,\n",
        "                                                               label_mode=\"categorical\",\n",
        "                                                               batch_size=BATCH_SIZE)\n",
        "\n",
        "test_data=tf.keras.preprocessing.image_dataset_from_directory(directory=TEST_PATH,\n",
        "                                                               image_size=IMAGE_SIZE,\n",
        "                                                               label_mode=\"categorical\",\n",
        "                                                               batch_size=BATCH_SIZE)"
      ]
    },
    {
      "cell_type": "code",
      "execution_count": null,
      "metadata": {
        "id": "ARrzAiaVg9bG"
      },
      "outputs": [],
      "source": [
        "# See an example of a batch of data and checking pixel values\n",
        "for images,labels in train_data.take(1):\n",
        "  for image in images:\n",
        "    print(f\"Shape of an image: {images.shape}\")\n",
        "    print(f\"Maximum in an image: {tf.math.reduce_max(images)}\")\n",
        "    break\n",
        "  break"
      ]
    },
    {
      "cell_type": "markdown",
      "metadata": {
        "id": "yDtentj-5F-0"
      },
      "source": [
        "## Step 3: Describing modelling experiments"
      ]
    },
    {
      "cell_type": "markdown",
      "metadata": {
        "id": "CsIhGbL_5xsc"
      },
      "source": [
        "- This notebook contains 7 models built to get the best **f1-score** on the test dataset. These models also include the models made by the researchers themselves.  \n",
        "- Models to be made:\n",
        "  1. **Model 0** : A simple model with fully connected multiple Dense layers; this model acts as a baseline.\n",
        "  1. **Model 1** : Multiple pairs of CNN and MaxPool layers with a  Dense layer in the end for classification.\n",
        "  1. **Model 2** : Replicate the best model (on the test set) from research paper; *should get better results from this.*\n",
        "  1. **Model 3** : Using transfer learning, exploit ResNet model for classification.\n",
        "  1. **Model 4** : Using transfer learning, exploit EfficientNetBx for classification.\n",
        "  1. **Model 5** : Use fine-tuned ResNet model for classification.\n",
        "  1. **Model 6** : Use fine-tuned EfficientNetBx for classification.\n",
        "- Get classification metrics for each model.\n"
      ]
    },
    {
      "cell_type": "code",
      "execution_count": 10,
      "metadata": {
        "id": "Q4oqp0a05Qm6"
      },
      "outputs": [],
      "source": [
        "# Directory to save images of models' architectures\n",
        "!mkdir model_architectures"
      ]
    },
    {
      "cell_type": "markdown",
      "metadata": {
        "id": "gr5XC0Uq_-yC"
      },
      "source": [
        "#### Model 0 \n",
        "* **Layers:** 3 Dense layers\n",
        "* **Optimizer:** Adam\n",
        "* **Loss:** Cross entropy\n",
        "* **Epochs:** 10\n",
        "* **Callbacks:** `ModelCheckpoint`\n",
        "* **Validation data:** available"
      ]
    },
    {
      "cell_type": "code",
      "execution_count": 11,
      "metadata": {
        "id": "GWBz8guhytLL",
        "colab": {
          "base_uri": "https://localhost:8080/"
        },
        "outputId": "5bec91bb-4f08-42f5-bba0-2215c5e7a45c"
      },
      "outputs": [
        {
          "output_type": "stream",
          "name": "stdout",
          "text": [
            "Model: \"model_0_dense\"\n",
            "_________________________________________________________________\n",
            " Layer (type)                Output Shape              Param #   \n",
            "=================================================================\n",
            " flatten (Flatten)           (None, 30000)             0         \n",
            "                                                                 \n",
            " input_1 (InputLayer)        multiple                  0         \n",
            "                                                                 \n",
            " dense (Dense)               (None, 128)               3840128   \n",
            "                                                                 \n",
            " dense_1 (Dense)             (None, 128)               16512     \n",
            "                                                                 \n",
            " dense_2 (Dense)             (None, 128)               16512     \n",
            "                                                                 \n",
            " dense_3 (Dense)             (None, 131)               16899     \n",
            "                                                                 \n",
            "=================================================================\n",
            "Total params: 3,890,051\n",
            "Trainable params: 3,890,051\n",
            "Non-trainable params: 0\n",
            "_________________________________________________________________\n",
            "Epoch 1/10\n",
            "409/410 [============================>.] - ETA: 0s - loss: 80.6481 - categorical_accuracy: 0.0059 - precision: 0.0058 - recall: 5.3484e-04\n",
            "Epoch 1: val_loss improved from inf to 4.87553, saving model to model_experiments/model_0_dense\n",
            "410/410 [==============================] - 14s 24ms/step - loss: 80.5787 - categorical_accuracy: 0.0059 - precision: 0.0058 - recall: 5.3435e-04 - val_loss: 4.8755 - val_categorical_accuracy: 0.0085 - val_precision: 0.0000e+00 - val_recall: 0.0000e+00\n",
            "Epoch 2/10\n",
            "410/410 [==============================] - ETA: 0s - loss: 4.8760 - categorical_accuracy: 0.0054 - precision: 0.0000e+00 - recall: 0.0000e+00\n",
            "Epoch 2: val_loss improved from 4.87553 to 4.87551, saving model to model_experiments/model_0_dense\n",
            "410/410 [==============================] - 8s 19ms/step - loss: 4.8760 - categorical_accuracy: 0.0054 - precision: 0.0000e+00 - recall: 0.0000e+00 - val_loss: 4.8755 - val_categorical_accuracy: 0.0050 - val_precision: 0.0000e+00 - val_recall: 0.0000e+00\n",
            "Epoch 3/10\n",
            "406/410 [============================>.] - ETA: 0s - loss: 4.8761 - categorical_accuracy: 0.0051 - precision: 0.0000e+00 - recall: 0.0000e+00\n",
            "Epoch 3: val_loss improved from 4.87551 to 4.87544, saving model to model_experiments/model_0_dense\n",
            "410/410 [==============================] - 9s 21ms/step - loss: 4.8761 - categorical_accuracy: 0.0050 - precision: 0.0000e+00 - recall: 0.0000e+00 - val_loss: 4.8754 - val_categorical_accuracy: 0.0061 - val_precision: 0.0000e+00 - val_recall: 0.0000e+00\n",
            "Epoch 4/10\n",
            "403/410 [============================>.] - ETA: 0s - loss: 4.8761 - categorical_accuracy: 0.0052 - precision: 0.0000e+00 - recall: 0.0000e+00\n",
            "Epoch 4: val_loss improved from 4.87544 to 4.87534, saving model to model_experiments/model_0_dense\n",
            "410/410 [==============================] - 10s 23ms/step - loss: 4.8761 - categorical_accuracy: 0.0053 - precision: 0.0000e+00 - recall: 0.0000e+00 - val_loss: 4.8753 - val_categorical_accuracy: 0.0088 - val_precision: 0.0000e+00 - val_recall: 0.0000e+00\n",
            "Epoch 5/10\n",
            "408/410 [============================>.] - ETA: 0s - loss: 4.8761 - categorical_accuracy: 0.0049 - precision: 0.0000e+00 - recall: 0.0000e+00\n",
            "Epoch 5: val_loss improved from 4.87534 to 4.87532, saving model to model_experiments/model_0_dense\n",
            "410/410 [==============================] - 11s 26ms/step - loss: 4.8761 - categorical_accuracy: 0.0049 - precision: 0.0000e+00 - recall: 0.0000e+00 - val_loss: 4.8753 - val_categorical_accuracy: 0.0096 - val_precision: 0.0000e+00 - val_recall: 0.0000e+00\n",
            "Epoch 6/10\n",
            "403/410 [============================>.] - ETA: 0s - loss: 4.8761 - categorical_accuracy: 0.0052 - precision: 0.0000e+00 - recall: 0.0000e+00\n",
            "Epoch 6: val_loss improved from 4.87532 to 4.87526, saving model to model_experiments/model_0_dense\n",
            "410/410 [==============================] - 13s 32ms/step - loss: 4.8761 - categorical_accuracy: 0.0052 - precision: 0.0000e+00 - recall: 0.0000e+00 - val_loss: 4.8753 - val_categorical_accuracy: 0.0061 - val_precision: 0.0000e+00 - val_recall: 0.0000e+00\n",
            "Epoch 7/10\n",
            "404/410 [============================>.] - ETA: 0s - loss: 4.8761 - categorical_accuracy: 0.0047 - precision: 0.0000e+00 - recall: 0.0000e+00\n",
            "Epoch 7: val_loss did not improve from 4.87526\n",
            "410/410 [==============================] - 14s 33ms/step - loss: 4.8761 - categorical_accuracy: 0.0047 - precision: 0.0000e+00 - recall: 0.0000e+00 - val_loss: 4.8753 - val_categorical_accuracy: 0.0058 - val_precision: 0.0000e+00 - val_recall: 0.0000e+00\n",
            "Epoch 8/10\n",
            "408/410 [============================>.] - ETA: 0s - loss: 4.8761 - categorical_accuracy: 0.0047 - precision: 0.0000e+00 - recall: 0.0000e+00\n",
            "Epoch 8: val_loss improved from 4.87526 to 4.87524, saving model to model_experiments/model_0_dense\n",
            "410/410 [==============================] - 14s 34ms/step - loss: 4.8761 - categorical_accuracy: 0.0047 - precision: 0.0000e+00 - recall: 0.0000e+00 - val_loss: 4.8752 - val_categorical_accuracy: 0.0058 - val_precision: 0.0000e+00 - val_recall: 0.0000e+00\n",
            "Epoch 9/10\n",
            "408/410 [============================>.] - ETA: 0s - loss: 4.8761 - categorical_accuracy: 0.0049 - precision: 0.0000e+00 - recall: 0.0000e+00\n",
            "Epoch 9: val_loss improved from 4.87524 to 4.87524, saving model to model_experiments/model_0_dense\n",
            "410/410 [==============================] - 13s 30ms/step - loss: 4.8761 - categorical_accuracy: 0.0049 - precision: 0.0000e+00 - recall: 0.0000e+00 - val_loss: 4.8752 - val_categorical_accuracy: 0.0058 - val_precision: 0.0000e+00 - val_recall: 0.0000e+00\n",
            "Epoch 10/10\n",
            "404/410 [============================>.] - ETA: 0s - loss: 4.8762 - categorical_accuracy: 0.0046 - precision: 0.0000e+00 - recall: 0.0000e+00\n",
            "Epoch 10: val_loss did not improve from 4.87524\n",
            "410/410 [==============================] - 13s 32ms/step - loss: 4.8762 - categorical_accuracy: 0.0045 - precision: 0.0000e+00 - recall: 0.0000e+00 - val_loss: 4.8753 - val_categorical_accuracy: 0.0061 - val_precision: 0.0000e+00 - val_recall: 0.0000e+00\n"
          ]
        }
      ],
      "source": [
        "# 0. Set random seed\n",
        "tf.random.set_seed(42)\n",
        "INPUT_SHAPE = (100,100,3)\n",
        "\n",
        "# 1. Create the model\n",
        "model_0 = tf.keras.Sequential([\n",
        "    layers.Flatten(input_shape=(100,100,3)),\n",
        "    layers.Input(shape=INPUT_SHAPE),\n",
        "    layers.Dense(128, activation=\"relu\"),\n",
        "    layers.Dense(128, activation=\"relu\"),\n",
        "    layers.Dense(128, activation=\"relu\"),\n",
        "    layers.Dense(131, activation=\"softmax\")\n",
        "], name=\"model_0_dense\")\n",
        "\n",
        "# 2. Compile the model\n",
        "model_0.compile(loss=\"categorical_crossentropy\",\n",
        "                optimizer=\"Adam\",\n",
        "                metrics=[CategoricalAccuracy(), Precision(), Recall()])\n",
        "\n",
        "# 3. Get the summary\n",
        "model_0.summary()\n",
        "\n",
        "# 4. Fit the model\n",
        "history_model_0 = model_0.fit(train_data,\n",
        "                              epochs=10,\n",
        "                              validation_data=test_data,\n",
        "                              validation_steps=len(test_data)*0.15,\n",
        "                              verbose=MODEL_VERBOSE,\n",
        "                              callbacks=[create_model_checkpoint(model_name=model_0.name)])"
      ]
    },
    {
      "cell_type": "code",
      "execution_count": 12,
      "metadata": {
        "id": "cqUcIZX622kS",
        "colab": {
          "base_uri": "https://localhost:8080/",
          "height": 573
        },
        "outputId": "cbb49d15-4b8c-4b43-d178-ce596f820541"
      },
      "outputs": [
        {
          "output_type": "display_data",
          "data": {
            "text/plain": [
              "<Figure size 432x288 with 1 Axes>"
            ],
            "image/png": "[encoded data removed]"
          },
          "metadata": {
            "needs_background": "light"
          }
        },
        {
          "output_type": "display_data",
          "data": {
            "text/plain": [
              "<Figure size 432x288 with 1 Axes>"
            ],
            "image/png": "[encoded data removed]"
          },
          "metadata": {
            "needs_background": "light"
          }
        }
      ],
      "source": [
        "# Save model's architecture as an image\n",
        "plot_model(model_0, to_file='/content/model_architectures/model_0.png')\n",
        "\n",
        "# About the model history\n",
        "plot_loss_curves(history_model_0)"
      ]
    },
    {
      "cell_type": "code",
      "execution_count": 13,
      "metadata": {
        "id": "tPMO-JnrYxhD",
        "colab": {
          "base_uri": "https://localhost:8080/"
        },
        "outputId": "6e7a3f98-c5e6-4311-8661-93d4de0ba602"
      },
      "outputs": [
        {
          "output_type": "stream",
          "name": "stdout",
          "text": [
            "709/709 [==============================] - 21s 29ms/step - loss: 4.8753 - categorical_accuracy: 0.0072 - precision: 0.0000e+00 - recall: 0.0000e+00\n"
          ]
        }
      ],
      "source": [
        "# Loading in the best weights\n",
        "best_weights_path = \"/content/model_experiments/model_0_dense\"\n",
        "model_0.load_weights(best_weights_path)\n",
        "\n",
        "# Evaluate on test set\n",
        "loss_0, accuracy_0, precision_0, recall_0 = model_0.evaluate(test_data)"
      ]
    },
    {
      "cell_type": "code",
      "execution_count": 14,
      "metadata": {
        "id": "J8XaSBWceQna"
      },
      "outputs": [],
      "source": [
        "# Unravel dataset\n",
        "y_labels = []\n",
        "for images,labels in test_data.unbatch():\n",
        "  y_labels.append(labels.numpy().argmax())\n",
        "y_labels = np.array(y_labels).reshape(-1)"
      ]
    },
    {
      "cell_type": "code",
      "execution_count": 15,
      "metadata": {
        "id": "fN4BAyhwZrcX",
        "colab": {
          "base_uri": "https://localhost:8080/"
        },
        "outputId": "e300ceb7-61e1-4eaf-97fe-a1352528ce2e"
      },
      "outputs": [
        {
          "output_type": "execute_result",
          "data": {
            "text/plain": [
              "{'Loss': 4.875260353088379,\n",
              " 'Accuracy': 0.7228490896522999,\n",
              " 'Precision': 0.0,\n",
              " 'Recall': 0.0}"
            ]
          },
          "metadata": {},
          "execution_count": 15
        }
      ],
      "source": [
        "# Getting a metrics report\n",
        "model_0_metrics = get_metrics(loss_0, accuracy_0, precision_0, recall_0)\n",
        "model_0_metrics"
      ]
    },
    {
      "cell_type": "markdown",
      "metadata": {
        "id": "bTZ_xAlHADd4"
      },
      "source": [
        "#### Model 1 \n",
        "* **Layers:** Multiple Conv2D layers paired with MaxPool layers with a Dense layer at the end\n",
        "* **Optimizer:** Adam\n",
        "* **Loss:** Cross entropy\n",
        "* **Epochs:** 10\n",
        "* **Callbacks:** `ModelCheckpoint`\n",
        "* **Validation data:** available"
      ]
    },
    {
      "cell_type": "code",
      "execution_count": 16,
      "metadata": {
        "id": "ahkcIbZQ3zVm",
        "colab": {
          "base_uri": "https://localhost:8080/"
        },
        "outputId": "032c31fb-205f-4e36-fc01-2de8053ad7d6"
      },
      "outputs": [
        {
          "output_type": "stream",
          "name": "stdout",
          "text": [
            "Model: \"model_1_Conv2D\"\n",
            "_________________________________________________________________\n",
            " Layer (type)                Output Shape              Param #   \n",
            "=================================================================\n",
            " conv2d (Conv2D)             (None, 98, 98, 10)        280       \n",
            "                                                                 \n",
            " conv2d_1 (Conv2D)           (None, 96, 96, 10)        910       \n",
            "                                                                 \n",
            " max_pooling2d (MaxPooling2D  (None, 48, 48, 10)       0         \n",
            " )                                                               \n",
            "                                                                 \n",
            " conv2d_2 (Conv2D)           (None, 46, 46, 10)        910       \n",
            "                                                                 \n",
            " conv2d_3 (Conv2D)           (None, 44, 44, 10)        910       \n",
            "                                                                 \n",
            " max_pooling2d_1 (MaxPooling  (None, 22, 22, 10)       0         \n",
            " 2D)                                                             \n",
            "                                                                 \n",
            " flatten_1 (Flatten)         (None, 4840)              0         \n",
            "                                                                 \n",
            " dense_4 (Dense)             (None, 131)               634171    \n",
            "                                                                 \n",
            "=================================================================\n",
            "Total params: 637,181\n",
            "Trainable params: 637,181\n",
            "Non-trainable params: 0\n",
            "_________________________________________________________________\n",
            "Epoch 1/10\n",
            "410/410 [==============================] - ETA: 0s - loss: 1.7891 - categorical_accuracy: 0.6992 - precision_1: 0.8982 - recall_1: 0.6327\n",
            "Epoch 1: val_loss improved from inf to 1.17243, saving model to model_experiments/model_1_Conv2D\n",
            "410/410 [==============================] - 20s 23ms/step - loss: 1.7891 - categorical_accuracy: 0.6992 - precision_1: 0.8982 - recall_1: 0.6327 - val_loss: 1.1724 - val_categorical_accuracy: 0.7404 - val_precision_1: 0.8038 - val_recall_1: 0.7074\n",
            "Epoch 2/10\n",
            "408/410 [============================>.] - ETA: 0s - loss: 0.0579 - categorical_accuracy: 0.9844 - precision_1: 0.9885 - recall_1: 0.9810\n",
            "Epoch 2: val_loss improved from 1.17243 to 0.95139, saving model to model_experiments/model_1_Conv2D\n",
            "410/410 [==============================] - 9s 22ms/step - loss: 0.0579 - categorical_accuracy: 0.9844 - precision_1: 0.9885 - recall_1: 0.9809 - val_loss: 0.9514 - val_categorical_accuracy: 0.8143 - val_precision_1: 0.8516 - val_recall_1: 0.8029\n",
            "Epoch 3/10\n",
            "409/410 [============================>.] - ETA: 0s - loss: 0.0245 - categorical_accuracy: 0.9935 - precision_1: 0.9946 - recall_1: 0.9924\n",
            "Epoch 3: val_loss improved from 0.95139 to 0.88521, saving model to model_experiments/model_1_Conv2D\n",
            "410/410 [==============================] - 9s 22ms/step - loss: 0.0245 - categorical_accuracy: 0.9935 - precision_1: 0.9946 - recall_1: 0.9924 - val_loss: 0.8852 - val_categorical_accuracy: 0.8277 - val_precision_1: 0.8651 - val_recall_1: 0.8131\n",
            "Epoch 4/10\n",
            "409/410 [============================>.] - ETA: 0s - loss: 0.0751 - categorical_accuracy: 0.9805 - precision_1: 0.9832 - recall_1: 0.9770\n",
            "Epoch 4: val_loss did not improve from 0.88521\n",
            "410/410 [==============================] - 9s 22ms/step - loss: 0.0752 - categorical_accuracy: 0.9804 - precision_1: 0.9831 - recall_1: 0.9769 - val_loss: 1.1470 - val_categorical_accuracy: 0.7751 - val_precision_1: 0.8143 - val_recall_1: 0.7529\n",
            "Epoch 5/10\n",
            "409/410 [============================>.] - ETA: 0s - loss: 0.0242 - categorical_accuracy: 0.9924 - precision_1: 0.9933 - recall_1: 0.9915\n",
            "Epoch 5: val_loss did not improve from 0.88521\n",
            "410/410 [==============================] - 10s 23ms/step - loss: 0.0242 - categorical_accuracy: 0.9924 - precision_1: 0.9933 - recall_1: 0.9915 - val_loss: 0.9263 - val_categorical_accuracy: 0.8484 - val_precision_1: 0.8695 - val_recall_1: 0.8426\n",
            "Epoch 6/10\n",
            "410/410 [==============================] - ETA: 0s - loss: 0.0158 - categorical_accuracy: 0.9960 - precision_1: 0.9963 - recall_1: 0.9957\n",
            "Epoch 6: val_loss did not improve from 0.88521\n",
            "410/410 [==============================] - 9s 23ms/step - loss: 0.0158 - categorical_accuracy: 0.9960 - precision_1: 0.9963 - recall_1: 0.9957 - val_loss: 0.9583 - val_categorical_accuracy: 0.8519 - val_precision_1: 0.8756 - val_recall_1: 0.8446\n",
            "Epoch 7/10\n",
            "408/410 [============================>.] - ETA: 0s - loss: 0.0058 - categorical_accuracy: 0.9988 - precision_1: 0.9990 - recall_1: 0.9986\n",
            "Epoch 7: val_loss did not improve from 0.88521\n",
            "410/410 [==============================] - 9s 23ms/step - loss: 0.0058 - categorical_accuracy: 0.9988 - precision_1: 0.9990 - recall_1: 0.9986 - val_loss: 1.0419 - val_categorical_accuracy: 0.8367 - val_precision_1: 0.8568 - val_recall_1: 0.8318\n",
            "Epoch 8/10\n",
            "409/410 [============================>.] - ETA: 0s - loss: 0.0370 - categorical_accuracy: 0.9901 - precision_1: 0.9909 - recall_1: 0.9890\n",
            "Epoch 8: val_loss did not improve from 0.88521\n",
            "410/410 [==============================] - 9s 22ms/step - loss: 0.0369 - categorical_accuracy: 0.9901 - precision_1: 0.9909 - recall_1: 0.9890 - val_loss: 1.5258 - val_categorical_accuracy: 0.7865 - val_precision_1: 0.8115 - val_recall_1: 0.7780\n",
            "Epoch 9/10\n",
            "409/410 [============================>.] - ETA: 0s - loss: 0.0861 - categorical_accuracy: 0.9793 - precision_1: 0.9819 - recall_1: 0.9762\n",
            "Epoch 9: val_loss did not improve from 0.88521\n",
            "410/410 [==============================] - 9s 22ms/step - loss: 0.0861 - categorical_accuracy: 0.9793 - precision_1: 0.9819 - recall_1: 0.9762 - val_loss: 1.1188 - val_categorical_accuracy: 0.8218 - val_precision_1: 0.8471 - val_recall_1: 0.8122\n",
            "Epoch 10/10\n",
            "408/410 [============================>.] - ETA: 0s - loss: 0.0221 - categorical_accuracy: 0.9937 - precision_1: 0.9943 - recall_1: 0.9936\n",
            "Epoch 10: val_loss did not improve from 0.88521\n",
            "410/410 [==============================] - 10s 23ms/step - loss: 0.0220 - categorical_accuracy: 0.9937 - precision_1: 0.9943 - recall_1: 0.9937 - val_loss: 1.3542 - val_categorical_accuracy: 0.8026 - val_precision_1: 0.8199 - val_recall_1: 0.7953\n"
          ]
        }
      ],
      "source": [
        "# 0. Set random seed\n",
        "tf.random.set_seed(42)\n",
        "INPUT_SHAPE = (100,100,3)\n",
        "\n",
        "# 1. Create the model\n",
        "model_1 = tf.keras.Sequential([\n",
        "     tf.keras.layers.Conv2D(filters=10,\n",
        "                            kernel_size=3,\n",
        "                            activation=\"relu\",\n",
        "                            input_shape=INPUT_SHAPE),\n",
        "     tf.keras.layers.Conv2D(10,3,activation=\"relu\"),\n",
        "     tf.keras.layers.MaxPool2D(pool_size=2,\n",
        "                               padding=\"valid\"),\n",
        "     tf.keras.layers.Conv2D(10,3,activation=\"relu\"),\n",
        "     tf.keras.layers.Conv2D(10,3,activation=\"relu\"),\n",
        "     tf.keras.layers.MaxPool2D(2),\n",
        "     tf.keras.layers.Flatten(),\n",
        "     tf.keras.layers.Dense(131,activation=\"softmax\")\n",
        "], name=\"model_1_Conv2D\")\n",
        "\n",
        "# 2. Compile the model\n",
        "model_1.compile(loss=\"categorical_crossentropy\",\n",
        "                optimizer=\"Adam\",\n",
        "                metrics=[CategoricalAccuracy(), Precision(), Recall()])\n",
        "\n",
        "# 3. Get the summary\n",
        "model_1.summary()\n",
        "\n",
        "# 4. Fit the model\n",
        "history_model_1 = model_1.fit(train_data,\n",
        "                              epochs=10,\n",
        "                              validation_data=test_data,\n",
        "                              validation_steps=len(test_data)*0.15,\n",
        "                              verbose=MODEL_VERBOSE,\n",
        "                              callbacks=[create_model_checkpoint(model_name=model_1.name)])"
      ]
    },
    {
      "cell_type": "code",
      "execution_count": 17,
      "metadata": {
        "id": "XbN-psnP4TjC",
        "colab": {
          "base_uri": "https://localhost:8080/",
          "height": 573
        },
        "outputId": "257c9001-2301-467f-864c-8b7656cab9e1"
      },
      "outputs": [
        {
          "output_type": "display_data",
          "data": {
            "text/plain": [
              "<Figure size 432x288 with 1 Axes>"
            ],
            "image/png": "[encoded data removed]"
          },
          "metadata": {
            "needs_background": "light"
          }
        },
        {
          "output_type": "display_data",
          "data": {
            "text/plain": [
              "<Figure size 432x288 with 1 Axes>"
            ],
            "image/png": "[encoded data removed]"
          },
          "metadata": {
            "needs_background": "light"
          }
        }
      ],
      "source": [
        "# Save model's architecture as an image\n",
        "plot_model(model_1, to_file='/content/model_architectures/model_1.png')\n",
        "\n",
        "# About the model history\n",
        "plot_loss_curves(history_model_1)"
      ]
    },
    {
      "cell_type": "code",
      "execution_count": 18,
      "metadata": {
        "id": "FeyFbKYd4WCe",
        "colab": {
          "base_uri": "https://localhost:8080/"
        },
        "outputId": "97d81a6f-455d-4130-d9ec-2b046fa31853"
      },
      "outputs": [
        {
          "output_type": "stream",
          "name": "stdout",
          "text": [
            "709/709 [==============================] - 11s 16ms/step - loss: 0.9704 - categorical_accuracy: 0.8206 - precision_1: 0.8535 - recall_1: 0.8047\n"
          ]
        }
      ],
      "source": [
        "# Loading in the best weights\n",
        "best_weights_path = \"/content/model_experiments/model_1_Conv2D\"\n",
        "model_1.load_weights(best_weights_path)\n",
        "\n",
        "# Evaluate on test set\n",
        "loss_1, accuracy_1, precision_1, recall_1 = model_1.evaluate(test_data)"
      ]
    },
    {
      "cell_type": "code",
      "execution_count": 19,
      "metadata": {
        "id": "G8jQAWDr4d-L",
        "colab": {
          "base_uri": "https://localhost:8080/"
        },
        "outputId": "911efca0-a00e-4b53-cae5-71c7d4228be1"
      },
      "outputs": [
        {
          "output_type": "execute_result",
          "data": {
            "text/plain": [
              "{'Loss': 0.9704416990280151,\n",
              " 'Accuracy': 82.0609986782074,\n",
              " 'Precision': 0.8535365462303162,\n",
              " 'Recall': 0.8047425746917725}"
            ]
          },
          "metadata": {},
          "execution_count": 19
        }
      ],
      "source": [
        "# Getting a metrics report\n",
        "model_1_metrics = get_metrics(loss_1, accuracy_1, precision_1, recall_1)\n",
        "model_1_metrics"
      ]
    },
    {
      "cell_type": "markdown",
      "metadata": {
        "id": "7Z-aHSMMAEXj"
      },
      "source": [
        "#### Model 2 (Researchers' best model)\n",
        "* **Layers:** Multiple layer model including Conv2D, MaxPool, Dense, Dropouts and Flatten\n",
        "* **Optimizer:** Adadelta (with learning rate as 0.1)\n",
        "* **Loss:** Cross entropy\n",
        "* **Epochs:** 25\n",
        "* **Callbacks:** `ModelCheckpoint`, `EarlyStopping`\n",
        "* **Validation data:** available"
      ]
    },
    {
      "cell_type": "code",
      "execution_count": 20,
      "metadata": {
        "id": "Zz60IDo9s_NH",
        "colab": {
          "base_uri": "https://localhost:8080/"
        },
        "outputId": "82429435-3883-4d21-8dab-9cfcdfdc6750"
      },
      "outputs": [
        {
          "output_type": "stream",
          "name": "stdout",
          "text": [
            "Model: \"model_2_best_on_paper\"\n",
            "_________________________________________________________________\n",
            " Layer (type)                Output Shape              Param #   \n",
            "=================================================================\n",
            " input_layer (InputLayer)    [(None, 100, 100, 3)]     0         \n",
            "                                                                 \n",
            " conv1 (Conv2D)              (None, 100, 100, 16)      1216      \n",
            "                                                                 \n",
            " conv1_relu (Activation)     (None, 100, 100, 16)      0         \n",
            "                                                                 \n",
            " pool1 (MaxPooling2D)        (None, 50, 50, 16)        0         \n",
            "                                                                 \n",
            " conv2 (Conv2D)              (None, 50, 50, 32)        12832     \n",
            "                                                                 \n",
            " conv2_relu (Activation)     (None, 50, 50, 32)        0         \n",
            "                                                                 \n",
            " pool2 (MaxPooling2D)        (None, 25, 25, 32)        0         \n",
            "                                                                 \n",
            " conv3 (Conv2D)              (None, 25, 25, 64)        51264     \n",
            "                                                                 \n",
            " conv3_relu (Activation)     (None, 25, 25, 64)        0         \n",
            "                                                                 \n",
            " pool3 (MaxPooling2D)        (None, 12, 12, 64)        0         \n",
            "                                                                 \n",
            " conv4 (Conv2D)              (None, 12, 12, 128)       204928    \n",
            "                                                                 \n",
            " conv4_relu (Activation)     (None, 12, 12, 128)       0         \n",
            "                                                                 \n",
            " pool4 (MaxPooling2D)        (None, 6, 6, 128)         0         \n",
            "                                                                 \n",
            " flatten_2 (Flatten)         (None, 4608)              0         \n",
            "                                                                 \n",
            " fcl1 (Dense)                (None, 1024)              4719616   \n",
            "                                                                 \n",
            " dropout (Dropout)           (None, 1024)              0         \n",
            "                                                                 \n",
            " fcl2 (Dense)                (None, 256)               262400    \n",
            "                                                                 \n",
            " dropout_1 (Dropout)         (None, 256)               0         \n",
            "                                                                 \n",
            " predictions (Dense)         (None, 131)               33667     \n",
            "                                                                 \n",
            "=================================================================\n",
            "Total params: 5,285,923\n",
            "Trainable params: 5,285,923\n",
            "Non-trainable params: 0\n",
            "_________________________________________________________________\n",
            "Epoch 1/25\n",
            "410/410 [==============================] - ETA: 0s - loss: 3.6758 - categorical_accuracy: 0.2447 - precision_2: 0.6993 - recall_2: 0.1212\n",
            "Epoch 1: val_loss improved from inf to 1.40459, saving model to model_experiments/model_2_best_on_paper\n",
            "410/410 [==============================] - 11s 24ms/step - loss: 3.6758 - categorical_accuracy: 0.2447 - precision_2: 0.6993 - recall_2: 0.1212 - val_loss: 1.4046 - val_categorical_accuracy: 0.6411 - val_precision_2: 0.7938 - val_recall_2: 0.4825\n",
            "Epoch 2/25\n",
            "409/410 [============================>.] - ETA: 0s - loss: 0.7610 - categorical_accuracy: 0.7863 - precision_2: 0.8857 - recall_2: 0.7013\n",
            "Epoch 2: val_loss improved from 1.40459 to 0.47136, saving model to model_experiments/model_2_best_on_paper\n",
            "410/410 [==============================] - 10s 24ms/step - loss: 0.7604 - categorical_accuracy: 0.7865 - precision_2: 0.8859 - recall_2: 0.7015 - val_loss: 0.4714 - val_categorical_accuracy: 0.8721 - val_precision_2: 0.9159 - val_recall_2: 0.8397\n",
            "Epoch 3/25\n",
            "407/410 [============================>.] - ETA: 0s - loss: 0.2570 - categorical_accuracy: 0.9225 - precision_2: 0.9468 - recall_2: 0.9011\n",
            "Epoch 3: val_loss improved from 0.47136 to 0.37079, saving model to model_experiments/model_2_best_on_paper\n",
            "410/410 [==============================] - 12s 29ms/step - loss: 0.2566 - categorical_accuracy: 0.9224 - precision_2: 0.9467 - recall_2: 0.9011 - val_loss: 0.3708 - val_categorical_accuracy: 0.9077 - val_precision_2: 0.9336 - val_recall_2: 0.8908\n",
            "Epoch 4/25\n",
            "410/410 [==============================] - ETA: 0s - loss: 0.1430 - categorical_accuracy: 0.9569 - precision_2: 0.9664 - recall_2: 0.9476\n",
            "Epoch 4: val_loss did not improve from 0.37079\n",
            "410/410 [==============================] - 10s 24ms/step - loss: 0.1430 - categorical_accuracy: 0.9569 - precision_2: 0.9664 - recall_2: 0.9476 - val_loss: 0.3799 - val_categorical_accuracy: 0.8995 - val_precision_2: 0.9170 - val_recall_2: 0.8879\n",
            "Epoch 5/25\n",
            "408/410 [============================>.] - ETA: 0s - loss: 0.0901 - categorical_accuracy: 0.9723 - precision_2: 0.9775 - recall_2: 0.9684\n",
            "Epoch 5: val_loss improved from 0.37079 to 0.26986, saving model to model_experiments/model_2_best_on_paper\n",
            "410/410 [==============================] - 10s 24ms/step - loss: 0.0899 - categorical_accuracy: 0.9724 - precision_2: 0.9776 - recall_2: 0.9685 - val_loss: 0.2699 - val_categorical_accuracy: 0.9378 - val_precision_2: 0.9459 - val_recall_2: 0.9296\n",
            "Epoch 6/25\n",
            "409/410 [============================>.] - ETA: 0s - loss: 0.0626 - categorical_accuracy: 0.9825 - precision_2: 0.9849 - recall_2: 0.9795\n",
            "Epoch 6: val_loss improved from 0.26986 to 0.23772, saving model to model_experiments/model_2_best_on_paper\n",
            "410/410 [==============================] - 11s 27ms/step - loss: 0.0625 - categorical_accuracy: 0.9825 - precision_2: 0.9850 - recall_2: 0.9795 - val_loss: 0.2377 - val_categorical_accuracy: 0.9416 - val_precision_2: 0.9522 - val_recall_2: 0.9372\n",
            "Epoch 7/25\n",
            "407/410 [============================>.] - ETA: 0s - loss: 0.0467 - categorical_accuracy: 0.9852 - precision_2: 0.9870 - recall_2: 0.9835\n",
            "Epoch 7: val_loss improved from 0.23772 to 0.21472, saving model to model_experiments/model_2_best_on_paper\n",
            "410/410 [==============================] - 12s 28ms/step - loss: 0.0465 - categorical_accuracy: 0.9853 - precision_2: 0.9871 - recall_2: 0.9836 - val_loss: 0.2147 - val_categorical_accuracy: 0.9512 - val_precision_2: 0.9577 - val_recall_2: 0.9457\n",
            "Epoch 8/25\n",
            "408/410 [============================>.] - ETA: 0s - loss: 0.0394 - categorical_accuracy: 0.9873 - precision_2: 0.9889 - recall_2: 0.9857\n",
            "Epoch 8: val_loss did not improve from 0.21472\n",
            "410/410 [==============================] - 10s 24ms/step - loss: 0.0393 - categorical_accuracy: 0.9873 - precision_2: 0.9889 - recall_2: 0.9857 - val_loss: 0.3353 - val_categorical_accuracy: 0.9264 - val_precision_2: 0.9368 - val_recall_2: 0.9182\n",
            "Epoch 9/25\n",
            "409/410 [============================>.] - ETA: 0s - loss: 0.0303 - categorical_accuracy: 0.9908 - precision_2: 0.9916 - recall_2: 0.9901\n",
            "Epoch 9: val_loss did not improve from 0.21472\n",
            "410/410 [==============================] - 10s 23ms/step - loss: 0.0303 - categorical_accuracy: 0.9907 - precision_2: 0.9915 - recall_2: 0.9901 - val_loss: 0.2577 - val_categorical_accuracy: 0.9448 - val_precision_2: 0.9533 - val_recall_2: 0.9419\n",
            "Epoch 10/25\n",
            "407/410 [============================>.] - ETA: 0s - loss: 0.0209 - categorical_accuracy: 0.9935 - precision_2: 0.9942 - recall_2: 0.9929\n",
            "Epoch 10: val_loss did not improve from 0.21472\n",
            "410/410 [==============================] - 10s 24ms/step - loss: 0.0209 - categorical_accuracy: 0.9934 - precision_2: 0.9941 - recall_2: 0.9928 - val_loss: 0.2447 - val_categorical_accuracy: 0.9550 - val_precision_2: 0.9566 - val_recall_2: 0.9536\n"
          ]
        }
      ],
      "source": [
        "# 0. Set random seed\n",
        "tf.random.set_seed(42)\n",
        "INPUT_SHAPE = (100,100,3)\n",
        "\n",
        "# 1. Create the model (taken straight out of their code base)\n",
        "inputs = layers.Input(shape=INPUT_SHAPE, name=\"input_layer\")\n",
        "x = layers.Conv2D(16, (5, 5), strides=(1, 1), padding='same', name='conv1')(inputs)\n",
        "x = layers.Activation('relu', name='conv1_relu')(x)\n",
        "x = layers.MaxPooling2D((2, 2), strides=(2, 2), padding='valid', name='pool1')(x)\n",
        "x = layers.Conv2D(32, (5, 5), strides=(1, 1), padding='same', name='conv2')(x)\n",
        "x = layers.Activation('relu', name='conv2_relu')(x)\n",
        "x = layers.MaxPooling2D((2, 2), strides=(2, 2), padding='valid', name='pool2')(x)\n",
        "x = layers.Conv2D(64, (5, 5), strides=(1, 1), padding='same', name='conv3')(x)\n",
        "x = layers.Activation('relu', name='conv3_relu')(x)\n",
        "x = layers.MaxPooling2D((2, 2), strides=(2, 2), padding='valid', name='pool3')(x)\n",
        "x = layers.Conv2D(128, (5, 5), strides=(1, 1), padding='same', name='conv4')(x)\n",
        "x = layers.Activation('relu', name='conv4_relu')(x)\n",
        "x = layers.MaxPooling2D((2, 2), strides=(2, 2), padding='valid', name='pool4')(x)\n",
        "x = layers.Flatten()(x)\n",
        "x = layers.Dense(1024, activation='relu', name='fcl1')(x)\n",
        "x = layers.Dropout(0.2)(x)\n",
        "x = layers.Dense(256, activation='relu', name='fcl2')(x)\n",
        "x = layers.Dropout(0.2)(x)\n",
        "outputs = layers.Dense(131, activation='softmax', name='predictions')(x)\n",
        "model_2 = tf.keras.Model(inputs=inputs, outputs=outputs, name=\"model_2_best_on_paper\")\n",
        "\n",
        "# 2. Compile the model\n",
        "model_2.compile(loss=\"categorical_crossentropy\",\n",
        "                optimizer=tf.keras.optimizers.Adadelta(learning_rate=0.1),\n",
        "                metrics=[CategoricalAccuracy(), Precision(), Recall()])\n",
        "\n",
        "# 3. Get the summary\n",
        "model_2.summary()\n",
        "\n",
        "# 4. Fit the model\n",
        "history_model_2 = model_2.fit(train_data,\n",
        "                              epochs=25,\n",
        "                              validation_data=test_data,\n",
        "                              validation_steps=len(test_data)*0.15,\n",
        "                              verbose=MODEL_VERBOSE,\n",
        "                              callbacks=[create_model_checkpoint(model_name=model_2.name), create_early_stopping()])"
      ]
    },
    {
      "cell_type": "code",
      "execution_count": 21,
      "metadata": {
        "id": "1dGClgqcucJw",
        "colab": {
          "base_uri": "https://localhost:8080/",
          "height": 573
        },
        "outputId": "a66b0a2c-5634-4fe8-9442-49997c1d0f7f"
      },
      "outputs": [
        {
          "output_type": "display_data",
          "data": {
            "text/plain": [
              "<Figure size 432x288 with 1 Axes>"
            ],
            "image/png": "[encoded data removed]"
          },
          "metadata": {
            "needs_background": "light"
          }
        },
        {
          "output_type": "display_data",
          "data": {
            "text/plain": [
              "<Figure size 432x288 with 1 Axes>"
            ],
            "image/png": "[encoded data removed]"
          },
          "metadata": {
            "needs_background": "light"
          }
        }
      ],
      "source": [
        "# Save model's architecture as an image\n",
        "plot_model(model_2, to_file='/content/model_architectures/model_2.png')\n",
        "\n",
        "# About the model history\n",
        "plot_loss_curves(history_model_2)"
      ]
    },
    {
      "cell_type": "code",
      "execution_count": 22,
      "metadata": {
        "id": "fAiyTyQDupLw",
        "colab": {
          "base_uri": "https://localhost:8080/"
        },
        "outputId": "7a3dd4d3-8eca-44a0-abf4-f30f1e8806e8"
      },
      "outputs": [
        {
          "output_type": "stream",
          "name": "stdout",
          "text": [
            "709/709 [==============================] - 13s 18ms/step - loss: 0.2385 - categorical_accuracy: 0.9448 - precision_2: 0.9544 - recall_2: 0.9405\n"
          ]
        }
      ],
      "source": [
        "# Loading in the best weights\n",
        "best_weights_path = \"/content/model_experiments/model_2_best_on_paper\"\n",
        "model_2.load_weights(best_weights_path)\n",
        "\n",
        "# Evaluate on test set\n",
        "loss_2, accuracy_2, precision_2, recall_2 = model_2.evaluate(test_data)"
      ]
    },
    {
      "cell_type": "code",
      "execution_count": 23,
      "metadata": {
        "id": "PrbD3KaOuty5",
        "colab": {
          "base_uri": "https://localhost:8080/"
        },
        "outputId": "09646409-1316-4c13-faa9-255fedcf15c5"
      },
      "outputs": [
        {
          "output_type": "execute_result",
          "data": {
            "text/plain": [
              "{'Loss': 0.2385462075471878,\n",
              " 'Accuracy': 94.48166489601135,\n",
              " 'Precision': 0.9543787240982056,\n",
              " 'Recall': 0.9404971599578857}"
            ]
          },
          "metadata": {},
          "execution_count": 23
        }
      ],
      "source": [
        "# Getting a metrics report\n",
        "model_2_metrics = get_metrics(loss_2, accuracy_2, precision_2, recall_2)\n",
        "model_2_metrics"
      ]
    },
    {
      "cell_type": "markdown",
      "metadata": {
        "id": "hdsfE1MCAFbK"
      },
      "source": [
        "#### Model 3\n",
        "* **Layers:** Using ResNet and various other layers to classify images\n",
        "* **Optimizer:** Adam\n",
        "* **Loss:** Cross entropy\n",
        "* **Epochs:** 25\n",
        "* **Callbacks:** `ModelCheckpoint`, `EarlyStopping`\n",
        "* **Validation data:** available"
      ]
    },
    {
      "cell_type": "code",
      "execution_count": 24,
      "metadata": {
        "id": "q67jMymRvB8f",
        "colab": {
          "base_uri": "https://localhost:8080/"
        },
        "outputId": "c1f46c07-3347-4564-97db-de90fc6a3f73"
      },
      "outputs": [
        {
          "output_type": "stream",
          "name": "stdout",
          "text": [
            "Downloading data from https://storage.googleapis.com/tensorflow/keras-applications/resnet/resnet50_weights_tf_dim_ordering_tf_kernels_notop.h5\n",
            "94773248/94765736 [==============================] - 0s 0us/step\n",
            "94781440/94765736 [==============================] - 0s 0us/step\n",
            "Model: \"model_3_freezed_ResNet\"\n",
            "_________________________________________________________________\n",
            " Layer (type)                Output Shape              Param #   \n",
            "=================================================================\n",
            " input_layer (InputLayer)    [(None, 100, 100, 3)]     0         \n",
            "                                                                 \n",
            " rescaling (Rescaling)       (None, 100, 100, 3)       0         \n",
            "                                                                 \n",
            " resnet50 (Functional)       (None, None, None, 2048)  23587712  \n",
            "                                                                 \n",
            " global_average_pooling_laye  (None, 2048)             0         \n",
            " r (GlobalAveragePooling2D)                                      \n",
            "                                                                 \n",
            " output_layer (Dense)        (None, 131)               268419    \n",
            "                                                                 \n",
            "=================================================================\n",
            "Total params: 23,856,131\n",
            "Trainable params: 268,419\n",
            "Non-trainable params: 23,587,712\n",
            "_________________________________________________________________\n",
            "Epoch 1/25\n",
            "410/410 [==============================] - ETA: 0s - loss: 4.4825 - categorical_accuracy: 0.0602 - precision_3: 1.0000 - recall_3: 7.6336e-04\n",
            "Epoch 1: val_loss improved from inf to 4.12240, saving model to model_experiments/model_3_freezed_ResNet\n",
            "410/410 [==============================] - 24s 50ms/step - loss: 4.4825 - categorical_accuracy: 0.0602 - precision_3: 1.0000 - recall_3: 7.6336e-04 - val_loss: 4.1224 - val_categorical_accuracy: 0.0946 - val_precision_3: 1.0000 - val_recall_3: 0.0020\n",
            "Epoch 2/25\n",
            "410/410 [==============================] - ETA: 0s - loss: 3.7314 - categorical_accuracy: 0.1653 - precision_3: 1.0000 - recall_3: 0.0050\n",
            "Epoch 2: val_loss improved from 4.12240 to 3.64438, saving model to model_experiments/model_3_freezed_ResNet\n",
            "410/410 [==============================] - 19s 46ms/step - loss: 3.7314 - categorical_accuracy: 0.1653 - precision_3: 1.0000 - recall_3: 0.0050 - val_loss: 3.6444 - val_categorical_accuracy: 0.1469 - val_precision_3: 1.0000 - val_recall_3: 0.0053\n",
            "Epoch 3/25\n",
            "410/410 [==============================] - ETA: 0s - loss: 3.2851 - categorical_accuracy: 0.2621 - precision_3: 0.9556 - recall_3: 0.0098\n",
            "Epoch 3: val_loss improved from 3.64438 to 3.32529, saving model to model_experiments/model_3_freezed_ResNet\n",
            "410/410 [==============================] - 19s 46ms/step - loss: 3.2851 - categorical_accuracy: 0.2621 - precision_3: 0.9556 - recall_3: 0.0098 - val_loss: 3.3253 - val_categorical_accuracy: 0.2579 - val_precision_3: 1.0000 - val_recall_3: 0.0061\n",
            "Epoch 4/25\n",
            "409/410 [============================>.] - ETA: 0s - loss: 2.9732 - categorical_accuracy: 0.3278 - precision_3: 0.9666 - recall_3: 0.0221\n",
            "Epoch 4: val_loss improved from 3.32529 to 3.07638, saving model to model_experiments/model_3_freezed_ResNet\n",
            "410/410 [==============================] - 19s 46ms/step - loss: 2.9733 - categorical_accuracy: 0.3276 - precision_3: 0.9666 - recall_3: 0.0221 - val_loss: 3.0764 - val_categorical_accuracy: 0.2903 - val_precision_3: 0.9825 - val_recall_3: 0.0164\n",
            "Epoch 5/25\n",
            "410/410 [==============================] - ETA: 0s - loss: 2.7186 - categorical_accuracy: 0.3866 - precision_3: 0.9730 - recall_3: 0.0357\n",
            "Epoch 5: val_loss improved from 3.07638 to 2.90800, saving model to model_experiments/model_3_freezed_ResNet\n",
            "410/410 [==============================] - 19s 46ms/step - loss: 2.7186 - categorical_accuracy: 0.3866 - precision_3: 0.9730 - recall_3: 0.0357 - val_loss: 2.9080 - val_categorical_accuracy: 0.3230 - val_precision_3: 0.9792 - val_recall_3: 0.0275\n",
            "Epoch 6/25\n",
            "409/410 [============================>.] - ETA: 0s - loss: 2.5165 - categorical_accuracy: 0.4348 - precision_3: 0.9647 - recall_3: 0.0543\n",
            "Epoch 6: val_loss improved from 2.90800 to 2.73955, saving model to model_experiments/model_3_freezed_ResNet\n",
            "410/410 [==============================] - 19s 46ms/step - loss: 2.5167 - categorical_accuracy: 0.4347 - precision_3: 0.9647 - recall_3: 0.0543 - val_loss: 2.7396 - val_categorical_accuracy: 0.3800 - val_precision_3: 0.9862 - val_recall_3: 0.0418\n",
            "Epoch 7/25\n",
            "409/410 [============================>.] - ETA: 0s - loss: 2.3474 - categorical_accuracy: 0.4788 - precision_3: 0.9635 - recall_3: 0.0705\n",
            "Epoch 7: val_loss improved from 2.73955 to 2.63133, saving model to model_experiments/model_3_freezed_ResNet\n",
            "410/410 [==============================] - 19s 46ms/step - loss: 2.3471 - categorical_accuracy: 0.4792 - precision_3: 0.9635 - recall_3: 0.0705 - val_loss: 2.6313 - val_categorical_accuracy: 0.3946 - val_precision_3: 0.9459 - val_recall_3: 0.0511\n",
            "Epoch 8/25\n",
            "410/410 [==============================] - ETA: 0s - loss: 2.2012 - categorical_accuracy: 0.5181 - precision_3: 0.9706 - recall_3: 0.0883\n",
            "Epoch 8: val_loss improved from 2.63133 to 2.48160, saving model to model_experiments/model_3_freezed_ResNet\n",
            "410/410 [==============================] - 19s 46ms/step - loss: 2.2012 - categorical_accuracy: 0.5181 - precision_3: 0.9706 - recall_3: 0.0883 - val_loss: 2.4816 - val_categorical_accuracy: 0.4433 - val_precision_3: 0.9550 - val_recall_3: 0.0558\n",
            "Epoch 9/25\n",
            "409/410 [============================>.] - ETA: 0s - loss: 2.0744 - categorical_accuracy: 0.5524 - precision_3: 0.9674 - recall_3: 0.1066\n",
            "Epoch 9: val_loss improved from 2.48160 to 2.39240, saving model to model_experiments/model_3_freezed_ResNet\n",
            "410/410 [==============================] - 19s 46ms/step - loss: 2.0742 - categorical_accuracy: 0.5524 - precision_3: 0.9674 - recall_3: 0.1066 - val_loss: 2.3924 - val_categorical_accuracy: 0.4658 - val_precision_3: 0.9213 - val_recall_3: 0.0683\n",
            "Epoch 10/25\n",
            "409/410 [============================>.] - ETA: 0s - loss: 1.9567 - categorical_accuracy: 0.5767 - precision_3: 0.9727 - recall_3: 0.1306\n",
            "Epoch 10: val_loss improved from 2.39240 to 2.28307, saving model to model_experiments/model_3_freezed_ResNet\n",
            "410/410 [==============================] - 19s 46ms/step - loss: 1.9571 - categorical_accuracy: 0.5766 - precision_3: 0.9727 - recall_3: 0.1306 - val_loss: 2.2831 - val_categorical_accuracy: 0.4842 - val_precision_3: 0.9408 - val_recall_3: 0.0835\n",
            "Epoch 11/25\n",
            "409/410 [============================>.] - ETA: 0s - loss: 1.8597 - categorical_accuracy: 0.5957 - precision_3: 0.9698 - recall_3: 0.1498\n",
            "Epoch 11: val_loss improved from 2.28307 to 2.20667, saving model to model_experiments/model_3_freezed_ResNet\n",
            "410/410 [==============================] - 19s 47ms/step - loss: 1.8596 - categorical_accuracy: 0.5958 - precision_3: 0.9698 - recall_3: 0.1496 - val_loss: 2.2067 - val_categorical_accuracy: 0.4939 - val_precision_3: 0.9242 - val_recall_3: 0.1139\n",
            "Epoch 12/25\n",
            "409/410 [============================>.] - ETA: 0s - loss: 1.7675 - categorical_accuracy: 0.6204 - precision_3: 0.9700 - recall_3: 0.1732\n",
            "Epoch 12: val_loss improved from 2.20667 to 2.14240, saving model to model_experiments/model_3_freezed_ResNet\n",
            "410/410 [==============================] - 19s 46ms/step - loss: 1.7677 - categorical_accuracy: 0.6203 - precision_3: 0.9701 - recall_3: 0.1732 - val_loss: 2.1424 - val_categorical_accuracy: 0.5070 - val_precision_3: 0.9354 - val_recall_3: 0.1227\n",
            "Epoch 13/25\n",
            "410/410 [==============================] - ETA: 0s - loss: 1.6948 - categorical_accuracy: 0.6350 - precision_3: 0.9701 - recall_3: 0.1983\n",
            "Epoch 13: val_loss improved from 2.14240 to 2.07982, saving model to model_experiments/model_3_freezed_ResNet\n",
            "410/410 [==============================] - 19s 46ms/step - loss: 1.6948 - categorical_accuracy: 0.6350 - precision_3: 0.9701 - recall_3: 0.1983 - val_loss: 2.0798 - val_categorical_accuracy: 0.5239 - val_precision_3: 0.9373 - val_recall_3: 0.1571\n",
            "Epoch 14/25\n",
            "409/410 [============================>.] - ETA: 0s - loss: 1.6154 - categorical_accuracy: 0.6550 - precision_3: 0.9712 - recall_3: 0.2264\n",
            "Epoch 14: val_loss improved from 2.07982 to 2.03514, saving model to model_experiments/model_3_freezed_ResNet\n",
            "410/410 [==============================] - 19s 46ms/step - loss: 1.6152 - categorical_accuracy: 0.6551 - precision_3: 0.9712 - recall_3: 0.2263 - val_loss: 2.0351 - val_categorical_accuracy: 0.5155 - val_precision_3: 0.9282 - val_recall_3: 0.1700\n",
            "Epoch 15/25\n",
            "410/410 [==============================] - ETA: 0s - loss: 1.5422 - categorical_accuracy: 0.6695 - precision_3: 0.9713 - recall_3: 0.2503\n",
            "Epoch 15: val_loss improved from 2.03514 to 1.94555, saving model to model_experiments/model_3_freezed_ResNet\n",
            "410/410 [==============================] - 19s 47ms/step - loss: 1.5422 - categorical_accuracy: 0.6695 - precision_3: 0.9713 - recall_3: 0.2503 - val_loss: 1.9455 - val_categorical_accuracy: 0.5640 - val_precision_3: 0.9305 - val_recall_3: 0.1720\n",
            "Epoch 16/25\n",
            "409/410 [============================>.] - ETA: 0s - loss: 1.4806 - categorical_accuracy: 0.6902 - precision_3: 0.9749 - recall_3: 0.2726\n",
            "Epoch 16: val_loss improved from 1.94555 to 1.93148, saving model to model_experiments/model_3_freezed_ResNet\n",
            "410/410 [==============================] - 19s 46ms/step - loss: 1.4810 - categorical_accuracy: 0.6901 - precision_3: 0.9749 - recall_3: 0.2726 - val_loss: 1.9315 - val_categorical_accuracy: 0.5485 - val_precision_3: 0.9263 - val_recall_3: 0.1983\n",
            "Epoch 17/25\n",
            "410/410 [==============================] - ETA: 0s - loss: 1.4220 - categorical_accuracy: 0.7001 - precision_3: 0.9786 - recall_3: 0.2929\n",
            "Epoch 17: val_loss improved from 1.93148 to 1.86098, saving model to model_experiments/model_3_freezed_ResNet\n",
            "410/410 [==============================] - 19s 46ms/step - loss: 1.4220 - categorical_accuracy: 0.7001 - precision_3: 0.9786 - recall_3: 0.2929 - val_loss: 1.8610 - val_categorical_accuracy: 0.5686 - val_precision_3: 0.9232 - val_recall_3: 0.2176\n",
            "Epoch 18/25\n",
            "409/410 [============================>.] - ETA: 0s - loss: 1.3706 - categorical_accuracy: 0.7102 - precision_3: 0.9714 - recall_3: 0.3169\n",
            "Epoch 18: val_loss improved from 1.86098 to 1.81106, saving model to model_experiments/model_3_freezed_ResNet\n",
            "410/410 [==============================] - 19s 46ms/step - loss: 1.3707 - categorical_accuracy: 0.7100 - precision_3: 0.9712 - recall_3: 0.3169 - val_loss: 1.8111 - val_categorical_accuracy: 0.5809 - val_precision_3: 0.9152 - val_recall_3: 0.2395\n",
            "Epoch 19/25\n",
            "409/410 [============================>.] - ETA: 0s - loss: 1.3175 - categorical_accuracy: 0.7271 - precision_3: 0.9771 - recall_3: 0.3397\n",
            "Epoch 19: val_loss improved from 1.81106 to 1.78748, saving model to model_experiments/model_3_freezed_ResNet\n",
            "410/410 [==============================] - 19s 46ms/step - loss: 1.3173 - categorical_accuracy: 0.7270 - precision_3: 0.9772 - recall_3: 0.3399 - val_loss: 1.7875 - val_categorical_accuracy: 0.5765 - val_precision_3: 0.8967 - val_recall_3: 0.2383\n",
            "Epoch 20/25\n",
            "409/410 [============================>.] - ETA: 0s - loss: 1.2757 - categorical_accuracy: 0.7333 - precision_3: 0.9741 - recall_3: 0.3528\n",
            "Epoch 20: val_loss improved from 1.78748 to 1.73347, saving model to model_experiments/model_3_freezed_ResNet\n",
            "410/410 [==============================] - 19s 47ms/step - loss: 1.2762 - categorical_accuracy: 0.7332 - precision_3: 0.9739 - recall_3: 0.3527 - val_loss: 1.7335 - val_categorical_accuracy: 0.5917 - val_precision_3: 0.9176 - val_recall_3: 0.2570\n",
            "Epoch 21/25\n",
            "409/410 [============================>.] - ETA: 0s - loss: 1.2325 - categorical_accuracy: 0.7450 - precision_3: 0.9727 - recall_3: 0.3756\n",
            "Epoch 21: val_loss improved from 1.73347 to 1.70533, saving model to model_experiments/model_3_freezed_ResNet\n",
            "410/410 [==============================] - 19s 46ms/step - loss: 1.2323 - categorical_accuracy: 0.7452 - precision_3: 0.9727 - recall_3: 0.3757 - val_loss: 1.7053 - val_categorical_accuracy: 0.5891 - val_precision_3: 0.9198 - val_recall_3: 0.2748\n",
            "Epoch 22/25\n",
            "410/410 [==============================] - ETA: 0s - loss: 1.1872 - categorical_accuracy: 0.7545 - precision_3: 0.9751 - recall_3: 0.3984\n",
            "Epoch 22: val_loss improved from 1.70533 to 1.69064, saving model to model_experiments/model_3_freezed_ResNet\n",
            "410/410 [==============================] - 19s 46ms/step - loss: 1.1872 - categorical_accuracy: 0.7545 - precision_3: 0.9751 - recall_3: 0.3984 - val_loss: 1.6906 - val_categorical_accuracy: 0.5800 - val_precision_3: 0.9215 - val_recall_3: 0.2915\n",
            "Epoch 23/25\n",
            "410/410 [==============================] - ETA: 0s - loss: 1.1539 - categorical_accuracy: 0.7602 - precision_3: 0.9743 - recall_3: 0.4117\n",
            "Epoch 23: val_loss improved from 1.69064 to 1.64643, saving model to model_experiments/model_3_freezed_ResNet\n",
            "410/410 [==============================] - 19s 47ms/step - loss: 1.1539 - categorical_accuracy: 0.7602 - precision_3: 0.9743 - recall_3: 0.4117 - val_loss: 1.6464 - val_categorical_accuracy: 0.6031 - val_precision_3: 0.9164 - val_recall_3: 0.3169\n",
            "Epoch 24/25\n",
            "409/410 [============================>.] - ETA: 0s - loss: 1.1173 - categorical_accuracy: 0.7730 - precision_3: 0.9762 - recall_3: 0.4286\n",
            "Epoch 24: val_loss improved from 1.64643 to 1.62458, saving model to model_experiments/model_3_freezed_ResNet\n",
            "410/410 [==============================] - 19s 46ms/step - loss: 1.1176 - categorical_accuracy: 0.7728 - precision_3: 0.9762 - recall_3: 0.4286 - val_loss: 1.6246 - val_categorical_accuracy: 0.6072 - val_precision_3: 0.9231 - val_recall_3: 0.3192\n",
            "Epoch 25/25\n",
            "409/410 [============================>.] - ETA: 0s - loss: 1.0806 - categorical_accuracy: 0.7790 - precision_3: 0.9756 - recall_3: 0.4457\n",
            "Epoch 25: val_loss improved from 1.62458 to 1.58150, saving model to model_experiments/model_3_freezed_ResNet\n",
            "410/410 [==============================] - 19s 46ms/step - loss: 1.0805 - categorical_accuracy: 0.7789 - precision_3: 0.9756 - recall_3: 0.4458 - val_loss: 1.5815 - val_categorical_accuracy: 0.6142 - val_precision_3: 0.9149 - val_recall_3: 0.3327\n"
          ]
        }
      ],
      "source": [
        "# 0. Set random seed\n",
        "tf.random.set_seed(42)\n",
        "INPUT_SHAPE = (100,100,3)\n",
        "\n",
        "# 1. Create the model (taken straight out of their code base)\n",
        "base_resnet_model = tf.keras.applications.resnet50.ResNet50(include_top=False)\n",
        "base_resnet_model.trainable = False\n",
        "inputs = layers.Input(shape=INPUT_SHAPE, name=\"input_layer\")\n",
        "scale = layers.Rescaling(scale=1./255)(inputs)\n",
        "x = base_resnet_model(scale)\n",
        "x = layers.GlobalAveragePooling2D(name=\"global_average_pooling_layer\")(x)\n",
        "outputs = layers.Dense(131,activation=\"softmax\",name=\"output_layer\")(x)\n",
        "model_3 = tf.keras.Model(inputs=inputs, outputs=outputs, name=\"model_3_freezed_ResNet\")\n",
        "\n",
        "# 2. Compile the model\n",
        "model_3.compile(loss=\"categorical_crossentropy\",\n",
        "                optimizer=\"Adam\",\n",
        "                metrics=[CategoricalAccuracy(), Precision(), Recall()])\n",
        "\n",
        "# 3. Get the summary\n",
        "model_3.summary()\n",
        "\n",
        "# 4. Fit the model\n",
        "history_model_3 = model_3.fit(train_data,\n",
        "                              epochs=25,\n",
        "                              validation_data=test_data,\n",
        "                              validation_steps=len(test_data)*0.15,\n",
        "                              verbose=MODEL_VERBOSE,\n",
        "                              callbacks=[create_model_checkpoint(model_name=model_3.name), create_early_stopping()])"
      ]
    },
    {
      "cell_type": "code",
      "execution_count": 25,
      "metadata": {
        "id": "aKmOrxNx0dU4",
        "colab": {
          "base_uri": "https://localhost:8080/",
          "height": 573
        },
        "outputId": "e0a5b11c-22c1-4a21-b29d-285e3deffd38"
      },
      "outputs": [
        {
          "output_type": "display_data",
          "data": {
            "text/plain": [
              "<Figure size 432x288 with 1 Axes>"
            ],
            "image/png": "[encoded data removed]"
          },
          "metadata": {
            "needs_background": "light"
          }
        },
        {
          "output_type": "display_data",
          "data": {
            "text/plain": [
              "<Figure size 432x288 with 1 Axes>"
            ],
            "image/png": "[encoded data removed]"
          },
          "metadata": {
            "needs_background": "light"
          }
        }
      ],
      "source": [
        "# Save model's architecture as an image\n",
        "plot_model(model_3, to_file='/content/model_architectures/model_3.png')\n",
        "\n",
        "# About the model history\n",
        "plot_loss_curves(history_model_3)"
      ]
    },
    {
      "cell_type": "code",
      "execution_count": 26,
      "metadata": {
        "id": "NSzIoeT70hnD",
        "colab": {
          "base_uri": "https://localhost:8080/"
        },
        "outputId": "77dde216-ae6c-44be-dd40-220074eb2abc"
      },
      "outputs": [
        {
          "output_type": "stream",
          "name": "stdout",
          "text": [
            "709/709 [==============================] - 25s 35ms/step - loss: 1.5869 - categorical_accuracy: 0.6144 - precision_3: 0.9147 - recall_3: 0.3426\n"
          ]
        }
      ],
      "source": [
        "# Loading in the best weights\n",
        "best_weights_path = \"/content/model_experiments/model_3_freezed_ResNet\"\n",
        "model_3.load_weights(best_weights_path)\n",
        "\n",
        "# Evaluate on test set\n",
        "loss_3, accuracy_3, precision_3, recall_3 = model_3.evaluate(test_data)"
      ]
    },
    {
      "cell_type": "code",
      "execution_count": 27,
      "metadata": {
        "id": "4vUSyQBq0uao",
        "colab": {
          "base_uri": "https://localhost:8080/"
        },
        "outputId": "6d6216a8-4479-4d37-856a-3fcab5999621"
      },
      "outputs": [
        {
          "output_type": "execute_result",
          "data": {
            "text/plain": [
              "{'Loss': 1.5869419574737549,\n",
              " 'Accuracy': 61.44217252731323,\n",
              " 'Precision': 0.914675772190094,\n",
              " 'Recall': 0.34255993366241455}"
            ]
          },
          "metadata": {},
          "execution_count": 27
        }
      ],
      "source": [
        "# Getting a metrics report\n",
        "model_3_metrics = get_metrics(loss_3, accuracy_3, precision_3, recall_3)\n",
        "model_3_metrics"
      ]
    },
    {
      "cell_type": "markdown",
      "metadata": {
        "id": "YY9ejPFFAGUv"
      },
      "source": [
        "#### Model 4 \n",
        "* **Layers:** Using EfficientNetB0 (with freezed layers) and various other layers for classification\n",
        "* **Optimizer:** Adam\n",
        "* **Loss:** Cross entropy\n",
        "* **Epochs:** 25\n",
        "* **Callbacks:** `ModelCheckpoint`, `EarlyStopping`\n",
        "* **Validation data:** available"
      ]
    },
    {
      "cell_type": "code",
      "execution_count": 28,
      "metadata": {
        "id": "MU6w8Cgf1K2R",
        "colab": {
          "base_uri": "https://localhost:8080/"
        },
        "outputId": "e3e9a193-57c5-48f1-973f-6c3e977e3163"
      },
      "outputs": [
        {
          "output_type": "stream",
          "name": "stdout",
          "text": [
            "Downloading data from https://storage.googleapis.com/keras-applications/efficientnetb0_notop.h5\n",
            "16711680/16705208 [==============================] - 0s 0us/step\n",
            "16719872/16705208 [==============================] - 0s 0us/step\n",
            "Model: \"model_4_freezed_EfficientNet\"\n",
            "_________________________________________________________________\n",
            " Layer (type)                Output Shape              Param #   \n",
            "=================================================================\n",
            " input_layer (InputLayer)    [(None, 100, 100, 3)]     0         \n",
            "                                                                 \n",
            " efficientnetb0 (Functional)  (None, None, None, 1280)  4049571  \n",
            "                                                                 \n",
            " global_average_pooling_laye  (None, 1280)             0         \n",
            " r (GlobalAveragePooling2D)                                      \n",
            "                                                                 \n",
            " output_layer (Dense)        (None, 131)               167811    \n",
            "                                                                 \n",
            "=================================================================\n",
            "Total params: 4,217,382\n",
            "Trainable params: 167,811\n",
            "Non-trainable params: 4,049,571\n",
            "_________________________________________________________________\n",
            "Epoch 1/25\n",
            "410/410 [==============================] - ETA: 0s - loss: 1.3686 - categorical_accuracy: 0.7718 - precision_4: 0.9915 - recall_4: 0.4427\n",
            "Epoch 1: val_loss improved from inf to 0.64316, saving model to model_experiments/model_4_freezed_EfficientNet\n",
            "410/410 [==============================] - 21s 36ms/step - loss: 1.3686 - categorical_accuracy: 0.7718 - precision_4: 0.9915 - recall_4: 0.4427 - val_loss: 0.6432 - val_categorical_accuracy: 0.8770 - val_precision_4: 0.9877 - val_recall_4: 0.7281\n",
            "Epoch 2/25\n",
            "410/410 [==============================] - ETA: 0s - loss: 0.2912 - categorical_accuracy: 0.9641 - precision_4: 0.9934 - recall_4: 0.8757\n",
            "Epoch 2: val_loss improved from 0.64316 to 0.41103, saving model to model_experiments/model_4_freezed_EfficientNet\n",
            "410/410 [==============================] - 13s 32ms/step - loss: 0.2912 - categorical_accuracy: 0.9641 - precision_4: 0.9934 - recall_4: 0.8757 - val_loss: 0.4110 - val_categorical_accuracy: 0.9124 - val_precision_4: 0.9766 - val_recall_4: 0.8402\n",
            "Epoch 3/25\n",
            "409/410 [============================>.] - ETA: 0s - loss: 0.1595 - categorical_accuracy: 0.9816 - precision_4: 0.9953 - recall_4: 0.9479\n",
            "Epoch 3: val_loss improved from 0.41103 to 0.32636, saving model to model_experiments/model_4_freezed_EfficientNet\n",
            "410/410 [==============================] - 13s 32ms/step - loss: 0.1594 - categorical_accuracy: 0.9816 - precision_4: 0.9953 - recall_4: 0.9479 - val_loss: 0.3264 - val_categorical_accuracy: 0.9249 - val_precision_4: 0.9769 - val_recall_4: 0.8759\n",
            "Epoch 4/25\n",
            "408/410 [============================>.] - ETA: 0s - loss: 0.1045 - categorical_accuracy: 0.9897 - precision_4: 0.9958 - recall_4: 0.9726\n",
            "Epoch 4: val_loss improved from 0.32636 to 0.26693, saving model to model_experiments/model_4_freezed_EfficientNet\n",
            "410/410 [==============================] - 13s 31ms/step - loss: 0.1045 - categorical_accuracy: 0.9898 - precision_4: 0.9958 - recall_4: 0.9727 - val_loss: 0.2669 - val_categorical_accuracy: 0.9378 - val_precision_4: 0.9748 - val_recall_4: 0.9027\n",
            "Epoch 5/25\n",
            "408/410 [============================>.] - ETA: 0s - loss: 0.0780 - categorical_accuracy: 0.9917 - precision_4: 0.9967 - recall_4: 0.9812\n",
            "Epoch 5: val_loss improved from 0.26693 to 0.24603, saving model to model_experiments/model_4_freezed_EfficientNet\n",
            "410/410 [==============================] - 13s 31ms/step - loss: 0.0781 - categorical_accuracy: 0.9917 - precision_4: 0.9967 - recall_4: 0.9813 - val_loss: 0.2460 - val_categorical_accuracy: 0.9413 - val_precision_4: 0.9729 - val_recall_4: 0.9109\n",
            "Epoch 6/25\n",
            "410/410 [==============================] - ETA: 0s - loss: 0.0600 - categorical_accuracy: 0.9940 - precision_4: 0.9966 - recall_4: 0.9869\n",
            "Epoch 6: val_loss improved from 0.24603 to 0.22353, saving model to model_experiments/model_4_freezed_EfficientNet\n",
            "410/410 [==============================] - 13s 31ms/step - loss: 0.0600 - categorical_accuracy: 0.9940 - precision_4: 0.9966 - recall_4: 0.9869 - val_loss: 0.2235 - val_categorical_accuracy: 0.9474 - val_precision_4: 0.9747 - val_recall_4: 0.9209\n",
            "Epoch 7/25\n",
            "408/410 [============================>.] - ETA: 0s - loss: 0.0476 - categorical_accuracy: 0.9956 - precision_4: 0.9983 - recall_4: 0.9913\n",
            "Epoch 7: val_loss improved from 0.22353 to 0.21782, saving model to model_experiments/model_4_freezed_EfficientNet\n",
            "410/410 [==============================] - 13s 31ms/step - loss: 0.0476 - categorical_accuracy: 0.9956 - precision_4: 0.9983 - recall_4: 0.9913 - val_loss: 0.2178 - val_categorical_accuracy: 0.9504 - val_precision_4: 0.9733 - val_recall_4: 0.9261\n",
            "Epoch 8/25\n",
            "410/410 [==============================] - ETA: 0s - loss: 0.0383 - categorical_accuracy: 0.9964 - precision_4: 0.9983 - recall_4: 0.9940\n",
            "Epoch 8: val_loss improved from 0.21782 to 0.20407, saving model to model_experiments/model_4_freezed_EfficientNet\n",
            "410/410 [==============================] - 13s 31ms/step - loss: 0.0383 - categorical_accuracy: 0.9964 - precision_4: 0.9983 - recall_4: 0.9940 - val_loss: 0.2041 - val_categorical_accuracy: 0.9556 - val_precision_4: 0.9742 - val_recall_4: 0.9369\n",
            "Epoch 9/25\n",
            "410/410 [==============================] - ETA: 0s - loss: 0.0340 - categorical_accuracy: 0.9964 - precision_4: 0.9981 - recall_4: 0.9938\n",
            "Epoch 9: val_loss improved from 0.20407 to 0.19540, saving model to model_experiments/model_4_freezed_EfficientNet\n",
            "410/410 [==============================] - 13s 31ms/step - loss: 0.0340 - categorical_accuracy: 0.9964 - precision_4: 0.9981 - recall_4: 0.9938 - val_loss: 0.1954 - val_categorical_accuracy: 0.9565 - val_precision_4: 0.9748 - val_recall_4: 0.9375\n",
            "Epoch 10/25\n",
            "410/410 [==============================] - ETA: 0s - loss: 0.0274 - categorical_accuracy: 0.9975 - precision_4: 0.9982 - recall_4: 0.9961\n",
            "Epoch 10: val_loss improved from 0.19540 to 0.19180, saving model to model_experiments/model_4_freezed_EfficientNet\n",
            "410/410 [==============================] - 13s 31ms/step - loss: 0.0274 - categorical_accuracy: 0.9975 - precision_4: 0.9982 - recall_4: 0.9961 - val_loss: 0.1918 - val_categorical_accuracy: 0.9565 - val_precision_4: 0.9705 - val_recall_4: 0.9404\n",
            "Epoch 11/25\n",
            "409/410 [============================>.] - ETA: 0s - loss: 0.0250 - categorical_accuracy: 0.9979 - precision_4: 0.9987 - recall_4: 0.9966\n",
            "Epoch 11: val_loss improved from 0.19180 to 0.17376, saving model to model_experiments/model_4_freezed_EfficientNet\n",
            "410/410 [==============================] - 13s 31ms/step - loss: 0.0250 - categorical_accuracy: 0.9979 - precision_4: 0.9987 - recall_4: 0.9966 - val_loss: 0.1738 - val_categorical_accuracy: 0.9603 - val_precision_4: 0.9736 - val_recall_4: 0.9474\n",
            "Epoch 12/25\n",
            "408/410 [============================>.] - ETA: 0s - loss: 0.0204 - categorical_accuracy: 0.9977 - precision_4: 0.9985 - recall_4: 0.9969\n",
            "Epoch 12: val_loss did not improve from 0.17376\n",
            "410/410 [==============================] - 12s 30ms/step - loss: 0.0205 - categorical_accuracy: 0.9976 - precision_4: 0.9985 - recall_4: 0.9969 - val_loss: 0.1747 - val_categorical_accuracy: 0.9594 - val_precision_4: 0.9716 - val_recall_4: 0.9492\n",
            "Epoch 13/25\n",
            "408/410 [============================>.] - ETA: 0s - loss: 0.0169 - categorical_accuracy: 0.9985 - precision_4: 0.9986 - recall_4: 0.9977\n",
            "Epoch 13: val_loss improved from 0.17376 to 0.16393, saving model to model_experiments/model_4_freezed_EfficientNet\n",
            "410/410 [==============================] - 13s 31ms/step - loss: 0.0170 - categorical_accuracy: 0.9985 - precision_4: 0.9986 - recall_4: 0.9977 - val_loss: 0.1639 - val_categorical_accuracy: 0.9612 - val_precision_4: 0.9761 - val_recall_4: 0.9527\n",
            "Epoch 14/25\n",
            "408/410 [============================>.] - ETA: 0s - loss: 0.0186 - categorical_accuracy: 0.9970 - precision_4: 0.9978 - recall_4: 0.9960\n",
            "Epoch 14: val_loss did not improve from 0.16393\n",
            "410/410 [==============================] - 13s 31ms/step - loss: 0.0190 - categorical_accuracy: 0.9969 - precision_4: 0.9977 - recall_4: 0.9960 - val_loss: 0.1692 - val_categorical_accuracy: 0.9579 - val_precision_4: 0.9724 - val_recall_4: 0.9477\n",
            "Epoch 15/25\n",
            "408/410 [============================>.] - ETA: 0s - loss: 0.0158 - categorical_accuracy: 0.9982 - precision_4: 0.9987 - recall_4: 0.9975\n",
            "Epoch 15: val_loss improved from 0.16393 to 0.16061, saving model to model_experiments/model_4_freezed_EfficientNet\n",
            "410/410 [==============================] - 13s 31ms/step - loss: 0.0158 - categorical_accuracy: 0.9982 - precision_4: 0.9986 - recall_4: 0.9975 - val_loss: 0.1606 - val_categorical_accuracy: 0.9614 - val_precision_4: 0.9720 - val_recall_4: 0.9541\n",
            "Epoch 16/25\n",
            "408/410 [============================>.] - ETA: 0s - loss: 0.0127 - categorical_accuracy: 0.9988 - precision_4: 0.9991 - recall_4: 0.9982\n",
            "Epoch 16: val_loss improved from 0.16061 to 0.15724, saving model to model_experiments/model_4_freezed_EfficientNet\n",
            "410/410 [==============================] - 13s 31ms/step - loss: 0.0126 - categorical_accuracy: 0.9988 - precision_4: 0.9991 - recall_4: 0.9982 - val_loss: 0.1572 - val_categorical_accuracy: 0.9635 - val_precision_4: 0.9738 - val_recall_4: 0.9568\n",
            "Epoch 17/25\n",
            "408/410 [============================>.] - ETA: 0s - loss: 0.0118 - categorical_accuracy: 0.9988 - precision_4: 0.9991 - recall_4: 0.9983\n",
            "Epoch 17: val_loss did not improve from 0.15724\n",
            "410/410 [==============================] - 13s 31ms/step - loss: 0.0118 - categorical_accuracy: 0.9988 - precision_4: 0.9991 - recall_4: 0.9983 - val_loss: 0.1796 - val_categorical_accuracy: 0.9556 - val_precision_4: 0.9673 - val_recall_4: 0.9504\n",
            "Epoch 18/25\n",
            "408/410 [============================>.] - ETA: 0s - loss: 0.0119 - categorical_accuracy: 0.9984 - precision_4: 0.9992 - recall_4: 0.9981\n",
            "Epoch 18: val_loss did not improve from 0.15724\n",
            "410/410 [==============================] - 12s 30ms/step - loss: 0.0119 - categorical_accuracy: 0.9984 - precision_4: 0.9992 - recall_4: 0.9981 - val_loss: 0.1619 - val_categorical_accuracy: 0.9603 - val_precision_4: 0.9694 - val_recall_4: 0.9515\n",
            "Epoch 19/25\n",
            "409/410 [============================>.] - ETA: 0s - loss: 0.0094 - categorical_accuracy: 0.9989 - precision_4: 0.9992 - recall_4: 0.9983\n",
            "Epoch 19: val_loss improved from 0.15724 to 0.15635, saving model to model_experiments/model_4_freezed_EfficientNet\n",
            "410/410 [==============================] - 13s 31ms/step - loss: 0.0094 - categorical_accuracy: 0.9989 - precision_4: 0.9992 - recall_4: 0.9983 - val_loss: 0.1563 - val_categorical_accuracy: 0.9641 - val_precision_4: 0.9718 - val_recall_4: 0.9574\n",
            "Epoch 20/25\n",
            "409/410 [============================>.] - ETA: 0s - loss: 0.0104 - categorical_accuracy: 0.9982 - precision_4: 0.9985 - recall_4: 0.9979\n",
            "Epoch 20: val_loss improved from 0.15635 to 0.15418, saving model to model_experiments/model_4_freezed_EfficientNet\n",
            "410/410 [==============================] - 13s 31ms/step - loss: 0.0104 - categorical_accuracy: 0.9982 - precision_4: 0.9985 - recall_4: 0.9979 - val_loss: 0.1542 - val_categorical_accuracy: 0.9635 - val_precision_4: 0.9713 - val_recall_4: 0.9582\n",
            "Epoch 21/25\n",
            "408/410 [============================>.] - ETA: 0s - loss: 0.0091 - categorical_accuracy: 0.9990 - precision_4: 0.9995 - recall_4: 0.9988\n",
            "Epoch 21: val_loss improved from 0.15418 to 0.15224, saving model to model_experiments/model_4_freezed_EfficientNet\n",
            "410/410 [==============================] - 13s 32ms/step - loss: 0.0090 - categorical_accuracy: 0.9990 - precision_4: 0.9995 - recall_4: 0.9988 - val_loss: 0.1522 - val_categorical_accuracy: 0.9617 - val_precision_4: 0.9706 - val_recall_4: 0.9559\n",
            "Epoch 22/25\n",
            "409/410 [============================>.] - ETA: 0s - loss: 0.0073 - categorical_accuracy: 0.9992 - precision_4: 0.9994 - recall_4: 0.9990\n",
            "Epoch 22: val_loss did not improve from 0.15224\n",
            "410/410 [==============================] - 13s 31ms/step - loss: 0.0073 - categorical_accuracy: 0.9992 - precision_4: 0.9994 - recall_4: 0.9990 - val_loss: 0.1584 - val_categorical_accuracy: 0.9623 - val_precision_4: 0.9712 - val_recall_4: 0.9559\n",
            "Epoch 23/25\n",
            "408/410 [============================>.] - ETA: 0s - loss: 0.0072 - categorical_accuracy: 0.9992 - precision_4: 0.9994 - recall_4: 0.9990\n",
            "Epoch 23: val_loss did not improve from 0.15224\n",
            "410/410 [==============================] - 13s 31ms/step - loss: 0.0072 - categorical_accuracy: 0.9992 - precision_4: 0.9994 - recall_4: 0.9990 - val_loss: 0.1566 - val_categorical_accuracy: 0.9632 - val_precision_4: 0.9715 - val_recall_4: 0.9571\n",
            "Epoch 24/25\n",
            "410/410 [==============================] - ETA: 0s - loss: 0.0066 - categorical_accuracy: 0.9995 - precision_4: 0.9995 - recall_4: 0.9993\n",
            "Epoch 24: val_loss did not improve from 0.15224\n",
            "410/410 [==============================] - 13s 31ms/step - loss: 0.0066 - categorical_accuracy: 0.9995 - precision_4: 0.9995 - recall_4: 0.9993 - val_loss: 0.1544 - val_categorical_accuracy: 0.9629 - val_precision_4: 0.9702 - val_recall_4: 0.9597\n"
          ]
        }
      ],
      "source": [
        "# 0. Set random seed\n",
        "tf.random.set_seed(42)\n",
        "INPUT_SHAPE = (100,100,3)\n",
        "\n",
        "# 1. Create the model\n",
        "base_efficient_net_model=tf.keras.applications.EfficientNetB0(include_top=False)\n",
        "base_efficient_net_model.trainable=False\n",
        "inputs= layers.Input(shape=INPUT_SHAPE, name=\"input_layer\")\n",
        "x = base_efficient_net_model(inputs)\n",
        "x = tf.keras.layers.GlobalAveragePooling2D(name=\"global_average_pooling_layer\")(x)\n",
        "outputs=tf.keras.layers.Dense(131,activation=\"softmax\",name=\"output_layer\")(x)\n",
        "model_4 = tf.keras.Model(inputs=inputs, outputs=outputs, name=\"model_4_freezed_EfficientNet\")\n",
        "\n",
        "# 2. Compile the model\n",
        "model_4.compile(loss=\"categorical_crossentropy\",\n",
        "                optimizer=\"Adam\",\n",
        "                metrics=[CategoricalAccuracy(), Precision(), Recall()])\n",
        "\n",
        "# 3. Get the summary\n",
        "model_4.summary()\n",
        "\n",
        "# 4. Fit the model\n",
        "history_model_4 = model_4.fit(train_data,\n",
        "                              epochs=25,\n",
        "                              validation_data=test_data,\n",
        "                              validation_steps=len(test_data)*0.15,\n",
        "                              verbose=MODEL_VERBOSE,\n",
        "                              callbacks=[create_model_checkpoint(model_name=model_4.name), create_early_stopping()])"
      ]
    },
    {
      "cell_type": "code",
      "execution_count": 29,
      "metadata": {
        "id": "u48O3Ou_2dqj",
        "colab": {
          "base_uri": "https://localhost:8080/",
          "height": 573
        },
        "outputId": "90fa1f31-68b4-4340-89a7-98067b4807d9"
      },
      "outputs": [
        {
          "output_type": "display_data",
          "data": {
            "text/plain": [
              "<Figure size 432x288 with 1 Axes>"
            ],
            "image/png": "[encoded data removed]"
          },
          "metadata": {
            "needs_background": "light"
          }
        },
        {
          "output_type": "display_data",
          "data": {
            "text/plain": [
              "<Figure size 432x288 with 1 Axes>"
            ],
            "image/png": "[encoded data removed]"
          },
          "metadata": {
            "needs_background": "light"
          }
        }
      ],
      "source": [
        "# Save model's architecture as an image\n",
        "plot_model(model_4, to_file='/content/model_architectures/model_4.png')\n",
        "\n",
        "# About the model history\n",
        "plot_loss_curves(history_model_4)"
      ]
    },
    {
      "cell_type": "code",
      "execution_count": 30,
      "metadata": {
        "id": "S0oSZtYZ2jM_",
        "colab": {
          "base_uri": "https://localhost:8080/"
        },
        "outputId": "06062ae3-b8d7-499c-fd89-11bea0160c93"
      },
      "outputs": [
        {
          "output_type": "stream",
          "name": "stdout",
          "text": [
            "709/709 [==============================] - 17s 24ms/step - loss: 0.1611 - categorical_accuracy: 0.9578 - precision_4: 0.9685 - recall_4: 0.9525\n"
          ]
        }
      ],
      "source": [
        "# Loading in the best weights\n",
        "best_weights_path = \"/content/model_experiments/model_4_freezed_EfficientNet\"\n",
        "model_4.load_weights(best_weights_path)\n",
        "\n",
        "# Evaluate on test set\n",
        "loss_4, accuracy_4, precision_4, recall_4 = model_4.evaluate(test_data)"
      ]
    },
    {
      "cell_type": "code",
      "execution_count": 31,
      "metadata": {
        "id": "VPbrQ1102xIQ",
        "colab": {
          "base_uri": "https://localhost:8080/"
        },
        "outputId": "8894c35a-e66b-4466-ce7d-9ce8bbc5a8b3"
      },
      "outputs": [
        {
          "output_type": "execute_result",
          "data": {
            "text/plain": [
              "{'Loss': 0.16105277836322784,\n",
              " 'Accuracy': 95.78191041946411,\n",
              " 'Precision': 0.9685385227203369,\n",
              " 'Recall': 0.9525299668312073}"
            ]
          },
          "metadata": {},
          "execution_count": 31
        }
      ],
      "source": [
        "# Getting a metrics report\n",
        "model_4_metrics = get_metrics(loss_4, accuracy_4, precision_4, recall_4)\n",
        "model_4_metrics"
      ]
    },
    {
      "cell_type": "markdown",
      "metadata": {
        "id": "8YIH9eT5AHdM"
      },
      "source": [
        "#### Model 5\n",
        "* **Layers:** Fine-tuned ResNet as the base with multiple other layers\n",
        "* **Optimizer:** Adam\n",
        "* **Loss:** Cross entropy\n",
        "* **Epochs:** 30, with `initial_epoch` set to the model 3's last epoch\n",
        "* **Callbacks:** `ModelCheckpoint`, `EarlyStopping`\n",
        "* **Validation data:** available"
      ]
    },
    {
      "cell_type": "code",
      "execution_count": 32,
      "metadata": {
        "id": "gk2zsuHc3uCO",
        "colab": {
          "base_uri": "https://localhost:8080/"
        },
        "outputId": "90df77d5-f367-4483-f0c7-fdcf31ac037e"
      },
      "outputs": [
        {
          "output_type": "stream",
          "name": "stdout",
          "text": [
            "Model: \"model_5_finetuned_ResNet\"\n",
            "_________________________________________________________________\n",
            " Layer (type)                Output Shape              Param #   \n",
            "=================================================================\n",
            " input_layer (InputLayer)    [(None, 100, 100, 3)]     0         \n",
            "                                                                 \n",
            " rescaling_2 (Rescaling)     (None, 100, 100, 3)       0         \n",
            "                                                                 \n",
            " resnet50 (Functional)       (None, None, None, 2048)  23587712  \n",
            "                                                                 \n",
            " global_average_pooling_laye  (None, 2048)             0         \n",
            " r (GlobalAveragePooling2D)                                      \n",
            "                                                                 \n",
            " output_layer (Dense)        (None, 131)               268419    \n",
            "                                                                 \n",
            "=================================================================\n",
            "Total params: 23,856,131\n",
            "Trainable params: 268,419\n",
            "Non-trainable params: 23,587,712\n",
            "_________________________________________________________________\n",
            "Epoch 25/30\n",
            "410/410 [==============================] - ETA: 0s - loss: 3.1532 - categorical_accuracy: 0.3011 - precision_5: 0.9050 - recall_5: 0.0305\n",
            "Epoch 25: val_loss improved from inf to 2.60550, saving model to model_experiments/model_5_finetuned_ResNet\n",
            "410/410 [==============================] - 23s 49ms/step - loss: 3.1532 - categorical_accuracy: 0.3011 - precision_5: 0.9050 - recall_5: 0.0305 - val_loss: 2.6055 - val_categorical_accuracy: 0.4241 - val_precision_5: 0.8914 - val_recall_5: 0.0575\n",
            "Epoch 26/30\n",
            "409/410 [============================>.] - ETA: 0s - loss: 1.8009 - categorical_accuracy: 0.6051 - precision_5: 0.9505 - recall_5: 0.1847\n",
            "Epoch 26: val_loss improved from 2.60550 to 1.90930, saving model to model_experiments/model_5_finetuned_ResNet\n",
            "410/410 [==============================] - 19s 46ms/step - loss: 1.8005 - categorical_accuracy: 0.6053 - precision_5: 0.9505 - recall_5: 0.1848 - val_loss: 1.9093 - val_categorical_accuracy: 0.5575 - val_precision_5: 0.9021 - val_recall_5: 0.2179\n",
            "Epoch 27/30\n",
            "409/410 [============================>.] - ETA: 0s - loss: 1.3140 - categorical_accuracy: 0.7175 - precision_5: 0.9676 - recall_5: 0.3542\n",
            "Epoch 27: val_loss improved from 1.90930 to 1.64150, saving model to model_experiments/model_5_finetuned_ResNet\n",
            "410/410 [==============================] - 19s 46ms/step - loss: 1.3142 - categorical_accuracy: 0.7175 - precision_5: 0.9677 - recall_5: 0.3544 - val_loss: 1.6415 - val_categorical_accuracy: 0.6043 - val_precision_5: 0.9050 - val_recall_5: 0.3423\n",
            "Epoch 28/30\n",
            "410/410 [==============================] - ETA: 0s - loss: 1.0460 - categorical_accuracy: 0.7773 - precision_5: 0.9641 - recall_5: 0.4782\n",
            "Epoch 28: val_loss improved from 1.64150 to 1.45091, saving model to model_experiments/model_5_finetuned_ResNet\n",
            "410/410 [==============================] - 19s 46ms/step - loss: 1.0460 - categorical_accuracy: 0.7773 - precision_5: 0.9641 - recall_5: 0.4782 - val_loss: 1.4509 - val_categorical_accuracy: 0.6346 - val_precision_5: 0.8814 - val_recall_5: 0.4168\n",
            "Epoch 29/30\n",
            "409/410 [============================>.] - ETA: 0s - loss: 0.8559 - categorical_accuracy: 0.8216 - precision_5: 0.9691 - recall_5: 0.5817\n",
            "Epoch 29: val_loss improved from 1.45091 to 1.27788, saving model to model_experiments/model_5_finetuned_ResNet\n",
            "410/410 [==============================] - 19s 46ms/step - loss: 0.8560 - categorical_accuracy: 0.8215 - precision_5: 0.9691 - recall_5: 0.5815 - val_loss: 1.2779 - val_categorical_accuracy: 0.6779 - val_precision_5: 0.9120 - val_recall_5: 0.4810\n",
            "Epoch 30/30\n",
            "409/410 [============================>.] - ETA: 0s - loss: 0.7259 - categorical_accuracy: 0.8519 - precision_5: 0.9706 - recall_5: 0.6462\n",
            "Epoch 30: val_loss improved from 1.27788 to 1.20540, saving model to model_experiments/model_5_finetuned_ResNet\n",
            "410/410 [==============================] - 19s 46ms/step - loss: 0.7259 - categorical_accuracy: 0.8519 - precision_5: 0.9706 - recall_5: 0.6462 - val_loss: 1.2054 - val_categorical_accuracy: 0.7006 - val_precision_5: 0.9041 - val_recall_5: 0.5312\n"
          ]
        }
      ],
      "source": [
        "# 0. Set random seed\n",
        "tf.random.set_seed(42)\n",
        "INPUT_SHAPE = (100,100,3)\n",
        "\n",
        "# 1. Create the model\n",
        "base_resnet_model = tf.keras.applications.resnet50.ResNet50(include_top=False)\n",
        "base_resnet_model.trainable = False\n",
        "\n",
        "# Setting the base model to train (only on the last 10 layers)\n",
        "LAYERS_TRAINABLE = 10\n",
        "for layer in base_resnet_model.layers[-LAYERS_TRAINABLE:]:\n",
        "  layer.trainable = True\n",
        "\n",
        "inputs = layers.Input(shape=INPUT_SHAPE, name=\"input_layer\")\n",
        "scale = layers.Rescaling(scale=1./255)(inputs)\n",
        "x = base_resnet_model(scale)\n",
        "x = layers.GlobalAveragePooling2D(name=\"global_average_pooling_layer\")(x)\n",
        "outputs = layers.Dense(131,activation=\"softmax\",name=\"output_layer\")(x)\n",
        "model_5 = tf.keras.Model(inputs=inputs, outputs=outputs, name=\"model_5_finetuned_ResNet\")\n",
        "\n",
        "# 2. Compile the model\n",
        "model_5.compile(loss=\"categorical_crossentropy\",\n",
        "                optimizer=\"Adam\",\n",
        "                metrics=[CategoricalAccuracy(), Precision(), Recall()])\n",
        "\n",
        "# 3. Get the summary\n",
        "model_5.summary()\n",
        "\n",
        "# 4. Fit the model\n",
        "history_model_5 = model_5.fit(train_data,\n",
        "                              epochs=30,\n",
        "                              initial_epoch=history_model_3.epoch[-1],\n",
        "                              validation_data=test_data,\n",
        "                              validation_steps=len(test_data)*0.15,\n",
        "                              verbose=MODEL_VERBOSE,\n",
        "                              callbacks=[create_model_checkpoint(model_name=model_5.name), create_early_stopping()])"
      ]
    },
    {
      "cell_type": "code",
      "execution_count": 33,
      "metadata": {
        "id": "qbm5sFqS5Vth",
        "colab": {
          "base_uri": "https://localhost:8080/",
          "height": 573
        },
        "outputId": "da113da9-85ec-4585-d630-e6c1903b7a56"
      },
      "outputs": [
        {
          "output_type": "display_data",
          "data": {
            "text/plain": [
              "<Figure size 432x288 with 1 Axes>"
            ],
            "image/png": "[encoded data removed]"
          },
          "metadata": {
            "needs_background": "light"
          }
        },
        {
          "output_type": "display_data",
          "data": {
            "text/plain": [
              "<Figure size 432x288 with 1 Axes>"
            ],
            "image/png": "[encoded data removed]"
          },
          "metadata": {
            "needs_background": "light"
          }
        }
      ],
      "source": [
        "# Save model's architecture as an image\n",
        "plot_model(model_5, to_file='/content/model_architectures/model_5.png')\n",
        "\n",
        "# About the model history\n",
        "plot_loss_curves(history_model_5)"
      ]
    },
    {
      "cell_type": "code",
      "execution_count": 34,
      "metadata": {
        "id": "xq7OQP_253Z8",
        "colab": {
          "base_uri": "https://localhost:8080/"
        },
        "outputId": "ab8ed3f2-6a9b-486d-bcf6-df3813a5a895"
      },
      "outputs": [
        {
          "output_type": "stream",
          "name": "stdout",
          "text": [
            "709/709 [==============================] - 25s 35ms/step - loss: 1.2415 - categorical_accuracy: 0.6935 - precision_5: 0.9034 - recall_5: 0.5225\n"
          ]
        }
      ],
      "source": [
        "# Loading in the best weights\n",
        "best_weights_path = \"/content/model_experiments/model_5_finetuned_ResNet\"\n",
        "model_5.load_weights(best_weights_path)\n",
        "\n",
        "# Evaluate on test set\n",
        "loss_5, accuracy_5, precision_5, recall_5 = model_5.evaluate(test_data)"
      ]
    },
    {
      "cell_type": "code",
      "execution_count": 35,
      "metadata": {
        "id": "dcWq9XM25_1f",
        "colab": {
          "base_uri": "https://localhost:8080/"
        },
        "outputId": "01a2bf43-ecd7-426e-fe74-03b131533ddd"
      },
      "outputs": [
        {
          "output_type": "execute_result",
          "data": {
            "text/plain": [
              "{'Loss': 1.2414706945419312,\n",
              " 'Accuracy': 69.35384273529053,\n",
              " 'Precision': 0.9034372568130493,\n",
              " 'Recall': 0.5224788188934326}"
            ]
          },
          "metadata": {},
          "execution_count": 35
        }
      ],
      "source": [
        "# Getting a metrics report\n",
        "model_5_metrics = get_metrics(loss_5, accuracy_5, precision_5, recall_5)\n",
        "model_5_metrics"
      ]
    },
    {
      "cell_type": "markdown",
      "metadata": {
        "id": "Y4hHsWiWAIqr"
      },
      "source": [
        "#### Model 6\n",
        "* **Layers:** Fine-tuned EffificientNetB0 with other various layers\n",
        "* **Optimizer:** Adam\n",
        "* **Loss:** Cross entropy\n",
        "* **Epochs:** 30, with `initial_epoch` set as model 4's last epoch\n",
        "* **Callbacks:** `ModelCheckpoint`, `EarlyStopping`\n",
        "* **Validation data:** available"
      ]
    },
    {
      "cell_type": "code",
      "execution_count": 40,
      "metadata": {
        "id": "gEL8YxLa7MWE",
        "colab": {
          "base_uri": "https://localhost:8080/"
        },
        "outputId": "f4b36c98-ab2c-4963-ead5-c02b86016e99"
      },
      "outputs": [
        {
          "output_type": "stream",
          "name": "stdout",
          "text": [
            "Model: \"model_6_finetuned_EfficientNet\"\n",
            "_________________________________________________________________\n",
            " Layer (type)                Output Shape              Param #   \n",
            "=================================================================\n",
            " input_layer (InputLayer)    [(None, 100, 100, 3)]     0         \n",
            "                                                                 \n",
            " efficientnetb0 (Functional)  (None, None, None, 1280)  4049571  \n",
            "                                                                 \n",
            " global_average_pooling_laye  (None, 1280)             0         \n",
            " r (GlobalAveragePooling2D)                                      \n",
            "                                                                 \n",
            " output_layer (Dense)        (None, 131)               167811    \n",
            "                                                                 \n",
            "=================================================================\n",
            "Total params: 4,217,382\n",
            "Trainable params: 167,811\n",
            "Non-trainable params: 4,049,571\n",
            "_________________________________________________________________\n",
            "Epoch 24/30\n",
            "409/410 [============================>.] - ETA: 0s - loss: 1.0126 - categorical_accuracy: 0.8285 - precision_7: 0.9881 - recall_7: 0.5979\n",
            "Epoch 24: val_loss improved from inf to 0.48423, saving model to model_experiments/model_6_finetuned_EfficientNet\n",
            "410/410 [==============================] - 21s 38ms/step - loss: 1.0120 - categorical_accuracy: 0.8285 - precision_7: 0.9881 - recall_7: 0.5981 - val_loss: 0.4842 - val_categorical_accuracy: 0.8972 - val_precision_7: 0.9763 - val_recall_7: 0.8070\n",
            "Epoch 25/30\n",
            "408/410 [============================>.] - ETA: 0s - loss: 0.1775 - categorical_accuracy: 0.9786 - precision_7: 0.9945 - recall_7: 0.9337\n",
            "Epoch 25: val_loss improved from 0.48423 to 0.29886, saving model to model_experiments/model_6_finetuned_EfficientNet\n",
            "410/410 [==============================] - 14s 33ms/step - loss: 0.1773 - categorical_accuracy: 0.9785 - precision_7: 0.9946 - recall_7: 0.9338 - val_loss: 0.2989 - val_categorical_accuracy: 0.9305 - val_precision_7: 0.9695 - val_recall_7: 0.8916\n",
            "Epoch 26/30\n",
            "410/410 [==============================] - ETA: 0s - loss: 0.0986 - categorical_accuracy: 0.9889 - precision_7: 0.9954 - recall_7: 0.9724\n",
            "Epoch 26: val_loss improved from 0.29886 to 0.24634, saving model to model_experiments/model_6_finetuned_EfficientNet\n",
            "410/410 [==============================] - 13s 31ms/step - loss: 0.0986 - categorical_accuracy: 0.9889 - precision_7: 0.9954 - recall_7: 0.9724 - val_loss: 0.2463 - val_categorical_accuracy: 0.9401 - val_precision_7: 0.9730 - val_recall_7: 0.9141\n",
            "Epoch 27/30\n",
            "408/410 [============================>.] - ETA: 0s - loss: 0.0643 - categorical_accuracy: 0.9942 - precision_7: 0.9971 - recall_7: 0.9857\n",
            "Epoch 27: val_loss improved from 0.24634 to 0.21585, saving model to model_experiments/model_6_finetuned_EfficientNet\n",
            "410/410 [==============================] - 13s 32ms/step - loss: 0.0642 - categorical_accuracy: 0.9942 - precision_7: 0.9971 - recall_7: 0.9857 - val_loss: 0.2158 - val_categorical_accuracy: 0.9471 - val_precision_7: 0.9726 - val_recall_7: 0.9235\n",
            "Epoch 28/30\n",
            "409/410 [============================>.] - ETA: 0s - loss: 0.0469 - categorical_accuracy: 0.9950 - precision_7: 0.9979 - recall_7: 0.9902\n",
            "Epoch 28: val_loss improved from 0.21585 to 0.19801, saving model to model_experiments/model_6_finetuned_EfficientNet\n",
            "410/410 [==============================] - 13s 32ms/step - loss: 0.0469 - categorical_accuracy: 0.9950 - precision_7: 0.9979 - recall_7: 0.9902 - val_loss: 0.1980 - val_categorical_accuracy: 0.9556 - val_precision_7: 0.9709 - val_recall_7: 0.9366\n",
            "Epoch 29/30\n",
            "408/410 [============================>.] - ETA: 0s - loss: 0.0378 - categorical_accuracy: 0.9962 - precision_7: 0.9978 - recall_7: 0.9922\n",
            "Epoch 29: val_loss improved from 0.19801 to 0.18880, saving model to model_experiments/model_6_finetuned_EfficientNet\n",
            "410/410 [==============================] - 13s 32ms/step - loss: 0.0379 - categorical_accuracy: 0.9963 - precision_7: 0.9979 - recall_7: 0.9921 - val_loss: 0.1888 - val_categorical_accuracy: 0.9562 - val_precision_7: 0.9716 - val_recall_7: 0.9401\n",
            "Epoch 30/30\n",
            "408/410 [============================>.] - ETA: 0s - loss: 0.0282 - categorical_accuracy: 0.9975 - precision_7: 0.9988 - recall_7: 0.9947\n",
            "Epoch 30: val_loss improved from 0.18880 to 0.18749, saving model to model_experiments/model_6_finetuned_EfficientNet\n",
            "410/410 [==============================] - 13s 32ms/step - loss: 0.0282 - categorical_accuracy: 0.9976 - precision_7: 0.9989 - recall_7: 0.9947 - val_loss: 0.1875 - val_categorical_accuracy: 0.9550 - val_precision_7: 0.9721 - val_recall_7: 0.9454\n"
          ]
        }
      ],
      "source": [
        "# 0. Set random seed\n",
        "tf.random.set_seed(42)\n",
        "INPUT_SHAPE = (100,100,3)\n",
        "\n",
        "# 1. Create the model\n",
        "base_efficient_net_model=tf.keras.applications.EfficientNetB0(include_top=False)\n",
        "base_efficient_net_model.trainable=False\n",
        "\n",
        "# Setting the base model to train (only on the last 10 layers)\n",
        "LAYERS_TRAINABLE = 10\n",
        "for layer in base_efficient_net_model.layers[-LAYERS_TRAINABLE:]:\n",
        "  layer.trainable = True\n",
        "\n",
        "inputs= layers.Input(shape=INPUT_SHAPE, name=\"input_layer\")\n",
        "x = base_efficient_net_model(inputs)\n",
        "x = tf.keras.layers.GlobalAveragePooling2D(name=\"global_average_pooling_layer\")(x)\n",
        "outputs=tf.keras.layers.Dense(131,activation=\"softmax\",name=\"output_layer\")(x)\n",
        "model_6 = tf.keras.Model(inputs=inputs, outputs=outputs, name=\"model_6_finetuned_EfficientNet\")\n",
        "\n",
        "# 2. Compile the model\n",
        "model_6.compile(loss=\"categorical_crossentropy\",\n",
        "                optimizer=\"Adam\",\n",
        "                metrics=[CategoricalAccuracy(), Precision(), Recall()])\n",
        "\n",
        "# 3. Get the summary\n",
        "model_6.summary()\n",
        "\n",
        "# 4. Fit the model\n",
        "history_model_6 = model_6.fit(train_data,\n",
        "                              epochs=30,\n",
        "                              initial_epoch=history_model_4.epoch[-1],\n",
        "                              validation_data=test_data,\n",
        "                              validation_steps=len(test_data)*0.15,\n",
        "                              verbose=MODEL_VERBOSE,\n",
        "                              callbacks=[create_model_checkpoint(model_name=model_6.name), create_early_stopping()])"
      ]
    },
    {
      "cell_type": "code",
      "execution_count": 41,
      "metadata": {
        "id": "LwP1hfZ37l_7",
        "colab": {
          "base_uri": "https://localhost:8080/",
          "height": 573
        },
        "outputId": "af19f4f7-459e-4537-dd3e-17f081ed0f94"
      },
      "outputs": [
        {
          "output_type": "display_data",
          "data": {
            "text/plain": [
              "<Figure size 432x288 with 1 Axes>"
            ],
            "image/png": "[encoded data removed]"
          },
          "metadata": {
            "needs_background": "light"
          }
        },
        {
          "output_type": "display_data",
          "data": {
            "text/plain": [
              "<Figure size 432x288 with 1 Axes>"
            ],
            "image/png": "[encoded data removed]"
          },
          "metadata": {
            "needs_background": "light"
          }
        }
      ],
      "source": [
        "# Save model's architecture as an image\n",
        "plot_model(model_6, to_file='/content/model_architectures/model_6.png')\n",
        "\n",
        "# About the model history\n",
        "plot_loss_curves(history_model_6)"
      ]
    },
    {
      "cell_type": "code",
      "execution_count": 42,
      "metadata": {
        "id": "TK1Ix6Bo7o1c",
        "colab": {
          "base_uri": "https://localhost:8080/"
        },
        "outputId": "1cd9f3d2-9a9d-4a8b-8419-8217cc9733a3"
      },
      "outputs": [
        {
          "output_type": "stream",
          "name": "stdout",
          "text": [
            "709/709 [==============================] - 17s 24ms/step - loss: 0.2029 - categorical_accuracy: 0.9513 - precision_7: 0.9670 - recall_7: 0.9395\n"
          ]
        }
      ],
      "source": [
        "# Loading in the best weights\n",
        "best_weights_path = \"/content/model_experiments/model_6_finetuned_EfficientNet\"\n",
        "model_6.load_weights(best_weights_path)\n",
        "\n",
        "# Evaluate on test set\n",
        "loss_6, accuracy_6, precision_6, recall_6 = model_6.evaluate(test_data)"
      ]
    },
    {
      "cell_type": "code",
      "execution_count": 43,
      "metadata": {
        "id": "-89PKkn_7yc-",
        "colab": {
          "base_uri": "https://localhost:8080/"
        },
        "outputId": "f8a36540-ee23-4340-b227-6a20edf516c6"
      },
      "outputs": [
        {
          "output_type": "execute_result",
          "data": {
            "text/plain": [
              "{'Loss': 0.2028946578502655,\n",
              " 'Accuracy': 95.1251745223999,\n",
              " 'Precision': 0.9669736623764038,\n",
              " 'Recall': 0.9394834041595459}"
            ]
          },
          "metadata": {},
          "execution_count": 43
        }
      ],
      "source": [
        "# Getting a metrics report\n",
        "model_6_metrics = get_metrics(loss_6, accuracy_6, precision_6, recall_6)\n",
        "model_6_metrics"
      ]
    },
    {
      "cell_type": "markdown",
      "metadata": {
        "id": "uhXoIl1T_Ju3"
      },
      "source": [
        "## Step 4: Compare results and conclude experiments\n",
        "- Use graphs and matrices to visualize results.\n",
        "- (*Optional*) Tune hyperparameters of the best model.\n",
        "- Compare best models results with researchers best model.\n",
        "- Save and export the models (in .h5 format).\n"
      ]
    },
    {
      "cell_type": "code",
      "execution_count": 49,
      "metadata": {
        "id": "NbXCA7X68D01"
      },
      "outputs": [],
      "source": [
        "# Dataframe of results\n",
        "results_df = pd.DataFrame({\"model_0_dense\": model_0_metrics,\n",
        "                           \"model_1_Conv2D\": model_1_metrics,\n",
        "                           \"model_2_best_on_paper\": model_2_metrics,\n",
        "                           \"model_3_freezed_ResNet\": model_3_metrics,\n",
        "                           \"model_4_freezed_EfficientNet\": model_4_metrics,\n",
        "                           \"model_5_finetuned_ResNet\": model_5_metrics,\n",
        "                           \"model_6_finetuned_EfficientNet\": model_6_metrics}).T\n",
        "results_df[\"Accuracy\"] = results_df[\"Accuracy\"]/100"
      ]
    },
    {
      "cell_type": "code",
      "source": [
        "results_df[[\"Accuracy\", \"Precision\", \"Recall\"]].plot(kind=\"bar\", figsize=(15,7));"
      ],
      "metadata": {
        "colab": {
          "base_uri": "https://localhost:8080/",
          "height": 578
        },
        "id": "T1o7b8m31Og6",
        "outputId": "d40fdaaa-0bbc-4477-9387-276beeb04493"
      },
      "execution_count": 51,
      "outputs": [
        {
          "output_type": "display_data",
          "data": {
            "text/plain": [
              "<Figure size 1080x504 with 1 Axes>"
            ],
            "image/png": "[encoded data removed]"
          },
          "metadata": {
            "needs_background": "light"
          }
        }
      ]
    },
    {
      "cell_type": "code",
      "execution_count": 52,
      "metadata": {
        "id": "1qpRvfNeAoUW"
      },
      "outputs": [],
      "source": [
        "# Creating directory to store all the models\n",
        "!mkdir saved_models"
      ]
    },
    {
      "cell_type": "code",
      "execution_count": null,
      "metadata": {
        "id": "k4ZgWBJ6Aw8a"
      },
      "outputs": [],
      "source": [
        "# Saving models\n",
        "model_0.save(\"saved_models/model_0.h5\")\n",
        "model_1.save(\"saved_models/model_1.h5\")\n",
        "model_2.save(\"saved_models/model_2.h5\")\n",
        "model_3.save(\"saved_models/model_3.h5\")\n",
        "model_4.save(\"saved_models/model_4.h5\")\n",
        "model_5.save(\"saved_models/model_5.h5\")\n",
        "model_6.save(\"saved_models/model_6.h5\")"
      ]
    }
  ],
  "metadata": {
    "accelerator": "GPU",
    "colab": {
      "collapsed_sections": [],
      "provenance": []
    },
    "gpuClass": "standard",
    "kernelspec": {
      "display_name": "Python 3",
      "name": "python3"
    },
    "language_info": {
      "name": "python"
    }
  },
  "nbformat": 4,
  "nbformat_minor": 0
}