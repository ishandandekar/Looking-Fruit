{
  "cells": [
    {
      "cell_type": "markdown",
      "metadata": {
        "id": "uNrJinLmAcVX"
      },
      "source": [
        "[![Open In Colab](https://colab.research.google.com/assets/colab-badge.svg)](https://colab.research.google.com/github/ishandandekar/Looking_Fruit/blob/main/notebooks/Looking_Fruit_nbk.ipynb)"
      ]
    },
    {
      "cell_type": "markdown",
      "metadata": {
        "id": "2t7p4-GpnQFQ"
      },
      "source": [
        "# Looking_Fruit\n",
        "\n",
        "👋 Hello and welcome to the **Looking_Fruit** notebook. In this notebook I try to replicate the [Fruits-360](https://www.researchgate.net/publication/321475443_Fruit_recognition_from_images_using_deep_learning) research paper. In this paper, researchers have tried to classify images of **131** fruits and vegetables. The data used for these modelling experiments is provided by the paper researchers themselves."
      ]
    },
    {
      "cell_type": "code",
      "execution_count": 1,
      "metadata": {
        "colab": {
          "base_uri": "https://localhost:8080/"
        },
        "id": "6fVSgcHVkTpS",
        "outputId": "c5434b57-f052-4cf1-ea8c-01230756b4e0"
      },
      "outputs": [
        {
          "name": "stdout",
          "output_type": "stream",
          "text": [
            "GPU 0: Tesla T4 (UUID: GPU-15969277-89fe-a4c2-3a94-f97ac61d9019)\n"
          ]
        }
      ],
      "source": [
        "# Check for GPU\n",
        "!nvidia-smi -L"
      ]
    },
    {
      "cell_type": "markdown",
      "metadata": {
        "id": "yK-K0_Oxp9RI"
      },
      "source": [
        "## Step 0: Defining the problem\n"
      ]
    },
    {
      "cell_type": "markdown",
      "metadata": {
        "id": "E957ywbEkgil"
      },
      "source": [
        "**Objective:**  \n",
        "To classify the images of various fruits and vegetables with best f1-score.  \n",
        "\n",
        "**Files:**\n",
        "- *Train*: This folder contains folders labelled as fruit's/vegetable's name. These subfolders contain images of the respective fruit/vegetable. This folder will be used for training purpose.\n",
        "- *Test*: This folder contains folders labelled as fruit's/vegetable's name. These subfolders contain images of the respective fruit/vegetable. This folder will be used for testing purpose."
      ]
    },
    {
      "cell_type": "markdown",
      "metadata": {
        "id": "Yujoou29mCFK"
      },
      "source": [
        "## Step 1: Getting the data\n",
        "The data used for this project is publicly available on [Kaggle](https://www.kaggle.com/datasets/ishandandekar/fruitimagedataset).\n",
        "\n",
        "- Use Kaggle's API to download the data into Colab.\n",
        "- Get utility functions to help in future.\n",
        "- Configure data files to read using Python.\n"
      ]
    },
    {
      "cell_type": "code",
      "execution_count": 2,
      "metadata": {
        "colab": {
          "base_uri": "https://localhost:8080/"
        },
        "id": "RriztHP9nLy1",
        "outputId": "072fa35a-4028-41d0-df29-278058f3a9b5"
      },
      "outputs": [
        {
          "name": "stdout",
          "output_type": "stream",
          "text": [
            "--2022-09-11 08:15:25--  https://raw.githubusercontent.com/ishandandekar/Looking_Fruit/main/scripts/helper_functions.py\n",
            "Resolving raw.githubusercontent.com (raw.githubusercontent.com)... 185.199.110.133, 185.199.109.133, 185.199.111.133, ...\n",
            "Connecting to raw.githubusercontent.com (raw.githubusercontent.com)|185.199.110.133|:443... connected.\n",
            "HTTP request sent, awaiting response... 200 OK\n",
            "Length: 3000 (2.9K) [text/plain]\n",
            "Saving to: ‘helper_functions.py’\n",
            "\n",
            "\rhelper_functions.py   0%[                    ]       0  --.-KB/s               \rhelper_functions.py 100%[===================>]   2.93K  --.-KB/s    in 0s      \n",
            "\n",
            "2022-09-11 08:15:25 (37.3 MB/s) - ‘helper_functions.py’ saved [3000/3000]\n",
            "\n"
          ]
        }
      ],
      "source": [
        "# Getting the helper functions script\n",
        "!wget https://raw.githubusercontent.com/ishandandekar/Looking_Fruit/main/scripts/helper_functions.py\n",
        "\n",
        "# Get the necessary functions from the python script\n",
        "from helper_functions import plot_loss_curves, unzip_data, create_model_checkpoint, create_early_stopping, get_metrics"
      ]
    },
    {
      "cell_type": "markdown",
      "metadata": {
        "id": "AQk2Ny-zWEtP"
      },
      "source": [
        "About these helper functions (see documentation for better description):\n",
        "* **plot_loss_curves** : Plots a line graph (using matplotlib) to see changes in loss and accuracy during training.\n",
        "* **unzip_data** : Unzips a zip file to a directory\n",
        "* **create_model_checkpoint** : Creates a model checkpoint with only best weights (monitored over validation loss).\n",
        "* **create_early_stopping** : Creates an early stopping callback to prevent overfitting.\n",
        "* **get_metrics** : Returns a dictionary with classification metrics."
      ]
    },
    {
      "cell_type": "code",
      "execution_count": 3,
      "metadata": {
        "colab": {
          "base_uri": "https://localhost:8080/",
          "height": 126,
          "resources": {
            "http://localhost:8080/nbextensions/google.colab/files.js": {
              "data": "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",
              "headers": [
                [
                  "content-type",
                  "application/javascript"
                ]
              ],
              "ok": true,
              "status": 200,
              "status_text": ""
            }
          }
        },
        "id": "QxwTbHhbniZd",
        "outputId": "fc39b836-1844-4dbb-ef91-6b27590862b1"
      },
      "outputs": [
        {
          "data": {
            "text/html": [
              "\n",
              "     <input type=\"file\" id=\"files-e5f8b037-7ff8-4e4b-9707-5f04582b838c\" name=\"files[]\" multiple disabled\n",
              "        style=\"border:none\" />\n",
              "     <output id=\"result-e5f8b037-7ff8-4e4b-9707-5f04582b838c\">\n",
              "      Upload widget is only available when the cell has been executed in the\n",
              "      current browser session. Please rerun this cell to enable.\n",
              "      </output>\n",
              "      <script src=\"/nbextensions/google.colab/files.js\"></script> "
            ],
            "text/plain": [
              "<IPython.core.display.HTML object>"
            ]
          },
          "metadata": {},
          "output_type": "display_data"
        },
        {
          "name": "stdout",
          "output_type": "stream",
          "text": [
            "Saving kaggle.json to kaggle.json\n",
            "Downloading fruitimagedataset.zip to /content\n",
            " 94% 372M/398M [00:02<00:00, 178MB/s]\n",
            "100% 398M/398M [00:02<00:00, 148MB/s]\n"
          ]
        }
      ],
      "source": [
        "# Install the kaggle library\n",
        "!pip install -q kaggle\n",
        "\n",
        "# Upload the Kaggle API keys\n",
        "from google.colab import files\n",
        "files.upload()\n",
        "\n",
        "!mkdir ~/.kaggle\n",
        "\n",
        "# Copy the json file to the folder\n",
        "!cp kaggle.json ~/.kaggle\n",
        "\n",
        "# Change permissions for keys to work with the Kaggle API\n",
        "!chmod 600 ~/.kaggle/kaggle.json\n",
        "\n",
        "# Download the dataset\n",
        "!kaggle datasets download -d ishandandekar/fruitimagedataset\n",
        "\n",
        "# Unzip data\n",
        "unzip_data('fruitimagedataset.zip', data_dir=\"raw\")"
      ]
    },
    {
      "cell_type": "markdown",
      "metadata": {
        "id": "2y7AyVsDpMeK"
      },
      "source": [
        "## Step 2: Know more about the data\n",
        "\n",
        "- Get the statistics about the data.\n",
        "- Check if the labels are imbalanced.\n",
        "- Visualize random samples in data.\n",
        "- (*If required*) Trim data.\n",
        "- (*If required*) Preprocess the data.\n",
        "- Make data processing faster using `ImageDataGenerator`."
      ]
    },
    {
      "cell_type": "code",
      "execution_count": 4,
      "metadata": {
        "id": "rruTT4WnpvsR"
      },
      "outputs": [],
      "source": [
        "# Importing necessary libraries\n",
        "import numpy as np\n",
        "import pandas as pd\n",
        "import matplotlib.pyplot as plt\n",
        "import matplotlib.image as mpimg\n",
        "import os\n",
        "import random\n",
        "import shutil\n",
        "import tensorflow as tf\n",
        "from tensorflow.keras import layers\n",
        "from tensorflow.keras.utils import plot_model\n",
        "from tensorflow.keras.metrics import CategoricalAccuracy, Precision, Recall"
      ]
    },
    {
      "cell_type": "code",
      "execution_count": 5,
      "metadata": {
        "id": "Jgdo_iPQp-hw"
      },
      "outputs": [],
      "source": [
        "# Setting up necessary variables\n",
        "TRAIN_PATH = '/content/raw/train/train/'\n",
        "TEST_PATH = '/content/raw/test/test/'\n",
        "RAW_DATA_PATH = '/content/raw'\n",
        "MODEL_VERBOSE = 1"
      ]
    },
    {
      "cell_type": "code",
      "execution_count": 6,
      "metadata": {
        "colab": {
          "base_uri": "https://localhost:8080/"
        },
        "id": "uJI7iNbnqHOp",
        "outputId": "93f2712a-99bc-4e4f-e471-dc72e750284d"
      },
      "outputs": [
        {
          "name": "stdout",
          "output_type": "stream",
          "text": [
            "Total number of classes to deal with: 131\n"
          ]
        }
      ],
      "source": [
        "# Checking the number of classes\n",
        "classes = []\n",
        "\n",
        "for dirname, _, filenames in os.walk(RAW_DATA_PATH):\n",
        "    if dirname.startswith(f\"{TRAIN_PATH}\"):\n",
        "        classes.append(dirname[len(TRAIN_PATH):])\n",
        "\n",
        "print(f\"Total number of classes to deal with: {len(classes)}\")"
      ]
    },
    {
      "cell_type": "code",
      "execution_count": 7,
      "metadata": {
        "colab": {
          "base_uri": "https://localhost:8080/"
        },
        "id": "_FaY0ocUwKP5",
        "outputId": "25405c75-7fbc-440b-9236-c7cee2f32076"
      },
      "outputs": [
        {
          "data": {
            "text/plain": [
              "['Pepper Yellow',\n",
              " 'Physalis with Husk',\n",
              " 'Tomato not Ripened',\n",
              " 'Strawberry Wedge',\n",
              " 'Rambutan']"
            ]
          },
          "execution_count": 7,
          "metadata": {},
          "output_type": "execute_result"
        }
      ],
      "source": [
        "# Show random classes present in the dataset\n",
        "list_of_five_random_labels = random.sample(classes,5)\n",
        "list_of_five_random_labels"
      ]
    },
    {
      "cell_type": "code",
      "execution_count": 8,
      "metadata": {
        "colab": {
          "base_uri": "https://localhost:8080/",
          "height": 363
        },
        "id": "fl9ktKX6wiaM",
        "outputId": "cde2b737-f70a-4555-a079-6350d9880b77"
      },
      "outputs": [
        {
          "data": {
            "text/html": [
              "\n",
              "  <div id=\"df-2661a6d0-9717-4c90-9ba9-3afc70064467\">\n",
              "    <div class=\"colab-df-container\">\n",
              "      <div>\n",
              "<style scoped>\n",
              "    .dataframe tbody tr th:only-of-type {\n",
              "        vertical-align: middle;\n",
              "    }\n",
              "\n",
              "    .dataframe tbody tr th {\n",
              "        vertical-align: top;\n",
              "    }\n",
              "\n",
              "    .dataframe thead th {\n",
              "        text-align: right;\n",
              "    }\n",
              "</style>\n",
              "<table border=\"1\" class=\"dataframe\">\n",
              "  <thead>\n",
              "    <tr style=\"text-align: right;\">\n",
              "      <th></th>\n",
              "      <th>Label</th>\n",
              "      <th>Number of Images</th>\n",
              "    </tr>\n",
              "  </thead>\n",
              "  <tbody>\n",
              "    <tr>\n",
              "      <th>0</th>\n",
              "      <td>Nectarine</td>\n",
              "      <td>492</td>\n",
              "    </tr>\n",
              "    <tr>\n",
              "      <th>1</th>\n",
              "      <td>Pear</td>\n",
              "      <td>492</td>\n",
              "    </tr>\n",
              "    <tr>\n",
              "      <th>2</th>\n",
              "      <td>Blueberry</td>\n",
              "      <td>462</td>\n",
              "    </tr>\n",
              "    <tr>\n",
              "      <th>3</th>\n",
              "      <td>Pitahaya Red</td>\n",
              "      <td>490</td>\n",
              "    </tr>\n",
              "    <tr>\n",
              "      <th>4</th>\n",
              "      <td>Pear Monster</td>\n",
              "      <td>490</td>\n",
              "    </tr>\n",
              "    <tr>\n",
              "      <th>5</th>\n",
              "      <td>Corn</td>\n",
              "      <td>450</td>\n",
              "    </tr>\n",
              "    <tr>\n",
              "      <th>6</th>\n",
              "      <td>Onion White</td>\n",
              "      <td>438</td>\n",
              "    </tr>\n",
              "    <tr>\n",
              "      <th>7</th>\n",
              "      <td>Cherry 2</td>\n",
              "      <td>738</td>\n",
              "    </tr>\n",
              "    <tr>\n",
              "      <th>8</th>\n",
              "      <td>Papaya</td>\n",
              "      <td>492</td>\n",
              "    </tr>\n",
              "    <tr>\n",
              "      <th>9</th>\n",
              "      <td>Peach</td>\n",
              "      <td>492</td>\n",
              "    </tr>\n",
              "  </tbody>\n",
              "</table>\n",
              "</div>\n",
              "      <button class=\"colab-df-convert\" onclick=\"convertToInteractive('df-2661a6d0-9717-4c90-9ba9-3afc70064467')\"\n",
              "              title=\"Convert this dataframe to an interactive table.\"\n",
              "              style=\"display:none;\">\n",
              "        \n",
              "  <svg xmlns=\"http://www.w3.org/2000/svg\" height=\"24px\"viewBox=\"0 0 24 24\"\n",
              "       width=\"24px\">\n",
              "    <path d=\"M0 0h24v24H0V0z\" fill=\"none\"/>\n",
              "    <path d=\"M18.56 5.44l.94 2.06.94-2.06 2.06-.94-2.06-.94-.94-2.06-.94 2.06-2.06.94zm-11 1L8.5 8.5l.94-2.06 2.06-.94-2.06-.94L8.5 2.5l-.94 2.06-2.06.94zm10 10l.94 2.06.94-2.06 2.06-.94-2.06-.94-.94-2.06-.94 2.06-2.06.94z\"/><path d=\"M17.41 7.96l-1.37-1.37c-.4-.4-.92-.59-1.43-.59-.52 0-1.04.2-1.43.59L10.3 9.45l-7.72 7.72c-.78.78-.78 2.05 0 2.83L4 21.41c.39.39.9.59 1.41.59.51 0 1.02-.2 1.41-.59l7.78-7.78 2.81-2.81c.8-.78.8-2.07 0-2.86zM5.41 20L4 18.59l7.72-7.72 1.47 1.35L5.41 20z\"/>\n",
              "  </svg>\n",
              "      </button>\n",
              "      \n",
              "  <style>\n",
              "    .colab-df-container {\n",
              "      display:flex;\n",
              "      flex-wrap:wrap;\n",
              "      gap: 12px;\n",
              "    }\n",
              "\n",
              "    .colab-df-convert {\n",
              "      background-color: #E8F0FE;\n",
              "      border: none;\n",
              "      border-radius: 50%;\n",
              "      cursor: pointer;\n",
              "      display: none;\n",
              "      fill: #1967D2;\n",
              "      height: 32px;\n",
              "      padding: 0 0 0 0;\n",
              "      width: 32px;\n",
              "    }\n",
              "\n",
              "    .colab-df-convert:hover {\n",
              "      background-color: #E2EBFA;\n",
              "      box-shadow: 0px 1px 2px rgba(60, 64, 67, 0.3), 0px 1px 3px 1px rgba(60, 64, 67, 0.15);\n",
              "      fill: #174EA6;\n",
              "    }\n",
              "\n",
              "    [theme=dark] .colab-df-convert {\n",
              "      background-color: #3B4455;\n",
              "      fill: #D2E3FC;\n",
              "    }\n",
              "\n",
              "    [theme=dark] .colab-df-convert:hover {\n",
              "      background-color: #434B5C;\n",
              "      box-shadow: 0px 1px 3px 1px rgba(0, 0, 0, 0.15);\n",
              "      filter: drop-shadow(0px 1px 2px rgba(0, 0, 0, 0.3));\n",
              "      fill: #FFFFFF;\n",
              "    }\n",
              "  </style>\n",
              "\n",
              "      <script>\n",
              "        const buttonEl =\n",
              "          document.querySelector('#df-2661a6d0-9717-4c90-9ba9-3afc70064467 button.colab-df-convert');\n",
              "        buttonEl.style.display =\n",
              "          google.colab.kernel.accessAllowed ? 'block' : 'none';\n",
              "\n",
              "        async function convertToInteractive(key) {\n",
              "          const element = document.querySelector('#df-2661a6d0-9717-4c90-9ba9-3afc70064467');\n",
              "          const dataTable =\n",
              "            await google.colab.kernel.invokeFunction('convertToInteractive',\n",
              "                                                     [key], {});\n",
              "          if (!dataTable) return;\n",
              "\n",
              "          const docLinkHtml = 'Like what you see? Visit the ' +\n",
              "            '<a target=\"_blank\" href=https://colab.research.google.com/notebooks/data_table.ipynb>data table notebook</a>'\n",
              "            + ' to learn more about interactive tables.';\n",
              "          element.innerHTML = '';\n",
              "          dataTable['output_type'] = 'display_data';\n",
              "          await google.colab.output.renderOutput(dataTable, element);\n",
              "          const docLink = document.createElement('div');\n",
              "          docLink.innerHTML = docLinkHtml;\n",
              "          element.appendChild(docLink);\n",
              "        }\n",
              "      </script>\n",
              "    </div>\n",
              "  </div>\n",
              "  "
            ],
            "text/plain": [
              "          Label  Number of Images\n",
              "0     Nectarine               492\n",
              "1          Pear               492\n",
              "2     Blueberry               462\n",
              "3  Pitahaya Red               490\n",
              "4  Pear Monster               490\n",
              "5          Corn               450\n",
              "6   Onion White               438\n",
              "7      Cherry 2               738\n",
              "8        Papaya               492\n",
              "9         Peach               492"
            ]
          },
          "execution_count": 8,
          "metadata": {},
          "output_type": "execute_result"
        }
      ],
      "source": [
        "# Number of images of each fruit/vegetable as a pandas.DataFrame\n",
        "\n",
        "# List to append the count of images\n",
        "number_of_images_train = []\n",
        "\n",
        "for label in classes:\n",
        "    path = f'{TRAIN_PATH}/{label}'\n",
        "    count = len(os.listdir(path))\n",
        "    number_of_images_train.append(count)\n",
        "\n",
        "train_image_count_df = pd.DataFrame({\"Label\":classes,\"Number of Images\":number_of_images_train})\n",
        "\n",
        "# To view first 10 rows of the dataframe\n",
        "train_image_count_df.head(10)"
      ]
    },
    {
      "cell_type": "code",
      "execution_count": 9,
      "metadata": {
        "colab": {
          "base_uri": "https://localhost:8080/"
        },
        "id": "6L99UaG5iyQT",
        "outputId": "b7183153-494c-4924-de1d-82a938c8cf76"
      },
      "outputs": [
        {
          "name": "stdout",
          "output_type": "stream",
          "text": [
            "Label with most number of images:\n",
            "          Label  Number of Images\n",
            "129  Grape Blue               984\n",
            "Label with least number of images:\n",
            "          Label  Number of Images\n",
            "10  Ginger Root               297\n"
          ]
        }
      ],
      "source": [
        "# Label with most number of images\n",
        "print(f\"Label with most number of images:\")\n",
        "print(train_image_count_df.sort_values(\"Number of Images\",ascending=False).head(1))\n",
        "print(f\"Label with least number of images:\")\n",
        "print(train_image_count_df.sort_values(\"Number of Images\",ascending=True).head(1))"
      ]
    },
    {
      "cell_type": "code",
      "execution_count": 10,
      "metadata": {
        "colab": {
          "base_uri": "https://localhost:8080/",
          "height": 264
        },
        "id": "Cv6G8PcTwtGI",
        "outputId": "5c12b0e8-9fda-42ee-e209-42ebbaff4951"
      },
      "outputs": [
        {
          "data": {
            "image/png": "[encoded data removed]",
            "text/plain": [
              "<Figure size 432x288 with 1 Axes>"
            ]
          },
          "metadata": {
            "needs_background": "light"
          },
          "output_type": "display_data"
        }
      ],
      "source": [
        "# Show random sample from training of a random fruit/vegetable\n",
        "\n",
        "random_label = random.choice(classes)\n",
        "sample_path = f'{TRAIN_PATH}/{random_label}'\n",
        "random_image= random.choice(os.listdir(sample_path))\n",
        "random_image_path = f'{sample_path}/{random_image}'\n",
        "\n",
        "img = mpimg.imread(random_image_path)\n",
        "imgplot = plt.imshow(img)\n",
        "plt.axis(False)\n",
        "plt.title(f'{random_label}')\n",
        "plt.show()"
      ]
    },
    {
      "cell_type": "code",
      "execution_count": 11,
      "metadata": {
        "id": "Qy0hhPcZ1e8V"
      },
      "outputs": [],
      "source": [
        "# Making new directories for trimmed training data\n",
        "os.mkdir(\"data\")\n",
        "os.mkdir(\"data/train\")"
      ]
    },
    {
      "cell_type": "code",
      "execution_count": 12,
      "metadata": {
        "id": "xTCB88Cd0Suz"
      },
      "outputs": [],
      "source": [
        "# Trimming data as there are lot of training examples\n",
        "\n",
        "TRAIN_IMAGES_COUNT = 100\n",
        "\n",
        "for label in classes:\n",
        "  path = f'{TRAIN_PATH}/{label}'\n",
        "  img_files = os.listdir(path)\n",
        "  random_count_images = random.sample(img_files, TRAIN_IMAGES_COUNT)\n",
        "  new_path_for_label = f\"/content/data/train/{label}\"\n",
        "  os.mkdir(new_path_for_label)\n",
        "\n",
        "  for img_file in random_count_images:\n",
        "    shutil.move(f\"{path}/{img_file}\", new_path_for_label)"
      ]
    },
    {
      "cell_type": "code",
      "execution_count": 13,
      "metadata": {
        "colab": {
          "base_uri": "https://localhost:8080/"
        },
        "id": "cbJoJNH-xqYl",
        "outputId": "e63175aa-0413-4080-b45f-13f6aa11c14d"
      },
      "outputs": [
        {
          "name": "stdout",
          "output_type": "stream",
          "text": [
            "Found 13100 files belonging to 131 classes.\n",
            "Found 22688 files belonging to 131 classes.\n"
          ]
        }
      ],
      "source": [
        "# Image size has been specified in the research paper\n",
        "IMAGE_SIZE = (100,100)\n",
        "BATCH_SIZE = 32\n",
        "TRIMMED_TRAIN_PATH = '/content/data/train'\n",
        "TEST_PATH = '/content/raw/test/test'\n",
        "\n",
        "# To make data processing faster\n",
        "train_data=tf.keras.preprocessing.image_dataset_from_directory(directory=TRIMMED_TRAIN_PATH,\n",
        "                                                               image_size=IMAGE_SIZE,\n",
        "                                                               label_mode=\"categorical\",\n",
        "                                                               batch_size=BATCH_SIZE)\n",
        "\n",
        "test_data=tf.keras.preprocessing.image_dataset_from_directory(directory=TEST_PATH,\n",
        "                                                               image_size=IMAGE_SIZE,\n",
        "                                                               label_mode=\"categorical\",\n",
        "                                                               batch_size=BATCH_SIZE)"
      ]
    },
    {
      "cell_type": "code",
      "execution_count": 14,
      "metadata": {
        "colab": {
          "base_uri": "https://localhost:8080/"
        },
        "id": "ARrzAiaVg9bG",
        "outputId": "03e0c31f-fb49-40aa-eaea-796b562564c6"
      },
      "outputs": [
        {
          "name": "stdout",
          "output_type": "stream",
          "text": [
            "Shape of an image: (32, 100, 100, 3)\n",
            "Maximum in an image: 255.0\n"
          ]
        }
      ],
      "source": [
        "# See an example of a batch of data and checking pixel values\n",
        "for images,labels in train_data.take(1):\n",
        "  for image in images:\n",
        "    print(f\"Shape of an image: {images.shape}\")\n",
        "    print(f\"Maximum in an image: {tf.math.reduce_max(images)}\")\n",
        "    break\n",
        "  break"
      ]
    },
    {
      "cell_type": "markdown",
      "metadata": {
        "id": "yDtentj-5F-0"
      },
      "source": [
        "## Step 3: Describing modelling experiments"
      ]
    },
    {
      "cell_type": "markdown",
      "metadata": {
        "id": "CsIhGbL_5xsc"
      },
      "source": [
        "- This notebook contains 7 models built to get the best **f1-score** on the test dataset. These models also include the models made by the researchers themselves.  \n",
        "- Models to be made:\n",
        "  1. **Model 0** : simple model with fully connected multiple Dense layers; this model acts as a baseline.\n",
        "  1. **Model 1** : multiple pairs of CNN and MaxPool layers with a Flatten layer and Dense layer in the end for classification.\n",
        "  1. **Model 2** : exact same model that researchers used in their program script.\n",
        "  1. **Model 3** : uses **ResNet50** as its base, using transfer learning.\n",
        "  1. **Model 4** : uses **EfficientNetB0** under the hood unlike previous model\n",
        "  1. **Model 5** : uses a **fine-tuned ResNet50** as its base.\n",
        "  1. **Model 6** : uses a **fine-tuned EfficientNetB0** under its hood\n",
        "- Get classification metrics for each model.\n"
      ]
    },
    {
      "cell_type": "code",
      "execution_count": 15,
      "metadata": {
        "id": "Q4oqp0a05Qm6"
      },
      "outputs": [],
      "source": [
        "# Directory to save images of models' architectures\n",
        "!mkdir model_architectures"
      ]
    },
    {
      "cell_type": "markdown",
      "metadata": {
        "id": "gr5XC0Uq_-yC"
      },
      "source": [
        "#### Model 0 \n",
        "* **Layers:** 4 Dense layers\n",
        "* **Optimizer:** Adam\n",
        "* **Loss:** Cross entropy\n",
        "* **Epochs:** 10\n",
        "* **Callbacks:** `ModelCheckpoint`\n",
        "* **Validation data:** available"
      ]
    },
    {
      "cell_type": "code",
      "execution_count": 16,
      "metadata": {
        "colab": {
          "base_uri": "https://localhost:8080/"
        },
        "id": "GWBz8guhytLL",
        "outputId": "15bb990f-a79d-4805-e14a-ad7782e391cf"
      },
      "outputs": [
        {
          "name": "stdout",
          "output_type": "stream",
          "text": [
            "Model: \"model_0_dense\"\n",
            "_________________________________________________________________\n",
            " Layer (type)                Output Shape              Param #   \n",
            "=================================================================\n",
            " flatten (Flatten)           (None, 30000)             0         \n",
            "                                                                 \n",
            " input_1 (InputLayer)        multiple                  0         \n",
            "                                                                 \n",
            " dense (Dense)               (None, 128)               3840128   \n",
            "                                                                 \n",
            " dense_1 (Dense)             (None, 128)               16512     \n",
            "                                                                 \n",
            " dense_2 (Dense)             (None, 128)               16512     \n",
            "                                                                 \n",
            " dense_3 (Dense)             (None, 131)               16899     \n",
            "                                                                 \n",
            "=================================================================\n",
            "Total params: 3,890,051\n",
            "Trainable params: 3,890,051\n",
            "Non-trainable params: 0\n",
            "_________________________________________________________________\n",
            "Epoch 1/10\n",
            "410/410 [==============================] - ETA: 0s - loss: 69.0908 - categorical_accuracy: 0.0058 - precision: 0.0152 - recall: 0.0011\n",
            "Epoch 1: val_loss improved from inf to 4.87528, saving model to model_experiments/model_0_dense\n",
            "410/410 [==============================] - 19s 36ms/step - loss: 69.0908 - categorical_accuracy: 0.0058 - precision: 0.0152 - recall: 0.0011 - val_loss: 4.8753 - val_categorical_accuracy: 0.0038 - val_precision: 0.0000e+00 - val_recall: 0.0000e+00\n",
            "Epoch 2/10\n",
            "408/410 [============================>.] - ETA: 0s - loss: 4.8760 - categorical_accuracy: 0.0050 - precision: 0.0000e+00 - recall: 0.0000e+00\n",
            "Epoch 2: val_loss did not improve from 4.87528\n",
            "410/410 [==============================] - 15s 36ms/step - loss: 4.8761 - categorical_accuracy: 0.0050 - precision: 0.0000e+00 - recall: 0.0000e+00 - val_loss: 4.8753 - val_categorical_accuracy: 0.0076 - val_precision: 0.0000e+00 - val_recall: 0.0000e+00\n",
            "Epoch 3/10\n",
            "404/410 [============================>.] - ETA: 0s - loss: 4.8761 - categorical_accuracy: 0.0049 - precision: 0.0000e+00 - recall: 0.0000e+00\n",
            "Epoch 3: val_loss improved from 4.87528 to 4.87524, saving model to model_experiments/model_0_dense\n",
            "410/410 [==============================] - 14s 35ms/step - loss: 4.8761 - categorical_accuracy: 0.0048 - precision: 0.0000e+00 - recall: 0.0000e+00 - val_loss: 4.8752 - val_categorical_accuracy: 0.0044 - val_precision: 0.0000e+00 - val_recall: 0.0000e+00\n",
            "Epoch 4/10\n",
            "408/410 [============================>.] - ETA: 0s - loss: 4.8761 - categorical_accuracy: 0.0057 - precision: 0.0000e+00 - recall: 0.0000e+00\n",
            "Epoch 4: val_loss did not improve from 4.87524\n",
            "410/410 [==============================] - 13s 32ms/step - loss: 4.8761 - categorical_accuracy: 0.0056 - precision: 0.0000e+00 - recall: 0.0000e+00 - val_loss: 4.8752 - val_categorical_accuracy: 0.0079 - val_precision: 0.0000e+00 - val_recall: 0.0000e+00\n",
            "Epoch 5/10\n",
            "404/410 [============================>.] - ETA: 0s - loss: 4.8761 - categorical_accuracy: 0.0056 - precision: 0.0000e+00 - recall: 0.0000e+00\n",
            "Epoch 5: val_loss did not improve from 4.87524\n",
            "410/410 [==============================] - 13s 32ms/step - loss: 4.8761 - categorical_accuracy: 0.0056 - precision: 0.0000e+00 - recall: 0.0000e+00 - val_loss: 4.8752 - val_categorical_accuracy: 0.0111 - val_precision: 0.0000e+00 - val_recall: 0.0000e+00\n",
            "Epoch 6/10\n",
            "403/410 [============================>.] - ETA: 0s - loss: 4.8761 - categorical_accuracy: 0.0047 - precision: 0.0000e+00 - recall: 0.0000e+00\n",
            "Epoch 6: val_loss did not improve from 4.87524\n",
            "410/410 [==============================] - 13s 30ms/step - loss: 4.8761 - categorical_accuracy: 0.0046 - precision: 0.0000e+00 - recall: 0.0000e+00 - val_loss: 4.8753 - val_categorical_accuracy: 0.0047 - val_precision: 0.0000e+00 - val_recall: 0.0000e+00\n",
            "Epoch 7/10\n",
            "405/410 [============================>.] - ETA: 0s - loss: 4.8761 - categorical_accuracy: 0.0052 - precision: 0.0000e+00 - recall: 0.0000e+00\n",
            "Epoch 7: val_loss did not improve from 4.87524\n",
            "410/410 [==============================] - 13s 32ms/step - loss: 4.8761 - categorical_accuracy: 0.0051 - precision: 0.0000e+00 - recall: 0.0000e+00 - val_loss: 4.8753 - val_categorical_accuracy: 0.0114 - val_precision: 0.0000e+00 - val_recall: 0.0000e+00\n",
            "Epoch 8/10\n",
            "406/410 [============================>.] - ETA: 0s - loss: 4.8761 - categorical_accuracy: 0.0052 - precision: 0.0000e+00 - recall: 0.0000e+00\n",
            "Epoch 8: val_loss improved from 4.87524 to 4.87523, saving model to model_experiments/model_0_dense\n",
            "410/410 [==============================] - 12s 30ms/step - loss: 4.8761 - categorical_accuracy: 0.0052 - precision: 0.0000e+00 - recall: 0.0000e+00 - val_loss: 4.8752 - val_categorical_accuracy: 0.0111 - val_precision: 0.0000e+00 - val_recall: 0.0000e+00\n",
            "Epoch 9/10\n",
            "410/410 [==============================] - ETA: 0s - loss: 4.8761 - categorical_accuracy: 0.0060 - precision: 0.0000e+00 - recall: 0.0000e+00\n",
            "Epoch 9: val_loss did not improve from 4.87523\n",
            "410/410 [==============================] - 9s 21ms/step - loss: 4.8761 - categorical_accuracy: 0.0060 - precision: 0.0000e+00 - recall: 0.0000e+00 - val_loss: 4.8753 - val_categorical_accuracy: 0.0108 - val_precision: 0.0000e+00 - val_recall: 0.0000e+00\n",
            "Epoch 10/10\n",
            "405/410 [============================>.] - ETA: 0s - loss: 4.8761 - categorical_accuracy: 0.0061 - precision: 0.0000e+00 - recall: 0.0000e+00\n",
            "Epoch 10: val_loss did not improve from 4.87523\n",
            "410/410 [==============================] - 10s 23ms/step - loss: 4.8761 - categorical_accuracy: 0.0061 - precision: 0.0000e+00 - recall: 0.0000e+00 - val_loss: 4.8752 - val_categorical_accuracy: 0.0111 - val_precision: 0.0000e+00 - val_recall: 0.0000e+00\n"
          ]
        }
      ],
      "source": [
        "# 0. Set random seed\n",
        "tf.random.set_seed(42)\n",
        "INPUT_SHAPE = (100,100,3)\n",
        "\n",
        "# 1. Create the model\n",
        "model_0 = tf.keras.Sequential([\n",
        "    layers.Flatten(input_shape=(100,100,3)),\n",
        "    layers.Input(shape=INPUT_SHAPE),\n",
        "    layers.Dense(128, activation=\"relu\"),\n",
        "    layers.Dense(128, activation=\"relu\"),\n",
        "    layers.Dense(128, activation=\"relu\"),\n",
        "    layers.Dense(131, activation=\"softmax\")\n",
        "], name=\"model_0_dense\")\n",
        "\n",
        "# 2. Compile the model\n",
        "model_0.compile(loss=\"categorical_crossentropy\",\n",
        "                optimizer=\"Adam\",\n",
        "                metrics=[CategoricalAccuracy(), Precision(), Recall()])\n",
        "\n",
        "# 3. Get the summary\n",
        "model_0.summary()\n",
        "\n",
        "# 4. Fit the model\n",
        "history_model_0 = model_0.fit(train_data,\n",
        "                              epochs=10,\n",
        "                              validation_data=test_data,\n",
        "                              validation_steps=len(test_data)*0.15,\n",
        "                              verbose=MODEL_VERBOSE,\n",
        "                              callbacks=[create_model_checkpoint(model_name=model_0.name)])"
      ]
    },
    {
      "cell_type": "code",
      "execution_count": 17,
      "metadata": {
        "colab": {
          "base_uri": "https://localhost:8080/",
          "height": 573
        },
        "id": "cqUcIZX622kS",
        "outputId": "0ee46eae-0a8c-4496-e595-2eb64f052b5d"
      },
      "outputs": [
        {
          "data": {
            "image/png": "[encoded data removed]",
            "text/plain": [
              "<Figure size 432x288 with 1 Axes>"
            ]
          },
          "metadata": {
            "needs_background": "light"
          },
          "output_type": "display_data"
        },
        {
          "data": {
            "image/png": "[encoded data removed]",
            "text/plain": [
              "<Figure size 432x288 with 1 Axes>"
            ]
          },
          "metadata": {
            "needs_background": "light"
          },
          "output_type": "display_data"
        }
      ],
      "source": [
        "# Save model's architecture as an image\n",
        "plot_model(model_0, to_file='/content/model_architectures/model_0.png')\n",
        "\n",
        "# About the model history\n",
        "plot_loss_curves(history_model_0)"
      ]
    },
    {
      "cell_type": "code",
      "execution_count": 18,
      "metadata": {
        "colab": {
          "base_uri": "https://localhost:8080/"
        },
        "id": "tPMO-JnrYxhD",
        "outputId": "a110389b-d302-434c-b211-fcae8c0622f6"
      },
      "outputs": [
        {
          "name": "stdout",
          "output_type": "stream",
          "text": [
            "709/709 [==============================] - 13s 18ms/step - loss: 4.8752 - categorical_accuracy: 0.0108 - precision: 0.0000e+00 - recall: 0.0000e+00\n"
          ]
        }
      ],
      "source": [
        "# Loading in the best weights\n",
        "best_weights_path = \"/content/model_experiments/model_0_dense\"\n",
        "model_0.load_weights(best_weights_path)\n",
        "\n",
        "# Evaluate on test set\n",
        "loss_0, accuracy_0, precision_0, recall_0 = model_0.evaluate(test_data)"
      ]
    },
    {
      "cell_type": "code",
      "execution_count": 19,
      "metadata": {
        "id": "J8XaSBWceQna"
      },
      "outputs": [],
      "source": [
        "# Unravel dataset\n",
        "y_labels = []\n",
        "for images,labels in test_data.unbatch():\n",
        "  y_labels.append(labels.numpy().argmax())\n",
        "y_labels = np.array(y_labels).reshape(-1)"
      ]
    },
    {
      "cell_type": "code",
      "execution_count": 20,
      "metadata": {
        "colab": {
          "base_uri": "https://localhost:8080/"
        },
        "id": "fN4BAyhwZrcX",
        "outputId": "832dad12-1c60-431f-ba86-2a7245b4b16e"
      },
      "outputs": [
        {
          "data": {
            "text/plain": [
              "{'Loss': 4.875217437744141,\n",
              " 'Accuracy': 0.010842735879123211,\n",
              " 'Precision': 0.0,\n",
              " 'Recall': 0.0}"
            ]
          },
          "execution_count": 20,
          "metadata": {},
          "output_type": "execute_result"
        }
      ],
      "source": [
        "# Getting a metrics report\n",
        "model_0_metrics = get_metrics(loss_0, accuracy_0, precision_0, recall_0)\n",
        "model_0_metrics"
      ]
    },
    {
      "cell_type": "markdown",
      "metadata": {
        "id": "bTZ_xAlHADd4"
      },
      "source": [
        "#### Model 1 \n",
        "* **Layers:** Multiple Conv2D layers paired with MaxPool layers with a Dense layer at the end\n",
        "* **Optimizer:** Adam\n",
        "* **Loss:** Cross entropy\n",
        "* **Epochs:** 25\n",
        "* **Callbacks:** `ModelCheckpoint`, `EarlyStopping`\n",
        "* **Validation data:** available"
      ]
    },
    {
      "cell_type": "code",
      "execution_count": 21,
      "metadata": {
        "colab": {
          "base_uri": "https://localhost:8080/"
        },
        "id": "ahkcIbZQ3zVm",
        "outputId": "60af49da-62fe-4877-ae14-755792338597"
      },
      "outputs": [
        {
          "name": "stdout",
          "output_type": "stream",
          "text": [
            "Model: \"model_1_Conv2D\"\n",
            "_________________________________________________________________\n",
            " Layer (type)                Output Shape              Param #   \n",
            "=================================================================\n",
            " conv2d (Conv2D)             (None, 98, 98, 10)        280       \n",
            "                                                                 \n",
            " conv2d_1 (Conv2D)           (None, 96, 96, 10)        910       \n",
            "                                                                 \n",
            " max_pooling2d (MaxPooling2D  (None, 48, 48, 10)       0         \n",
            " )                                                               \n",
            "                                                                 \n",
            " conv2d_2 (Conv2D)           (None, 46, 46, 10)        910       \n",
            "                                                                 \n",
            " conv2d_3 (Conv2D)           (None, 44, 44, 10)        910       \n",
            "                                                                 \n",
            " max_pooling2d_1 (MaxPooling  (None, 22, 22, 10)       0         \n",
            " 2D)                                                             \n",
            "                                                                 \n",
            " flatten_1 (Flatten)         (None, 4840)              0         \n",
            "                                                                 \n",
            " dense_4 (Dense)             (None, 64)                309824    \n",
            "                                                                 \n",
            " dropout (Dropout)           (None, 64)                0         \n",
            "                                                                 \n",
            " dense_5 (Dense)             (None, 131)               8515      \n",
            "                                                                 \n",
            "=================================================================\n",
            "Total params: 321,349\n",
            "Trainable params: 321,349\n",
            "Non-trainable params: 0\n",
            "_________________________________________________________________\n",
            "Epoch 1/25\n",
            "410/410 [==============================] - ETA: 0s - loss: 4.9650 - categorical_accuracy: 0.0062 - precision_1: 0.0000e+00 - recall_1: 0.0000e+00\n",
            "Epoch 1: val_loss improved from inf to 4.87517, saving model to model_experiments/model_1_Conv2D\n",
            "410/410 [==============================] - 19s 23ms/step - loss: 4.9650 - categorical_accuracy: 0.0062 - precision_1: 0.0000e+00 - recall_1: 0.0000e+00 - val_loss: 4.8752 - val_categorical_accuracy: 0.0050 - val_precision_1: 0.0000e+00 - val_recall_1: 0.0000e+00\n",
            "Epoch 2/25\n",
            "408/410 [============================>.] - ETA: 0s - loss: 4.8761 - categorical_accuracy: 0.0054 - precision_1: 0.0000e+00 - recall_1: 0.0000e+00\n",
            "Epoch 2: val_loss did not improve from 4.87517\n",
            "410/410 [==============================] - 9s 22ms/step - loss: 4.8761 - categorical_accuracy: 0.0053 - precision_1: 0.0000e+00 - recall_1: 0.0000e+00 - val_loss: 4.8752 - val_categorical_accuracy: 0.0053 - val_precision_1: 0.0000e+00 - val_recall_1: 0.0000e+00\n",
            "Epoch 3/25\n",
            "408/410 [============================>.] - ETA: 0s - loss: 4.8761 - categorical_accuracy: 0.0050 - precision_1: 0.0000e+00 - recall_1: 0.0000e+00\n",
            "Epoch 3: val_loss did not improve from 4.87517\n",
            "410/410 [==============================] - 9s 22ms/step - loss: 4.8761 - categorical_accuracy: 0.0050 - precision_1: 0.0000e+00 - recall_1: 0.0000e+00 - val_loss: 4.8753 - val_categorical_accuracy: 0.0050 - val_precision_1: 0.0000e+00 - val_recall_1: 0.0000e+00\n",
            "Epoch 4/25\n",
            "406/410 [============================>.] - ETA: 0s - loss: 4.8761 - categorical_accuracy: 0.0057 - precision_1: 0.0000e+00 - recall_1: 0.0000e+00\n",
            "Epoch 4: val_loss did not improve from 4.87517\n",
            "410/410 [==============================] - 9s 23ms/step - loss: 4.8761 - categorical_accuracy: 0.0057 - precision_1: 0.0000e+00 - recall_1: 0.0000e+00 - val_loss: 4.8753 - val_categorical_accuracy: 0.0050 - val_precision_1: 0.0000e+00 - val_recall_1: 0.0000e+00\n"
          ]
        }
      ],
      "source": [
        "# 0. Set random seed\n",
        "tf.random.set_seed(42)\n",
        "INPUT_SHAPE = (100,100,3)\n",
        "\n",
        "# 1. Create the model\n",
        "model_1 = tf.keras.Sequential([\n",
        "     tf.keras.layers.Conv2D(filters=10,\n",
        "                            kernel_size=3,\n",
        "                            activation=\"relu\",\n",
        "                            input_shape=INPUT_SHAPE),\n",
        "     tf.keras.layers.Conv2D(10,3,activation=\"relu\"),\n",
        "     tf.keras.layers.MaxPool2D(pool_size=2,\n",
        "                               padding=\"valid\"),\n",
        "     tf.keras.layers.Conv2D(10,3,activation=\"relu\"),\n",
        "     tf.keras.layers.Conv2D(10,3,activation=\"relu\"),\n",
        "     tf.keras.layers.MaxPool2D(2),\n",
        "     tf.keras.layers.Flatten(),\n",
        "     tf.keras.layers.Dense(64, activation=\"relu\"),\n",
        "     tf.keras.layers.Dropout(0.2),\n",
        "     tf.keras.layers.Dense(131,activation=\"softmax\")\n",
        "], name=\"model_1_Conv2D\")\n",
        "\n",
        "# 2. Compile the model\n",
        "model_1.compile(loss=\"categorical_crossentropy\",\n",
        "                optimizer=\"Adam\",\n",
        "                metrics=[CategoricalAccuracy(), Precision(), Recall()])\n",
        "\n",
        "# 3. Get the summary\n",
        "model_1.summary()\n",
        "\n",
        "# 4. Fit the model\n",
        "history_model_1 = model_1.fit(train_data,\n",
        "                              epochs=25,\n",
        "                              validation_data=test_data,\n",
        "                              validation_steps=len(test_data)*0.15,\n",
        "                              verbose=MODEL_VERBOSE,\n",
        "                              callbacks=[create_model_checkpoint(model_name=model_1.name), create_early_stopping()])"
      ]
    },
    {
      "cell_type": "code",
      "execution_count": 22,
      "metadata": {
        "colab": {
          "base_uri": "https://localhost:8080/",
          "height": 573
        },
        "id": "XbN-psnP4TjC",
        "outputId": "b9f9ecc6-a309-439b-acf2-db0f3e961919"
      },
      "outputs": [
        {
          "data": {
            "image/png": "[encoded data removed]",
            "text/plain": [
              "<Figure size 432x288 with 1 Axes>"
            ]
          },
          "metadata": {
            "needs_background": "light"
          },
          "output_type": "display_data"
        },
        {
          "data": {
            "image/png": "[encoded data removed]",
            "text/plain": [
              "<Figure size 432x288 with 1 Axes>"
            ]
          },
          "metadata": {
            "needs_background": "light"
          },
          "output_type": "display_data"
        }
      ],
      "source": [
        "# Save model's architecture as an image\n",
        "plot_model(model_1, to_file='/content/model_architectures/model_1.png')\n",
        "\n",
        "# About the model history\n",
        "plot_loss_curves(history_model_1)"
      ]
    },
    {
      "cell_type": "code",
      "execution_count": 23,
      "metadata": {
        "colab": {
          "base_uri": "https://localhost:8080/"
        },
        "id": "FeyFbKYd4WCe",
        "outputId": "ce4c9a68-adfb-4679-f7db-b87b85a7bed9"
      },
      "outputs": [
        {
          "name": "stdout",
          "output_type": "stream",
          "text": [
            "709/709 [==============================] - 11s 16ms/step - loss: 4.8751 - categorical_accuracy: 0.0066 - precision_1: 0.0000e+00 - recall_1: 0.0000e+00\n"
          ]
        }
      ],
      "source": [
        "# Loading in the best weights\n",
        "best_weights_path = \"/content/model_experiments/model_1_Conv2D\"\n",
        "model_1.load_weights(best_weights_path)\n",
        "\n",
        "# Evaluate on test set\n",
        "loss_1, accuracy_1, precision_1, recall_1 = model_1.evaluate(test_data)"
      ]
    },
    {
      "cell_type": "code",
      "execution_count": 24,
      "metadata": {
        "colab": {
          "base_uri": "https://localhost:8080/"
        },
        "id": "G8jQAWDr4d-L",
        "outputId": "4e3c28f1-ed60-49bf-89eb-59116bf423f8"
      },
      "outputs": [
        {
          "data": {
            "text/plain": [
              "{'Loss': 4.8751444816589355,\n",
              " 'Accuracy': 0.006611424498260021,\n",
              " 'Precision': 0.0,\n",
              " 'Recall': 0.0}"
            ]
          },
          "execution_count": 24,
          "metadata": {},
          "output_type": "execute_result"
        }
      ],
      "source": [
        "# Getting a metrics report\n",
        "model_1_metrics = get_metrics(loss_1, accuracy_1, precision_1, recall_1)\n",
        "model_1_metrics"
      ]
    },
    {
      "cell_type": "markdown",
      "metadata": {
        "id": "7Z-aHSMMAEXj"
      },
      "source": [
        "#### Model 2 (Researchers' best model)\n",
        "* **Layers:** Multiple layer model including Conv2D, MaxPool, Dense, Dropouts and Flatten\n",
        "* **Optimizer:** Adadelta (with learning rate as 0.1)\n",
        "* **Loss:** Cross entropy\n",
        "* **Epochs:** 25\n",
        "* **Callbacks:** `ModelCheckpoint`, `EarlyStopping`\n",
        "* **Validation data:** available"
      ]
    },
    {
      "cell_type": "code",
      "execution_count": 25,
      "metadata": {
        "colab": {
          "base_uri": "https://localhost:8080/"
        },
        "id": "Zz60IDo9s_NH",
        "outputId": "b15542ac-08b3-4dba-b4c8-46b758042b55"
      },
      "outputs": [
        {
          "name": "stdout",
          "output_type": "stream",
          "text": [
            "Model: \"model_2_best_on_paper\"\n",
            "_________________________________________________________________\n",
            " Layer (type)                Output Shape              Param #   \n",
            "=================================================================\n",
            " input_layer (InputLayer)    [(None, 100, 100, 3)]     0         \n",
            "                                                                 \n",
            " conv1 (Conv2D)              (None, 100, 100, 16)      1216      \n",
            "                                                                 \n",
            " conv1_relu (Activation)     (None, 100, 100, 16)      0         \n",
            "                                                                 \n",
            " pool1 (MaxPooling2D)        (None, 50, 50, 16)        0         \n",
            "                                                                 \n",
            " conv2 (Conv2D)              (None, 50, 50, 32)        12832     \n",
            "                                                                 \n",
            " conv2_relu (Activation)     (None, 50, 50, 32)        0         \n",
            "                                                                 \n",
            " pool2 (MaxPooling2D)        (None, 25, 25, 32)        0         \n",
            "                                                                 \n",
            " conv3 (Conv2D)              (None, 25, 25, 64)        51264     \n",
            "                                                                 \n",
            " conv3_relu (Activation)     (None, 25, 25, 64)        0         \n",
            "                                                                 \n",
            " pool3 (MaxPooling2D)        (None, 12, 12, 64)        0         \n",
            "                                                                 \n",
            " conv4 (Conv2D)              (None, 12, 12, 128)       204928    \n",
            "                                                                 \n",
            " conv4_relu (Activation)     (None, 12, 12, 128)       0         \n",
            "                                                                 \n",
            " pool4 (MaxPooling2D)        (None, 6, 6, 128)         0         \n",
            "                                                                 \n",
            " flatten_2 (Flatten)         (None, 4608)              0         \n",
            "                                                                 \n",
            " fcl1 (Dense)                (None, 1024)              4719616   \n",
            "                                                                 \n",
            " dropout_1 (Dropout)         (None, 1024)              0         \n",
            "                                                                 \n",
            " fcl2 (Dense)                (None, 256)               262400    \n",
            "                                                                 \n",
            " dropout_2 (Dropout)         (None, 256)               0         \n",
            "                                                                 \n",
            " predictions (Dense)         (None, 131)               33667     \n",
            "                                                                 \n",
            "=================================================================\n",
            "Total params: 5,285,923\n",
            "Trainable params: 5,285,923\n",
            "Non-trainable params: 0\n",
            "_________________________________________________________________\n",
            "Epoch 1/25\n",
            "410/410 [==============================] - ETA: 0s - loss: 3.6459 - categorical_accuracy: 0.2537 - precision_2: 0.7066 - recall_2: 0.1261\n",
            "Epoch 1: val_loss improved from inf to 1.72835, saving model to model_experiments/model_2_best_on_paper\n",
            "410/410 [==============================] - 11s 25ms/step - loss: 3.6459 - categorical_accuracy: 0.2537 - precision_2: 0.7066 - recall_2: 0.1261 - val_loss: 1.7283 - val_categorical_accuracy: 0.5324 - val_precision_2: 0.7223 - val_recall_2: 0.3554\n",
            "Epoch 2/25\n",
            "407/410 [============================>.] - ETA: 0s - loss: 0.7474 - categorical_accuracy: 0.7928 - precision_2: 0.8853 - recall_2: 0.7097\n",
            "Epoch 2: val_loss improved from 1.72835 to 0.49235, saving model to model_experiments/model_2_best_on_paper\n",
            "410/410 [==============================] - 10s 24ms/step - loss: 0.7449 - categorical_accuracy: 0.7937 - precision_2: 0.8859 - recall_2: 0.7109 - val_loss: 0.4924 - val_categorical_accuracy: 0.8665 - val_precision_2: 0.9068 - val_recall_2: 0.8382\n",
            "Epoch 3/25\n",
            "410/410 [==============================] - ETA: 0s - loss: 0.2624 - categorical_accuracy: 0.9214 - precision_2: 0.9442 - recall_2: 0.8994\n",
            "Epoch 3: val_loss improved from 0.49235 to 0.31928, saving model to model_experiments/model_2_best_on_paper\n",
            "410/410 [==============================] - 10s 25ms/step - loss: 0.2624 - categorical_accuracy: 0.9214 - precision_2: 0.9442 - recall_2: 0.8994 - val_loss: 0.3193 - val_categorical_accuracy: 0.9156 - val_precision_2: 0.9415 - val_recall_2: 0.8972\n",
            "Epoch 4/25\n",
            "410/410 [==============================] - ETA: 0s - loss: 0.1454 - categorical_accuracy: 0.9564 - precision_2: 0.9666 - recall_2: 0.9460\n",
            "Epoch 4: val_loss did not improve from 0.31928\n",
            "410/410 [==============================] - 11s 27ms/step - loss: 0.1454 - categorical_accuracy: 0.9564 - precision_2: 0.9666 - recall_2: 0.9460 - val_loss: 0.5165 - val_categorical_accuracy: 0.8645 - val_precision_2: 0.8926 - val_recall_2: 0.8446\n",
            "Epoch 5/25\n",
            "406/410 [============================>.] - ETA: 0s - loss: 0.0800 - categorical_accuracy: 0.9778 - precision_2: 0.9815 - recall_2: 0.9718\n",
            "Epoch 5: val_loss improved from 0.31928 to 0.24358, saving model to model_experiments/model_2_best_on_paper\n",
            "410/410 [==============================] - 11s 27ms/step - loss: 0.0804 - categorical_accuracy: 0.9776 - precision_2: 0.9814 - recall_2: 0.9717 - val_loss: 0.2436 - val_categorical_accuracy: 0.9395 - val_precision_2: 0.9500 - val_recall_2: 0.9276\n",
            "Epoch 6/25\n",
            "409/410 [============================>.] - ETA: 0s - loss: 0.0568 - categorical_accuracy: 0.9830 - precision_2: 0.9857 - recall_2: 0.9798\n",
            "Epoch 6: val_loss improved from 0.24358 to 0.21148, saving model to model_experiments/model_2_best_on_paper\n",
            "410/410 [==============================] - 10s 24ms/step - loss: 0.0568 - categorical_accuracy: 0.9830 - precision_2: 0.9857 - recall_2: 0.9798 - val_loss: 0.2115 - val_categorical_accuracy: 0.9384 - val_precision_2: 0.9484 - val_recall_2: 0.9340\n",
            "Epoch 7/25\n",
            "409/410 [============================>.] - ETA: 0s - loss: 0.0462 - categorical_accuracy: 0.9847 - precision_2: 0.9872 - recall_2: 0.9831\n",
            "Epoch 7: val_loss did not improve from 0.21148\n",
            "410/410 [==============================] - 10s 24ms/step - loss: 0.0462 - categorical_accuracy: 0.9847 - precision_2: 0.9872 - recall_2: 0.9831 - val_loss: 0.2481 - val_categorical_accuracy: 0.9352 - val_precision_2: 0.9460 - val_recall_2: 0.9311\n",
            "Epoch 8/25\n",
            "409/410 [============================>.] - ETA: 0s - loss: 0.0312 - categorical_accuracy: 0.9903 - precision_2: 0.9918 - recall_2: 0.9891\n",
            "Epoch 8: val_loss improved from 0.21148 to 0.19703, saving model to model_experiments/model_2_best_on_paper\n",
            "410/410 [==============================] - 10s 24ms/step - loss: 0.0312 - categorical_accuracy: 0.9903 - precision_2: 0.9918 - recall_2: 0.9891 - val_loss: 0.1970 - val_categorical_accuracy: 0.9477 - val_precision_2: 0.9542 - val_recall_2: 0.9439\n",
            "Epoch 9/25\n",
            "410/410 [==============================] - ETA: 0s - loss: 0.0293 - categorical_accuracy: 0.9909 - precision_2: 0.9925 - recall_2: 0.9904\n",
            "Epoch 9: val_loss did not improve from 0.19703\n",
            "410/410 [==============================] - 10s 23ms/step - loss: 0.0293 - categorical_accuracy: 0.9909 - precision_2: 0.9925 - recall_2: 0.9904 - val_loss: 0.1994 - val_categorical_accuracy: 0.9565 - val_precision_2: 0.9609 - val_recall_2: 0.9539\n",
            "Epoch 10/25\n",
            "410/410 [==============================] - ETA: 0s - loss: 0.0220 - categorical_accuracy: 0.9928 - precision_2: 0.9937 - recall_2: 0.9918\n",
            "Epoch 10: val_loss did not improve from 0.19703\n",
            "410/410 [==============================] - 10s 24ms/step - loss: 0.0220 - categorical_accuracy: 0.9928 - precision_2: 0.9937 - recall_2: 0.9918 - val_loss: 0.2822 - val_categorical_accuracy: 0.9416 - val_precision_2: 0.9465 - val_recall_2: 0.9398\n",
            "Epoch 11/25\n",
            "409/410 [============================>.] - ETA: 0s - loss: 0.0175 - categorical_accuracy: 0.9948 - precision_2: 0.9954 - recall_2: 0.9943\n",
            "Epoch 11: val_loss did not improve from 0.19703\n",
            "410/410 [==============================] - 10s 24ms/step - loss: 0.0176 - categorical_accuracy: 0.9948 - precision_2: 0.9954 - recall_2: 0.9943 - val_loss: 0.2603 - val_categorical_accuracy: 0.9527 - val_precision_2: 0.9574 - val_recall_2: 0.9509\n"
          ]
        }
      ],
      "source": [
        "# 0. Set random seed\n",
        "tf.random.set_seed(42)\n",
        "INPUT_SHAPE = (100,100,3)\n",
        "\n",
        "# 1. Create the model (taken straight out of their code base)\n",
        "inputs = layers.Input(shape=INPUT_SHAPE, name=\"input_layer\")\n",
        "x = layers.Conv2D(16, (5, 5), strides=(1, 1), padding='same', name='conv1')(inputs)\n",
        "x = layers.Activation('relu', name='conv1_relu')(x)\n",
        "x = layers.MaxPooling2D((2, 2), strides=(2, 2), padding='valid', name='pool1')(x)\n",
        "x = layers.Conv2D(32, (5, 5), strides=(1, 1), padding='same', name='conv2')(x)\n",
        "x = layers.Activation('relu', name='conv2_relu')(x)\n",
        "x = layers.MaxPooling2D((2, 2), strides=(2, 2), padding='valid', name='pool2')(x)\n",
        "x = layers.Conv2D(64, (5, 5), strides=(1, 1), padding='same', name='conv3')(x)\n",
        "x = layers.Activation('relu', name='conv3_relu')(x)\n",
        "x = layers.MaxPooling2D((2, 2), strides=(2, 2), padding='valid', name='pool3')(x)\n",
        "x = layers.Conv2D(128, (5, 5), strides=(1, 1), padding='same', name='conv4')(x)\n",
        "x = layers.Activation('relu', name='conv4_relu')(x)\n",
        "x = layers.MaxPooling2D((2, 2), strides=(2, 2), padding='valid', name='pool4')(x)\n",
        "x = layers.Flatten()(x)\n",
        "x = layers.Dense(1024, activation='relu', name='fcl1')(x)\n",
        "x = layers.Dropout(0.2)(x)\n",
        "x = layers.Dense(256, activation='relu', name='fcl2')(x)\n",
        "x = layers.Dropout(0.2)(x)\n",
        "outputs = layers.Dense(131, activation='softmax', name='predictions')(x)\n",
        "model_2 = tf.keras.Model(inputs=inputs, outputs=outputs, name=\"model_2_best_on_paper\")\n",
        "\n",
        "# 2. Compile the model\n",
        "model_2.compile(loss=\"categorical_crossentropy\",\n",
        "                optimizer=tf.keras.optimizers.Adadelta(learning_rate=0.1),\n",
        "                metrics=[CategoricalAccuracy(), Precision(), Recall()])\n",
        "\n",
        "# 3. Get the summary\n",
        "model_2.summary()\n",
        "\n",
        "# 4. Fit the model\n",
        "history_model_2 = model_2.fit(train_data,\n",
        "                              epochs=25,\n",
        "                              validation_data=test_data,\n",
        "                              validation_steps=len(test_data)*0.15,\n",
        "                              verbose=MODEL_VERBOSE,\n",
        "                              callbacks=[create_model_checkpoint(model_name=model_2.name), create_early_stopping()])"
      ]
    },
    {
      "cell_type": "code",
      "execution_count": 26,
      "metadata": {
        "colab": {
          "base_uri": "https://localhost:8080/",
          "height": 573
        },
        "id": "1dGClgqcucJw",
        "outputId": "1534d832-f6fe-4c23-cc76-5159eeeefe4c"
      },
      "outputs": [
        {
          "data": {
            "image/png": "[encoded data removed]",
            "text/plain": [
              "<Figure size 432x288 with 1 Axes>"
            ]
          },
          "metadata": {
            "needs_background": "light"
          },
          "output_type": "display_data"
        },
        {
          "data": {
            "image/png": "[encoded data removed]",
            "text/plain": [
              "<Figure size 432x288 with 1 Axes>"
            ]
          },
          "metadata": {
            "needs_background": "light"
          },
          "output_type": "display_data"
        }
      ],
      "source": [
        "# Save model's architecture as an image\n",
        "plot_model(model_2, to_file='/content/model_architectures/model_2.png')\n",
        "\n",
        "# About the model history\n",
        "plot_loss_curves(history_model_2)"
      ]
    },
    {
      "cell_type": "code",
      "execution_count": 27,
      "metadata": {
        "colab": {
          "base_uri": "https://localhost:8080/"
        },
        "id": "fAiyTyQDupLw",
        "outputId": "e303e56d-bbf2-4835-b20e-5d39056beeb7"
      },
      "outputs": [
        {
          "name": "stdout",
          "output_type": "stream",
          "text": [
            "709/709 [==============================] - 12s 17ms/step - loss: 0.1885 - categorical_accuracy: 0.9506 - precision_2: 0.9582 - recall_2: 0.9460\n"
          ]
        }
      ],
      "source": [
        "# Loading in the best weights\n",
        "best_weights_path = \"/content/model_experiments/model_2_best_on_paper\"\n",
        "model_2.load_weights(best_weights_path)\n",
        "\n",
        "# Evaluate on test set\n",
        "loss_2, accuracy_2, precision_2, recall_2 = model_2.evaluate(test_data)"
      ]
    },
    {
      "cell_type": "code",
      "execution_count": 28,
      "metadata": {
        "colab": {
          "base_uri": "https://localhost:8080/"
        },
        "id": "PrbD3KaOuty5",
        "outputId": "b9a1e2c7-6fb1-4750-9b05-cf8f0c42af56"
      },
      "outputs": [
        {
          "data": {
            "text/plain": [
              "{'Loss': 0.1884816437959671,\n",
              " 'Accuracy': 0.9505906105041504,\n",
              " 'Precision': 0.9582105278968811,\n",
              " 'Recall': 0.9459626078605652}"
            ]
          },
          "execution_count": 28,
          "metadata": {},
          "output_type": "execute_result"
        }
      ],
      "source": [
        "# Getting a metrics report\n",
        "model_2_metrics = get_metrics(loss_2, accuracy_2, precision_2, recall_2)\n",
        "model_2_metrics"
      ]
    },
    {
      "cell_type": "markdown",
      "metadata": {
        "id": "hdsfE1MCAFbK"
      },
      "source": [
        "#### Model 3\n",
        "* **Layers:** Using ResNet and various other layers to classify images\n",
        "* **Optimizer:** Adam\n",
        "* **Loss:** Cross entropy\n",
        "* **Epochs:** 25\n",
        "* **Callbacks:** `ModelCheckpoint`, `EarlyStopping`\n",
        "* **Validation data:** available"
      ]
    },
    {
      "cell_type": "code",
      "execution_count": 29,
      "metadata": {
        "colab": {
          "base_uri": "https://localhost:8080/"
        },
        "id": "q67jMymRvB8f",
        "outputId": "d6bb9351-5bed-4517-ac2b-b0b146289d80"
      },
      "outputs": [
        {
          "name": "stdout",
          "output_type": "stream",
          "text": [
            "Downloading data from https://storage.googleapis.com/tensorflow/keras-applications/resnet/resnet50_weights_tf_dim_ordering_tf_kernels_notop.h5\n",
            "94773248/94765736 [==============================] - 0s 0us/step\n",
            "94781440/94765736 [==============================] - 0s 0us/step\n",
            "Model: \"model_3_freezed_ResNet\"\n",
            "_________________________________________________________________\n",
            " Layer (type)                Output Shape              Param #   \n",
            "=================================================================\n",
            " input_layer (InputLayer)    [(None, 100, 100, 3)]     0         \n",
            "                                                                 \n",
            " rescaling (Rescaling)       (None, 100, 100, 3)       0         \n",
            "                                                                 \n",
            " resnet50 (Functional)       (None, None, None, 2048)  23587712  \n",
            "                                                                 \n",
            " global_average_pooling_laye  (None, 2048)             0         \n",
            " r (GlobalAveragePooling2D)                                      \n",
            "                                                                 \n",
            " output_layer (Dense)        (None, 131)               268419    \n",
            "                                                                 \n",
            "=================================================================\n",
            "Total params: 23,856,131\n",
            "Trainable params: 268,419\n",
            "Non-trainable params: 23,587,712\n",
            "_________________________________________________________________\n",
            "Epoch 1/25\n",
            "410/410 [==============================] - ETA: 0s - loss: 4.4833 - categorical_accuracy: 0.0597 - precision_3: 1.0000 - recall_3: 0.0019\n",
            "Epoch 1: val_loss improved from inf to 4.11177, saving model to model_experiments/model_3_freezed_ResNet\n",
            "410/410 [==============================] - 24s 50ms/step - loss: 4.4833 - categorical_accuracy: 0.0597 - precision_3: 1.0000 - recall_3: 0.0019 - val_loss: 4.1118 - val_categorical_accuracy: 0.0628 - val_precision_3: 1.0000 - val_recall_3: 0.0020\n",
            "Epoch 2/25\n",
            "410/410 [==============================] - ETA: 0s - loss: 3.7286 - categorical_accuracy: 0.1635 - precision_3: 1.0000 - recall_3: 0.0059\n",
            "Epoch 2: val_loss improved from 4.11177 to 3.64270, saving model to model_experiments/model_3_freezed_ResNet\n",
            "410/410 [==============================] - 19s 46ms/step - loss: 3.7286 - categorical_accuracy: 0.1635 - precision_3: 1.0000 - recall_3: 0.0059 - val_loss: 3.6427 - val_categorical_accuracy: 0.1960 - val_precision_3: 1.0000 - val_recall_3: 0.0023\n",
            "Epoch 3/25\n",
            "409/410 [============================>.] - ETA: 0s - loss: 3.2829 - categorical_accuracy: 0.2573 - precision_3: 0.9937 - recall_3: 0.0120\n",
            "Epoch 3: val_loss improved from 3.64270 to 3.33935, saving model to model_experiments/model_3_freezed_ResNet\n",
            "410/410 [==============================] - 19s 45ms/step - loss: 3.2827 - categorical_accuracy: 0.2574 - precision_3: 0.9937 - recall_3: 0.0121 - val_loss: 3.3393 - val_categorical_accuracy: 0.2558 - val_precision_3: 1.0000 - val_recall_3: 0.0067\n",
            "Epoch 4/25\n",
            "409/410 [============================>.] - ETA: 0s - loss: 2.9715 - categorical_accuracy: 0.3276 - precision_3: 0.9585 - recall_3: 0.0212\n",
            "Epoch 4: val_loss improved from 3.33935 to 3.09771, saving model to model_experiments/model_3_freezed_ResNet\n",
            "410/410 [==============================] - 18s 45ms/step - loss: 2.9713 - categorical_accuracy: 0.3276 - precision_3: 0.9585 - recall_3: 0.0211 - val_loss: 3.0977 - val_categorical_accuracy: 0.2815 - val_precision_3: 0.9859 - val_recall_3: 0.0204\n",
            "Epoch 5/25\n",
            "410/410 [==============================] - ETA: 0s - loss: 2.7102 - categorical_accuracy: 0.3937 - precision_3: 0.9756 - recall_3: 0.0335\n",
            "Epoch 5: val_loss improved from 3.09771 to 2.91995, saving model to model_experiments/model_3_freezed_ResNet\n",
            "410/410 [==============================] - 18s 45ms/step - loss: 2.7102 - categorical_accuracy: 0.3937 - precision_3: 0.9756 - recall_3: 0.0335 - val_loss: 2.9200 - val_categorical_accuracy: 0.3306 - val_precision_3: 0.8908 - val_recall_3: 0.0310\n",
            "Epoch 6/25\n",
            "409/410 [============================>.] - ETA: 0s - loss: 2.5103 - categorical_accuracy: 0.4438 - precision_3: 0.9562 - recall_3: 0.0467\n",
            "Epoch 6: val_loss improved from 2.91995 to 2.75076, saving model to model_experiments/model_3_freezed_ResNet\n",
            "410/410 [==============================] - 18s 44ms/step - loss: 2.5104 - categorical_accuracy: 0.4437 - precision_3: 0.9563 - recall_3: 0.0467 - val_loss: 2.7508 - val_categorical_accuracy: 0.3537 - val_precision_3: 0.9530 - val_recall_3: 0.0415\n",
            "Epoch 7/25\n",
            "410/410 [==============================] - ETA: 0s - loss: 2.3427 - categorical_accuracy: 0.4805 - precision_3: 0.9649 - recall_3: 0.0650\n",
            "Epoch 7: val_loss improved from 2.75076 to 2.59300, saving model to model_experiments/model_3_freezed_ResNet\n",
            "410/410 [==============================] - 18s 45ms/step - loss: 2.3427 - categorical_accuracy: 0.4805 - precision_3: 0.9649 - recall_3: 0.0650 - val_loss: 2.5930 - val_categorical_accuracy: 0.3896 - val_precision_3: 0.9444 - val_recall_3: 0.0596\n",
            "Epoch 8/25\n",
            "409/410 [============================>.] - ETA: 0s - loss: 2.1941 - categorical_accuracy: 0.5190 - precision_3: 0.9623 - recall_3: 0.0839\n",
            "Epoch 8: val_loss improved from 2.59300 to 2.45867, saving model to model_experiments/model_3_freezed_ResNet\n",
            "410/410 [==============================] - 18s 45ms/step - loss: 2.1940 - categorical_accuracy: 0.5191 - precision_3: 0.9623 - recall_3: 0.0839 - val_loss: 2.4587 - val_categorical_accuracy: 0.4375 - val_precision_3: 0.9449 - val_recall_3: 0.0701\n",
            "Epoch 9/25\n",
            "410/410 [==============================] - ETA: 0s - loss: 2.0688 - categorical_accuracy: 0.5508 - precision_3: 0.9704 - recall_3: 0.1053\n",
            "Epoch 9: val_loss improved from 2.45867 to 2.38463, saving model to model_experiments/model_3_freezed_ResNet\n",
            "410/410 [==============================] - 18s 44ms/step - loss: 2.0688 - categorical_accuracy: 0.5508 - precision_3: 0.9704 - recall_3: 0.1053 - val_loss: 2.3846 - val_categorical_accuracy: 0.4562 - val_precision_3: 0.9170 - val_recall_3: 0.0774\n",
            "Epoch 10/25\n",
            "410/410 [==============================] - ETA: 0s - loss: 1.9493 - categorical_accuracy: 0.5763 - precision_3: 0.9754 - recall_3: 0.1273\n",
            "Epoch 10: val_loss improved from 2.38463 to 2.27068, saving model to model_experiments/model_3_freezed_ResNet\n",
            "410/410 [==============================] - 18s 45ms/step - loss: 1.9493 - categorical_accuracy: 0.5763 - precision_3: 0.9754 - recall_3: 0.1273 - val_loss: 2.2707 - val_categorical_accuracy: 0.4688 - val_precision_3: 0.8990 - val_recall_3: 0.1013\n",
            "Epoch 11/25\n",
            "409/410 [============================>.] - ETA: 0s - loss: 1.8516 - categorical_accuracy: 0.6042 - precision_3: 0.9690 - recall_3: 0.1504\n",
            "Epoch 11: val_loss improved from 2.27068 to 2.21750, saving model to model_experiments/model_3_freezed_ResNet\n",
            "410/410 [==============================] - 18s 45ms/step - loss: 1.8516 - categorical_accuracy: 0.6044 - precision_3: 0.9690 - recall_3: 0.1505 - val_loss: 2.2175 - val_categorical_accuracy: 0.4752 - val_precision_3: 0.9262 - val_recall_3: 0.1209\n",
            "Epoch 12/25\n",
            "409/410 [============================>.] - ETA: 0s - loss: 1.7559 - categorical_accuracy: 0.6271 - precision_3: 0.9743 - recall_3: 0.1764\n",
            "Epoch 12: val_loss improved from 2.21750 to 2.16156, saving model to model_experiments/model_3_freezed_ResNet\n",
            "410/410 [==============================] - 18s 45ms/step - loss: 1.7561 - categorical_accuracy: 0.6269 - precision_3: 0.9743 - recall_3: 0.1764 - val_loss: 2.1616 - val_categorical_accuracy: 0.5018 - val_precision_3: 0.8822 - val_recall_3: 0.1335\n",
            "Epoch 13/25\n",
            "410/410 [==============================] - ETA: 0s - loss: 1.6711 - categorical_accuracy: 0.6538 - precision_3: 0.9730 - recall_3: 0.1982\n",
            "Epoch 13: val_loss improved from 2.16156 to 2.07646, saving model to model_experiments/model_3_freezed_ResNet\n",
            "410/410 [==============================] - 18s 45ms/step - loss: 1.6711 - categorical_accuracy: 0.6538 - precision_3: 0.9730 - recall_3: 0.1982 - val_loss: 2.0765 - val_categorical_accuracy: 0.5047 - val_precision_3: 0.9124 - val_recall_3: 0.1522\n",
            "Epoch 14/25\n",
            "410/410 [==============================] - ETA: 0s - loss: 1.5973 - categorical_accuracy: 0.6656 - precision_3: 0.9755 - recall_3: 0.2275\n",
            "Epoch 14: val_loss improved from 2.07646 to 2.00532, saving model to model_experiments/model_3_freezed_ResNet\n",
            "410/410 [==============================] - 18s 45ms/step - loss: 1.5973 - categorical_accuracy: 0.6656 - precision_3: 0.9755 - recall_3: 0.2275 - val_loss: 2.0053 - val_categorical_accuracy: 0.5336 - val_precision_3: 0.9317 - val_recall_3: 0.1793\n",
            "Epoch 15/25\n",
            "410/410 [==============================] - ETA: 0s - loss: 1.5345 - categorical_accuracy: 0.6815 - precision_3: 0.9726 - recall_3: 0.2464\n",
            "Epoch 15: val_loss improved from 2.00532 to 1.95965, saving model to model_experiments/model_3_freezed_ResNet\n",
            "410/410 [==============================] - 18s 44ms/step - loss: 1.5345 - categorical_accuracy: 0.6815 - precision_3: 0.9726 - recall_3: 0.2464 - val_loss: 1.9596 - val_categorical_accuracy: 0.5400 - val_precision_3: 0.9271 - val_recall_3: 0.1857\n",
            "Epoch 16/25\n",
            "410/410 [==============================] - ETA: 0s - loss: 1.4675 - categorical_accuracy: 0.6915 - precision_3: 0.9721 - recall_3: 0.2713\n",
            "Epoch 16: val_loss improved from 1.95965 to 1.92566, saving model to model_experiments/model_3_freezed_ResNet\n",
            "410/410 [==============================] - 18s 44ms/step - loss: 1.4675 - categorical_accuracy: 0.6915 - precision_3: 0.9721 - recall_3: 0.2713 - val_loss: 1.9257 - val_categorical_accuracy: 0.5371 - val_precision_3: 0.8965 - val_recall_3: 0.2024\n",
            "Epoch 17/25\n",
            "409/410 [============================>.] - ETA: 0s - loss: 1.4122 - categorical_accuracy: 0.7075 - precision_3: 0.9724 - recall_3: 0.2913\n",
            "Epoch 17: val_loss improved from 1.92566 to 1.86406, saving model to model_experiments/model_3_freezed_ResNet\n",
            "410/410 [==============================] - 18s 44ms/step - loss: 1.4121 - categorical_accuracy: 0.7076 - precision_3: 0.9725 - recall_3: 0.2911 - val_loss: 1.8641 - val_categorical_accuracy: 0.5660 - val_precision_3: 0.9039 - val_recall_3: 0.2088\n",
            "Epoch 18/25\n",
            "409/410 [============================>.] - ETA: 0s - loss: 1.3531 - categorical_accuracy: 0.7199 - precision_3: 0.9749 - recall_3: 0.3175\n",
            "Epoch 18: val_loss improved from 1.86406 to 1.83743, saving model to model_experiments/model_3_freezed_ResNet\n",
            "410/410 [==============================] - 18s 45ms/step - loss: 1.3535 - categorical_accuracy: 0.7198 - precision_3: 0.9747 - recall_3: 0.3174 - val_loss: 1.8374 - val_categorical_accuracy: 0.5593 - val_precision_3: 0.9202 - val_recall_3: 0.2325\n",
            "Epoch 19/25\n",
            "409/410 [============================>.] - ETA: 0s - loss: 1.3056 - categorical_accuracy: 0.7303 - precision_3: 0.9750 - recall_3: 0.3338\n",
            "Epoch 19: val_loss improved from 1.83743 to 1.78181, saving model to model_experiments/model_3_freezed_ResNet\n",
            "410/410 [==============================] - 18s 45ms/step - loss: 1.3055 - categorical_accuracy: 0.7304 - precision_3: 0.9750 - recall_3: 0.3338 - val_loss: 1.7818 - val_categorical_accuracy: 0.5800 - val_precision_3: 0.9314 - val_recall_3: 0.2459\n",
            "Epoch 20/25\n",
            "409/410 [============================>.] - ETA: 0s - loss: 1.2657 - categorical_accuracy: 0.7334 - precision_3: 0.9753 - recall_3: 0.3593\n",
            "Epoch 20: val_loss improved from 1.78181 to 1.76861, saving model to model_experiments/model_3_freezed_ResNet\n",
            "410/410 [==============================] - 18s 45ms/step - loss: 1.2652 - categorical_accuracy: 0.7335 - precision_3: 0.9754 - recall_3: 0.3596 - val_loss: 1.7686 - val_categorical_accuracy: 0.5701 - val_precision_3: 0.9034 - val_recall_3: 0.2430\n",
            "Epoch 21/25\n",
            "409/410 [============================>.] - ETA: 0s - loss: 1.2177 - categorical_accuracy: 0.7476 - precision_3: 0.9736 - recall_3: 0.3804\n",
            "Epoch 21: val_loss improved from 1.76861 to 1.70070, saving model to model_experiments/model_3_freezed_ResNet\n",
            "410/410 [==============================] - 19s 45ms/step - loss: 1.2174 - categorical_accuracy: 0.7476 - precision_3: 0.9734 - recall_3: 0.3806 - val_loss: 1.7007 - val_categorical_accuracy: 0.5923 - val_precision_3: 0.9168 - val_recall_3: 0.2769\n",
            "Epoch 22/25\n",
            "409/410 [============================>.] - ETA: 0s - loss: 1.1809 - categorical_accuracy: 0.7544 - precision_3: 0.9736 - recall_3: 0.3969\n",
            "Epoch 22: val_loss improved from 1.70070 to 1.68713, saving model to model_experiments/model_3_freezed_ResNet\n",
            "410/410 [==============================] - 18s 45ms/step - loss: 1.1808 - categorical_accuracy: 0.7544 - precision_3: 0.9736 - recall_3: 0.3970 - val_loss: 1.6871 - val_categorical_accuracy: 0.5964 - val_precision_3: 0.9104 - val_recall_3: 0.2967\n",
            "Epoch 23/25\n",
            "409/410 [============================>.] - ETA: 0s - loss: 1.1407 - categorical_accuracy: 0.7683 - precision_3: 0.9764 - recall_3: 0.4143\n",
            "Epoch 23: val_loss improved from 1.68713 to 1.64850, saving model to model_experiments/model_3_freezed_ResNet\n",
            "410/410 [==============================] - 18s 44ms/step - loss: 1.1407 - categorical_accuracy: 0.7682 - precision_3: 0.9764 - recall_3: 0.4144 - val_loss: 1.6485 - val_categorical_accuracy: 0.5993 - val_precision_3: 0.9095 - val_recall_3: 0.3023\n",
            "Epoch 24/25\n",
            "409/410 [============================>.] - ETA: 0s - loss: 1.1063 - categorical_accuracy: 0.7703 - precision_3: 0.9716 - recall_3: 0.4284\n",
            "Epoch 24: val_loss improved from 1.64850 to 1.59840, saving model to model_experiments/model_3_freezed_ResNet\n",
            "410/410 [==============================] - 18s 45ms/step - loss: 1.1058 - categorical_accuracy: 0.7705 - precision_3: 0.9716 - recall_3: 0.4287 - val_loss: 1.5984 - val_categorical_accuracy: 0.6235 - val_precision_3: 0.9091 - val_recall_3: 0.3154\n",
            "Epoch 25/25\n",
            "409/410 [============================>.] - ETA: 0s - loss: 1.0724 - categorical_accuracy: 0.7794 - precision_3: 0.9718 - recall_3: 0.4449\n",
            "Epoch 25: val_loss improved from 1.59840 to 1.56244, saving model to model_experiments/model_3_freezed_ResNet\n",
            "410/410 [==============================] - 18s 45ms/step - loss: 1.0722 - categorical_accuracy: 0.7793 - precision_3: 0.9718 - recall_3: 0.4450 - val_loss: 1.5624 - val_categorical_accuracy: 0.6303 - val_precision_3: 0.9286 - val_recall_3: 0.3306\n"
          ]
        }
      ],
      "source": [
        "# 0. Set random seed\n",
        "tf.random.set_seed(42)\n",
        "INPUT_SHAPE = (100,100,3)\n",
        "\n",
        "# 1. Create the model (taken straight out of their code base)\n",
        "base_resnet_model = tf.keras.applications.resnet50.ResNet50(include_top=False)\n",
        "base_resnet_model.trainable = False\n",
        "inputs = layers.Input(shape=INPUT_SHAPE, name=\"input_layer\")\n",
        "scale = layers.Rescaling(scale=1./255)(inputs)\n",
        "x = base_resnet_model(scale)\n",
        "x = layers.GlobalAveragePooling2D(name=\"global_average_pooling_layer\")(x)\n",
        "outputs = layers.Dense(131,activation=\"softmax\",name=\"output_layer\")(x)\n",
        "model_3 = tf.keras.Model(inputs=inputs, outputs=outputs, name=\"model_3_freezed_ResNet\")\n",
        "\n",
        "# 2. Compile the model\n",
        "model_3.compile(loss=\"categorical_crossentropy\",\n",
        "                optimizer=\"Adam\",\n",
        "                metrics=[CategoricalAccuracy(), Precision(), Recall()])\n",
        "\n",
        "# 3. Get the summary\n",
        "model_3.summary()\n",
        "\n",
        "# 4. Fit the model\n",
        "history_model_3 = model_3.fit(train_data,\n",
        "                              epochs=25,\n",
        "                              validation_data=test_data,\n",
        "                              validation_steps=len(test_data)*0.15,\n",
        "                              verbose=MODEL_VERBOSE,\n",
        "                              callbacks=[create_model_checkpoint(model_name=model_3.name), create_early_stopping()])"
      ]
    },
    {
      "cell_type": "code",
      "execution_count": 30,
      "metadata": {
        "colab": {
          "base_uri": "https://localhost:8080/",
          "height": 573
        },
        "id": "aKmOrxNx0dU4",
        "outputId": "13b854eb-1a96-4a9c-e4ce-ab1c515e9618"
      },
      "outputs": [
        {
          "data": {
            "image/png": "[encoded data removed]",
            "text/plain": [
              "<Figure size 432x288 with 1 Axes>"
            ]
          },
          "metadata": {
            "needs_background": "light"
          },
          "output_type": "display_data"
        },
        {
          "data": {
            "image/png": "[encoded data removed]",
            "text/plain": [
              "<Figure size 432x288 with 1 Axes>"
            ]
          },
          "metadata": {
            "needs_background": "light"
          },
          "output_type": "display_data"
        }
      ],
      "source": [
        "# Save model's architecture as an image\n",
        "plot_model(model_3, to_file='/content/model_architectures/model_3.png')\n",
        "\n",
        "# About the model history\n",
        "plot_loss_curves(history_model_3)"
      ]
    },
    {
      "cell_type": "code",
      "execution_count": 31,
      "metadata": {
        "colab": {
          "base_uri": "https://localhost:8080/"
        },
        "id": "NSzIoeT70hnD",
        "outputId": "b522bec3-b625-45c4-d20e-20542838149e"
      },
      "outputs": [
        {
          "name": "stdout",
          "output_type": "stream",
          "text": [
            "709/709 [==============================] - 24s 34ms/step - loss: 1.5811 - categorical_accuracy: 0.6213 - precision_3: 0.9245 - recall_3: 0.3249\n"
          ]
        }
      ],
      "source": [
        "# Loading in the best weights\n",
        "best_weights_path = \"/content/model_experiments/model_3_freezed_ResNet\"\n",
        "model_3.load_weights(best_weights_path)\n",
        "\n",
        "# Evaluate on test set\n",
        "loss_3, accuracy_3, precision_3, recall_3 = model_3.evaluate(test_data)"
      ]
    },
    {
      "cell_type": "code",
      "execution_count": 32,
      "metadata": {
        "colab": {
          "base_uri": "https://localhost:8080/"
        },
        "id": "4vUSyQBq0uao",
        "outputId": "27072e78-d7cf-49ab-e91a-7e8147a7c2ae"
      },
      "outputs": [
        {
          "data": {
            "text/plain": [
              "{'Loss': 1.581148386001587,\n",
              " 'Accuracy': 0.6212975978851318,\n",
              " 'Precision': 0.9245046377182007,\n",
              " 'Recall': 0.32492947578430176}"
            ]
          },
          "execution_count": 32,
          "metadata": {},
          "output_type": "execute_result"
        }
      ],
      "source": [
        "# Getting a metrics report\n",
        "model_3_metrics = get_metrics(loss_3, accuracy_3, precision_3, recall_3)\n",
        "model_3_metrics"
      ]
    },
    {
      "cell_type": "markdown",
      "metadata": {
        "id": "YY9ejPFFAGUv"
      },
      "source": [
        "#### Model 4 \n",
        "* **Layers:** Using EfficientNetB0 (with freezed layers) and various other layers for classification\n",
        "* **Optimizer:** Adam\n",
        "* **Loss:** Cross entropy\n",
        "* **Epochs:** 25\n",
        "* **Callbacks:** `ModelCheckpoint`, `EarlyStopping`\n",
        "* **Validation data:** available"
      ]
    },
    {
      "cell_type": "code",
      "execution_count": 33,
      "metadata": {
        "colab": {
          "base_uri": "https://localhost:8080/"
        },
        "id": "MU6w8Cgf1K2R",
        "outputId": "6fd7f3ba-0c64-4325-e85f-510dee90b997"
      },
      "outputs": [
        {
          "name": "stdout",
          "output_type": "stream",
          "text": [
            "Downloading data from https://storage.googleapis.com/keras-applications/efficientnetb0_notop.h5\n",
            "16711680/16705208 [==============================] - 0s 0us/step\n",
            "16719872/16705208 [==============================] - 0s 0us/step\n",
            "Model: \"model_4_freezed_EfficientNet\"\n",
            "_________________________________________________________________\n",
            " Layer (type)                Output Shape              Param #   \n",
            "=================================================================\n",
            " input_layer (InputLayer)    [(None, 100, 100, 3)]     0         \n",
            "                                                                 \n",
            " efficientnetb0 (Functional)  (None, None, None, 1280)  4049571  \n",
            "                                                                 \n",
            " global_average_pooling_laye  (None, 1280)             0         \n",
            " r (GlobalAveragePooling2D)                                      \n",
            "                                                                 \n",
            " output_layer (Dense)        (None, 131)               167811    \n",
            "                                                                 \n",
            "=================================================================\n",
            "Total params: 4,217,382\n",
            "Trainable params: 167,811\n",
            "Non-trainable params: 4,049,571\n",
            "_________________________________________________________________\n",
            "Epoch 1/25\n",
            "410/410 [==============================] - ETA: 0s - loss: 1.3455 - categorical_accuracy: 0.7790 - precision_4: 0.9921 - recall_4: 0.4513\n",
            "Epoch 1: val_loss improved from inf to 0.62065, saving model to model_experiments/model_4_freezed_EfficientNet\n",
            "410/410 [==============================] - 21s 36ms/step - loss: 1.3455 - categorical_accuracy: 0.7790 - precision_4: 0.9921 - recall_4: 0.4513 - val_loss: 0.6206 - val_categorical_accuracy: 0.8870 - val_precision_4: 0.9815 - val_recall_4: 0.7266\n",
            "Epoch 2/25\n",
            "410/410 [==============================] - ETA: 0s - loss: 0.2827 - categorical_accuracy: 0.9657 - precision_4: 0.9927 - recall_4: 0.8863\n",
            "Epoch 2: val_loss improved from 0.62065 to 0.39490, saving model to model_experiments/model_4_freezed_EfficientNet\n",
            "410/410 [==============================] - 13s 32ms/step - loss: 0.2827 - categorical_accuracy: 0.9657 - precision_4: 0.9927 - recall_4: 0.8863 - val_loss: 0.3949 - val_categorical_accuracy: 0.9150 - val_precision_4: 0.9759 - val_recall_4: 0.8391\n",
            "Epoch 3/25\n",
            "408/410 [============================>.] - ETA: 0s - loss: 0.1563 - categorical_accuracy: 0.9828 - precision_4: 0.9955 - recall_4: 0.9495\n",
            "Epoch 3: val_loss improved from 0.39490 to 0.31754, saving model to model_experiments/model_4_freezed_EfficientNet\n",
            "410/410 [==============================] - 13s 31ms/step - loss: 0.1560 - categorical_accuracy: 0.9828 - precision_4: 0.9955 - recall_4: 0.9497 - val_loss: 0.3175 - val_categorical_accuracy: 0.9290 - val_precision_4: 0.9689 - val_recall_4: 0.8817\n",
            "Epoch 4/25\n",
            "409/410 [============================>.] - ETA: 0s - loss: 0.1047 - categorical_accuracy: 0.9877 - precision_4: 0.9956 - recall_4: 0.9698\n",
            "Epoch 4: val_loss improved from 0.31754 to 0.27672, saving model to model_experiments/model_4_freezed_EfficientNet\n",
            "410/410 [==============================] - 13s 32ms/step - loss: 0.1046 - categorical_accuracy: 0.9877 - precision_4: 0.9956 - recall_4: 0.9698 - val_loss: 0.2767 - val_categorical_accuracy: 0.9363 - val_precision_4: 0.9705 - val_recall_4: 0.9033\n",
            "Epoch 5/25\n",
            "408/410 [============================>.] - ETA: 0s - loss: 0.0761 - categorical_accuracy: 0.9923 - precision_4: 0.9969 - recall_4: 0.9812\n",
            "Epoch 5: val_loss improved from 0.27672 to 0.25162, saving model to model_experiments/model_4_freezed_EfficientNet\n",
            "410/410 [==============================] - 13s 31ms/step - loss: 0.0760 - categorical_accuracy: 0.9924 - precision_4: 0.9969 - recall_4: 0.9813 - val_loss: 0.2516 - val_categorical_accuracy: 0.9393 - val_precision_4: 0.9702 - val_recall_4: 0.9118\n",
            "Epoch 6/25\n",
            "410/410 [==============================] - ETA: 0s - loss: 0.0599 - categorical_accuracy: 0.9937 - precision_4: 0.9977 - recall_4: 0.9864\n",
            "Epoch 6: val_loss improved from 0.25162 to 0.22560, saving model to model_experiments/model_4_freezed_EfficientNet\n",
            "410/410 [==============================] - 13s 31ms/step - loss: 0.0599 - categorical_accuracy: 0.9937 - precision_4: 0.9977 - recall_4: 0.9864 - val_loss: 0.2256 - val_categorical_accuracy: 0.9428 - val_precision_4: 0.9723 - val_recall_4: 0.9223\n",
            "Epoch 7/25\n",
            "408/410 [============================>.] - ETA: 0s - loss: 0.0472 - categorical_accuracy: 0.9948 - precision_4: 0.9975 - recall_4: 0.9906\n",
            "Epoch 7: val_loss improved from 0.22560 to 0.21725, saving model to model_experiments/model_4_freezed_EfficientNet\n",
            "410/410 [==============================] - 13s 31ms/step - loss: 0.0472 - categorical_accuracy: 0.9948 - precision_4: 0.9975 - recall_4: 0.9906 - val_loss: 0.2172 - val_categorical_accuracy: 0.9463 - val_precision_4: 0.9683 - val_recall_4: 0.9282\n",
            "Epoch 8/25\n",
            "410/410 [==============================] - ETA: 0s - loss: 0.0396 - categorical_accuracy: 0.9963 - precision_4: 0.9978 - recall_4: 0.9931\n",
            "Epoch 8: val_loss improved from 0.21725 to 0.20374, saving model to model_experiments/model_4_freezed_EfficientNet\n",
            "410/410 [==============================] - 13s 31ms/step - loss: 0.0396 - categorical_accuracy: 0.9963 - precision_4: 0.9978 - recall_4: 0.9931 - val_loss: 0.2037 - val_categorical_accuracy: 0.9527 - val_precision_4: 0.9706 - val_recall_4: 0.9349\n",
            "Epoch 9/25\n",
            "409/410 [============================>.] - ETA: 0s - loss: 0.0341 - categorical_accuracy: 0.9966 - precision_4: 0.9979 - recall_4: 0.9945\n",
            "Epoch 9: val_loss improved from 0.20374 to 0.20225, saving model to model_experiments/model_4_freezed_EfficientNet\n",
            "410/410 [==============================] - 13s 31ms/step - loss: 0.0341 - categorical_accuracy: 0.9966 - precision_4: 0.9979 - recall_4: 0.9945 - val_loss: 0.2022 - val_categorical_accuracy: 0.9506 - val_precision_4: 0.9694 - val_recall_4: 0.9357\n",
            "Epoch 10/25\n",
            "408/410 [============================>.] - ETA: 0s - loss: 0.0277 - categorical_accuracy: 0.9975 - precision_4: 0.9984 - recall_4: 0.9956\n",
            "Epoch 10: val_loss improved from 0.20225 to 0.19033, saving model to model_experiments/model_4_freezed_EfficientNet\n",
            "410/410 [==============================] - 13s 31ms/step - loss: 0.0277 - categorical_accuracy: 0.9975 - precision_4: 0.9984 - recall_4: 0.9956 - val_loss: 0.1903 - val_categorical_accuracy: 0.9527 - val_precision_4: 0.9719 - val_recall_4: 0.9404\n",
            "Epoch 11/25\n",
            "410/410 [==============================] - ETA: 0s - loss: 0.0248 - categorical_accuracy: 0.9976 - precision_4: 0.9985 - recall_4: 0.9958\n",
            "Epoch 11: val_loss improved from 0.19033 to 0.17941, saving model to model_experiments/model_4_freezed_EfficientNet\n",
            "410/410 [==============================] - 13s 31ms/step - loss: 0.0248 - categorical_accuracy: 0.9976 - precision_4: 0.9985 - recall_4: 0.9958 - val_loss: 0.1794 - val_categorical_accuracy: 0.9539 - val_precision_4: 0.9720 - val_recall_4: 0.9425\n",
            "Epoch 12/25\n",
            "410/410 [==============================] - ETA: 0s - loss: 0.0210 - categorical_accuracy: 0.9976 - precision_4: 0.9985 - recall_4: 0.9966\n",
            "Epoch 12: val_loss did not improve from 0.17941\n",
            "410/410 [==============================] - 13s 31ms/step - loss: 0.0210 - categorical_accuracy: 0.9976 - precision_4: 0.9985 - recall_4: 0.9966 - val_loss: 0.1829 - val_categorical_accuracy: 0.9527 - val_precision_4: 0.9706 - val_recall_4: 0.9439\n",
            "Epoch 13/25\n",
            "410/410 [==============================] - ETA: 0s - loss: 0.0166 - categorical_accuracy: 0.9985 - precision_4: 0.9988 - recall_4: 0.9976\n",
            "Epoch 13: val_loss did not improve from 0.17941\n",
            "410/410 [==============================] - 13s 31ms/step - loss: 0.0166 - categorical_accuracy: 0.9985 - precision_4: 0.9988 - recall_4: 0.9976 - val_loss: 0.1820 - val_categorical_accuracy: 0.9521 - val_precision_4: 0.9659 - val_recall_4: 0.9419\n",
            "Epoch 14/25\n",
            "408/410 [============================>.] - ETA: 0s - loss: 0.0180 - categorical_accuracy: 0.9979 - precision_4: 0.9985 - recall_4: 0.9971\n",
            "Epoch 14: val_loss improved from 0.17941 to 0.17854, saving model to model_experiments/model_4_freezed_EfficientNet\n",
            "410/410 [==============================] - 13s 31ms/step - loss: 0.0180 - categorical_accuracy: 0.9979 - precision_4: 0.9985 - recall_4: 0.9971 - val_loss: 0.1785 - val_categorical_accuracy: 0.9547 - val_precision_4: 0.9710 - val_recall_4: 0.9480\n",
            "Epoch 15/25\n",
            "408/410 [============================>.] - ETA: 0s - loss: 0.0141 - categorical_accuracy: 0.9984 - precision_4: 0.9991 - recall_4: 0.9975\n",
            "Epoch 15: val_loss did not improve from 0.17854\n",
            "410/410 [==============================] - 13s 31ms/step - loss: 0.0141 - categorical_accuracy: 0.9984 - precision_4: 0.9991 - recall_4: 0.9976 - val_loss: 0.1827 - val_categorical_accuracy: 0.9530 - val_precision_4: 0.9669 - val_recall_4: 0.9463\n",
            "Epoch 16/25\n",
            "408/410 [============================>.] - ETA: 0s - loss: 0.0130 - categorical_accuracy: 0.9988 - precision_4: 0.9989 - recall_4: 0.9979\n",
            "Epoch 16: val_loss improved from 0.17854 to 0.16734, saving model to model_experiments/model_4_freezed_EfficientNet\n",
            "410/410 [==============================] - 13s 31ms/step - loss: 0.0130 - categorical_accuracy: 0.9988 - precision_4: 0.9989 - recall_4: 0.9979 - val_loss: 0.1673 - val_categorical_accuracy: 0.9588 - val_precision_4: 0.9705 - val_recall_4: 0.9498\n",
            "Epoch 17/25\n",
            "410/410 [==============================] - ETA: 0s - loss: 0.0130 - categorical_accuracy: 0.9982 - precision_4: 0.9988 - recall_4: 0.9976\n",
            "Epoch 17: val_loss did not improve from 0.16734\n",
            "410/410 [==============================] - 13s 31ms/step - loss: 0.0130 - categorical_accuracy: 0.9982 - precision_4: 0.9988 - recall_4: 0.9976 - val_loss: 0.1739 - val_categorical_accuracy: 0.9565 - val_precision_4: 0.9679 - val_recall_4: 0.9504\n",
            "Epoch 18/25\n",
            "408/410 [============================>.] - ETA: 0s - loss: 0.0112 - categorical_accuracy: 0.9986 - precision_4: 0.9992 - recall_4: 0.9980\n",
            "Epoch 18: val_loss improved from 0.16734 to 0.16490, saving model to model_experiments/model_4_freezed_EfficientNet\n",
            "410/410 [==============================] - 13s 31ms/step - loss: 0.0112 - categorical_accuracy: 0.9986 - precision_4: 0.9992 - recall_4: 0.9980 - val_loss: 0.1649 - val_categorical_accuracy: 0.9574 - val_precision_4: 0.9676 - val_recall_4: 0.9515\n",
            "Epoch 19/25\n",
            "410/410 [==============================] - ETA: 0s - loss: 0.0104 - categorical_accuracy: 0.9986 - precision_4: 0.9992 - recall_4: 0.9982\n",
            "Epoch 19: val_loss improved from 0.16490 to 0.15432, saving model to model_experiments/model_4_freezed_EfficientNet\n",
            "410/410 [==============================] - 13s 31ms/step - loss: 0.0104 - categorical_accuracy: 0.9986 - precision_4: 0.9992 - recall_4: 0.9982 - val_loss: 0.1543 - val_categorical_accuracy: 0.9582 - val_precision_4: 0.9705 - val_recall_4: 0.9518\n",
            "Epoch 20/25\n",
            "409/410 [============================>.] - ETA: 0s - loss: 0.0077 - categorical_accuracy: 0.9992 - precision_4: 0.9995 - recall_4: 0.9992\n",
            "Epoch 20: val_loss did not improve from 0.15432\n",
            "410/410 [==============================] - 13s 31ms/step - loss: 0.0077 - categorical_accuracy: 0.9992 - precision_4: 0.9995 - recall_4: 0.9992 - val_loss: 0.1552 - val_categorical_accuracy: 0.9614 - val_precision_4: 0.9697 - val_recall_4: 0.9547\n",
            "Epoch 21/25\n",
            "408/410 [============================>.] - ETA: 0s - loss: 0.0106 - categorical_accuracy: 0.9983 - precision_4: 0.9986 - recall_4: 0.9978\n",
            "Epoch 21: val_loss did not improve from 0.15432\n",
            "410/410 [==============================] - 13s 31ms/step - loss: 0.0106 - categorical_accuracy: 0.9983 - precision_4: 0.9986 - recall_4: 0.9978 - val_loss: 0.1722 - val_categorical_accuracy: 0.9571 - val_precision_4: 0.9659 - val_recall_4: 0.9509\n",
            "Epoch 22/25\n",
            "408/410 [============================>.] - ETA: 0s - loss: 0.0077 - categorical_accuracy: 0.9991 - precision_4: 0.9994 - recall_4: 0.9989\n",
            "Epoch 22: val_loss did not improve from 0.15432\n",
            "410/410 [==============================] - 13s 31ms/step - loss: 0.0077 - categorical_accuracy: 0.9991 - precision_4: 0.9994 - recall_4: 0.9989 - val_loss: 0.1655 - val_categorical_accuracy: 0.9597 - val_precision_4: 0.9682 - val_recall_4: 0.9527\n"
          ]
        }
      ],
      "source": [
        "# 0. Set random seed\n",
        "tf.random.set_seed(42)\n",
        "INPUT_SHAPE = (100,100,3)\n",
        "\n",
        "# 1. Create the model\n",
        "base_efficient_net_model=tf.keras.applications.EfficientNetB0(include_top=False)\n",
        "base_efficient_net_model.trainable=False\n",
        "inputs= layers.Input(shape=INPUT_SHAPE, name=\"input_layer\")\n",
        "x = base_efficient_net_model(inputs)\n",
        "x = tf.keras.layers.GlobalAveragePooling2D(name=\"global_average_pooling_layer\")(x)\n",
        "outputs=tf.keras.layers.Dense(131,activation=\"softmax\",name=\"output_layer\")(x)\n",
        "model_4 = tf.keras.Model(inputs=inputs, outputs=outputs, name=\"model_4_freezed_EfficientNet\")\n",
        "\n",
        "# 2. Compile the model\n",
        "model_4.compile(loss=\"categorical_crossentropy\",\n",
        "                optimizer=\"Adam\",\n",
        "                metrics=[CategoricalAccuracy(), Precision(), Recall()])\n",
        "\n",
        "# 3. Get the summary\n",
        "model_4.summary()\n",
        "\n",
        "# 4. Fit the model\n",
        "history_model_4 = model_4.fit(train_data,\n",
        "                              epochs=25,\n",
        "                              validation_data=test_data,\n",
        "                              validation_steps=len(test_data)*0.15,\n",
        "                              verbose=MODEL_VERBOSE,\n",
        "                              callbacks=[create_model_checkpoint(model_name=model_4.name), create_early_stopping()])"
      ]
    },
    {
      "cell_type": "code",
      "execution_count": 34,
      "metadata": {
        "colab": {
          "base_uri": "https://localhost:8080/",
          "height": 573
        },
        "id": "u48O3Ou_2dqj",
        "outputId": "a0ec8355-7eef-4fa8-8d17-332494e92383"
      },
      "outputs": [
        {
          "data": {
            "image/png": "[encoded data removed]",
            "text/plain": [
              "<Figure size 432x288 with 1 Axes>"
            ]
          },
          "metadata": {
            "needs_background": "light"
          },
          "output_type": "display_data"
        },
        {
          "data": {
            "image/png": "[encoded data removed]",
            "text/plain": [
              "<Figure size 432x288 with 1 Axes>"
            ]
          },
          "metadata": {
            "needs_background": "light"
          },
          "output_type": "display_data"
        }
      ],
      "source": [
        "# Save model's architecture as an image\n",
        "plot_model(model_4, to_file='/content/model_architectures/model_4.png')\n",
        "\n",
        "# About the model history\n",
        "plot_loss_curves(history_model_4)"
      ]
    },
    {
      "cell_type": "code",
      "execution_count": 35,
      "metadata": {
        "colab": {
          "base_uri": "https://localhost:8080/"
        },
        "id": "S0oSZtYZ2jM_",
        "outputId": "c87996f0-1717-4cfe-d9d6-1d18916837c7"
      },
      "outputs": [
        {
          "name": "stdout",
          "output_type": "stream",
          "text": [
            "709/709 [==============================] - 17s 23ms/step - loss: 0.1547 - categorical_accuracy: 0.9615 - precision_4: 0.9717 - recall_4: 0.9549\n"
          ]
        }
      ],
      "source": [
        "# Loading in the best weights\n",
        "best_weights_path = \"/content/model_experiments/model_4_freezed_EfficientNet\"\n",
        "model_4.load_weights(best_weights_path)\n",
        "\n",
        "# Evaluate on test set\n",
        "loss_4, accuracy_4, precision_4, recall_4 = model_4.evaluate(test_data)"
      ]
    },
    {
      "cell_type": "code",
      "execution_count": 36,
      "metadata": {
        "colab": {
          "base_uri": "https://localhost:8080/"
        },
        "id": "VPbrQ1102xIQ",
        "outputId": "e712234c-70c4-4740-83cc-9d68a050789c"
      },
      "outputs": [
        {
          "data": {
            "text/plain": [
              "{'Loss': 0.1547483652830124,\n",
              " 'Accuracy': 0.9614774584770203,\n",
              " 'Precision': 0.9716541171073914,\n",
              " 'Recall': 0.9548659920692444}"
            ]
          },
          "execution_count": 36,
          "metadata": {},
          "output_type": "execute_result"
        }
      ],
      "source": [
        "# Getting a metrics report\n",
        "model_4_metrics = get_metrics(loss_4, accuracy_4, precision_4, recall_4)\n",
        "model_4_metrics"
      ]
    },
    {
      "cell_type": "markdown",
      "metadata": {
        "id": "8YIH9eT5AHdM"
      },
      "source": [
        "#### Model 5\n",
        "* **Layers:** Fine-tuned ResNet as the base with multiple other layers\n",
        "* **Optimizer:** Adam\n",
        "* **Loss:** Cross entropy\n",
        "* **Epochs:** 30, with `initial_epoch` set to the model 3's last epoch\n",
        "* **Callbacks:** `ModelCheckpoint`, `EarlyStopping`\n",
        "* **Validation data:** available"
      ]
    },
    {
      "cell_type": "code",
      "execution_count": 37,
      "metadata": {
        "colab": {
          "base_uri": "https://localhost:8080/"
        },
        "id": "gk2zsuHc3uCO",
        "outputId": "147365fd-767d-4885-ec66-82f4a40cbd9d"
      },
      "outputs": [
        {
          "name": "stdout",
          "output_type": "stream",
          "text": [
            "Model: \"model_5_finetuned_ResNet\"\n",
            "_________________________________________________________________\n",
            " Layer (type)                Output Shape              Param #   \n",
            "=================================================================\n",
            " input_layer (InputLayer)    [(None, 100, 100, 3)]     0         \n",
            "                                                                 \n",
            " rescaling_2 (Rescaling)     (None, 100, 100, 3)       0         \n",
            "                                                                 \n",
            " resnet50 (Functional)       (None, None, None, 2048)  23587712  \n",
            "                                                                 \n",
            " global_average_pooling_laye  (None, 2048)             0         \n",
            " r (GlobalAveragePooling2D)                                      \n",
            "                                                                 \n",
            " output_layer (Dense)        (None, 131)               268419    \n",
            "                                                                 \n",
            "=================================================================\n",
            "Total params: 23,856,131\n",
            "Trainable params: 268,419\n",
            "Non-trainable params: 23,587,712\n",
            "_________________________________________________________________\n",
            "Epoch 25/30\n",
            "410/410 [==============================] - ETA: 0s - loss: 3.1275 - categorical_accuracy: 0.3025 - precision_5: 0.9307 - recall_5: 0.0308\n",
            "Epoch 25: val_loss improved from inf to 2.56832, saving model to model_experiments/model_5_finetuned_ResNet\n",
            "410/410 [==============================] - 22s 47ms/step - loss: 3.1275 - categorical_accuracy: 0.3025 - precision_5: 0.9307 - recall_5: 0.0308 - val_loss: 2.5683 - val_categorical_accuracy: 0.4030 - val_precision_5: 0.7857 - val_recall_5: 0.0610\n",
            "Epoch 26/30\n",
            "410/410 [==============================] - ETA: 0s - loss: 1.7814 - categorical_accuracy: 0.6086 - precision_5: 0.9634 - recall_5: 0.1831\n",
            "Epoch 26: val_loss improved from 2.56832 to 1.91170, saving model to model_experiments/model_5_finetuned_ResNet\n",
            "410/410 [==============================] - 18s 44ms/step - loss: 1.7814 - categorical_accuracy: 0.6086 - precision_5: 0.9634 - recall_5: 0.1831 - val_loss: 1.9117 - val_categorical_accuracy: 0.5464 - val_precision_5: 0.8912 - val_recall_5: 0.2129\n",
            "Epoch 27/30\n",
            "409/410 [============================>.] - ETA: 0s - loss: 1.3028 - categorical_accuracy: 0.7178 - precision_5: 0.9671 - recall_5: 0.3547\n",
            "Epoch 27: val_loss improved from 1.91170 to 1.60667, saving model to model_experiments/model_5_finetuned_ResNet\n",
            "410/410 [==============================] - 18s 45ms/step - loss: 1.3029 - categorical_accuracy: 0.7179 - precision_5: 0.9671 - recall_5: 0.3547 - val_loss: 1.6067 - val_categorical_accuracy: 0.6174 - val_precision_5: 0.9242 - val_recall_5: 0.3420\n",
            "Epoch 28/30\n",
            "410/410 [==============================] - ETA: 0s - loss: 1.0251 - categorical_accuracy: 0.7818 - precision_5: 0.9646 - recall_5: 0.4850\n",
            "Epoch 28: val_loss improved from 1.60667 to 1.44270, saving model to model_experiments/model_5_finetuned_ResNet\n",
            "410/410 [==============================] - 19s 45ms/step - loss: 1.0251 - categorical_accuracy: 0.7818 - precision_5: 0.9646 - recall_5: 0.4850 - val_loss: 1.4427 - val_categorical_accuracy: 0.6513 - val_precision_5: 0.9047 - val_recall_5: 0.4159\n",
            "Epoch 29/30\n",
            "409/410 [============================>.] - ETA: 0s - loss: 0.8503 - categorical_accuracy: 0.8234 - precision_5: 0.9661 - recall_5: 0.5764\n",
            "Epoch 29: val_loss improved from 1.44270 to 1.30783, saving model to model_experiments/model_5_finetuned_ResNet\n",
            "410/410 [==============================] - 18s 44ms/step - loss: 0.8500 - categorical_accuracy: 0.8236 - precision_5: 0.9661 - recall_5: 0.5766 - val_loss: 1.3078 - val_categorical_accuracy: 0.6735 - val_precision_5: 0.9038 - val_recall_5: 0.4746\n",
            "Epoch 30/30\n",
            "409/410 [============================>.] - ETA: 0s - loss: 0.7171 - categorical_accuracy: 0.8528 - precision_5: 0.9715 - recall_5: 0.6485\n",
            "Epoch 30: val_loss improved from 1.30783 to 1.19506, saving model to model_experiments/model_5_finetuned_ResNet\n",
            "410/410 [==============================] - 18s 44ms/step - loss: 0.7174 - categorical_accuracy: 0.8526 - precision_5: 0.9714 - recall_5: 0.6484 - val_loss: 1.1951 - val_categorical_accuracy: 0.6992 - val_precision_5: 0.8871 - val_recall_5: 0.5234\n"
          ]
        }
      ],
      "source": [
        "# 0. Set random seed\n",
        "tf.random.set_seed(42)\n",
        "INPUT_SHAPE = (100,100,3)\n",
        "\n",
        "# 1. Create the model\n",
        "base_resnet_model = tf.keras.applications.resnet50.ResNet50(include_top=False)\n",
        "base_resnet_model.trainable = False\n",
        "\n",
        "# Setting the base model to train (only on the last 10 layers)\n",
        "LAYERS_TRAINABLE = 10\n",
        "for layer in base_resnet_model.layers[-LAYERS_TRAINABLE:]:\n",
        "  layer.trainable = True\n",
        "\n",
        "inputs = layers.Input(shape=INPUT_SHAPE, name=\"input_layer\")\n",
        "scale = layers.Rescaling(scale=1./255)(inputs)\n",
        "x = base_resnet_model(scale)\n",
        "x = layers.GlobalAveragePooling2D(name=\"global_average_pooling_layer\")(x)\n",
        "outputs = layers.Dense(131,activation=\"softmax\",name=\"output_layer\")(x)\n",
        "model_5 = tf.keras.Model(inputs=inputs, outputs=outputs, name=\"model_5_finetuned_ResNet\")\n",
        "\n",
        "# 2. Compile the model\n",
        "model_5.compile(loss=\"categorical_crossentropy\",\n",
        "                optimizer=\"Adam\",\n",
        "                metrics=[CategoricalAccuracy(), Precision(), Recall()])\n",
        "\n",
        "# 3. Get the summary\n",
        "model_5.summary()\n",
        "\n",
        "# 4. Fit the model\n",
        "history_model_5 = model_5.fit(train_data,\n",
        "                              epochs=30,\n",
        "                              initial_epoch=history_model_3.epoch[-1],\n",
        "                              validation_data=test_data,\n",
        "                              validation_steps=len(test_data)*0.15,\n",
        "                              verbose=MODEL_VERBOSE,\n",
        "                              callbacks=[create_model_checkpoint(model_name=model_5.name), create_early_stopping()])"
      ]
    },
    {
      "cell_type": "code",
      "execution_count": 38,
      "metadata": {
        "colab": {
          "base_uri": "https://localhost:8080/",
          "height": 573
        },
        "id": "qbm5sFqS5Vth",
        "outputId": "fe54c247-5064-4994-9081-f0e7c15e1d4c"
      },
      "outputs": [
        {
          "data": {
            "image/png": "[encoded data removed]",
            "text/plain": [
              "<Figure size 432x288 with 1 Axes>"
            ]
          },
          "metadata": {
            "needs_background": "light"
          },
          "output_type": "display_data"
        },
        {
          "data": {
            "image/png": "[encoded data removed]",
            "text/plain": [
              "<Figure size 432x288 with 1 Axes>"
            ]
          },
          "metadata": {
            "needs_background": "light"
          },
          "output_type": "display_data"
        }
      ],
      "source": [
        "# Save model's architecture as an image\n",
        "plot_model(model_5, to_file='/content/model_architectures/model_5.png')\n",
        "\n",
        "# About the model history\n",
        "plot_loss_curves(history_model_5)"
      ]
    },
    {
      "cell_type": "code",
      "execution_count": 39,
      "metadata": {
        "colab": {
          "base_uri": "https://localhost:8080/"
        },
        "id": "xq7OQP_253Z8",
        "outputId": "99a48972-6977-4658-dc6c-d4649546a5b7"
      },
      "outputs": [
        {
          "name": "stdout",
          "output_type": "stream",
          "text": [
            "709/709 [==============================] - 24s 34ms/step - loss: 1.2112 - categorical_accuracy: 0.6897 - precision_5: 0.8875 - recall_5: 0.5065\n"
          ]
        }
      ],
      "source": [
        "# Loading in the best weights\n",
        "best_weights_path = \"/content/model_experiments/model_5_finetuned_ResNet\"\n",
        "model_5.load_weights(best_weights_path)\n",
        "\n",
        "# Evaluate on test set\n",
        "loss_5, accuracy_5, precision_5, recall_5 = model_5.evaluate(test_data)"
      ]
    },
    {
      "cell_type": "code",
      "execution_count": 40,
      "metadata": {
        "colab": {
          "base_uri": "https://localhost:8080/"
        },
        "id": "dcWq9XM25_1f",
        "outputId": "65da8e66-41b4-4e3c-eeb9-e7844a711a30"
      },
      "outputs": [
        {
          "data": {
            "text/plain": [
              "{'Loss': 1.2112241983413696,\n",
              " 'Accuracy': 0.6896597146987915,\n",
              " 'Precision': 0.8874816298484802,\n",
              " 'Recall': 0.5065232515335083}"
            ]
          },
          "execution_count": 40,
          "metadata": {},
          "output_type": "execute_result"
        }
      ],
      "source": [
        "# Getting a metrics report\n",
        "model_5_metrics = get_metrics(loss_5, accuracy_5, precision_5, recall_5)\n",
        "model_5_metrics"
      ]
    },
    {
      "cell_type": "markdown",
      "metadata": {
        "id": "Y4hHsWiWAIqr"
      },
      "source": [
        "#### Model 6\n",
        "* **Layers:** Fine-tuned EffificientNetB0 with other various layers\n",
        "* **Optimizer:** Adam\n",
        "* **Loss:** Cross entropy\n",
        "* **Epochs:** 30, with `initial_epoch` set as model 4's last epoch\n",
        "* **Callbacks:** `ModelCheckpoint`, `EarlyStopping`\n",
        "* **Validation data:** available"
      ]
    },
    {
      "cell_type": "code",
      "execution_count": 41,
      "metadata": {
        "colab": {
          "base_uri": "https://localhost:8080/"
        },
        "id": "gEL8YxLa7MWE",
        "outputId": "d5a48140-be3c-40fc-8832-f97d7969d512"
      },
      "outputs": [
        {
          "name": "stdout",
          "output_type": "stream",
          "text": [
            "Model: \"model_6_finetuned_EfficientNet\"\n",
            "_________________________________________________________________\n",
            " Layer (type)                Output Shape              Param #   \n",
            "=================================================================\n",
            " input_layer (InputLayer)    [(None, 100, 100, 3)]     0         \n",
            "                                                                 \n",
            " efficientnetb0 (Functional)  (None, None, None, 1280)  4049571  \n",
            "                                                                 \n",
            " global_average_pooling_laye  (None, 1280)             0         \n",
            " r (GlobalAveragePooling2D)                                      \n",
            "                                                                 \n",
            " output_layer (Dense)        (None, 131)               167811    \n",
            "                                                                 \n",
            "=================================================================\n",
            "Total params: 4,217,382\n",
            "Trainable params: 167,811\n",
            "Non-trainable params: 4,049,571\n",
            "_________________________________________________________________\n",
            "Epoch 22/30\n",
            "408/410 [============================>.] - ETA: 0s - loss: 1.0089 - categorical_accuracy: 0.8335 - precision_6: 0.9889 - recall_6: 0.5991\n",
            "Epoch 22: val_loss improved from inf to 0.47294, saving model to model_experiments/model_6_finetuned_EfficientNet\n",
            "410/410 [==============================] - 22s 40ms/step - loss: 1.0063 - categorical_accuracy: 0.8340 - precision_6: 0.9889 - recall_6: 0.6002 - val_loss: 0.4729 - val_categorical_accuracy: 0.9013 - val_precision_6: 0.9700 - val_recall_6: 0.8037\n",
            "Epoch 23/30\n",
            "410/410 [==============================] - ETA: 0s - loss: 0.1756 - categorical_accuracy: 0.9803 - precision_6: 0.9947 - recall_6: 0.9352\n",
            "Epoch 23: val_loss improved from 0.47294 to 0.31095, saving model to model_experiments/model_6_finetuned_EfficientNet\n",
            "410/410 [==============================] - 14s 34ms/step - loss: 0.1756 - categorical_accuracy: 0.9803 - precision_6: 0.9947 - recall_6: 0.9352 - val_loss: 0.3109 - val_categorical_accuracy: 0.9267 - val_precision_6: 0.9619 - val_recall_6: 0.8838\n",
            "Epoch 24/30\n",
            "410/410 [==============================] - ETA: 0s - loss: 0.0943 - categorical_accuracy: 0.9900 - precision_6: 0.9959 - recall_6: 0.9720\n",
            "Epoch 24: val_loss improved from 0.31095 to 0.25597, saving model to model_experiments/model_6_finetuned_EfficientNet\n",
            "410/410 [==============================] - 13s 32ms/step - loss: 0.0943 - categorical_accuracy: 0.9900 - precision_6: 0.9959 - recall_6: 0.9720 - val_loss: 0.2560 - val_categorical_accuracy: 0.9384 - val_precision_6: 0.9640 - val_recall_6: 0.9062\n",
            "Epoch 25/30\n",
            "409/410 [============================>.] - ETA: 0s - loss: 0.0627 - categorical_accuracy: 0.9942 - precision_6: 0.9970 - recall_6: 0.9856\n",
            "Epoch 25: val_loss improved from 0.25597 to 0.22545, saving model to model_experiments/model_6_finetuned_EfficientNet\n",
            "410/410 [==============================] - 13s 31ms/step - loss: 0.0627 - categorical_accuracy: 0.9942 - precision_6: 0.9970 - recall_6: 0.9856 - val_loss: 0.2255 - val_categorical_accuracy: 0.9486 - val_precision_6: 0.9660 - val_recall_6: 0.9282\n",
            "Epoch 26/30\n",
            "410/410 [==============================] - ETA: 0s - loss: 0.0487 - categorical_accuracy: 0.9947 - precision_6: 0.9972 - recall_6: 0.9880\n",
            "Epoch 26: val_loss improved from 0.22545 to 0.20407, saving model to model_experiments/model_6_finetuned_EfficientNet\n",
            "410/410 [==============================] - 13s 31ms/step - loss: 0.0487 - categorical_accuracy: 0.9947 - precision_6: 0.9972 - recall_6: 0.9880 - val_loss: 0.2041 - val_categorical_accuracy: 0.9474 - val_precision_6: 0.9658 - val_recall_6: 0.9328\n",
            "Epoch 27/30\n",
            "408/410 [============================>.] - ETA: 0s - loss: 0.0374 - categorical_accuracy: 0.9960 - precision_6: 0.9978 - recall_6: 0.9911\n",
            "Epoch 27: val_loss improved from 0.20407 to 0.18891, saving model to model_experiments/model_6_finetuned_EfficientNet\n",
            "410/410 [==============================] - 13s 31ms/step - loss: 0.0373 - categorical_accuracy: 0.9960 - precision_6: 0.9978 - recall_6: 0.9911 - val_loss: 0.1889 - val_categorical_accuracy: 0.9547 - val_precision_6: 0.9676 - val_recall_6: 0.9407\n",
            "Epoch 28/30\n",
            "410/410 [==============================] - ETA: 0s - loss: 0.0311 - categorical_accuracy: 0.9959 - precision_6: 0.9985 - recall_6: 0.9942\n",
            "Epoch 28: val_loss improved from 0.18891 to 0.17232, saving model to model_experiments/model_6_finetuned_EfficientNet\n",
            "410/410 [==============================] - 13s 31ms/step - loss: 0.0311 - categorical_accuracy: 0.9959 - precision_6: 0.9985 - recall_6: 0.9942 - val_loss: 0.1723 - val_categorical_accuracy: 0.9582 - val_precision_6: 0.9681 - val_recall_6: 0.9495\n",
            "Epoch 29/30\n",
            "409/410 [============================>.] - ETA: 0s - loss: 0.0245 - categorical_accuracy: 0.9972 - precision_6: 0.9982 - recall_6: 0.9954\n",
            "Epoch 29: val_loss did not improve from 0.17232\n",
            "410/410 [==============================] - 12s 30ms/step - loss: 0.0245 - categorical_accuracy: 0.9972 - precision_6: 0.9982 - recall_6: 0.9954 - val_loss: 0.1801 - val_categorical_accuracy: 0.9588 - val_precision_6: 0.9690 - val_recall_6: 0.9501\n",
            "Epoch 30/30\n",
            "408/410 [============================>.] - ETA: 0s - loss: 0.0214 - categorical_accuracy: 0.9967 - precision_6: 0.9979 - recall_6: 0.9956\n",
            "Epoch 30: val_loss improved from 0.17232 to 0.16668, saving model to model_experiments/model_6_finetuned_EfficientNet\n",
            "410/410 [==============================] - 13s 31ms/step - loss: 0.0214 - categorical_accuracy: 0.9967 - precision_6: 0.9979 - recall_6: 0.9956 - val_loss: 0.1667 - val_categorical_accuracy: 0.9588 - val_precision_6: 0.9711 - val_recall_6: 0.9521\n"
          ]
        }
      ],
      "source": [
        "# 0. Set random seed\n",
        "tf.random.set_seed(42)\n",
        "INPUT_SHAPE = (100,100,3)\n",
        "\n",
        "# 1. Create the model\n",
        "base_efficient_net_model=tf.keras.applications.EfficientNetB0(include_top=False)\n",
        "base_efficient_net_model.trainable=False\n",
        "\n",
        "# Setting the base model to train (only on the last 10 layers)\n",
        "LAYERS_TRAINABLE = 10\n",
        "for layer in base_efficient_net_model.layers[-LAYERS_TRAINABLE:]:\n",
        "  layer.trainable = True\n",
        "\n",
        "inputs= layers.Input(shape=INPUT_SHAPE, name=\"input_layer\")\n",
        "x = base_efficient_net_model(inputs)\n",
        "x = tf.keras.layers.GlobalAveragePooling2D(name=\"global_average_pooling_layer\")(x)\n",
        "outputs=tf.keras.layers.Dense(131,activation=\"softmax\",name=\"output_layer\")(x)\n",
        "model_6 = tf.keras.Model(inputs=inputs, outputs=outputs, name=\"model_6_finetuned_EfficientNet\")\n",
        "\n",
        "# 2. Compile the model\n",
        "model_6.compile(loss=\"categorical_crossentropy\",\n",
        "                optimizer=\"Adam\",\n",
        "                metrics=[CategoricalAccuracy(), Precision(), Recall()])\n",
        "\n",
        "# 3. Get the summary\n",
        "model_6.summary()\n",
        "\n",
        "# 4. Fit the model\n",
        "history_model_6 = model_6.fit(train_data,\n",
        "                              epochs=30,\n",
        "                              initial_epoch=history_model_4.epoch[-1],\n",
        "                              validation_data=test_data,\n",
        "                              validation_steps=len(test_data)*0.15,\n",
        "                              verbose=MODEL_VERBOSE,\n",
        "                              callbacks=[create_model_checkpoint(model_name=model_6.name), create_early_stopping()])"
      ]
    },
    {
      "cell_type": "code",
      "execution_count": 42,
      "metadata": {
        "colab": {
          "base_uri": "https://localhost:8080/",
          "height": 573
        },
        "id": "LwP1hfZ37l_7",
        "outputId": "1c824975-2bdb-404e-d692-61109bbcdf75"
      },
      "outputs": [
        {
          "data": {
            "image/png": "[encoded data removed]",
            "text/plain": [
              "<Figure size 432x288 with 1 Axes>"
            ]
          },
          "metadata": {
            "needs_background": "light"
          },
          "output_type": "display_data"
        },
        {
          "data": {
            "image/png": "[encoded data removed]",
            "text/plain": [
              "<Figure size 432x288 with 1 Axes>"
            ]
          },
          "metadata": {
            "needs_background": "light"
          },
          "output_type": "display_data"
        }
      ],
      "source": [
        "# Save model's architecture as an image\n",
        "plot_model(model_6, to_file='/content/model_architectures/model_6.png')\n",
        "\n",
        "# About the model history\n",
        "plot_loss_curves(history_model_6)"
      ]
    },
    {
      "cell_type": "code",
      "execution_count": 43,
      "metadata": {
        "colab": {
          "base_uri": "https://localhost:8080/"
        },
        "id": "TK1Ix6Bo7o1c",
        "outputId": "9f0ecfe1-fe9a-4f94-8607-baec47e90c7d"
      },
      "outputs": [
        {
          "name": "stdout",
          "output_type": "stream",
          "text": [
            "709/709 [==============================] - 17s 23ms/step - loss: 0.1681 - categorical_accuracy: 0.9622 - precision_6: 0.9738 - recall_6: 0.9533\n"
          ]
        }
      ],
      "source": [
        "# Loading in the best weights\n",
        "best_weights_path = \"/content/model_experiments/model_6_finetuned_EfficientNet\"\n",
        "model_6.load_weights(best_weights_path)\n",
        "\n",
        "# Evaluate on test set\n",
        "loss_6, accuracy_6, precision_6, recall_6 = model_6.evaluate(test_data)"
      ]
    },
    {
      "cell_type": "code",
      "execution_count": 44,
      "metadata": {
        "colab": {
          "base_uri": "https://localhost:8080/"
        },
        "id": "-89PKkn_7yc-",
        "outputId": "c3b32145-a6c8-4db9-e7cb-cfd31120dc2a"
      },
      "outputs": [
        {
          "data": {
            "text/plain": [
              "{'Loss': 0.16813038289546967,\n",
              " 'Accuracy': 0.9621826410293579,\n",
              " 'Precision': 0.9737529158592224,\n",
              " 'Recall': 0.9533233642578125}"
            ]
          },
          "execution_count": 44,
          "metadata": {},
          "output_type": "execute_result"
        }
      ],
      "source": [
        "# Getting a metrics report\n",
        "model_6_metrics = get_metrics(loss_6, accuracy_6, precision_6, recall_6)\n",
        "model_6_metrics"
      ]
    },
    {
      "cell_type": "markdown",
      "metadata": {
        "id": "uhXoIl1T_Ju3"
      },
      "source": [
        "## Step 4: Compare results and conclude experiments\n",
        "- Use graphs and matrices to visualize results.\n",
        "- (*Optional*) Tune hyperparameters of the best model.\n",
        "- Compare best models results with researchers best model.\n",
        "- Save and export the models (in .h5 format).\n"
      ]
    },
    {
      "cell_type": "code",
      "execution_count": 45,
      "metadata": {
        "id": "NbXCA7X68D01"
      },
      "outputs": [],
      "source": [
        "# Dataframe of results\n",
        "results_df = pd.DataFrame({\"model_0_dense\": model_0_metrics,\n",
        "                           \"model_1_Conv2D\": model_1_metrics,\n",
        "                           \"model_2_best_on_paper\": model_2_metrics,\n",
        "                           \"model_3_freezed_ResNet\": model_3_metrics,\n",
        "                           \"model_4_freezed_EfficientNet\": model_4_metrics,\n",
        "                           \"model_5_finetuned_ResNet\": model_5_metrics,\n",
        "                           \"model_6_finetuned_EfficientNet\": model_6_metrics}).T"
      ]
    },
    {
      "cell_type": "code",
      "execution_count": 46,
      "metadata": {
        "colab": {
          "base_uri": "https://localhost:8080/",
          "height": 608
        },
        "id": "T1o7b8m31Og6",
        "outputId": "07cd67c6-666e-47fe-80b9-6d41081e9e2a"
      },
      "outputs": [
        {
          "data": {
            "image/png": "[encoded data removed]",
            "text/plain": [
              "<Figure size 1008x504 with 1 Axes>"
            ]
          },
          "metadata": {
            "needs_background": "light"
          },
          "output_type": "display_data"
        }
      ],
      "source": [
        "results_df[[\"Accuracy\", \"Precision\", \"Recall\"]].plot(kind=\"bar\", figsize=(14,7), title=\"Metrics of various models\", ylabel=\"Metrics\", xlabel=\"Models\");"
      ]
    },
    {
      "cell_type": "code",
      "execution_count": 47,
      "metadata": {
        "id": "k4ZgWBJ6Aw8a"
      },
      "outputs": [],
      "source": [
        "# Creating directory to store all the models\n",
        "!mkdir saved_models\n",
        "\n",
        "# Saving models\n",
        "model_0.save(\"saved_models/model_0.h5\")\n",
        "model_1.save(\"saved_models/model_1.h5\")\n",
        "model_2.save(\"saved_models/model_2.h5\")\n",
        "model_3.save(\"saved_models/model_3.h5\")\n",
        "model_4.save(\"saved_models/model_4.h5\")\n",
        "model_5.save(\"saved_models/model_5.h5\")\n",
        "model_6.save(\"saved_models/model_6.h5\")"
      ]
    }
  ],
  "metadata": {
    "accelerator": "GPU",
    "colab": {
      "collapsed_sections": [],
      "provenance": []
    },
    "gpuClass": "standard",
    "kernelspec": {
      "display_name": "Python 3",
      "name": "python3"
    },
    "language_info": {
      "name": "python"
    }
  },
  "nbformat": 4,
  "nbformat_minor": 0
}
